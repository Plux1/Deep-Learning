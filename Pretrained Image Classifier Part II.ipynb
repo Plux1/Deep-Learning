{
 "cells": [
  {
   "cell_type": "code",
   "execution_count": 1,
   "metadata": {},
   "outputs": [
    {
     "name": "stderr",
     "output_type": "stream",
     "text": [
      "Using TensorFlow backend.\n"
     ]
    }
   ],
   "source": [
    "from keras import models, layers\n",
    "from keras.applications import VGG16\n",
    "from keras.preprocessing.image import ImageDataGenerator\n",
    "from keras import optimizers\n",
    "import matplotlib.pyplot as plt\n",
    "import os\n"
   ]
  },
  {
   "cell_type": "markdown",
   "metadata": {},
   "source": [
    "# Feature extraction by extending convulation base to support data augumentation"
   ]
  },
  {
   "cell_type": "code",
   "execution_count": 2,
   "metadata": {},
   "outputs": [
    {
     "name": "stdout",
     "output_type": "stream",
     "text": [
      "Model: \"vgg16\"\n",
      "_________________________________________________________________\n",
      "Layer (type)                 Output Shape              Param #   \n",
      "=================================================================\n",
      "input_1 (InputLayer)         (None, 150, 150, 3)       0         \n",
      "_________________________________________________________________\n",
      "block1_conv1 (Conv2D)        (None, 150, 150, 64)      1792      \n",
      "_________________________________________________________________\n",
      "block1_conv2 (Conv2D)        (None, 150, 150, 64)      36928     \n",
      "_________________________________________________________________\n",
      "block1_pool (MaxPooling2D)   (None, 75, 75, 64)        0         \n",
      "_________________________________________________________________\n",
      "block2_conv1 (Conv2D)        (None, 75, 75, 128)       73856     \n",
      "_________________________________________________________________\n",
      "block2_conv2 (Conv2D)        (None, 75, 75, 128)       147584    \n",
      "_________________________________________________________________\n",
      "block2_pool (MaxPooling2D)   (None, 37, 37, 128)       0         \n",
      "_________________________________________________________________\n",
      "block3_conv1 (Conv2D)        (None, 37, 37, 256)       295168    \n",
      "_________________________________________________________________\n",
      "block3_conv2 (Conv2D)        (None, 37, 37, 256)       590080    \n",
      "_________________________________________________________________\n",
      "block3_conv3 (Conv2D)        (None, 37, 37, 256)       590080    \n",
      "_________________________________________________________________\n",
      "block3_pool (MaxPooling2D)   (None, 18, 18, 256)       0         \n",
      "_________________________________________________________________\n",
      "block4_conv1 (Conv2D)        (None, 18, 18, 512)       1180160   \n",
      "_________________________________________________________________\n",
      "block4_conv2 (Conv2D)        (None, 18, 18, 512)       2359808   \n",
      "_________________________________________________________________\n",
      "block4_conv3 (Conv2D)        (None, 18, 18, 512)       2359808   \n",
      "_________________________________________________________________\n",
      "block4_pool (MaxPooling2D)   (None, 9, 9, 512)         0         \n",
      "_________________________________________________________________\n",
      "block5_conv1 (Conv2D)        (None, 9, 9, 512)         2359808   \n",
      "_________________________________________________________________\n",
      "block5_conv2 (Conv2D)        (None, 9, 9, 512)         2359808   \n",
      "_________________________________________________________________\n",
      "block5_conv3 (Conv2D)        (None, 9, 9, 512)         2359808   \n",
      "_________________________________________________________________\n",
      "block5_pool (MaxPooling2D)   (None, 4, 4, 512)         0         \n",
      "=================================================================\n",
      "Total params: 14,714,688\n",
      "Trainable params: 14,714,688\n",
      "Non-trainable params: 0\n",
      "_________________________________________________________________\n"
     ]
    }
   ],
   "source": [
    "# Initializing convulation base\n",
    "conv_base = VGG16(weights='imagenet', include_top=False, input_shape=(150,150,3))\n",
    "conv_base.summary()"
   ]
  },
  {
   "cell_type": "code",
   "execution_count": 3,
   "metadata": {},
   "outputs": [
    {
     "name": "stdout",
     "output_type": "stream",
     "text": [
      "Model: \"sequential_1\"\n",
      "_________________________________________________________________\n",
      "Layer (type)                 Output Shape              Param #   \n",
      "=================================================================\n",
      "vgg16 (Model)                (None, 4, 4, 512)         14714688  \n",
      "_________________________________________________________________\n",
      "flatten_1 (Flatten)          (None, 8192)              0         \n",
      "_________________________________________________________________\n",
      "dense_1 (Dense)              (None, 256)               2097408   \n",
      "_________________________________________________________________\n",
      "dense_2 (Dense)              (None, 1)                 257       \n",
      "=================================================================\n",
      "Total params: 16,812,353\n",
      "Trainable params: 16,812,353\n",
      "Non-trainable params: 0\n",
      "_________________________________________________________________\n"
     ]
    }
   ],
   "source": [
    "## Model definition\n",
    "model = models.Sequential()\n",
    "model.add(conv_base)\n",
    "model.add(layers.Flatten())\n",
    "model.add(layers.Dense(256, activation='relu', ))\n",
    "model.add(layers.Dense(1, activation='sigmoid'))\n",
    "\n",
    "model.summary()"
   ]
  },
  {
   "cell_type": "markdown",
   "metadata": {},
   "source": [
    "Before compile and train a model its very important to freeze the convulation base\n",
    "Freezing a layer means preventing their weights from being updated during training\n",
    "This can be done in keras by seeting its trainable attribue to false"
   ]
  },
  {
   "cell_type": "code",
   "execution_count": 4,
   "metadata": {},
   "outputs": [
    {
     "data": {
      "text/plain": [
       "30"
      ]
     },
     "execution_count": 4,
     "metadata": {},
     "output_type": "execute_result"
    }
   ],
   "source": [
    "len(model.trainable_weights)"
   ]
  },
  {
   "cell_type": "code",
   "execution_count": 5,
   "metadata": {},
   "outputs": [
    {
     "data": {
      "text/plain": [
       "4"
      ]
     },
     "execution_count": 5,
     "metadata": {},
     "output_type": "execute_result"
    }
   ],
   "source": [
    "conv_base.trainable = False\n",
    "len(model.trainable_weights)"
   ]
  },
  {
   "cell_type": "markdown",
   "metadata": {},
   "source": [
    "After freezing a convulation base you must compile your model"
   ]
  },
  {
   "cell_type": "code",
   "execution_count": 6,
   "metadata": {},
   "outputs": [],
   "source": [
    "# Selecting dataset directories\n",
    "base_dir = '/Users/Tajr/Desktop/Data/RadonPlus/RadonTechnology/Dev/Deep Learning/Datasets/CatDog/SmallDataset'\n",
    "train_dir = os.path.join(base_dir, 'train')\n",
    "test_dir = os.path.join(base_dir, 'test')\n",
    "validation_dir = os.path.join(base_dir, 'validation')"
   ]
  },
  {
   "cell_type": "code",
   "execution_count": 7,
   "metadata": {},
   "outputs": [
    {
     "name": "stdout",
     "output_type": "stream",
     "text": [
      "Found 2000 images belonging to 2 classes.\n",
      "Found 1000 images belonging to 2 classes.\n",
      "Found 1000 images belonging to 2 classes.\n"
     ]
    }
   ],
   "source": [
    "# Image data generation\n",
    "train_datagen = ImageDataGenerator(1./255, rotation_range=40, width_shift_range=0.2, height_shift_range=0.2, shear_range=0.2, zoom_range=0.2, horizontal_flip=True, fill_mode='nearest')\n",
    "test_datagen = ImageDataGenerator(1./255)\n",
    "\n",
    "train_generator = train_datagen.flow_from_directory(train_dir, target_size=(150, 150), batch_size=20, class_mode='binary')\n",
    "validation_generator = test_datagen.flow_from_directory(validation_dir, target_size=(150,150), batch_size=20, class_mode='binary')\n",
    "test_generator = test_datagen.flow_from_directory(test_dir, target_size=(150, 150), batch_size=20, class_mode='binary')"
   ]
  },
  {
   "cell_type": "code",
   "execution_count": 8,
   "metadata": {},
   "outputs": [],
   "source": [
    "# Compile a model\n",
    "model.compile(optimizer=optimizers.RMSprop(lr=2e-5), loss='binary_crossentropy', metrics=['acc'])"
   ]
  },
  {
   "cell_type": "code",
   "execution_count": 9,
   "metadata": {},
   "outputs": [
    {
     "name": "stdout",
     "output_type": "stream",
     "text": [
      "Epoch 1/30\n"
     ]
    },
    {
     "name": "stderr",
     "output_type": "stream",
     "text": [
      "C:\\Users\\Tajr\\Anaconda3\\envs\\Deep_Learning\\lib\\site-packages\\keras_preprocessing\\image\\image_data_generator.py:716: UserWarning: This ImageDataGenerator specifies `featurewise_center`, but it hasn't been fit on any training data. Fit it first by calling `.fit(numpy_data)`.\n",
      "  warnings.warn('This ImageDataGenerator specifies '\n"
     ]
    },
    {
     "name": "stdout",
     "output_type": "stream",
     "text": [
      "100/100 [==============================] - 78s 782ms/step - loss: 2.4326 - acc: 0.7410 - val_loss: 0.7828 - val_acc: 0.8770\n",
      "Epoch 2/30\n",
      "100/100 [==============================] - 71s 712ms/step - loss: 1.5070 - acc: 0.8365 - val_loss: 0.9950 - val_acc: 0.8940\n",
      "Epoch 3/30\n",
      "100/100 [==============================] - 71s 714ms/step - loss: 1.1133 - acc: 0.8560 - val_loss: 0.5539 - val_acc: 0.9080\n",
      "Epoch 4/30\n",
      "100/100 [==============================] - 71s 714ms/step - loss: 1.1138 - acc: 0.8670 - val_loss: 0.0193 - val_acc: 0.9240\n",
      "Epoch 5/30\n",
      "100/100 [==============================] - 71s 706ms/step - loss: 1.0138 - acc: 0.8850 - val_loss: 0.3971 - val_acc: 0.9190\n",
      "Epoch 6/30\n",
      "100/100 [==============================] - 71s 713ms/step - loss: 0.8544 - acc: 0.8955 - val_loss: 0.6608 - val_acc: 0.9220\n",
      "Epoch 7/30\n",
      "100/100 [==============================] - 70s 702ms/step - loss: 0.8714 - acc: 0.8840 - val_loss: 1.7891 - val_acc: 0.9240\n",
      "Epoch 8/30\n",
      "100/100 [==============================] - 70s 705ms/step - loss: 0.8432 - acc: 0.8905 - val_loss: 1.3380 - val_acc: 0.9240\n",
      "Epoch 9/30\n",
      "100/100 [==============================] - 70s 704ms/step - loss: 0.8027 - acc: 0.8915 - val_loss: 0.4623 - val_acc: 0.9230\n",
      "Epoch 10/30\n",
      "100/100 [==============================] - 71s 709ms/step - loss: 0.8045 - acc: 0.8920 - val_loss: 0.3385 - val_acc: 0.9270\n",
      "Epoch 11/30\n",
      "100/100 [==============================] - 68s 679ms/step - loss: 0.6788 - acc: 0.9045 - val_loss: 0.7605 - val_acc: 0.9170\n",
      "Epoch 12/30\n",
      "100/100 [==============================] - 64s 643ms/step - loss: 0.5114 - acc: 0.9200 - val_loss: 0.8159 - val_acc: 0.9280\n",
      "Epoch 13/30\n",
      "100/100 [==============================] - 66s 657ms/step - loss: 0.5685 - acc: 0.9190 - val_loss: 1.9494e-06 - val_acc: 0.9260\n",
      "Epoch 14/30\n",
      "100/100 [==============================] - 67s 674ms/step - loss: 0.5835 - acc: 0.9160 - val_loss: 0.7762 - val_acc: 0.9240\n",
      "Epoch 15/30\n",
      "100/100 [==============================] - 67s 675ms/step - loss: 0.5450 - acc: 0.9165 - val_loss: 0.5117 - val_acc: 0.9270\n",
      "Epoch 16/30\n",
      "100/100 [==============================] - 68s 676ms/step - loss: 0.5974 - acc: 0.9045 - val_loss: 0.1072 - val_acc: 0.9260\n",
      "Epoch 17/30\n",
      "100/100 [==============================] - 68s 680ms/step - loss: 0.5217 - acc: 0.9130 - val_loss: 0.5391 - val_acc: 0.9220\n",
      "Epoch 18/30\n",
      "100/100 [==============================] - 67s 671ms/step - loss: 0.4340 - acc: 0.9255 - val_loss: 0.1634 - val_acc: 0.9280\n",
      "Epoch 19/30\n",
      "100/100 [==============================] - 67s 672ms/step - loss: 0.4253 - acc: 0.9145 - val_loss: 0.1935 - val_acc: 0.9320\n",
      "Epoch 20/30\n",
      "100/100 [==============================] - 68s 680ms/step - loss: 0.5180 - acc: 0.9195 - val_loss: 0.5300 - val_acc: 0.9340\n",
      "Epoch 21/30\n",
      "100/100 [==============================] - 69s 692ms/step - loss: 0.5412 - acc: 0.9175 - val_loss: 1.3100 - val_acc: 0.9290\n",
      "Epoch 22/30\n",
      "100/100 [==============================] - 69s 689ms/step - loss: 0.4652 - acc: 0.9165 - val_loss: 0.0586 - val_acc: 0.9300\n",
      "Epoch 23/30\n",
      "100/100 [==============================] - 69s 687ms/step - loss: 0.3896 - acc: 0.9285 - val_loss: 1.4014 - val_acc: 0.9340\n",
      "Epoch 24/30\n",
      "100/100 [==============================] - 69s 689ms/step - loss: 0.3875 - acc: 0.9265 - val_loss: 0.6828 - val_acc: 0.9340\n",
      "Epoch 25/30\n",
      "100/100 [==============================] - 68s 685ms/step - loss: 0.3689 - acc: 0.9245 - val_loss: 0.6426 - val_acc: 0.9310\n",
      "Epoch 26/30\n",
      "100/100 [==============================] - 69s 689ms/step - loss: 0.3627 - acc: 0.9265 - val_loss: 0.0523 - val_acc: 0.9320\n",
      "Epoch 27/30\n",
      "100/100 [==============================] - 69s 693ms/step - loss: 0.3524 - acc: 0.9210 - val_loss: 0.8577 - val_acc: 0.9310\n",
      "Epoch 28/30\n",
      "100/100 [==============================] - 69s 692ms/step - loss: 0.3707 - acc: 0.9300 - val_loss: 0.1145 - val_acc: 0.9340\n",
      "Epoch 29/30\n",
      "100/100 [==============================] - 69s 686ms/step - loss: 0.3671 - acc: 0.9275 - val_loss: 0.2321 - val_acc: 0.9350\n",
      "Epoch 30/30\n",
      "100/100 [==============================] - 68s 684ms/step - loss: 0.3752 - acc: 0.9295 - val_loss: 4.1517e-04 - val_acc: 0.9300\n"
     ]
    }
   ],
   "source": [
    "# Train a model via fit_generator method\n",
    "history = model.fit_generator(train_generator, epochs=30, steps_per_epoch=100, validation_data=validation_generator, validation_steps=50)"
   ]
  },
  {
   "cell_type": "markdown",
   "metadata": {},
   "source": [
    "# Plotting the results"
   ]
  },
  {
   "cell_type": "code",
   "execution_count": 10,
   "metadata": {},
   "outputs": [
    {
     "data": {
      "text/plain": [
       "dict_keys(['val_loss', 'val_acc', 'loss', 'acc'])"
      ]
     },
     "execution_count": 10,
     "metadata": {},
     "output_type": "execute_result"
    }
   ],
   "source": [
    "history_dict = history.history\n",
    "history_dict.keys()"
   ]
  },
  {
   "cell_type": "code",
   "execution_count": 11,
   "metadata": {},
   "outputs": [],
   "source": [
    "# Data given\n",
    "accuracy = history_dict['acc']\n",
    "val_accuracy = history_dict['val_acc']\n",
    "loss = history_dict['loss']\n",
    "val_loss = history_dict['val_loss']\n",
    "epochs = range(1, len(accuracy) + 1)"
   ]
  },
  {
   "cell_type": "code",
   "execution_count": 12,
   "metadata": {},
   "outputs": [
    {
     "data": {
      "image/png": "[encoded data removed]",
      "text/plain": [
       "<Figure size 432x288 with 1 Axes>"
      ]
     },
     "metadata": {
      "needs_background": "light"
     },
     "output_type": "display_data"
    }
   ],
   "source": [
    "# Plotting training and validation accuracy\n",
    "plt.plot(epochs, accuracy, 'bo', label='Training accuracy')\n",
    "plt.plot(epochs, val_accuracy, 'b', label='Validation accuracy')\n",
    "plt.title('Training and Validation Accuracy')\n",
    "plt.xlabel('Epochs')\n",
    "plt.ylabel('Accuracy')\n",
    "plt.legend()\n",
    "plt.show()"
   ]
  },
  {
   "cell_type": "code",
   "execution_count": 13,
   "metadata": {},
   "outputs": [
    {
     "data": {
      "image/png": "[encoded data removed]",
      "text/plain": [
       "<Figure size 432x288 with 1 Axes>"
      ]
     },
     "metadata": {
      "needs_background": "light"
     },
     "output_type": "display_data"
    }
   ],
   "source": [
    "# Plotting Training and Validation loss\n",
    "plt.clf()\n",
    "plt.plot(epochs, loss, 'bo', label='Training loss')\n",
    "plt.plot(epochs, val_loss, 'b', label='Validation loss')\n",
    "plt.title('Training and Validation Loss')\n",
    "plt.xlabel('Epochs')\n",
    "plt.ylabel('Loss')\n",
    "plt.legend()\n",
    "plt.show()"
   ]
  },
  {
   "cell_type": "code",
   "execution_count": null,
   "metadata": {},
   "outputs": [],
   "source": []
  }
 ],
 "metadata": {
  "kernelspec": {
   "display_name": "Python 3",
   "language": "python",
   "name": "python3"
  },
  "language_info": {
   "codemirror_mode": {
    "name": "ipython",
    "version": 3
   },
   "file_extension": ".py",
   "mimetype": "text/x-python",
   "name": "python",
   "nbconvert_exporter": "python",
   "pygments_lexer": "ipython3",
   "version": "3.6.10"
  }
 },
 "nbformat": 4,
 "nbformat_minor": 4
}
