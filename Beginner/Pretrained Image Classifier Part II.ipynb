{
 "cells": [
  {
   "cell_type": "code",
   "execution_count": 1,
   "metadata": {},
   "outputs": [
    {
     "name": "stderr",
     "output_type": "stream",
     "text": [
      "Using TensorFlow backend.\n"
     ]
    }
   ],
   "source": [
    "from keras import models, layers\n",
    "from keras.applications import VGG16\n",
    "from keras.preprocessing.image import ImageDataGenerator\n",
    "from keras import optimizers\n",
    "import matplotlib.pyplot as plt\n",
    "import os\n"
   ]
  },
  {
   "cell_type": "markdown",
   "metadata": {},
   "source": [
    "# Feature extraction by extending convulation base to support data augumentation"
   ]
  },
  {
   "cell_type": "code",
   "execution_count": 2,
   "metadata": {},
   "outputs": [
    {
     "name": "stdout",
     "output_type": "stream",
     "text": [
      "Model: \"vgg16\"\n",
      "_________________________________________________________________\n",
      "Layer (type)                 Output Shape              Param #   \n",
      "=================================================================\n",
      "input_1 (InputLayer)         (None, 150, 150, 3)       0         \n",
      "_________________________________________________________________\n",
      "block1_conv1 (Conv2D)        (None, 150, 150, 64)      1792      \n",
      "_________________________________________________________________\n",
      "block1_conv2 (Conv2D)        (None, 150, 150, 64)      36928     \n",
      "_________________________________________________________________\n",
      "block1_pool (MaxPooling2D)   (None, 75, 75, 64)        0         \n",
      "_________________________________________________________________\n",
      "block2_conv1 (Conv2D)        (None, 75, 75, 128)       73856     \n",
      "_________________________________________________________________\n",
      "block2_conv2 (Conv2D)        (None, 75, 75, 128)       147584    \n",
      "_________________________________________________________________\n",
      "block2_pool (MaxPooling2D)   (None, 37, 37, 128)       0         \n",
      "_________________________________________________________________\n",
      "block3_conv1 (Conv2D)        (None, 37, 37, 256)       295168    \n",
      "_________________________________________________________________\n",
      "block3_conv2 (Conv2D)        (None, 37, 37, 256)       590080    \n",
      "_________________________________________________________________\n",
      "block3_conv3 (Conv2D)        (None, 37, 37, 256)       590080    \n",
      "_________________________________________________________________\n",
      "block3_pool (MaxPooling2D)   (None, 18, 18, 256)       0         \n",
      "_________________________________________________________________\n",
      "block4_conv1 (Conv2D)        (None, 18, 18, 512)       1180160   \n",
      "_________________________________________________________________\n",
      "block4_conv2 (Conv2D)        (None, 18, 18, 512)       2359808   \n",
      "_________________________________________________________________\n",
      "block4_conv3 (Conv2D)        (None, 18, 18, 512)       2359808   \n",
      "_________________________________________________________________\n",
      "block4_pool (MaxPooling2D)   (None, 9, 9, 512)         0         \n",
      "_________________________________________________________________\n",
      "block5_conv1 (Conv2D)        (None, 9, 9, 512)         2359808   \n",
      "_________________________________________________________________\n",
      "block5_conv2 (Conv2D)        (None, 9, 9, 512)         2359808   \n",
      "_________________________________________________________________\n",
      "block5_conv3 (Conv2D)        (None, 9, 9, 512)         2359808   \n",
      "_________________________________________________________________\n",
      "block5_pool (MaxPooling2D)   (None, 4, 4, 512)         0         \n",
      "=================================================================\n",
      "Total params: 14,714,688\n",
      "Trainable params: 14,714,688\n",
      "Non-trainable params: 0\n",
      "_________________________________________________________________\n"
     ]
    }
   ],
   "source": [
    "# Initializing convulation base\n",
    "conv_base = VGG16(weights='imagenet', include_top=False, input_shape=(150,150,3))\n",
    "conv_base.summary()"
   ]
  },
  {
   "cell_type": "code",
   "execution_count": 3,
   "metadata": {},
   "outputs": [
    {
     "name": "stdout",
     "output_type": "stream",
     "text": [
      "Model: \"sequential_1\"\n",
      "_________________________________________________________________\n",
      "Layer (type)                 Output Shape              Param #   \n",
      "=================================================================\n",
      "vgg16 (Model)                (None, 4, 4, 512)         14714688  \n",
      "_________________________________________________________________\n",
      "flatten_1 (Flatten)          (None, 8192)              0         \n",
      "_________________________________________________________________\n",
      "dense_1 (Dense)              (None, 256)               2097408   \n",
      "_________________________________________________________________\n",
      "dense_2 (Dense)              (None, 1)                 257       \n",
      "=================================================================\n",
      "Total params: 16,812,353\n",
      "Trainable params: 16,812,353\n",
      "Non-trainable params: 0\n",
      "_________________________________________________________________\n"
     ]
    }
   ],
   "source": [
    "## Model definition\n",
    "model = models.Sequential()\n",
    "model.add(conv_base)\n",
    "model.add(layers.Flatten())\n",
    "model.add(layers.Dense(256, activation='relu', ))\n",
    "model.add(layers.Dense(1, activation='sigmoid'))\n",
    "\n",
    "model.summary()"
   ]
  },
  {
   "cell_type": "markdown",
   "metadata": {},
   "source": [
    "Before compile and train a model its very important to freeze the convulation base\n",
    "Freezing a layer means preventing their weights from being updated during training\n",
    "This can be done in keras by seeting its trainable attribue to false"
   ]
  },
  {
   "cell_type": "code",
   "execution_count": 4,
   "metadata": {},
   "outputs": [
    {
     "data": {
      "text/plain": [
       "30"
      ]
     },
     "execution_count": 4,
     "metadata": {},
     "output_type": "execute_result"
    }
   ],
   "source": [
    "len(model.trainable_weights)"
   ]
  },
  {
   "cell_type": "code",
   "execution_count": 5,
   "metadata": {},
   "outputs": [
    {
     "data": {
      "text/plain": [
       "4"
      ]
     },
     "execution_count": 5,
     "metadata": {},
     "output_type": "execute_result"
    }
   ],
   "source": [
    "conv_base.trainable = False\n",
    "len(model.trainable_weights)"
   ]
  },
  {
   "cell_type": "markdown",
   "metadata": {},
   "source": [
    "After freezing a convulation base you must compile your model"
   ]
  },
  {
   "cell_type": "code",
   "execution_count": 6,
   "metadata": {},
   "outputs": [],
   "source": [
    "# Selecting dataset directories\n",
    "base_dir = '/Users/Tajr/Desktop/Data/RadonPlus/RadonTechnology/Dev/Deep Learning/Datasets/CatDog/SmallDataset'\n",
    "train_dir = os.path.join(base_dir, 'train')\n",
    "test_dir = os.path.join(base_dir, 'test')\n",
    "validation_dir = os.path.join(base_dir, 'validation')"
   ]
  },
  {
   "cell_type": "code",
   "execution_count": 7,
   "metadata": {},
   "outputs": [
    {
     "name": "stdout",
     "output_type": "stream",
     "text": [
      "Found 2000 images belonging to 2 classes.\n",
      "Found 1000 images belonging to 2 classes.\n",
      "Found 1000 images belonging to 2 classes.\n"
     ]
    }
   ],
   "source": [
    "# Image data generation\n",
    "train_datagen = ImageDataGenerator(1./255, rotation_range=40, width_shift_range=0.2, height_shift_range=0.2, shear_range=0.2, zoom_range=0.2, horizontal_flip=True, fill_mode='nearest')\n",
    "test_datagen = ImageDataGenerator(1./255)\n",
    "\n",
    "train_generator = train_datagen.flow_from_directory(train_dir, target_size=(150, 150), batch_size=20, class_mode='binary')\n",
    "validation_generator = test_datagen.flow_from_directory(validation_dir, target_size=(150,150), batch_size=20, class_mode='binary')\n",
    "test_generator = test_datagen.flow_from_directory(test_dir, target_size=(150, 150), batch_size=20, class_mode='binary')"
   ]
  },
  {
   "cell_type": "code",
   "execution_count": 8,
   "metadata": {},
   "outputs": [],
   "source": [
    "# Compile a model\n",
    "model.compile(optimizer=optimizers.RMSprop(lr=2e-5), loss='binary_crossentropy', metrics=['acc'])"
   ]
  },
  {
   "cell_type": "code",
   "execution_count": 9,
   "metadata": {},
   "outputs": [
    {
     "name": "stdout",
     "output_type": "stream",
     "text": [
      "Epoch 1/30\n"
     ]
    },
    {
     "name": "stderr",
     "output_type": "stream",
     "text": [
      "C:\\Users\\Tajr\\Anaconda3\\envs\\Deep_Learning\\lib\\site-packages\\keras_preprocessing\\image\\image_data_generator.py:716: UserWarning: This ImageDataGenerator specifies `featurewise_center`, but it hasn't been fit on any training data. Fit it first by calling `.fit(numpy_data)`.\n",
      "  warnings.warn('This ImageDataGenerator specifies '\n"
     ]
    },
    {
     "name": "stdout",
     "output_type": "stream",
     "text": [
      "100/100 [==============================] - 81s 807ms/step - loss: 2.2965 - acc: 0.7465 - val_loss: 1.0458 - val_acc: 0.8880\n",
      "Epoch 2/30\n",
      "100/100 [==============================] - 72s 719ms/step - loss: 1.4167 - acc: 0.8290 - val_loss: 0.0021 - val_acc: 0.9090\n",
      "Epoch 3/30\n",
      "100/100 [==============================] - 69s 687ms/step - loss: 1.0930 - acc: 0.8570 - val_loss: 3.0702 - val_acc: 0.9070\n",
      "Epoch 4/30\n",
      "100/100 [==============================] - 65s 649ms/step - loss: 1.0914 - acc: 0.8615 - val_loss: 3.8702 - val_acc: 0.9180\n",
      "Epoch 5/30\n",
      "100/100 [==============================] - 67s 670ms/step - loss: 0.8358 - acc: 0.8845 - val_loss: 2.3162 - val_acc: 0.9170\n",
      "Epoch 6/30\n",
      "100/100 [==============================] - 68s 684ms/step - loss: 0.8739 - acc: 0.8855 - val_loss: 1.8972 - val_acc: 0.9200\n",
      "Epoch 7/30\n",
      "100/100 [==============================] - 68s 684ms/step - loss: 0.8105 - acc: 0.8880 - val_loss: 0.0118 - val_acc: 0.9290\n",
      "Epoch 8/30\n",
      "100/100 [==============================] - 69s 685ms/step - loss: 0.8322 - acc: 0.8970 - val_loss: 0.0503 - val_acc: 0.9280\n",
      "Epoch 9/30\n",
      "100/100 [==============================] - 66s 659ms/step - loss: 0.7032 - acc: 0.8955 - val_loss: 0.3276 - val_acc: 0.9240\n",
      "Epoch 10/30\n",
      "100/100 [==============================] - 63s 630ms/step - loss: 0.6654 - acc: 0.9060 - val_loss: 0.0408 - val_acc: 0.9240\n",
      "Epoch 11/30\n",
      "100/100 [==============================] - 62s 622ms/step - loss: 0.6201 - acc: 0.9160 - val_loss: 0.2275 - val_acc: 0.9260\n",
      "Epoch 12/30\n",
      "100/100 [==============================] - 63s 627ms/step - loss: 0.5508 - acc: 0.9155 - val_loss: 1.1157 - val_acc: 0.9290\n",
      "Epoch 13/30\n",
      "100/100 [==============================] - 63s 627ms/step - loss: 0.5341 - acc: 0.9110 - val_loss: 0.0015 - val_acc: 0.9300\n",
      "Epoch 14/30\n",
      "100/100 [==============================] - 63s 629ms/step - loss: 0.5337 - acc: 0.9155 - val_loss: 0.6227 - val_acc: 0.9260\n",
      "Epoch 15/30\n",
      "100/100 [==============================] - 63s 629ms/step - loss: 0.5074 - acc: 0.9120 - val_loss: 0.8366 - val_acc: 0.9280\n",
      "Epoch 16/30\n",
      "100/100 [==============================] - 63s 629ms/step - loss: 0.4585 - acc: 0.9210 - val_loss: 0.0162 - val_acc: 0.9320\n",
      "Epoch 17/30\n",
      "100/100 [==============================] - 63s 631ms/step - loss: 0.5052 - acc: 0.9160 - val_loss: 0.4946 - val_acc: 0.9300\n",
      "Epoch 18/30\n",
      "100/100 [==============================] - 63s 635ms/step - loss: 0.5942 - acc: 0.9085 - val_loss: 1.2824 - val_acc: 0.9280\n",
      "Epoch 19/30\n",
      "100/100 [==============================] - 64s 637ms/step - loss: 0.4581 - acc: 0.9230 - val_loss: 0.8559 - val_acc: 0.9270\n",
      "Epoch 20/30\n",
      "100/100 [==============================] - 63s 634ms/step - loss: 0.4016 - acc: 0.9270 - val_loss: 0.8873 - val_acc: 0.9280\n",
      "Epoch 21/30\n",
      "100/100 [==============================] - 64s 637ms/step - loss: 0.4853 - acc: 0.9180 - val_loss: 0.7460 - val_acc: 0.9310\n",
      "Epoch 22/30\n",
      "100/100 [==============================] - 64s 636ms/step - loss: 0.4276 - acc: 0.9265 - val_loss: 1.3225 - val_acc: 0.9310\n",
      "Epoch 23/30\n",
      "100/100 [==============================] - 63s 633ms/step - loss: 0.4034 - acc: 0.9280 - val_loss: 0.7017 - val_acc: 0.9320\n",
      "Epoch 24/30\n",
      "100/100 [==============================] - 64s 637ms/step - loss: 0.4158 - acc: 0.9280 - val_loss: 0.3697 - val_acc: 0.9370\n",
      "Epoch 25/30\n",
      "100/100 [==============================] - 64s 644ms/step - loss: 0.3938 - acc: 0.9290 - val_loss: 7.2292e-07 - val_acc: 0.9320\n",
      "Epoch 26/30\n",
      "100/100 [==============================] - 65s 648ms/step - loss: 0.4376 - acc: 0.9205 - val_loss: 0.0082 - val_acc: 0.9330\n",
      "Epoch 27/30\n",
      "100/100 [==============================] - 64s 645ms/step - loss: 0.4011 - acc: 0.9300 - val_loss: 2.1320 - val_acc: 0.9350\n",
      "Epoch 28/30\n",
      "100/100 [==============================] - 64s 645ms/step - loss: 0.3317 - acc: 0.9375 - val_loss: 0.9183 - val_acc: 0.9320\n",
      "Epoch 29/30\n",
      "100/100 [==============================] - 65s 646ms/step - loss: 0.3793 - acc: 0.9265 - val_loss: 0.5202 - val_acc: 0.9310\n",
      "Epoch 30/30\n",
      "100/100 [==============================] - 65s 646ms/step - loss: 0.2913 - acc: 0.9440 - val_loss: 0.0364 - val_acc: 0.9350\n"
     ]
    }
   ],
   "source": [
    "# Train a model via fit_generator method\n",
    "history = model.fit_generator(train_generator, epochs=30, steps_per_epoch=100, validation_data=validation_generator, validation_steps=50)"
   ]
  },
  {
   "cell_type": "markdown",
   "metadata": {},
   "source": [
    "# Plotting the results"
   ]
  },
  {
   "cell_type": "code",
   "execution_count": 10,
   "metadata": {},
   "outputs": [
    {
     "data": {
      "text/plain": [
       "dict_keys(['val_loss', 'val_acc', 'loss', 'acc'])"
      ]
     },
     "execution_count": 10,
     "metadata": {},
     "output_type": "execute_result"
    }
   ],
   "source": [
    "history_dict = history.history\n",
    "history_dict.keys()"
   ]
  },
  {
   "cell_type": "code",
   "execution_count": 11,
   "metadata": {},
   "outputs": [],
   "source": [
    "# Data given\n",
    "accuracy = history_dict['acc']\n",
    "val_accuracy = history_dict['val_acc']\n",
    "loss = history_dict['loss']\n",
    "val_loss = history_dict['val_loss']\n",
    "epochs = range(1, len(accuracy) + 1)"
   ]
  },
  {
   "cell_type": "code",
   "execution_count": 12,
   "metadata": {},
   "outputs": [
    {
     "data": {
      "image/png": "[encoded data removed]",
      "text/plain": [
       "<Figure size 432x288 with 1 Axes>"
      ]
     },
     "metadata": {
      "needs_background": "light"
     },
     "output_type": "display_data"
    }
   ],
   "source": [
    "# Plotting training and validation accuracy\n",
    "plt.plot(epochs, accuracy, 'bo', label='Training accuracy')\n",
    "plt.plot(epochs, val_accuracy, 'b', label='Validation accuracy')\n",
    "plt.title('Training and Validation Accuracy')\n",
    "plt.xlabel('Epochs')\n",
    "plt.ylabel('Accuracy')\n",
    "plt.legend()\n",
    "plt.show()"
   ]
  },
  {
   "cell_type": "code",
   "execution_count": 13,
   "metadata": {},
   "outputs": [
    {
     "data": {
      "image/png": "[encoded data removed]",
      "text/plain": [
       "<Figure size 432x288 with 1 Axes>"
      ]
     },
     "metadata": {
      "needs_background": "light"
     },
     "output_type": "display_data"
    }
   ],
   "source": [
    "# Plotting Training and Validation loss\n",
    "plt.clf()\n",
    "plt.plot(epochs, loss, 'bo', label='Training loss')\n",
    "plt.plot(epochs, val_loss, 'b', label='Validation loss')\n",
    "plt.title('Training and Validation Loss')\n",
    "plt.xlabel('Epochs')\n",
    "plt.ylabel('Loss')\n",
    "plt.legend()\n",
    "plt.show()"
   ]
  },
  {
   "cell_type": "markdown",
   "metadata": {},
   "source": [
    "# Conclusion"
   ]
  },
  {
   "cell_type": "markdown",
   "metadata": {},
   "source": [
    "As can be observed from above when using feature extraction by extending a convulation base of pretrained model, the performance increase dramatically. See the evaluation below"
   ]
  },
  {
   "cell_type": "code",
   "execution_count": 14,
   "metadata": {},
   "outputs": [
    {
     "name": "stdout",
     "output_type": "stream",
     "text": [
      "50/50 [==============================] - 21s 417ms/step\n",
      "Test accuracy =  0.949999988079071\n"
     ]
    }
   ],
   "source": [
    "test_loss, test_accuracy = model.evaluate(test_generator, steps=50)\n",
    "print('Test accuracy = ', test_accuracy)"
   ]
  },
  {
   "cell_type": "markdown",
   "metadata": {},
   "source": [
    "We end up with an accuracy of 95%"
   ]
  }
 ],
 "metadata": {
  "kernelspec": {
   "display_name": "Python 3",
   "language": "python",
   "name": "python3"
  },
  "language_info": {
   "codemirror_mode": {
    "name": "ipython",
    "version": 3
   },
   "file_extension": ".py",
   "mimetype": "text/x-python",
   "name": "python",
   "nbconvert_exporter": "python",
   "pygments_lexer": "ipython3",
   "version": "3.6.10"
  }
 },
 "nbformat": 4,
 "nbformat_minor": 4
}
