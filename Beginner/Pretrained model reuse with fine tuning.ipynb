{
 "cells": [
  {
   "cell_type": "code",
   "execution_count": 1,
   "metadata": {},
   "outputs": [
    {
     "name": "stderr",
     "output_type": "stream",
     "text": [
      "Using TensorFlow backend.\n"
     ]
    }
   ],
   "source": [
    "from keras import models, layers\n",
    "from keras.applications import VGG16\n",
    "from keras.preprocessing.image import ImageDataGenerator\n",
    "from keras import optimizers\n",
    "import os\n",
    "import matplotlib.pyplot as plt"
   ]
  },
  {
   "cell_type": "code",
   "execution_count": 2,
   "metadata": {},
   "outputs": [],
   "source": [
    "# Dataset selection\n",
    "base_dir =  '/Users/Tajr/Desktop/Data/RadonPlus/RadonTechnology/Dev/Deep Learning/Datasets/CatDog/SmallDataset'\n",
    "train_dir = os.path.join(base_dir, 'train')\n",
    "test_dir = os.path.join(base_dir, 'test')\n",
    "validation_dir = os.path.join(base_dir, 'validation')"
   ]
  },
  {
   "cell_type": "code",
   "execution_count": 3,
   "metadata": {},
   "outputs": [
    {
     "name": "stdout",
     "output_type": "stream",
     "text": [
      "Found 2000 images belonging to 2 classes.\n",
      "Found 1000 images belonging to 2 classes.\n",
      "Found 1000 images belonging to 2 classes.\n"
     ]
    }
   ],
   "source": [
    "# Image data generation\n",
    "train_datagen = ImageDataGenerator(rescale=1./255, shear_range=0.2, zoom_range=0.2, rotation_range=40, width_shift_range=0.2, height_shift_range=0.2, horizontal_flip=True, fill_mode='nearest')\n",
    "test_datagen = ImageDataGenerator(rescale=1./255)\n",
    "\n",
    "train_generator = train_datagen.flow_from_directory(train_dir, target_size=(150, 150), batch_size=20, class_mode='binary')\n",
    "validation_generator = test_datagen.flow_from_directory(validation_dir, target_size=(150, 150), batch_size=20, class_mode='binary')\n",
    "test_generator = test_datagen.flow_from_directory(test_dir, target_size=(150,150), batch_size=20, class_mode='binary')"
   ]
  },
  {
   "cell_type": "code",
   "execution_count": 4,
   "metadata": {},
   "outputs": [
    {
     "name": "stdout",
     "output_type": "stream",
     "text": [
      "Model: \"vgg16\"\n",
      "_________________________________________________________________\n",
      "Layer (type)                 Output Shape              Param #   \n",
      "=================================================================\n",
      "input_1 (InputLayer)         (None, 150, 150, 3)       0         \n",
      "_________________________________________________________________\n",
      "block1_conv1 (Conv2D)        (None, 150, 150, 64)      1792      \n",
      "_________________________________________________________________\n",
      "block1_conv2 (Conv2D)        (None, 150, 150, 64)      36928     \n",
      "_________________________________________________________________\n",
      "block1_pool (MaxPooling2D)   (None, 75, 75, 64)        0         \n",
      "_________________________________________________________________\n",
      "block2_conv1 (Conv2D)        (None, 75, 75, 128)       73856     \n",
      "_________________________________________________________________\n",
      "block2_conv2 (Conv2D)        (None, 75, 75, 128)       147584    \n",
      "_________________________________________________________________\n",
      "block2_pool (MaxPooling2D)   (None, 37, 37, 128)       0         \n",
      "_________________________________________________________________\n",
      "block3_conv1 (Conv2D)        (None, 37, 37, 256)       295168    \n",
      "_________________________________________________________________\n",
      "block3_conv2 (Conv2D)        (None, 37, 37, 256)       590080    \n",
      "_________________________________________________________________\n",
      "block3_conv3 (Conv2D)        (None, 37, 37, 256)       590080    \n",
      "_________________________________________________________________\n",
      "block3_pool (MaxPooling2D)   (None, 18, 18, 256)       0         \n",
      "_________________________________________________________________\n",
      "block4_conv1 (Conv2D)        (None, 18, 18, 512)       1180160   \n",
      "_________________________________________________________________\n",
      "block4_conv2 (Conv2D)        (None, 18, 18, 512)       2359808   \n",
      "_________________________________________________________________\n",
      "block4_conv3 (Conv2D)        (None, 18, 18, 512)       2359808   \n",
      "_________________________________________________________________\n",
      "block4_pool (MaxPooling2D)   (None, 9, 9, 512)         0         \n",
      "_________________________________________________________________\n",
      "block5_conv1 (Conv2D)        (None, 9, 9, 512)         2359808   \n",
      "_________________________________________________________________\n",
      "block5_conv2 (Conv2D)        (None, 9, 9, 512)         2359808   \n",
      "_________________________________________________________________\n",
      "block5_conv3 (Conv2D)        (None, 9, 9, 512)         2359808   \n",
      "_________________________________________________________________\n",
      "block5_pool (MaxPooling2D)   (None, 4, 4, 512)         0         \n",
      "=================================================================\n",
      "Total params: 14,714,688\n",
      "Trainable params: 14,714,688\n",
      "Non-trainable params: 0\n",
      "_________________________________________________________________\n"
     ]
    }
   ],
   "source": [
    "# Instantiate a convulation base\n",
    "conv_base = VGG16(weights='imagenet', include_top=False, input_shape=(150, 150, 3))\n",
    "conv_base.summary()"
   ]
  },
  {
   "cell_type": "code",
   "execution_count": 5,
   "metadata": {},
   "outputs": [
    {
     "name": "stdout",
     "output_type": "stream",
     "text": [
      "Model: \"sequential_1\"\n",
      "_________________________________________________________________\n",
      "Layer (type)                 Output Shape              Param #   \n",
      "=================================================================\n",
      "vgg16 (Model)                (None, 4, 4, 512)         14714688  \n",
      "_________________________________________________________________\n",
      "flatten_1 (Flatten)          (None, 8192)              0         \n",
      "_________________________________________________________________\n",
      "dense_1 (Dense)              (None, 256)               2097408   \n",
      "_________________________________________________________________\n",
      "dense_2 (Dense)              (None, 1)                 257       \n",
      "=================================================================\n",
      "Total params: 16,812,353\n",
      "Trainable params: 16,812,353\n",
      "Non-trainable params: 0\n",
      "_________________________________________________________________\n"
     ]
    }
   ],
   "source": [
    "# Adding classifier on top of convulation base\n",
    "model = models.Sequential()\n",
    "model.add(conv_base)\n",
    "model.add(layers.Flatten())\n",
    "model.add(layers.Dense(256, activation='relu'))\n",
    "model.add(layers.Dense(1, activation='sigmoid'))\n",
    "\n",
    "model.summary()"
   ]
  },
  {
   "cell_type": "code",
   "execution_count": 6,
   "metadata": {},
   "outputs": [
    {
     "data": {
      "text/plain": [
       "30"
      ]
     },
     "execution_count": 6,
     "metadata": {},
     "output_type": "execute_result"
    }
   ],
   "source": [
    "len(model.trainable_weights)"
   ]
  },
  {
   "cell_type": "code",
   "execution_count": 7,
   "metadata": {},
   "outputs": [],
   "source": [
    "# Freeze the convulation base\n",
    "conv_base.trainable = False"
   ]
  },
  {
   "cell_type": "code",
   "execution_count": 8,
   "metadata": {},
   "outputs": [
    {
     "data": {
      "text/plain": [
       "4"
      ]
     },
     "execution_count": 8,
     "metadata": {},
     "output_type": "execute_result"
    }
   ],
   "source": [
    "len(model.trainable_weights)"
   ]
  },
  {
   "cell_type": "code",
   "execution_count": 9,
   "metadata": {},
   "outputs": [],
   "source": [
    "# Compile a model\n",
    "model.compile(optimizer=optimizers.RMSprop(lr=2e-5), loss='binary_crossentropy', metrics=['acc'])"
   ]
  },
  {
   "cell_type": "code",
   "execution_count": 10,
   "metadata": {},
   "outputs": [
    {
     "name": "stdout",
     "output_type": "stream",
     "text": [
      "Epoch 1/30\n",
      "100/100 [==============================] - 77s 770ms/step - loss: 0.6024 - acc: 0.6770 - val_loss: 0.4477 - val_acc: 0.8150\n",
      "Epoch 2/30\n",
      "100/100 [==============================] - 71s 712ms/step - loss: 0.4854 - acc: 0.7885 - val_loss: 0.3215 - val_acc: 0.8610\n",
      "Epoch 3/30\n",
      "100/100 [==============================] - 71s 711ms/step - loss: 0.4341 - acc: 0.8010 - val_loss: 0.5149 - val_acc: 0.8710\n",
      "Epoch 4/30\n",
      "100/100 [==============================] - 72s 724ms/step - loss: 0.4067 - acc: 0.8270 - val_loss: 0.3280 - val_acc: 0.8580\n",
      "Epoch 5/30\n",
      "100/100 [==============================] - 72s 719ms/step - loss: 0.3765 - acc: 0.8230 - val_loss: 0.3007 - val_acc: 0.8730\n",
      "Epoch 6/30\n",
      "100/100 [==============================] - 71s 714ms/step - loss: 0.3672 - acc: 0.8300 - val_loss: 0.3014 - val_acc: 0.8750\n",
      "Epoch 7/30\n",
      "100/100 [==============================] - 72s 718ms/step - loss: 0.3673 - acc: 0.8400 - val_loss: 0.1236 - val_acc: 0.8880\n",
      "Epoch 8/30\n",
      "100/100 [==============================] - 65s 654ms/step - loss: 0.3475 - acc: 0.8495 - val_loss: 0.2455 - val_acc: 0.8910\n",
      "Epoch 9/30\n",
      "100/100 [==============================] - 65s 647ms/step - loss: 0.3364 - acc: 0.8640 - val_loss: 0.3049 - val_acc: 0.8890\n",
      "Epoch 10/30\n",
      "100/100 [==============================] - 65s 654ms/step - loss: 0.3419 - acc: 0.8485 - val_loss: 0.4774 - val_acc: 0.8870\n",
      "Epoch 11/30\n",
      "100/100 [==============================] - 66s 664ms/step - loss: 0.3336 - acc: 0.8580 - val_loss: 0.1104 - val_acc: 0.8910\n",
      "Epoch 12/30\n",
      "100/100 [==============================] - 66s 661ms/step - loss: 0.3361 - acc: 0.8585 - val_loss: 0.1884 - val_acc: 0.8910\n",
      "Epoch 13/30\n",
      "100/100 [==============================] - 67s 671ms/step - loss: 0.3418 - acc: 0.8480 - val_loss: 0.2531 - val_acc: 0.8930\n",
      "Epoch 14/30\n",
      "100/100 [==============================] - 68s 681ms/step - loss: 0.3214 - acc: 0.8685 - val_loss: 0.1285 - val_acc: 0.8950\n",
      "Epoch 15/30\n",
      "100/100 [==============================] - 68s 681ms/step - loss: 0.3187 - acc: 0.8645 - val_loss: 0.2442 - val_acc: 0.9030\n",
      "Epoch 16/30\n",
      "100/100 [==============================] - 68s 681ms/step - loss: 0.3063 - acc: 0.8645 - val_loss: 0.1798 - val_acc: 0.9020\n",
      "Epoch 17/30\n",
      "100/100 [==============================] - 69s 687ms/step - loss: 0.3125 - acc: 0.8655 - val_loss: 0.1829 - val_acc: 0.8910\n",
      "Epoch 18/30\n",
      "100/100 [==============================] - 69s 693ms/step - loss: 0.3006 - acc: 0.8650 - val_loss: 0.2296 - val_acc: 0.8890\n",
      "Epoch 19/30\n",
      "100/100 [==============================] - 69s 693ms/step - loss: 0.3142 - acc: 0.8630 - val_loss: 0.1201 - val_acc: 0.8940\n",
      "Epoch 20/30\n",
      "100/100 [==============================] - 72s 717ms/step - loss: 0.2989 - acc: 0.8685 - val_loss: 0.3469 - val_acc: 0.9020\n",
      "Epoch 21/30\n",
      "100/100 [==============================] - 72s 722ms/step - loss: 0.3013 - acc: 0.8700 - val_loss: 0.7398 - val_acc: 0.8860\n",
      "Epoch 22/30\n",
      "100/100 [==============================] - 73s 725ms/step - loss: 0.2949 - acc: 0.8715 - val_loss: 0.1777 - val_acc: 0.9010\n",
      "Epoch 23/30\n",
      "100/100 [==============================] - 72s 724ms/step - loss: 0.2921 - acc: 0.8715 - val_loss: 0.2650 - val_acc: 0.9020\n",
      "Epoch 24/30\n",
      "100/100 [==============================] - 75s 755ms/step - loss: 0.2803 - acc: 0.8845 - val_loss: 0.1056 - val_acc: 0.9020\n",
      "Epoch 25/30\n",
      "100/100 [==============================] - 76s 762ms/step - loss: 0.2831 - acc: 0.8750 - val_loss: 0.2262 - val_acc: 0.9120\n",
      "Epoch 26/30\n",
      "100/100 [==============================] - 76s 760ms/step - loss: 0.2863 - acc: 0.8815 - val_loss: 0.2177 - val_acc: 0.8990\n",
      "Epoch 27/30\n",
      "100/100 [==============================] - 77s 766ms/step - loss: 0.2888 - acc: 0.8775 - val_loss: 0.2635 - val_acc: 0.9030\n",
      "Epoch 28/30\n",
      "100/100 [==============================] - 77s 770ms/step - loss: 0.2805 - acc: 0.8755 - val_loss: 0.2220 - val_acc: 0.9010\n",
      "Epoch 29/30\n",
      "100/100 [==============================] - 80s 805ms/step - loss: 0.2857 - acc: 0.8760 - val_loss: 0.2587 - val_acc: 0.9040\n",
      "Epoch 30/30\n",
      "100/100 [==============================] - 77s 771ms/step - loss: 0.2934 - acc: 0.8770 - val_loss: 0.2735 - val_acc: 0.9010\n"
     ]
    }
   ],
   "source": [
    "# Train a model\n",
    "history = model.fit_generator(train_generator, steps_per_epoch=100, epochs=30, validation_data=validation_generator, validation_steps=50)"
   ]
  },
  {
   "cell_type": "code",
   "execution_count": 11,
   "metadata": {},
   "outputs": [],
   "source": [
    "# Unfreeze some layers in the convulation base\n",
    "conv_base.trainable = True\n",
    "\n",
    "set_trainable = False\n",
    "for layer in conv_base.layers:\n",
    "    if layer.name == 'block5_conv1':\n",
    "        set_trainable = True\n",
    "    if set_trainable:\n",
    "        layer.trainable = True\n",
    "    else:\n",
    "        layer.trainable = False"
   ]
  },
  {
   "cell_type": "code",
   "execution_count": 12,
   "metadata": {},
   "outputs": [],
   "source": [
    "# Compile a model\n",
    "model.compile(optimizer=optimizers.RMSprop(lr=1e-5), loss='binary_crossentropy', metrics=['acc'])"
   ]
  },
  {
   "cell_type": "code",
   "execution_count": 13,
   "metadata": {},
   "outputs": [
    {
     "name": "stdout",
     "output_type": "stream",
     "text": [
      "Epoch 1/30\n",
      "100/100 [==============================] - 92s 921ms/step - loss: 0.3024 - acc: 0.8680 - val_loss: 0.1992 - val_acc: 0.9140\n",
      "Epoch 2/30\n",
      "100/100 [==============================] - 90s 904ms/step - loss: 0.2776 - acc: 0.8825 - val_loss: 0.3394 - val_acc: 0.9140\n",
      "Epoch 3/30\n",
      "100/100 [==============================] - 88s 881ms/step - loss: 0.2353 - acc: 0.9045 - val_loss: 0.0843 - val_acc: 0.9220\n",
      "Epoch 4/30\n",
      "100/100 [==============================] - 90s 900ms/step - loss: 0.2059 - acc: 0.9125 - val_loss: 0.1397 - val_acc: 0.9200\n",
      "Epoch 5/30\n",
      "100/100 [==============================] - 91s 910ms/step - loss: 0.2139 - acc: 0.9120 - val_loss: 0.1975 - val_acc: 0.9250\n",
      "Epoch 6/30\n",
      "100/100 [==============================] - 92s 920ms/step - loss: 0.1966 - acc: 0.9185 - val_loss: 0.0884 - val_acc: 0.9270\n",
      "Epoch 7/30\n",
      "100/100 [==============================] - 91s 912ms/step - loss: 0.1668 - acc: 0.9325 - val_loss: 0.4268 - val_acc: 0.9190\n",
      "Epoch 8/30\n",
      "100/100 [==============================] - 91s 909ms/step - loss: 0.1726 - acc: 0.9280 - val_loss: 0.3385 - val_acc: 0.9270\n",
      "Epoch 9/30\n",
      "100/100 [==============================] - 91s 914ms/step - loss: 0.1779 - acc: 0.9290 - val_loss: 0.0707 - val_acc: 0.9310\n",
      "Epoch 10/30\n",
      "100/100 [==============================] - 92s 915ms/step - loss: 0.1509 - acc: 0.9425 - val_loss: 0.5063 - val_acc: 0.9230\n",
      "Epoch 11/30\n",
      "100/100 [==============================] - 92s 919ms/step - loss: 0.1527 - acc: 0.9370 - val_loss: 0.2697 - val_acc: 0.9190\n",
      "Epoch 12/30\n",
      "100/100 [==============================] - 93s 929ms/step - loss: 0.1390 - acc: 0.9465 - val_loss: 0.1876 - val_acc: 0.9330\n",
      "Epoch 13/30\n",
      "100/100 [==============================] - 93s 925ms/step - loss: 0.1387 - acc: 0.9490 - val_loss: 0.0927 - val_acc: 0.9110\n",
      "Epoch 14/30\n",
      "100/100 [==============================] - 94s 937ms/step - loss: 0.1265 - acc: 0.9520 - val_loss: 0.0422 - val_acc: 0.9250\n",
      "Epoch 15/30\n",
      "100/100 [==============================] - 94s 935ms/step - loss: 0.1245 - acc: 0.9490 - val_loss: 0.1832 - val_acc: 0.9160\n",
      "Epoch 16/30\n",
      "100/100 [==============================] - 92s 919ms/step - loss: 0.1160 - acc: 0.9520 - val_loss: 0.0736 - val_acc: 0.9350\n",
      "Epoch 17/30\n",
      "100/100 [==============================] - 95s 946ms/step - loss: 0.1062 - acc: 0.9590 - val_loss: 0.2572 - val_acc: 0.9260\n",
      "Epoch 18/30\n",
      "100/100 [==============================] - 92s 920ms/step - loss: 0.0999 - acc: 0.9630 - val_loss: 1.0530 - val_acc: 0.9210\n",
      "Epoch 19/30\n",
      "100/100 [==============================] - 94s 942ms/step - loss: 0.1052 - acc: 0.9595 - val_loss: 0.1394 - val_acc: 0.9320\n",
      "Epoch 20/30\n",
      "100/100 [==============================] - 84s 843ms/step - loss: 0.1035 - acc: 0.9595 - val_loss: 0.2729 - val_acc: 0.9330\n",
      "Epoch 21/30\n",
      "100/100 [==============================] - 81s 808ms/step - loss: 0.1028 - acc: 0.9570 - val_loss: 0.3688 - val_acc: 0.9230\n",
      "Epoch 22/30\n",
      "100/100 [==============================] - 81s 806ms/step - loss: 0.0916 - acc: 0.9675 - val_loss: 0.0618 - val_acc: 0.9250\n",
      "Epoch 23/30\n",
      "100/100 [==============================] - 78s 783ms/step - loss: 0.0759 - acc: 0.9700 - val_loss: 0.1424 - val_acc: 0.9080\n",
      "Epoch 24/30\n",
      "100/100 [==============================] - 78s 776ms/step - loss: 0.0894 - acc: 0.9650 - val_loss: 0.4200 - val_acc: 0.9280\n",
      "Epoch 25/30\n",
      "100/100 [==============================] - 77s 771ms/step - loss: 0.0785 - acc: 0.9725 - val_loss: 0.1437 - val_acc: 0.9330\n",
      "Epoch 26/30\n",
      "100/100 [==============================] - 77s 770ms/step - loss: 0.0839 - acc: 0.9695 - val_loss: 0.9851 - val_acc: 0.9260\n",
      "Epoch 27/30\n",
      "100/100 [==============================] - 76s 764ms/step - loss: 0.0705 - acc: 0.9705 - val_loss: 0.3113 - val_acc: 0.9290\n",
      "Epoch 28/30\n",
      "100/100 [==============================] - 76s 762ms/step - loss: 0.0836 - acc: 0.9695 - val_loss: 0.0759 - val_acc: 0.9310\n",
      "Epoch 29/30\n",
      "100/100 [==============================] - 76s 763ms/step - loss: 0.0684 - acc: 0.9755 - val_loss: 0.2254 - val_acc: 0.9370\n",
      "Epoch 30/30\n",
      "100/100 [==============================] - 76s 762ms/step - loss: 0.0715 - acc: 0.9740 - val_loss: 0.0262 - val_acc: 0.9310\n"
     ]
    }
   ],
   "source": [
    "# Jointly train a model\n",
    "history2 = model.fit_generator(train_generator, steps_per_epoch=100, epochs=30, validation_data=validation_generator, validation_steps=50)"
   ]
  },
  {
   "cell_type": "code",
   "execution_count": 15,
   "metadata": {},
   "outputs": [
    {
     "data": {
      "text/plain": [
       "dict_keys(['val_loss', 'val_acc', 'loss', 'acc'])"
      ]
     },
     "execution_count": 15,
     "metadata": {},
     "output_type": "execute_result"
    }
   ],
   "source": [
    "# Plotting\n",
    "history_dict = history2.history\n",
    "history_dict.keys()"
   ]
  },
  {
   "cell_type": "code",
   "execution_count": 24,
   "metadata": {},
   "outputs": [
    {
     "data": {
      "image/png": "[encoded data removed]",
      "text/plain": [
       "<Figure size 432x288 with 1 Axes>"
      ]
     },
     "metadata": {
      "needs_background": "light"
     },
     "output_type": "display_data"
    }
   ],
   "source": [
    "accuracy = history_dict['acc']\n",
    "val_accuracy = history_dict['val_acc']\n",
    "loss = history_dict['loss']\n",
    "val_loss = history_dict['val_loss']\n",
    "epochs = range(1, len(accuracy) + 1)\n",
    "\n",
    "def smooth_curve(points, factor=0.8):\n",
    "    smoothed_points = []\n",
    "    for point in points:\n",
    "        if smoothed_points:\n",
    "            previous = smoothed_points[-1]\n",
    "            smoothed_points.append(previous * factor + point * (1 - factor))\n",
    "        else:\n",
    "            smoothed_points.append(point)\n",
    "    return smoothed_points\n",
    "\n",
    "plt.plot(epochs, smooth_curve(accuracy), 'bo', label='Train accuracy')\n",
    "plt.plot(epochs, smooth_curve(val_accuracy), 'b', label='Validation accuracy')\n",
    "plt.title('Train and validation accuracy')\n",
    "plt.xlabel('Epoch')\n",
    "plt.ylabel('Accuracy')\n",
    "plt.legend()\n",
    "plt.show()"
   ]
  },
  {
   "cell_type": "code",
   "execution_count": 21,
   "metadata": {},
   "outputs": [
    {
     "data": {
      "image/png": "[encoded data removed]",
      "text/plain": [
       "<Figure size 432x288 with 1 Axes>"
      ]
     },
     "metadata": {
      "needs_background": "light"
     },
     "output_type": "display_data"
    }
   ],
   "source": [
    "plt.clf()\n",
    "plt.plot(epochs, smooth_curve(loss), 'bo', label='Train loss')\n",
    "plt.plot(epochs, smooth_curve(val_loss), 'b', label='Validation loss')\n",
    "plt.title('Train and validation loss')\n",
    "plt.xlabel('Epoch')\n",
    "plt.ylabel('Loss')\n",
    "plt.legend()\n",
    "plt.show()"
   ]
  },
  {
   "cell_type": "code",
   "execution_count": 22,
   "metadata": {},
   "outputs": [
    {
     "name": "stdout",
     "output_type": "stream",
     "text": [
      "50/50 [==============================] - 23s 468ms/step\n",
      "Test Accuracy:  0.9300000071525574\n"
     ]
    }
   ],
   "source": [
    "test_loss, test_accuracy = model.evaluate(test_generator, steps=50)\n",
    "print('Test Accuracy: ', test_accuracy)"
   ]
  },
  {
   "cell_type": "markdown",
   "metadata": {},
   "source": [
    "# Conclusion"
   ]
  }
 ],
 "metadata": {
  "kernelspec": {
   "display_name": "Python 3",
   "language": "python",
   "name": "python3"
  },
  "language_info": {
   "codemirror_mode": {
    "name": "ipython",
    "version": 3
   },
   "file_extension": ".py",
   "mimetype": "text/x-python",
   "name": "python",
   "nbconvert_exporter": "python",
   "pygments_lexer": "ipython3",
   "version": "3.6.10"
  }
 },
 "nbformat": 4,
 "nbformat_minor": 4
}
