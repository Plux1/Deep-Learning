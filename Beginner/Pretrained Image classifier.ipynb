{
 "cells": [
  {
   "cell_type": "code",
   "execution_count": 20,
   "metadata": {},
   "outputs": [],
   "source": [
    "from keras.preprocessing.image import ImageDataGenerator\n",
    "from keras.applications import VGG16\n",
    "from keras import models, layers\n",
    "import matplotlib.pyplot as plt\n",
    "from keras import optimizers\n",
    "import numpy as np\n",
    "import os\n"
   ]
  },
  {
   "cell_type": "markdown",
   "metadata": {},
   "source": [
    "# Feature extraction"
   ]
  },
  {
   "cell_type": "code",
   "execution_count": 21,
   "metadata": {},
   "outputs": [],
   "source": [
    "# Initializing convulation base\n",
    "conv_base = VGG16(weights='imagenet', include_top=False, input_shape=(150, 150, 3))"
   ]
  },
  {
   "cell_type": "code",
   "execution_count": 22,
   "metadata": {},
   "outputs": [
    {
     "name": "stdout",
     "output_type": "stream",
     "text": [
      "Model: \"vgg16\"\n",
      "_________________________________________________________________\n",
      "Layer (type)                 Output Shape              Param #   \n",
      "=================================================================\n",
      "input_2 (InputLayer)         (None, 150, 150, 3)       0         \n",
      "_________________________________________________________________\n",
      "block1_conv1 (Conv2D)        (None, 150, 150, 64)      1792      \n",
      "_________________________________________________________________\n",
      "block1_conv2 (Conv2D)        (None, 150, 150, 64)      36928     \n",
      "_________________________________________________________________\n",
      "block1_pool (MaxPooling2D)   (None, 75, 75, 64)        0         \n",
      "_________________________________________________________________\n",
      "block2_conv1 (Conv2D)        (None, 75, 75, 128)       73856     \n",
      "_________________________________________________________________\n",
      "block2_conv2 (Conv2D)        (None, 75, 75, 128)       147584    \n",
      "_________________________________________________________________\n",
      "block2_pool (MaxPooling2D)   (None, 37, 37, 128)       0         \n",
      "_________________________________________________________________\n",
      "block3_conv1 (Conv2D)        (None, 37, 37, 256)       295168    \n",
      "_________________________________________________________________\n",
      "block3_conv2 (Conv2D)        (None, 37, 37, 256)       590080    \n",
      "_________________________________________________________________\n",
      "block3_conv3 (Conv2D)        (None, 37, 37, 256)       590080    \n",
      "_________________________________________________________________\n",
      "block3_pool (MaxPooling2D)   (None, 18, 18, 256)       0         \n",
      "_________________________________________________________________\n",
      "block4_conv1 (Conv2D)        (None, 18, 18, 512)       1180160   \n",
      "_________________________________________________________________\n",
      "block4_conv2 (Conv2D)        (None, 18, 18, 512)       2359808   \n",
      "_________________________________________________________________\n",
      "block4_conv3 (Conv2D)        (None, 18, 18, 512)       2359808   \n",
      "_________________________________________________________________\n",
      "block4_pool (MaxPooling2D)   (None, 9, 9, 512)         0         \n",
      "_________________________________________________________________\n",
      "block5_conv1 (Conv2D)        (None, 9, 9, 512)         2359808   \n",
      "_________________________________________________________________\n",
      "block5_conv2 (Conv2D)        (None, 9, 9, 512)         2359808   \n",
      "_________________________________________________________________\n",
      "block5_conv3 (Conv2D)        (None, 9, 9, 512)         2359808   \n",
      "_________________________________________________________________\n",
      "block5_pool (MaxPooling2D)   (None, 4, 4, 512)         0         \n",
      "=================================================================\n",
      "Total params: 14,714,688\n",
      "Trainable params: 14,714,688\n",
      "Non-trainable params: 0\n",
      "_________________________________________________________________\n"
     ]
    }
   ],
   "source": [
    "conv_base.summary()"
   ]
  },
  {
   "cell_type": "markdown",
   "metadata": {},
   "source": [
    "The convulation base above is used for feature extraction that we will use as input for our dense layers\n",
    "    The feature extraction can be done in two ways\n",
    "        1). By recording conv-base output into numpy array. Its fast and cheap without data augumentation\n",
    "        2). By extending the model by adding dense layers on top. Allow data augumentation. Very expensive"
   ]
  },
  {
   "cell_type": "markdown",
   "metadata": {},
   "source": [
    "# Feature extraction without data augumentation"
   ]
  },
  {
   "cell_type": "code",
   "execution_count": 23,
   "metadata": {},
   "outputs": [
    {
     "name": "stdout",
     "output_type": "stream",
     "text": [
      "successful\n"
     ]
    }
   ],
   "source": [
    "# Selecting dataset directories\n",
    "base_dir ='/Users/Tajr/Desktop/Data/RadonPlus/RadonTechnology/Dev/Deep Learning/Datasets/CatDog/SmallDataset'\n",
    "train_dir = os.path.join(base_dir, 'train')\n",
    "test_dir = os.path.join(base_dir, 'test')\n",
    "validation_dir = os.path.join(base_dir, 'validation')\n",
    "print('successful')"
   ]
  },
  {
   "cell_type": "code",
   "execution_count": 24,
   "metadata": {},
   "outputs": [
    {
     "name": "stdout",
     "output_type": "stream",
     "text": [
      "successful\n"
     ]
    }
   ],
   "source": [
    "# Extract image data as numpy array\n",
    "datagen = ImageDataGenerator(rescale=1./255)\n",
    "batch_size = 20\n",
    "print('successful')"
   ]
  },
  {
   "cell_type": "code",
   "execution_count": 25,
   "metadata": {},
   "outputs": [],
   "source": [
    "# Features are extracted by calling predict method of a convulation base\n",
    "def extract_feature(directory, sample_count):\n",
    "    features = np.zeros(shape=(sample_count, 4, 4, 512))\n",
    "    labels = np.zeros(shape=(sample_count))\n",
    "    generator = datagen.flow_from_directory(directory, target_size=(150, 150), batch_size=batch_size, class_mode='binary')\n",
    "    \n",
    "    i = 0\n",
    "    for inputs_batch, label_batch in generator:\n",
    "        features_batch = conv_base.predict(inputs_batch)\n",
    "        features[i * batch_size : (i +1) * batch_size] = features_batch\n",
    "        labels[i* batch_size : (i + 1) * batch_size] = label_batch\n",
    "        i += 1\n",
    "        \n",
    "#         Break is used because generators yield data indefinitely in a loop. Break is must after every image has been seen once\n",
    "        if i *batch_size >= sample_count:\n",
    "            break\n",
    "    \n",
    "    return features, labels"
   ]
  },
  {
   "cell_type": "code",
   "execution_count": 26,
   "metadata": {},
   "outputs": [
    {
     "name": "stdout",
     "output_type": "stream",
     "text": [
      "Found 2000 images belonging to 2 classes.\n",
      "Found 1000 images belonging to 2 classes.\n",
      "Found 1000 images belonging to 2 classes.\n"
     ]
    }
   ],
   "source": [
    "train_features, train_labels = extract_feature(train_dir, 2000)\n",
    "test_features, test_labels = extract_feature(test_dir, 1000)\n",
    "validation_features, validation_labels = extract_feature(validation_dir, 1000)"
   ]
  },
  {
   "cell_type": "code",
   "execution_count": 27,
   "metadata": {},
   "outputs": [
    {
     "data": {
      "text/plain": [
       "(2000, 4, 4, 512)"
      ]
     },
     "execution_count": 27,
     "metadata": {},
     "output_type": "execute_result"
    }
   ],
   "source": [
    "train_features.shape"
   ]
  },
  {
   "cell_type": "code",
   "execution_count": 28,
   "metadata": {},
   "outputs": [],
   "source": [
    "\n",
    "# Flattening the features (samples, x * y* z) from  convulation base before feeding them into densely connected classifier\n",
    "train_features = np.reshape(train_features, (2000, 4 * 4 * 512))\n",
    "test_features =np.reshape(test_features, (1000, 4 * 4 * 512))\n",
    "validation_features =np.reshape(validation_features, (1000, 4 * 4 * 512))"
   ]
  },
  {
   "cell_type": "code",
   "execution_count": 29,
   "metadata": {},
   "outputs": [
    {
     "data": {
      "text/plain": [
       "(2000, 8192)"
      ]
     },
     "execution_count": 29,
     "metadata": {},
     "output_type": "execute_result"
    }
   ],
   "source": [
    "train_features.shape"
   ]
  },
  {
   "cell_type": "markdown",
   "metadata": {},
   "source": [
    "# Dense classifier\n",
    "   Drop out is used for regularization"
   ]
  },
  {
   "cell_type": "code",
   "execution_count": 30,
   "metadata": {
    "scrolled": true
   },
   "outputs": [
    {
     "name": "stdout",
     "output_type": "stream",
     "text": [
      "Train on 1000 samples, validate on 1000 samples\n",
      "Epoch 1/30\n",
      "1000/1000 [==============================] - 1s 1ms/step - loss: 0.6916 - acc: 0.6070 - val_loss: 0.5118 - val_acc: 0.7990\n",
      "Epoch 2/30\n",
      "1000/1000 [==============================] - 1s 904us/step - loss: 0.5272 - acc: 0.7410 - val_loss: 0.4355 - val_acc: 0.8320\n",
      "Epoch 3/30\n",
      "1000/1000 [==============================] - 1s 910us/step - loss: 0.4401 - acc: 0.7970 - val_loss: 0.3866 - val_acc: 0.8670\n",
      "Epoch 4/30\n",
      "1000/1000 [==============================] - 1s 934us/step - loss: 0.4110 - acc: 0.8220 - val_loss: 0.3579 - val_acc: 0.8770\n",
      "Epoch 5/30\n",
      "1000/1000 [==============================] - 1s 1ms/step - loss: 0.3609 - acc: 0.8420 - val_loss: 0.3392 - val_acc: 0.8720\n",
      "Epoch 6/30\n",
      "1000/1000 [==============================] - 1s 926us/step - loss: 0.3326 - acc: 0.8570 - val_loss: 0.3241 - val_acc: 0.8800\n",
      "Epoch 7/30\n",
      "1000/1000 [==============================] - 1s 911us/step - loss: 0.3108 - acc: 0.8720 - val_loss: 0.3099 - val_acc: 0.8920\n",
      "Epoch 8/30\n",
      "1000/1000 [==============================] - 1s 928us/step - loss: 0.2909 - acc: 0.8830 - val_loss: 0.3015 - val_acc: 0.8970\n",
      "Epoch 9/30\n",
      "1000/1000 [==============================] - 1s 932us/step - loss: 0.2712 - acc: 0.8940 - val_loss: 0.2993 - val_acc: 0.8860\n",
      "Epoch 10/30\n",
      "1000/1000 [==============================] - 1s 967us/step - loss: 0.2554 - acc: 0.8980 - val_loss: 0.2848 - val_acc: 0.9020\n",
      "Epoch 11/30\n",
      "1000/1000 [==============================] - 1s 930us/step - loss: 0.2350 - acc: 0.9020 - val_loss: 0.2795 - val_acc: 0.9010\n",
      "Epoch 12/30\n",
      "1000/1000 [==============================] - 1s 917us/step - loss: 0.2283 - acc: 0.9200 - val_loss: 0.2731 - val_acc: 0.9040\n",
      "Epoch 13/30\n",
      "1000/1000 [==============================] - 1s 926us/step - loss: 0.2213 - acc: 0.9190 - val_loss: 0.2708 - val_acc: 0.9030\n",
      "Epoch 14/30\n",
      "1000/1000 [==============================] - 1s 957us/step - loss: 0.1979 - acc: 0.9300 - val_loss: 0.2706 - val_acc: 0.9000\n",
      "Epoch 15/30\n",
      "1000/1000 [==============================] - 1s 1ms/step - loss: 0.1876 - acc: 0.9310 - val_loss: 0.2673 - val_acc: 0.8990\n",
      "Epoch 16/30\n",
      "1000/1000 [==============================] - 1s 947us/step - loss: 0.1864 - acc: 0.9350 - val_loss: 0.2596 - val_acc: 0.9050\n",
      "Epoch 17/30\n",
      "1000/1000 [==============================] - 1s 915us/step - loss: 0.1801 - acc: 0.9440 - val_loss: 0.2639 - val_acc: 0.8960\n",
      "Epoch 18/30\n",
      "1000/1000 [==============================] - 1s 923us/step - loss: 0.1716 - acc: 0.9420 - val_loss: 0.2550 - val_acc: 0.9040\n",
      "Epoch 19/30\n",
      "1000/1000 [==============================] - 1s 932us/step - loss: 0.1650 - acc: 0.9420 - val_loss: 0.2535 - val_acc: 0.9060\n",
      "Epoch 20/30\n",
      "1000/1000 [==============================] - 1s 916us/step - loss: 0.1526 - acc: 0.9580 - val_loss: 0.2531 - val_acc: 0.9040\n",
      "Epoch 21/30\n",
      "1000/1000 [==============================] - 1s 932us/step - loss: 0.1378 - acc: 0.9580 - val_loss: 0.2528 - val_acc: 0.9000\n",
      "Epoch 22/30\n",
      "1000/1000 [==============================] - 1s 946us/step - loss: 0.1381 - acc: 0.9620 - val_loss: 0.2495 - val_acc: 0.9040\n",
      "Epoch 23/30\n",
      "1000/1000 [==============================] - 1s 940us/step - loss: 0.1326 - acc: 0.9660 - val_loss: 0.2480 - val_acc: 0.9060\n",
      "Epoch 24/30\n",
      "1000/1000 [==============================] - 1s 926us/step - loss: 0.1298 - acc: 0.9620 - val_loss: 0.2478 - val_acc: 0.9100\n",
      "Epoch 25/30\n",
      "1000/1000 [==============================] - 1s 923us/step - loss: 0.1273 - acc: 0.9650 - val_loss: 0.2496 - val_acc: 0.9060\n",
      "Epoch 26/30\n",
      "1000/1000 [==============================] - 1s 911us/step - loss: 0.1124 - acc: 0.9650 - val_loss: 0.2490 - val_acc: 0.9050\n",
      "Epoch 27/30\n",
      "1000/1000 [==============================] - 1s 959us/step - loss: 0.1116 - acc: 0.9660 - val_loss: 0.2475 - val_acc: 0.9080\n",
      "Epoch 28/30\n",
      "1000/1000 [==============================] - 1s 956us/step - loss: 0.1021 - acc: 0.9760 - val_loss: 0.2477 - val_acc: 0.9040\n",
      "Epoch 29/30\n",
      "1000/1000 [==============================] - 1s 920us/step - loss: 0.1048 - acc: 0.9760 - val_loss: 0.2484 - val_acc: 0.9000\n",
      "Epoch 30/30\n",
      "1000/1000 [==============================] - 1s 926us/step - loss: 0.0929 - acc: 0.9830 - val_loss: 0.2485 - val_acc: 0.9040\n"
     ]
    }
   ],
   "source": [
    "# Model definition\n",
    "model = models.Sequential()\n",
    "model.add(layers.Dense(256, activation='relu', input_dim=4 * 4 * 512))\n",
    "model.add(layers.Dropout(0.5))\n",
    "model.add(layers.Dense(1, activation='sigmoid'))\n",
    "\n",
    "# Model compilation\n",
    "model.compile(optimizer=optimizers.RMSprop(lr=2e-5),loss='binary_crossentropy', metrics=['acc'])\n",
    "\n",
    "# Training a model\n",
    "history = model.fit(test_features, test_labels, epochs=30, batch_size=20,validation_data=(validation_features, validation_labels))\n",
    "        "
   ]
  },
  {
   "cell_type": "code",
   "execution_count": 31,
   "metadata": {},
   "outputs": [
    {
     "data": {
      "text/plain": [
       "dict_keys(['val_loss', 'val_acc', 'loss', 'acc'])"
      ]
     },
     "execution_count": 31,
     "metadata": {},
     "output_type": "execute_result"
    }
   ],
   "source": [
    "# Plotting the results\n",
    "history_dict = history.history\n",
    "history_dict.keys()"
   ]
  },
  {
   "cell_type": "code",
   "execution_count": 36,
   "metadata": {},
   "outputs": [],
   "source": [
    "# Data\n",
    "accuracy = history_dict['acc']\n",
    "val_accuracy = history_dict['val_acc']\n",
    "\n",
    "loss = history_dict['loss']\n",
    "val_loss = history_dict['val_loss']\n",
    "\n",
    "epochs = range(1,( len(accuracy) + 1))"
   ]
  },
  {
   "cell_type": "code",
   "execution_count": 37,
   "metadata": {},
   "outputs": [
    {
     "data": {
      "text/plain": [
       "<function matplotlib.pyplot.show(*args, **kw)>"
      ]
     },
     "execution_count": 37,
     "metadata": {},
     "output_type": "execute_result"
    },
    {
     "data": {
      "image/png": "[encoded data removed]",
      "text/plain": [
       "<Figure size 432x288 with 1 Axes>"
      ]
     },
     "metadata": {
      "needs_background": "light"
     },
     "output_type": "display_data"
    }
   ],
   "source": [
    "# Train accuracy Vs Validation accuracy\n",
    "plt.plot(epochs, accuracy, 'bo', label='Training accuracy')\n",
    "plt.plot(epochs, val_accuracy, 'b', label='Valiadtion accuracy')\n",
    "plt.title('Train and validation accuracy')\n",
    "plt.xlabel('Epochs')\n",
    "plt.ylabel('Accuracy')\n",
    "plt.legend()\n",
    "plt.show"
   ]
  },
  {
   "cell_type": "code",
   "execution_count": 38,
   "metadata": {},
   "outputs": [
    {
     "data": {
      "text/plain": [
       "<function matplotlib.pyplot.show(*args, **kw)>"
      ]
     },
     "execution_count": 38,
     "metadata": {},
     "output_type": "execute_result"
    },
    {
     "data": {
      "image/png": "[encoded data removed]",
      "text/plain": [
       "<Figure size 432x288 with 1 Axes>"
      ]
     },
     "metadata": {
      "needs_background": "light"
     },
     "output_type": "display_data"
    }
   ],
   "source": [
    "plt.clf()\n",
    "plt.plot(epochs, loss, 'bo', label='Training loss')\n",
    "plt.plot(epochs, val_loss, 'b', label='Validation loss')\n",
    "plt.title('Train and validation loss')\n",
    "plt.xlabel('Epochs')\n",
    "plt.ylabel('Loss')\n",
    "plt.legend()\n",
    "plt.show"
   ]
  },
  {
   "cell_type": "markdown",
   "metadata": {},
   "source": [
    "# Conclusion"
   ]
  },
  {
   "cell_type": "markdown",
   "metadata": {},
   "source": [
    "Via This technique we have been able to acomplish a validation accuracy of 90%"
   ]
  },
  {
   "cell_type": "code",
   "execution_count": 39,
   "metadata": {},
   "outputs": [
    {
     "name": "stdout",
     "output_type": "stream",
     "text": [
      "1000/1000 [==============================] - 0s 154us/step\n"
     ]
    }
   ],
   "source": [
    "result = model.evaluate(test_features, test_labels)"
   ]
  },
  {
   "cell_type": "code",
   "execution_count": 40,
   "metadata": {},
   "outputs": [
    {
     "data": {
      "text/plain": [
       "[0.07799012631177903, 0.9909999966621399]"
      ]
     },
     "execution_count": 40,
     "metadata": {},
     "output_type": "execute_result"
    }
   ],
   "source": [
    "result"
   ]
  },
  {
   "cell_type": "code",
   "execution_count": null,
   "metadata": {},
   "outputs": [],
   "source": []
  }
 ],
 "metadata": {
  "kernelspec": {
   "display_name": "Python 3",
   "language": "python",
   "name": "python3"
  },
  "language_info": {
   "codemirror_mode": {
    "name": "ipython",
    "version": 3
   },
   "file_extension": ".py",
   "mimetype": "text/x-python",
   "name": "python",
   "nbconvert_exporter": "python",
   "pygments_lexer": "ipython3",
   "version": "3.6.10"
  }
 },
 "nbformat": 4,
 "nbformat_minor": 4
}
