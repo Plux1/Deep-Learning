{
 "cells": [
  {
   "cell_type": "code",
   "execution_count": 68,
   "metadata": {},
   "outputs": [],
   "source": [
    "from keras.datasets import cifar10\n",
    "from keras import models, layers\n",
    "from sklearn.model_selection import train_test_split\n",
    "from sklearn.preprocessing import LabelBinarizer\n",
    "from sklearn.metrics import classification_report\n",
    "from keras.optimizers import SGD\n",
    "import numpy as np\n",
    "import matplotlib.pyplot as plt"
   ]
  },
  {
   "cell_type": "markdown",
   "metadata": {},
   "source": [
    "# Dataset Loading"
   ]
  },
  {
   "cell_type": "code",
   "execution_count": 47,
   "metadata": {},
   "outputs": [],
   "source": [
    "(trainX, trainY), (testX, testY) = cifar10.load_data()\n"
   ]
  },
  {
   "cell_type": "markdown",
   "metadata": {},
   "source": [
    "# Data Processing"
   ]
  },
  {
   "cell_type": "code",
   "execution_count": 48,
   "metadata": {},
   "outputs": [
    {
     "name": "stdout",
     "output_type": "stream",
     "text": [
      "[INFO] train data...\n",
      "[[[ 59  62  63]\n",
      "  [ 43  46  45]\n",
      "  [ 50  48  43]\n",
      "  ...\n",
      "  [158 132 108]\n",
      "  [152 125 102]\n",
      "  [148 124 103]]\n",
      "\n",
      " [[ 16  20  20]\n",
      "  [  0   0   0]\n",
      "  [ 18   8   0]\n",
      "  ...\n",
      "  [123  88  55]\n",
      "  [119  83  50]\n",
      "  [122  87  57]]\n",
      "\n",
      " [[ 25  24  21]\n",
      "  [ 16   7   0]\n",
      "  [ 49  27   8]\n",
      "  ...\n",
      "  [118  84  50]\n",
      "  [120  84  50]\n",
      "  [109  73  42]]\n",
      "\n",
      " ...\n",
      "\n",
      " [[208 170  96]\n",
      "  [201 153  34]\n",
      "  [198 161  26]\n",
      "  ...\n",
      "  [160 133  70]\n",
      "  [ 56  31   7]\n",
      "  [ 53  34  20]]\n",
      "\n",
      " [[180 139  96]\n",
      "  [173 123  42]\n",
      "  [186 144  30]\n",
      "  ...\n",
      "  [184 148  94]\n",
      "  [ 97  62  34]\n",
      "  [ 83  53  34]]\n",
      "\n",
      " [[177 144 116]\n",
      "  [168 129  94]\n",
      "  [179 142  87]\n",
      "  ...\n",
      "  [216 184 140]\n",
      "  [151 118  84]\n",
      "  [123  92  72]]]\n",
      "\n",
      "[INFO] train labels...\n",
      "[6]\n",
      "\n",
      "[INFO] train data shape...\n",
      "(50000, 32, 32, 3)\n",
      "\n",
      "[INFO] train data type...\n",
      "<class 'numpy.ndarray'>\n",
      "\n",
      "[INFO] train labels shape...\n",
      "(50000, 1)\n",
      "\n",
      "[INFO] test data...\n",
      "[[[158 112  49]\n",
      "  [159 111  47]\n",
      "  [165 116  51]\n",
      "  ...\n",
      "  [137  95  36]\n",
      "  [126  91  36]\n",
      "  [116  85  33]]\n",
      "\n",
      " [[152 112  51]\n",
      "  [151 110  40]\n",
      "  [159 114  45]\n",
      "  ...\n",
      "  [136  95  31]\n",
      "  [125  91  32]\n",
      "  [119  88  34]]\n",
      "\n",
      " [[151 110  47]\n",
      "  [151 109  33]\n",
      "  [158 111  36]\n",
      "  ...\n",
      "  [139  98  34]\n",
      "  [130  95  34]\n",
      "  [120  89  33]]\n",
      "\n",
      " ...\n",
      "\n",
      " [[ 68 124 177]\n",
      "  [ 42 100 148]\n",
      "  [ 31  88 137]\n",
      "  ...\n",
      "  [ 38  97 146]\n",
      "  [ 13  64 108]\n",
      "  [ 40  85 127]]\n",
      "\n",
      " [[ 61 116 168]\n",
      "  [ 49 102 148]\n",
      "  [ 35  85 132]\n",
      "  ...\n",
      "  [ 26  82 130]\n",
      "  [ 29  82 126]\n",
      "  [ 20  64 107]]\n",
      "\n",
      " [[ 54 107 160]\n",
      "  [ 56 105 149]\n",
      "  [ 45  89 132]\n",
      "  ...\n",
      "  [ 24  77 124]\n",
      "  [ 34  84 129]\n",
      "  [ 21  67 110]]]\n",
      "\n",
      "[INFO] test labels..\n",
      "[3]\n",
      "\n",
      "[INFO] test data shape\n",
      "(10000, 32, 32, 3)\n",
      "\n",
      "[INFO] test labels shape\n",
      "(10000, 1)\n",
      "\n"
     ]
    }
   ],
   "source": [
    "print('[INFO] train data...')\n",
    "print(trainX[0])\n",
    "print()\n",
    "\n",
    "print('[INFO] train labels...')\n",
    "print(trainY[0])\n",
    "print()\n",
    "\n",
    "print('[INFO] train data shape...')\n",
    "print(trainX.shape)\n",
    "print()\n",
    "\n",
    "print('[INFO] train data type...')\n",
    "print(type(trainX))\n",
    "print()\n",
    "\n",
    "print('[INFO] train labels shape...')\n",
    "print(trainY.shape)\n",
    "print()\n",
    "\n",
    "print('[INFO] test data...')\n",
    "print(testX[0])\n",
    "print()\n",
    "\n",
    "print('[INFO] test labels..')\n",
    "print(testY[0])\n",
    "print()\n",
    "\n",
    "print('[INFO] test data shape')\n",
    "print(testX.shape)\n",
    "print()\n",
    "\n",
    "print('[INFO] test labels shape')\n",
    "print(testY.shape)\n",
    "print()"
   ]
  },
  {
   "cell_type": "code",
   "execution_count": 49,
   "metadata": {},
   "outputs": [],
   "source": [
    "# Normalizing data \n",
    "trainX = trainX.astype('float') / 255.0\n",
    "testX = testX.astype('float') / 255.0\n",
    "\n",
    "# Flattening the data\n",
    "trainX = trainX.reshape((trainX.shape[0], 3072))\n",
    "testX = testX.reshape((testX.shape[0], 3072))"
   ]
  },
  {
   "cell_type": "code",
   "execution_count": 50,
   "metadata": {},
   "outputs": [
    {
     "name": "stdout",
     "output_type": "stream",
     "text": [
      "[INFO] train data...\n",
      "[0.23137255 0.24313725 0.24705882 ... 0.48235294 0.36078431 0.28235294]\n",
      "\n",
      "[INFO] train data shape...\n",
      "(50000, 3072)\n",
      "\n",
      "[INFO] test data...\n",
      "[0.61960784 0.43921569 0.19215686 ... 0.08235294 0.2627451  0.43137255]\n",
      "\n",
      "[INFO] test data shape...\n",
      "(10000, 3072)\n",
      "\n"
     ]
    }
   ],
   "source": [
    "print('[INFO] train data...')\n",
    "print(trainX[0])\n",
    "print()\n",
    "\n",
    "print('[INFO] train data shape...')\n",
    "print(trainX.shape)\n",
    "print()\n",
    "\n",
    "print('[INFO] test data...')\n",
    "print(testX[0])\n",
    "print()\n",
    "\n",
    "print('[INFO] test data shape...')\n",
    "print(testX.shape)\n",
    "print()"
   ]
  },
  {
   "cell_type": "code",
   "execution_count": 51,
   "metadata": {},
   "outputs": [],
   "source": [
    "# Creating Vectors for labels using one-hot encoding\n",
    "lb = LabelBinarizer()\n",
    "trainY = lb.fit_transform(trainY)\n",
    "testY = lb.fit_transform(testY)"
   ]
  },
  {
   "cell_type": "code",
   "execution_count": 52,
   "metadata": {},
   "outputs": [
    {
     "name": "stdout",
     "output_type": "stream",
     "text": [
      "[INFO] train labels...\n",
      "[0 0 0 0 0 0 1 0 0 0]\n",
      "\n",
      "[INFO] test labels...\n",
      "[0 0 0 1 0 0 0 0 0 0]\n",
      "\n"
     ]
    }
   ],
   "source": [
    "print('[INFO] train labels...')\n",
    "print(trainY[0])\n",
    "print()\n",
    "\n",
    "print('[INFO] test labels...')\n",
    "print(testY[0])\n",
    "print()\n"
   ]
  },
  {
   "cell_type": "code",
   "execution_count": 53,
   "metadata": {},
   "outputs": [],
   "source": [
    "# Train and Validation data split\n",
    "(train_samples, validation_samples, train_labels, validation_labels) = train_test_split(trainX, trainY, test_size=0.25)"
   ]
  },
  {
   "cell_type": "code",
   "execution_count": 54,
   "metadata": {},
   "outputs": [
    {
     "data": {
      "text/plain": [
       "(37500, 3072)"
      ]
     },
     "execution_count": 54,
     "metadata": {},
     "output_type": "execute_result"
    }
   ],
   "source": [
    "train_samples.shape"
   ]
  },
  {
   "cell_type": "code",
   "execution_count": 55,
   "metadata": {},
   "outputs": [
    {
     "data": {
      "text/plain": [
       "(37500, 10)"
      ]
     },
     "execution_count": 55,
     "metadata": {},
     "output_type": "execute_result"
    }
   ],
   "source": [
    "train_labels.shape"
   ]
  },
  {
   "cell_type": "code",
   "execution_count": 56,
   "metadata": {},
   "outputs": [
    {
     "data": {
      "text/plain": [
       "(12500, 3072)"
      ]
     },
     "execution_count": 56,
     "metadata": {},
     "output_type": "execute_result"
    }
   ],
   "source": [
    "validation_samples.shape"
   ]
  },
  {
   "cell_type": "code",
   "execution_count": 57,
   "metadata": {},
   "outputs": [
    {
     "data": {
      "text/plain": [
       "(12500, 10)"
      ]
     },
     "execution_count": 57,
     "metadata": {},
     "output_type": "execute_result"
    }
   ],
   "source": [
    "validation_labels.shape"
   ]
  },
  {
   "cell_type": "code",
   "execution_count": 58,
   "metadata": {},
   "outputs": [
    {
     "data": {
      "text/plain": [
       "(10000, 3072)"
      ]
     },
     "execution_count": 58,
     "metadata": {},
     "output_type": "execute_result"
    }
   ],
   "source": [
    "testX.shape"
   ]
  },
  {
   "cell_type": "code",
   "execution_count": 59,
   "metadata": {},
   "outputs": [
    {
     "data": {
      "text/plain": [
       "(10000, 10)"
      ]
     },
     "execution_count": 59,
     "metadata": {},
     "output_type": "execute_result"
    }
   ],
   "source": [
    "testY.shape"
   ]
  },
  {
   "cell_type": "markdown",
   "metadata": {},
   "source": [
    "# Model Definition"
   ]
  },
  {
   "cell_type": "code",
   "execution_count": 60,
   "metadata": {},
   "outputs": [
    {
     "name": "stdout",
     "output_type": "stream",
     "text": [
      "Model: \"sequential_2\"\n",
      "_________________________________________________________________\n",
      "Layer (type)                 Output Shape              Param #   \n",
      "=================================================================\n",
      "dense_4 (Dense)              (None, 1024)              3146752   \n",
      "_________________________________________________________________\n",
      "dense_5 (Dense)              (None, 512)               524800    \n",
      "_________________________________________________________________\n",
      "dense_6 (Dense)              (None, 10)                5130      \n",
      "=================================================================\n",
      "Total params: 3,676,682\n",
      "Trainable params: 3,676,682\n",
      "Non-trainable params: 0\n",
      "_________________________________________________________________\n"
     ]
    }
   ],
   "source": [
    "model = models.Sequential()\n",
    "model.add(layers.Dense(1024, activation='relu', input_shape=(3072,)))\n",
    "model.add(layers.Dense(512, activation='relu'))\n",
    "model.add(layers.Dense(10, activation='softmax'))\n",
    "model.summary()"
   ]
  },
  {
   "cell_type": "markdown",
   "metadata": {},
   "source": [
    "# Model Compilation and Training"
   ]
  },
  {
   "cell_type": "code",
   "execution_count": 61,
   "metadata": {},
   "outputs": [
    {
     "name": "stdout",
     "output_type": "stream",
     "text": [
      "Train on 37500 samples, validate on 12500 samples\n",
      "Epoch 1/100\n",
      "37500/37500 [==============================] - 12s 307us/step - loss: 1.9829 - acc: 0.2910 - val_loss: 1.8577 - val_acc: 0.3500\n",
      "Epoch 2/100\n",
      "37500/37500 [==============================] - 6s 156us/step - loss: 1.8164 - acc: 0.3626 - val_loss: 1.7778 - val_acc: 0.3745\n",
      "Epoch 3/100\n",
      "37500/37500 [==============================] - 6s 157us/step - loss: 1.7555 - acc: 0.3851 - val_loss: 1.7310 - val_acc: 0.3938\n",
      "Epoch 4/100\n",
      "37500/37500 [==============================] - 9s 243us/step - loss: 1.7066 - acc: 0.4039 - val_loss: 1.7050 - val_acc: 0.4021\n",
      "Epoch 5/100\n",
      "37500/37500 [==============================] - 6s 157us/step - loss: 1.6680 - acc: 0.4185 - val_loss: 1.6746 - val_acc: 0.4094\n",
      "Epoch 6/100\n",
      "37500/37500 [==============================] - 6s 157us/step - loss: 1.6356 - acc: 0.4312 - val_loss: 1.6618 - val_acc: 0.4106\n",
      "Epoch 7/100\n",
      "37500/37500 [==============================] - 10s 260us/step - loss: 1.6087 - acc: 0.4390 - val_loss: 1.6173 - val_acc: 0.4350\n",
      "Epoch 8/100\n",
      "37500/37500 [==============================] - 6s 158us/step - loss: 1.5808 - acc: 0.4480 - val_loss: 1.6056 - val_acc: 0.4387\n",
      "Epoch 9/100\n",
      "37500/37500 [==============================] - 8s 215us/step - loss: 1.5599 - acc: 0.4538 - val_loss: 1.5799 - val_acc: 0.4469\n",
      "Epoch 10/100\n",
      "37500/37500 [==============================] - 7s 193us/step - loss: 1.5403 - acc: 0.4615 - val_loss: 1.5734 - val_acc: 0.4511\n",
      "Epoch 11/100\n",
      "37500/37500 [==============================] - 6s 158us/step - loss: 1.5225 - acc: 0.4690 - val_loss: 1.5619 - val_acc: 0.4507\n",
      "Epoch 12/100\n",
      "37500/37500 [==============================] - 10s 257us/step - loss: 1.5026 - acc: 0.4734 - val_loss: 1.5396 - val_acc: 0.4613\n",
      "Epoch 13/100\n",
      "37500/37500 [==============================] - 6s 160us/step - loss: 1.4861 - acc: 0.4806 - val_loss: 1.5668 - val_acc: 0.4478\n",
      "Epoch 14/100\n",
      "37500/37500 [==============================] - 6s 158us/step - loss: 1.4715 - acc: 0.4872 - val_loss: 1.5522 - val_acc: 0.4486\n",
      "Epoch 15/100\n",
      "37500/37500 [==============================] - 9s 247us/step - loss: 1.4585 - acc: 0.4917 - val_loss: 1.5101 - val_acc: 0.4712\n",
      "Epoch 16/100\n",
      "37500/37500 [==============================] - 6s 157us/step - loss: 1.4410 - acc: 0.4981 - val_loss: 1.5246 - val_acc: 0.4618\n",
      "Epoch 17/100\n",
      "37500/37500 [==============================] - 6s 158us/step - loss: 1.4266 - acc: 0.5022 - val_loss: 1.5157 - val_acc: 0.4633\n",
      "Epoch 18/100\n",
      "37500/37500 [==============================] - 10s 260us/step - loss: 1.4139 - acc: 0.5081 - val_loss: 1.4715 - val_acc: 0.4868\n",
      "Epoch 19/100\n",
      "37500/37500 [==============================] - 6s 158us/step - loss: 1.4018 - acc: 0.5124 - val_loss: 1.4812 - val_acc: 0.4781\n",
      "Epoch 20/100\n",
      "37500/37500 [==============================] - 6s 157us/step - loss: 1.3876 - acc: 0.5181 - val_loss: 1.4782 - val_acc: 0.4830\n",
      "Epoch 21/100\n",
      "37500/37500 [==============================] - 9s 253us/step - loss: 1.3747 - acc: 0.5214 - val_loss: 1.4530 - val_acc: 0.4893\n",
      "Epoch 22/100\n",
      "37500/37500 [==============================] - 6s 158us/step - loss: 1.3667 - acc: 0.5256 - val_loss: 1.4677 - val_acc: 0.4819\n",
      "Epoch 23/100\n",
      "37500/37500 [==============================] - 8s 214us/step - loss: 1.3490 - acc: 0.5302 - val_loss: 1.4395 - val_acc: 0.4926\n",
      "Epoch 24/100\n",
      "37500/37500 [==============================] - 8s 200us/step - loss: 1.3398 - acc: 0.5320 - val_loss: 1.4543 - val_acc: 0.4901\n",
      "Epoch 25/100\n",
      "37500/37500 [==============================] - 6s 162us/step - loss: 1.3254 - acc: 0.5400 - val_loss: 1.4506 - val_acc: 0.4895\n",
      "Epoch 26/100\n",
      "37500/37500 [==============================] - 6s 159us/step - loss: 1.3182 - acc: 0.5447 - val_loss: 1.4637 - val_acc: 0.4814\n",
      "Epoch 27/100\n",
      "37500/37500 [==============================] - 6s 159us/step - loss: 1.3074 - acc: 0.5446 - val_loss: 1.4178 - val_acc: 0.4994\n",
      "Epoch 28/100\n",
      "37500/37500 [==============================] - 10s 261us/step - loss: 1.2936 - acc: 0.5518 - val_loss: 1.4156 - val_acc: 0.5008\n",
      "Epoch 29/100\n",
      "37500/37500 [==============================] - 6s 157us/step - loss: 1.2859 - acc: 0.5539 - val_loss: 1.4172 - val_acc: 0.5006\n",
      "Epoch 30/100\n",
      "37500/37500 [==============================] - 6s 157us/step - loss: 1.2730 - acc: 0.5591 - val_loss: 1.4389 - val_acc: 0.4872\n",
      "Epoch 31/100\n",
      "37500/37500 [==============================] - 6s 160us/step - loss: 1.2625 - acc: 0.5629 - val_loss: 1.4325 - val_acc: 0.4977\n",
      "Epoch 32/100\n",
      "37500/37500 [==============================] - 6s 158us/step - loss: 1.2509 - acc: 0.5666 - val_loss: 1.4192 - val_acc: 0.4978\n",
      "Epoch 33/100\n",
      "37500/37500 [==============================] - 6s 158us/step - loss: 1.2420 - acc: 0.5712 - val_loss: 1.4258 - val_acc: 0.4995\n",
      "Epoch 34/100\n",
      "37500/37500 [==============================] - 6s 158us/step - loss: 1.2372 - acc: 0.5702 - val_loss: 1.3915 - val_acc: 0.5034\n",
      "Epoch 35/100\n",
      "37500/37500 [==============================] - 6s 161us/step - loss: 1.2270 - acc: 0.5744 - val_loss: 1.3944 - val_acc: 0.5077\n",
      "Epoch 36/100\n",
      "37500/37500 [==============================] - 6s 158us/step - loss: 1.2157 - acc: 0.5790 - val_loss: 1.4430 - val_acc: 0.4834\n",
      "Epoch 37/100\n",
      "37500/37500 [==============================] - 6s 158us/step - loss: 1.2048 - acc: 0.5831 - val_loss: 1.4038 - val_acc: 0.5051\n",
      "Epoch 38/100\n",
      "37500/37500 [==============================] - 10s 255us/step - loss: 1.2003 - acc: 0.5835 - val_loss: 1.3828 - val_acc: 0.5150\n",
      "Epoch 39/100\n",
      "37500/37500 [==============================] - 6s 159us/step - loss: 1.1874 - acc: 0.5871 - val_loss: 1.3620 - val_acc: 0.5210\n",
      "Epoch 40/100\n",
      "37500/37500 [==============================] - 6s 159us/step - loss: 1.1811 - acc: 0.5933 - val_loss: 1.3981 - val_acc: 0.5050\n",
      "Epoch 41/100\n",
      "37500/37500 [==============================] - 6s 158us/step - loss: 1.1739 - acc: 0.5962 - val_loss: 1.3791 - val_acc: 0.5122\n",
      "Epoch 42/100\n",
      "37500/37500 [==============================] - 6s 160us/step - loss: 1.1610 - acc: 0.5984 - val_loss: 1.3590 - val_acc: 0.5223\n",
      "Epoch 43/100\n",
      "37500/37500 [==============================] - 6s 159us/step - loss: 1.1569 - acc: 0.6022 - val_loss: 1.4038 - val_acc: 0.5027\n",
      "Epoch 44/100\n",
      "37500/37500 [==============================] - 6s 159us/step - loss: 1.1470 - acc: 0.6038 - val_loss: 1.3847 - val_acc: 0.5139\n",
      "Epoch 45/100\n",
      "37500/37500 [==============================] - 10s 257us/step - loss: 1.1372 - acc: 0.6054 - val_loss: 1.3722 - val_acc: 0.5203\n",
      "Epoch 46/100\n",
      "37500/37500 [==============================] - 6s 162us/step - loss: 1.1281 - acc: 0.6105 - val_loss: 1.3470 - val_acc: 0.5238\n",
      "Epoch 47/100\n",
      "37500/37500 [==============================] - 6s 159us/step - loss: 1.1194 - acc: 0.6130 - val_loss: 1.4071 - val_acc: 0.5050\n",
      "Epoch 48/100\n",
      "37500/37500 [==============================] - 6s 160us/step - loss: 1.1144 - acc: 0.6166 - val_loss: 1.3657 - val_acc: 0.5217\n",
      "Epoch 49/100\n",
      "37500/37500 [==============================] - 8s 223us/step - loss: 1.0993 - acc: 0.6204 - val_loss: 1.3445 - val_acc: 0.5270\n",
      "Epoch 50/100\n",
      "37500/37500 [==============================] - 7s 187us/step - loss: 1.0942 - acc: 0.6241 - val_loss: 1.3979 - val_acc: 0.5113\n",
      "Epoch 51/100\n",
      "37500/37500 [==============================] - 6s 158us/step - loss: 1.0902 - acc: 0.6261 - val_loss: 1.3667 - val_acc: 0.5192\n",
      "Epoch 52/100\n",
      "37500/37500 [==============================] - 6s 158us/step - loss: 1.0844 - acc: 0.6250 - val_loss: 1.3614 - val_acc: 0.5215\n",
      "Epoch 53/100\n",
      "37500/37500 [==============================] - 6s 160us/step - loss: 1.0655 - acc: 0.6318 - val_loss: 1.4405 - val_acc: 0.4994\n",
      "Epoch 54/100\n",
      "37500/37500 [==============================] - 6s 157us/step - loss: 1.0635 - acc: 0.6321 - val_loss: 1.3527 - val_acc: 0.5275\n",
      "Epoch 55/100\n",
      "37500/37500 [==============================] - 6s 157us/step - loss: 1.0530 - acc: 0.6378 - val_loss: 1.4720 - val_acc: 0.4916\n",
      "Epoch 56/100\n",
      "37500/37500 [==============================] - 6s 159us/step - loss: 1.0531 - acc: 0.6392 - val_loss: 1.4637 - val_acc: 0.4916\n",
      "Epoch 57/100\n",
      "37500/37500 [==============================] - 9s 247us/step - loss: 1.0377 - acc: 0.6406 - val_loss: 1.3697 - val_acc: 0.5198\n",
      "Epoch 58/100\n",
      "37500/37500 [==============================] - 6s 156us/step - loss: 1.0363 - acc: 0.6447 - val_loss: 1.3506 - val_acc: 0.5322\n",
      "Epoch 59/100\n",
      "37500/37500 [==============================] - 6s 156us/step - loss: 1.0240 - acc: 0.6485 - val_loss: 1.3206 - val_acc: 0.5406\n",
      "Epoch 60/100\n",
      "37500/37500 [==============================] - 10s 255us/step - loss: 1.0186 - acc: 0.6474 - val_loss: 1.3555 - val_acc: 0.5281\n",
      "Epoch 61/100\n",
      "37500/37500 [==============================] - 6s 160us/step - loss: 1.0083 - acc: 0.6526 - val_loss: 1.3834 - val_acc: 0.5180\n",
      "Epoch 62/100\n",
      "37500/37500 [==============================] - 6s 157us/step - loss: 0.9917 - acc: 0.6593 - val_loss: 1.3461 - val_acc: 0.5307\n",
      "Epoch 63/100\n",
      "37500/37500 [==============================] - 6s 157us/step - loss: 1.0011 - acc: 0.6518 - val_loss: 1.3787 - val_acc: 0.5212\n",
      "Epoch 64/100\n",
      "37500/37500 [==============================] - 10s 262us/step - loss: 0.9857 - acc: 0.6618 - val_loss: 1.3850 - val_acc: 0.5267\n",
      "Epoch 65/100\n",
      "37500/37500 [==============================] - 6s 162us/step - loss: 0.9805 - acc: 0.6632 - val_loss: 1.3525 - val_acc: 0.5307\n",
      "Epoch 66/100\n",
      "37500/37500 [==============================] - 6s 158us/step - loss: 0.9710 - acc: 0.6669 - val_loss: 1.3986 - val_acc: 0.5191\n",
      "Epoch 67/100\n",
      "37500/37500 [==============================] - 6s 159us/step - loss: 0.9567 - acc: 0.6733 - val_loss: 1.3415 - val_acc: 0.5342\n",
      "Epoch 68/100\n",
      "37500/37500 [==============================] - 10s 257us/step - loss: 0.9560 - acc: 0.6743 - val_loss: 1.3666 - val_acc: 0.5277\n",
      "Epoch 69/100\n",
      "37500/37500 [==============================] - 6s 157us/step - loss: 0.9467 - acc: 0.6757 - val_loss: 1.3883 - val_acc: 0.5207\n",
      "Epoch 70/100\n",
      "37500/37500 [==============================] - 6s 157us/step - loss: 0.9375 - acc: 0.6803 - val_loss: 1.3543 - val_acc: 0.5272\n",
      "Epoch 71/100\n",
      "37500/37500 [==============================] - 9s 253us/step - loss: 0.9253 - acc: 0.6841 - val_loss: 1.6937 - val_acc: 0.4534 4s - loss: 0.9061 - acc \n",
      "Epoch 72/100\n",
      "37500/37500 [==============================] - 6s 157us/step - loss: 0.9280 - acc: 0.6839 - val_loss: 1.3649 - val_acc: 0.5259\n",
      "Epoch 73/100\n",
      "37500/37500 [==============================] - 6s 156us/step - loss: 0.9123 - acc: 0.6885 - val_loss: 1.3509 - val_acc: 0.5379\n",
      "Epoch 74/100\n",
      "37500/37500 [==============================] - 9s 250us/step - loss: 0.9085 - acc: 0.6918 - val_loss: 1.3711 - val_acc: 0.5298\n",
      "Epoch 75/100\n",
      "37500/37500 [==============================] - 6s 158us/step - loss: 0.9022 - acc: 0.6925 - val_loss: 1.3645 - val_acc: 0.5290\n",
      "Epoch 76/100\n",
      "37500/37500 [==============================] - 6s 158us/step - loss: 0.8931 - acc: 0.6964 - val_loss: 1.3447 - val_acc: 0.5321\n",
      "Epoch 77/100\n",
      "37500/37500 [==============================] - 6s 158us/step - loss: 0.8786 - acc: 0.7011 - val_loss: 1.3506 - val_acc: 0.5366\n",
      "Epoch 78/100\n",
      "37500/37500 [==============================] - 6s 158us/step - loss: 0.8819 - acc: 0.7017 - val_loss: 1.4765 - val_acc: 0.5053\n",
      "Epoch 79/100\n",
      "37500/37500 [==============================] - 9s 251us/step - loss: 0.8707 - acc: 0.7051 - val_loss: 1.4356 - val_acc: 0.5142\n",
      "Epoch 80/100\n",
      "37500/37500 [==============================] - 6s 158us/step - loss: 0.8598 - acc: 0.7084 - val_loss: 1.3329 - val_acc: 0.5462\n",
      "Epoch 81/100\n",
      "37500/37500 [==============================] - 6s 158us/step - loss: 0.8546 - acc: 0.7078 - val_loss: 1.4776 - val_acc: 0.5002\n",
      "Epoch 82/100\n",
      "37500/37500 [==============================] - 9s 241us/step - loss: 0.8436 - acc: 0.7153 - val_loss: 1.3630 - val_acc: 0.5339\n",
      "Epoch 83/100\n",
      "37500/37500 [==============================] - 6s 168us/step - loss: 0.8336 - acc: 0.7158 - val_loss: 1.3837 - val_acc: 0.5303\n",
      "Epoch 84/100\n",
      "37500/37500 [==============================] - 6s 157us/step - loss: 0.8364 - acc: 0.7155 - val_loss: 1.3344 - val_acc: 0.5433\n",
      "Epoch 85/100\n",
      "37500/37500 [==============================] - 6s 159us/step - loss: 0.8215 - acc: 0.7219 - val_loss: 1.3335 - val_acc: 0.5448\n",
      "Epoch 86/100\n",
      "37500/37500 [==============================] - 9s 250us/step - loss: 0.8198 - acc: 0.7231 - val_loss: 1.5010 - val_acc: 0.5139\n",
      "Epoch 87/100\n",
      "37500/37500 [==============================] - 6s 158us/step - loss: 0.8055 - acc: 0.7282 - val_loss: 1.4667 - val_acc: 0.5112\n",
      "Epoch 88/100\n",
      "37500/37500 [==============================] - 6s 158us/step - loss: 0.8005 - acc: 0.7300 - val_loss: 1.4020 - val_acc: 0.5352\n",
      "Epoch 89/100\n",
      "37500/37500 [==============================] - 7s 185us/step - loss: 0.7928 - acc: 0.7313 - val_loss: 1.3735 - val_acc: 0.5375\n",
      "Epoch 90/100\n",
      "37500/37500 [==============================] - 8s 223us/step - loss: 0.7885 - acc: 0.7336 - val_loss: 1.3822 - val_acc: 0.5388\n",
      "Epoch 91/100\n",
      "37500/37500 [==============================] - 6s 157us/step - loss: 0.7838 - acc: 0.7351 - val_loss: 1.3582 - val_acc: 0.5477\n",
      "Epoch 92/100\n",
      "37500/37500 [==============================] - 6s 156us/step - loss: 0.7779 - acc: 0.7388 - val_loss: 1.3674 - val_acc: 0.5398\n",
      "Epoch 93/100\n",
      "37500/37500 [==============================] - 6s 156us/step - loss: 0.7708 - acc: 0.7399 - val_loss: 1.3414 - val_acc: 0.5484\n",
      "Epoch 94/100\n",
      "37500/37500 [==============================] - 6s 157us/step - loss: 0.7596 - acc: 0.7453 - val_loss: 1.4903 - val_acc: 0.5158\n",
      "Epoch 95/100\n",
      "37500/37500 [==============================] - 6s 157us/step - loss: 0.7559 - acc: 0.7455 - val_loss: 1.3688 - val_acc: 0.5378\n",
      "Epoch 96/100\n",
      "37500/37500 [==============================] - 9s 251us/step - loss: 0.7555 - acc: 0.7471 - val_loss: 1.4627 - val_acc: 0.5230: 1s - los - ETA: 1s - lo\n",
      "Epoch 97/100\n",
      "37500/37500 [==============================] - 6s 157us/step - loss: 0.7315 - acc: 0.7554 - val_loss: 1.4073 - val_acc: 0.5333\n",
      "Epoch 98/100\n",
      "37500/37500 [==============================] - 6s 160us/step - loss: 0.7274 - acc: 0.7568 - val_loss: 1.3874 - val_acc: 0.5434\n",
      "Epoch 99/100\n",
      "37500/37500 [==============================] - 10s 262us/step - loss: 0.7290 - acc: 0.7577 - val_loss: 1.3541 - val_acc: 0.5484\n",
      "Epoch 100/100\n",
      "37500/37500 [==============================] - 6s 156us/step - loss: 0.7065 - acc: 0.7642 - val_loss: 1.4799 - val_acc: 0.5300\n"
     ]
    }
   ],
   "source": [
    "sgd = SGD(0.01)\n",
    "model.compile(optimizer=sgd, loss='categorical_crossentropy', metrics=['acc'])\n",
    "history = model.fit(train_samples, train_labels, epochs=100, batch_size=128, validation_data=(validation_samples, validation_labels))"
   ]
  },
  {
   "cell_type": "markdown",
   "metadata": {},
   "source": [
    "# Plotting Results"
   ]
  },
  {
   "cell_type": "code",
   "execution_count": 62,
   "metadata": {},
   "outputs": [],
   "source": [
    "# Acquiring Data\n",
    "history_dict = history.history\n",
    "history_dict.keys()\n",
    "\n",
    "accuracy = history_dict['acc']\n",
    "validation_accuracy = history_dict['val_acc']\n",
    "\n",
    "loss = history_dict['loss']\n",
    "validation_loss = history_dict['val_loss']\n",
    "\n",
    "epochs = np.arange(0, 100)"
   ]
  },
  {
   "cell_type": "code",
   "execution_count": 63,
   "metadata": {},
   "outputs": [
    {
     "data": {
      "image/png": "[encoded data removed]",
      "text/plain": [
       "<Figure size 432x288 with 1 Axes>"
      ]
     },
     "metadata": {},
     "output_type": "display_data"
    }
   ],
   "source": [
    "# Plotting training accuracy vs validation accuracy\n",
    "plt.style.use('ggplot')\n",
    "plt.plot(epochs, accuracy, label='Train Accuracy')\n",
    "plt.plot(epochs, validation_accuracy, label='Validation Accuracy')\n",
    "plt.title('Train Vs Validation Accuracy')\n",
    "plt.xlabel('Epochs')\n",
    "plt.ylabel('Accuracy')\n",
    "plt.legend()\n",
    "plt.show()"
   ]
  },
  {
   "cell_type": "code",
   "execution_count": 64,
   "metadata": {},
   "outputs": [
    {
     "data": {
      "image/png": "[encoded data removed]",
      "text/plain": [
       "<Figure size 432x288 with 1 Axes>"
      ]
     },
     "metadata": {},
     "output_type": "display_data"
    }
   ],
   "source": [
    "# Plotting training loss vs validation loss\n",
    "plt.clf()\n",
    "plt.plot(epochs, loss, label='Train Loss')\n",
    "plt.plot(epochs, validation_loss, label='Validation Loss')\n",
    "plt.title('Train Vs Validation Loss')\n",
    "plt.xlabel('Epochs')\n",
    "plt.ylabel('Loss')\n",
    "plt.legend()\n",
    "plt.show()"
   ]
  },
  {
   "cell_type": "markdown",
   "metadata": {},
   "source": [
    "# Model Evaluation"
   ]
  },
  {
   "cell_type": "code",
   "execution_count": 65,
   "metadata": {},
   "outputs": [
    {
     "name": "stdout",
     "output_type": "stream",
     "text": [
      "10000/10000 [==============================] - 1s 143us/step\n"
     ]
    },
    {
     "data": {
      "text/plain": [
       "[1.4704725064277648, 0.5273000001907349]"
      ]
     },
     "execution_count": 65,
     "metadata": {},
     "output_type": "execute_result"
    }
   ],
   "source": [
    "results = model.evaluate(testX, testY)\n",
    "results"
   ]
  },
  {
   "cell_type": "markdown",
   "metadata": {},
   "source": [
    "# Predictions"
   ]
  },
  {
   "cell_type": "code",
   "execution_count": 69,
   "metadata": {},
   "outputs": [
    {
     "name": "stdout",
     "output_type": "stream",
     "text": [
      "              precision    recall  f1-score   support\n",
      "\n",
      "    airplane       0.58      0.64      0.61      1000\n",
      "  automobile       0.53      0.75      0.62      1000\n",
      "        bird       0.41      0.51      0.45      1000\n",
      "         cat       0.39      0.27      0.32      1000\n",
      "        deer       0.74      0.13      0.22      1000\n",
      "         dog       0.44      0.47      0.45      1000\n",
      "        frog       0.54      0.66      0.59      1000\n",
      "       horse       0.64      0.57      0.61      1000\n",
      "        ship       0.65      0.67      0.66      1000\n",
      "       truck       0.52      0.61      0.56      1000\n",
      "\n",
      "    accuracy                           0.53     10000\n",
      "   macro avg       0.54      0.53      0.51     10000\n",
      "weighted avg       0.54      0.53      0.51     10000\n",
      "\n"
     ]
    }
   ],
   "source": [
    "# initialize the label names for the CIFAR-10 dataset\n",
    "labelNames = [\"airplane\", \"automobile\", \"bird\", \"cat\", \"deer\", \"dog\", \"frog\", \"horse\", \"ship\", \"truck\"]\n",
    "\n",
    "predictions = model.predict(testX, batch_size=32)\n",
    "print(classification_report(testY.argmax(axis=1), predictions.argmax(axis=1), target_names=labelNames))"
   ]
  },
  {
   "cell_type": "code",
   "execution_count": null,
   "metadata": {},
   "outputs": [],
   "source": []
  }
 ],
 "metadata": {
  "kernelspec": {
   "display_name": "Python 3",
   "language": "python",
   "name": "python3"
  },
  "language_info": {
   "codemirror_mode": {
    "name": "ipython",
    "version": 3
   },
   "file_extension": ".py",
   "mimetype": "text/x-python",
   "name": "python",
   "nbconvert_exporter": "python",
   "pygments_lexer": "ipython3",
   "version": "3.6.10"
  }
 },
 "nbformat": 4,
 "nbformat_minor": 4
}
