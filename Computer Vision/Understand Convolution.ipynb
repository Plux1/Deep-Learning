{
 "cells": [
  {
   "cell_type": "code",
   "execution_count": 3,
   "metadata": {},
   "outputs": [],
   "source": [
    "from skimage.exposure import rescale_intensity\n",
    "import numpy as np\n",
    "import cv2"
   ]
  },
  {
   "cell_type": "code",
   "execution_count": null,
   "metadata": {},
   "outputs": [],
   "source": [
    "def convolve(image, K):\n",
    "    # grab the spatial dimensions of the image and kernel\n",
    "    (iH, iW) = image.shape[:2]\n",
    "    (kH, kW) = K.shape[:2]\n",
    "    \n",
    "    pad = (kW - 1) //2\n",
    "    image = cv2.copyMakeBorder(image, pad, pad, pad, pad, cv2.BORDER_REPLICATE)\n",
    "    output = np.zeros((iH, iW), dtype=\"float\")\n",
    "    \n",
    "    for y in np.arange(pad, iH +  pad):\n",
    "        for x in np.arange(pad, iW + pad):\n",
    "            # extract ROI of the image by extracting the center region of the current (x, y) coordinates dimension\n",
    "            roi = image[y - pad:y + pad + 1, x - pad:x + pad +1]\n",
    "\n",
    "            # perform the convolution by taking the element-wise multiplication btn ROI and the kernel, then summing the matrix\n",
    "            k = (roi * k).sum()\n",
    "\n",
    "            # store the convolved value in the output (x, y)-coordinate of the output image\n",
    "            output[y - pad, x - pad] = k\n",
    "            \n",
    "    # rescale the output image to be in range [0, 255]\n",
    "    output = rescale_intensity(output, in_range=(0, 255))\n",
    "    output = (output * 255).astype(\"uint8\")\n",
    "    \n",
    "    return output"
   ]
  },
  {
   "cell_type": "code",
   "execution_count": null,
   "metadata": {},
   "outputs": [],
   "source": []
  }
 ],
 "metadata": {
  "kernelspec": {
   "display_name": "Python 3",
   "language": "python",
   "name": "python3"
  },
  "language_info": {
   "codemirror_mode": {
    "name": "ipython",
    "version": 3
   },
   "file_extension": ".py",
   "mimetype": "text/x-python",
   "name": "python",
   "nbconvert_exporter": "python",
   "pygments_lexer": "ipython3",
   "version": "3.6.10"
  }
 },
 "nbformat": 4,
 "nbformat_minor": 4
}
