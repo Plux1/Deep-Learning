{
 "cells": [
  {
   "cell_type": "markdown",
   "metadata": {},
   "source": [
    "# Backpropagation Algorithm"
   ]
  },
  {
   "cell_type": "markdown",
   "metadata": {},
   "source": [
    "The algorithm consists of two phases: \n",
    "    1). Forward pass/Propagation phase, where our inputs are passed through the network and output predictions obtained\n",
    "    2). Backward pass /Weight update phase, where we compute the gradient of the loss function at the final layer i.e., \n",
    "          prediction layer of the network and use this gradient to recursively apply the chain rule to update the weights in our \n",
    "          network"
   ]
  },
  {
   "cell_type": "code",
   "execution_count": 2,
   "metadata": {},
   "outputs": [],
   "source": [
    "import numpy as np"
   ]
  },
  {
   "cell_type": "code",
   "execution_count": 3,
   "metadata": {},
   "outputs": [],
   "source": [
    "# W implies weight matrix\n",
    "# layers is a list or intergers to define our network architecture eg (2, 2, 1) Architecture (Define #inputs)\n",
    "# alpha is our learning rate which controls the size of our step toward an optimal gradient decent with local/global minimum\n",
    "class NeuralNetwork:\n",
    "    # Construclor initialization\n",
    "    def __init__(self, layers, alpha=0.1):\n",
    "        self.layers = layers\n",
    "        self.W = []\n",
    "        self.aplha = alpha\n",
    "        \n",
    "        for i in np.arange(0, len(layers) - 2):\n",
    "            # randomy initialize the weight matrix connecting the number of nodes in each respective layer together\n",
    "            # Add extra node for bias trick\n",
    "            # Append the weights into W by scalling them with square root of number of node in the current layer\n",
    "            w = np.random.randn(layers[i] + 1, layers[i + 1] + 1)\n",
    "            self.W.append(w / np.sqrt(layers[i]))\n",
    "            \n",
    "        # the last two layers\n",
    "        # layer[-2] + 1 is an input layer which require a bias trick thats why we have added 1 to it\n",
    "        # layer[-1] is an output layer which does not require a bias trick\n",
    "        w = np.random.randn(layers[-2] + 1, layers[-1])\n",
    "        self.W.append(w/ np.sqrt(layers[-2]))\n",
    "    \n",
    "    # Python magic function for debugging\n",
    "    def __repr__(self):\n",
    "        # construct and return a string that represents the network architecture\n",
    "        return \"Neural Network: {}\".format(\"-\".join(str(layer) for layer in self.layers))\n",
    "    \n",
    "    # Define sigmoid activation function\n",
    "    def sigmoid(self, x):\n",
    "        return 1.0 / (1 + np.exp(-x)) \n",
    "    \n",
    "    # Define derivative of the sigmoid to be used during the backward pass\n",
    "    def sigmoid_deriv(self, x):\n",
    "        # compute the derivative of the sigmoid function assuming that x has already been passed through the sigmoid function\n",
    "        return x * (1 - x)"
   ]
  },
  {
   "cell_type": "code",
   "execution_count": 4,
   "metadata": {},
   "outputs": [
    {
     "name": "stdout",
     "output_type": "stream",
     "text": [
      "Neural Network: 2-2-1\n"
     ]
    }
   ],
   "source": [
    "nn = NeuralNetwork([2,2,1])\n",
    "print(nn)"
   ]
  }
 ],
 "metadata": {
  "kernelspec": {
   "display_name": "Python 3",
   "language": "python",
   "name": "python3"
  },
  "language_info": {
   "codemirror_mode": {
    "name": "ipython",
    "version": 3
   },
   "file_extension": ".py",
   "mimetype": "text/x-python",
   "name": "python",
   "nbconvert_exporter": "python",
   "pygments_lexer": "ipython3",
   "version": "3.6.10"
  }
 },
 "nbformat": 4,
 "nbformat_minor": 4
}
