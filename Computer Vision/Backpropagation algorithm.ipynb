{
 "cells": [
  {
   "cell_type": "markdown",
   "metadata": {},
   "source": [
    "# Backpropagation Algorithm"
   ]
  },
  {
   "cell_type": "markdown",
   "metadata": {},
   "source": [
    "The algorithm consists of two phases: \n",
    "    1). Forward pass/Propagation phase, where our inputs are passed through the network and output predictions obtained\n",
    "    2). Backward pass /Weight update phase, where we compute the gradient of the loss function at the final layer i.e., \n",
    "          prediction layer of the network and use this gradient to recursively apply the chain rule to update the weights in our \n",
    "          network"
   ]
  },
  {
   "cell_type": "code",
   "execution_count": 1,
   "metadata": {},
   "outputs": [],
   "source": [
    "import numpy as np"
   ]
  },
  {
   "cell_type": "code",
   "execution_count": 2,
   "metadata": {},
   "outputs": [],
   "source": [
    "# W implies weight matrix\n",
    "# layers is a list or intergers to define our network architecture eg (2, 2, 1) Architecture (Define #inputs)\n",
    "# alpha is our learning rate which controls the size of our step toward an optimal gradient decent with local/global minimum\n",
    "class NeuralNetwork:\n",
    "    # Construclor initialization\n",
    "    def __init__(self, layers, alpha=0.1):\n",
    "        self.layers = layers\n",
    "        self.W = []\n",
    "        self.alpha = alpha\n",
    "        \n",
    "        for i in np.arange(0, len(layers) - 2):\n",
    "            # randomy initialize the weight matrix connecting the number of nodes in each respective layer together\n",
    "            # Add extra node for bias trick\n",
    "            # Append the weights into W by scalling them with square root of number of node in the current layer\n",
    "            w = np.random.randn(layers[i] + 1, layers[i + 1] + 1)\n",
    "            self.W.append(w / np.sqrt(layers[i]))\n",
    "            \n",
    "        # the last two layers\n",
    "        # layer[-2] + 1 is an input layer which require a bias trick thats why we have added 1 to it\n",
    "        # layer[-1] is an output layer which does not require a bias trick\n",
    "        w = np.random.randn(layers[-2] + 1, layers[-1])\n",
    "        self.W.append(w/ np.sqrt(layers[-2]))\n",
    "    \n",
    "    # Python magic function for debugging\n",
    "    def __repr__(self):\n",
    "        # construct and return a string that represents the network architecture\n",
    "        return \"Neural Network: {}\".format(\"-\".join(str(layer) for layer in self.layers))\n",
    "    \n",
    "    # Define sigmoid activation function\n",
    "    def sigmoid(self, x):\n",
    "        return 1.0 / (1 + np.exp(-x)) \n",
    "    \n",
    "    # Define derivative of the sigmoid to be used during the backward pass\n",
    "    # Note that whenever you perform backpropagation, you’ll always want to choose an activation \n",
    "    #function that is differentiable.\n",
    "    def sigmoid_deriv(self, x):\n",
    "        # compute the derivative of the sigmoid function assuming that x has already been passed \n",
    "        #through the sigmoid function\n",
    "        return x * (1 - x)\n",
    "    \n",
    "    # Define fit() method to train our network\n",
    "    def fit(self, X, y, epochs=1000, displayUpdate=100):\n",
    "        # Perform bias trick on input features\n",
    "        X = np.c_[X, np.ones((X.shape[0]))]\n",
    "        \n",
    "        # Loop over a desired number of epochs to train\n",
    "        for epoch in np.arange(0,epochs):\n",
    "            # Loop over individual data point to train the network\n",
    "            for (x, target) in zip(X, y):\n",
    "                self.fit_partial(x, target)\n",
    "            \n",
    "            #check if we should display a training update\n",
    "            if epoch == 0 or (epoch + 1) % displayUpdate ==0:\n",
    "                loss = self.calculate_loss(X, y)\n",
    "                print(\"[INFO] epoch={}, loss={:.7f}\".format(epoch + 1, loss))\n",
    "        \n",
    "        # Define partial_fit() method which is the heart of backppropagation algorithm\n",
    "    def fit_partial(self, x, y):\n",
    "        # Create a list to store activation outputs and initialize it to x \n",
    "        A = [np.atleast_2d(x)]\n",
    "\n",
    "        # Feedforward the inputs to the network by looping over the layers in the network\n",
    "        for layer in np.arange(0, len(self.W)):\n",
    "            # Net input operation = dot product btn the activation and the weights matrix\n",
    "            net = A[layer].dot(self.W[layer])\n",
    "\n",
    "            # Compute the \"net output\" by applying nonlinear activation function to the net input\n",
    "            out = self.sigmoid(net)\n",
    "\n",
    "            # Add net output to the list of activation\n",
    "            A.append(out)\n",
    "\n",
    "            #Back_propagation\n",
    "            #Compute error = difference btn our prediction and the true target value\n",
    "            #Prediction = last entry in our activation output list\n",
    "            error = A[-1] - y\n",
    "\n",
    "            #Apply chain rule and build a list of deltas 'D'\n",
    "            #The first entry in the deltas is simply the error of the output layer times the derivative \n",
    "            #of activation function for the output value\n",
    "            D = [error * self.sigmoid_deriv(A[-1])]\n",
    "\n",
    "            #Compute the deltas for the entire network\n",
    "            for layer in np.arange(len(A) - 2, 0, -1):\n",
    "                #Note: the delta for the current layer is equal to the delta of the previous layer dotted \n",
    "                #with the weight matrix of the current layer, followed by multiplying the delta by the \n",
    "                #derivative of the nonlinear activation function for the activations of the current layer\n",
    "                delta = D[-1].dot(self.W[layer].T)\n",
    "                delta = delta * self.sigmoid_deriv(A[layer])\n",
    "                D.append(delta)\n",
    "\n",
    "            #Reverse the list of deltas since we looped over the layer in reverse order\n",
    "            D = D[::-1]\n",
    "            \n",
    "            print(\"Delta length\", len(D))\n",
    "            print(\"Weight length\", len(self.W))\n",
    "            print(\"Activation length\", len(A))\n",
    "            \n",
    "            #Weight update phase\n",
    "            for layer in np.arange(0, len(self.W)):\n",
    "                #Update weights by taking the dot product of the layer activations with their respective \n",
    "                #deltas, then multiplying this value by some small learning rate and adding to our weight \n",
    "                #matrix. This is where the actual learning  takes place\n",
    "                self.W[layer] +=  -self.alpha *  A[layer].T.dot(D[layer])\n",
    "                #After weight update the back propagation is official done\n",
    "                \n",
    "                \n",
    "                \n",
    "        \n",
    "        #Define predict() method to make predictions on the testing data\n",
    "        def predict(self, X, addBias=True):\n",
    "            #initialize the output prediction as the input feature.\n",
    "            #we will use this value to feedforward our network\n",
    "            p = np.atleast_2d(X)\n",
    "            \n",
    "            #check to see if the bias column should be added\n",
    "            if addBias:\n",
    "                #insert a column of 1's as the last entry in the feature matrix\n",
    "                p = np.c_[p, np.ones((p.shape[0]))]\n",
    "            \n",
    "            #loop over the layers\n",
    "            for layer in np.arange(0, len(self.W)):\n",
    "                #compute the output prediction by taking the dot product btn the current activation value \n",
    "                #p and the weight matrix associated with the current layer, then pas the value to a nonlinear\n",
    "                #activation function\n",
    "                p = self.sigmoid(np.dot(p, self.W[layer]))\n",
    "            \n",
    "            return p\n",
    "        \n",
    "        #Define calculate_loss() to calculate the loss across our entire training set\n",
    "        def calculate_loss(self, X, targets):\n",
    "            #make prediction for the input data then calculate the loss using sum squared error\n",
    "            targets = np.atleast_2d(targets)\n",
    "            predictions = self.predict(X, addBias=False)\n",
    "            loss = 0.5 * np.sum((predictions - targets) ** 2)\n",
    "            \n",
    "            return loss\n",
    "            \n",
    "            "
   ]
  },
  {
   "cell_type": "markdown",
   "metadata": {},
   "source": [
    "# Train a neural network on XOR dataset"
   ]
  },
  {
   "cell_type": "code",
   "execution_count": 3,
   "metadata": {},
   "outputs": [],
   "source": [
    "# Costruct the XOR dataset\n",
    "X = np.asarray([[0, 0], [0, 1], [1, 0], [1, 1]])\n",
    "y = np.asarray([[0], [1], [1], [0]])"
   ]
  },
  {
   "cell_type": "code",
   "execution_count": 4,
   "metadata": {},
   "outputs": [
    {
     "data": {
      "text/plain": [
       "(4, 2)"
      ]
     },
     "execution_count": 4,
     "metadata": {},
     "output_type": "execute_result"
    }
   ],
   "source": [
    "X.shape"
   ]
  },
  {
   "cell_type": "code",
   "execution_count": 5,
   "metadata": {},
   "outputs": [
    {
     "name": "stdout",
     "output_type": "stream",
     "text": [
      "Delta length 1\n",
      "Weight length 2\n",
      "Activation length 2\n"
     ]
    },
    {
     "ename": "IndexError",
     "evalue": "list index out of range",
     "output_type": "error",
     "traceback": [
      "\u001b[1;31m---------------------------------------------------------------------------\u001b[0m",
      "\u001b[1;31mIndexError\u001b[0m                                Traceback (most recent call last)",
      "\u001b[1;32m<ipython-input-5-9e5c8301ca88>\u001b[0m in \u001b[0;36m<module>\u001b[1;34m\u001b[0m\n\u001b[0;32m      2\u001b[0m \u001b[0mnn\u001b[0m \u001b[1;33m=\u001b[0m \u001b[0mNeuralNetwork\u001b[0m\u001b[1;33m(\u001b[0m\u001b[1;33m[\u001b[0m\u001b[1;36m2\u001b[0m\u001b[1;33m,\u001b[0m \u001b[1;36m2\u001b[0m\u001b[1;33m,\u001b[0m \u001b[1;36m1\u001b[0m\u001b[1;33m]\u001b[0m\u001b[1;33m,\u001b[0m \u001b[0malpha\u001b[0m\u001b[1;33m=\u001b[0m\u001b[1;36m0.5\u001b[0m\u001b[1;33m)\u001b[0m\u001b[1;33m\u001b[0m\u001b[1;33m\u001b[0m\u001b[0m\n\u001b[0;32m      3\u001b[0m \u001b[1;31m# Train a network\u001b[0m\u001b[1;33m\u001b[0m\u001b[1;33m\u001b[0m\u001b[1;33m\u001b[0m\u001b[0m\n\u001b[1;32m----> 4\u001b[1;33m \u001b[0mnn\u001b[0m\u001b[1;33m.\u001b[0m\u001b[0mfit_partial\u001b[0m\u001b[1;33m(\u001b[0m\u001b[1;33m[\u001b[0m\u001b[1;36m0\u001b[0m\u001b[1;33m,\u001b[0m\u001b[1;36m0\u001b[0m\u001b[1;33m,\u001b[0m\u001b[1;36m1\u001b[0m\u001b[1;33m]\u001b[0m\u001b[1;33m,\u001b[0m \u001b[1;33m[\u001b[0m\u001b[1;36m0\u001b[0m\u001b[1;33m]\u001b[0m\u001b[1;33m)\u001b[0m\u001b[1;33m\u001b[0m\u001b[1;33m\u001b[0m\u001b[0m\n\u001b[0m",
      "\u001b[1;32m<ipython-input-2-329c854357c8>\u001b[0m in \u001b[0;36mfit_partial\u001b[1;34m(self, x, y)\u001b[0m\n\u001b[0;32m    102\u001b[0m                 \u001b[1;31m#deltas, then multiplying this value by some small learning rate and adding to our weight\u001b[0m\u001b[1;33m\u001b[0m\u001b[1;33m\u001b[0m\u001b[1;33m\u001b[0m\u001b[0m\n\u001b[0;32m    103\u001b[0m                 \u001b[1;31m#matrix. This is where the actual learning  takes place\u001b[0m\u001b[1;33m\u001b[0m\u001b[1;33m\u001b[0m\u001b[1;33m\u001b[0m\u001b[0m\n\u001b[1;32m--> 104\u001b[1;33m                 \u001b[0mself\u001b[0m\u001b[1;33m.\u001b[0m\u001b[0mW\u001b[0m\u001b[1;33m[\u001b[0m\u001b[0mlayer\u001b[0m\u001b[1;33m]\u001b[0m \u001b[1;33m+=\u001b[0m  \u001b[1;33m-\u001b[0m\u001b[0mself\u001b[0m\u001b[1;33m.\u001b[0m\u001b[0malpha\u001b[0m \u001b[1;33m*\u001b[0m  \u001b[0mA\u001b[0m\u001b[1;33m[\u001b[0m\u001b[0mlayer\u001b[0m\u001b[1;33m]\u001b[0m\u001b[1;33m.\u001b[0m\u001b[0mT\u001b[0m\u001b[1;33m.\u001b[0m\u001b[0mdot\u001b[0m\u001b[1;33m(\u001b[0m\u001b[0mD\u001b[0m\u001b[1;33m[\u001b[0m\u001b[0mlayer\u001b[0m\u001b[1;33m]\u001b[0m\u001b[1;33m)\u001b[0m\u001b[1;33m\u001b[0m\u001b[1;33m\u001b[0m\u001b[0m\n\u001b[0m\u001b[0;32m    105\u001b[0m                 \u001b[1;31m#After weight update the back propagation is official done\u001b[0m\u001b[1;33m\u001b[0m\u001b[1;33m\u001b[0m\u001b[1;33m\u001b[0m\u001b[0m\n\u001b[0;32m    106\u001b[0m \u001b[1;33m\u001b[0m\u001b[0m\n",
      "\u001b[1;31mIndexError\u001b[0m: list index out of range"
     ]
    }
   ],
   "source": [
    "# Define the network\n",
    "nn = NeuralNetwork([2, 2, 1], alpha=0.5)\n",
    "# Train a network\n",
    "nn.fit_partial([0,0,1], [0])"
   ]
  },
  {
   "cell_type": "code",
   "execution_count": null,
   "metadata": {},
   "outputs": [],
   "source": [
    "# Make predictions on the data point\n",
    "for (x, target) in zip(X, y):\n",
    "    pred = nn.predict(x)[0][0]\n",
    "    step = 1 if pred > 0.5 else 0\n",
    "    print(\"[INFO] data={}, ground_truth={}, pred={:.4f}, step={}\".format(x, target[0], pred, step))"
   ]
  }
 ],
 "metadata": {
  "kernelspec": {
   "display_name": "Python 3",
   "language": "python",
   "name": "python3"
  },
  "language_info": {
   "codemirror_mode": {
    "name": "ipython",
    "version": 3
   },
   "file_extension": ".py",
   "mimetype": "text/x-python",
   "name": "python",
   "nbconvert_exporter": "python",
   "pygments_lexer": "ipython3",
   "version": "3.6.10"
  }
 },
 "nbformat": 4,
 "nbformat_minor": 4
}
