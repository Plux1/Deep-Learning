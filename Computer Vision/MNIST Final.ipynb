{
 "cells": [
  {
   "cell_type": "code",
   "execution_count": 87,
   "metadata": {},
   "outputs": [],
   "source": [
    "from keras import models, layers\n",
    "from scipy.io import loadmat\n",
    "from sklearn.model_selection import train_test_split\n",
    "from sklearn.preprocessing import LabelBinarizer\n",
    "from sklearn.metrics import classification_report\n",
    "from keras.optimizers import SGD\n",
    "import numpy as np\n",
    "import matplotlib.pyplot as plt\n"
   ]
  },
  {
   "cell_type": "markdown",
   "metadata": {},
   "source": [
    "# Dataset Loading"
   ]
  },
  {
   "cell_type": "code",
   "execution_count": 88,
   "metadata": {},
   "outputs": [
    {
     "name": "stdout",
     "output_type": "stream",
     "text": [
      "[INFO] full MNIST dataset...\n"
     ]
    },
    {
     "data": {
      "text/plain": [
       "{'__header__': b'MATLAB 5.0 MAT-file Platform: posix, Created on: Sun Mar 30 03:19:02 2014',\n",
       " '__version__': '1.0',\n",
       " '__globals__': [],\n",
       " 'mldata_descr_ordering': array([[array(['label'], dtype='<U5'), array(['data'], dtype='<U4')]],\n",
       "       dtype=object),\n",
       " 'data': array([[0, 0, 0, ..., 0, 0, 0],\n",
       "        [0, 0, 0, ..., 0, 0, 0],\n",
       "        [0, 0, 0, ..., 0, 0, 0],\n",
       "        ...,\n",
       "        [0, 0, 0, ..., 0, 0, 0],\n",
       "        [0, 0, 0, ..., 0, 0, 0],\n",
       "        [0, 0, 0, ..., 0, 0, 0]], dtype=uint8),\n",
       " 'label': array([[0., 0., 0., ..., 9., 9., 9.]])}"
      ]
     },
     "execution_count": 88,
     "metadata": {},
     "output_type": "execute_result"
    }
   ],
   "source": [
    "dataset = loadmat('C:/Users/Tajr/Desktop/Data/RadonPlus/RadonTechnology/Dev/Deep Learning/Datasets/mnist/mnist')\n",
    "print('[INFO] full MNIST dataset...')\n",
    "dataset"
   ]
  },
  {
   "cell_type": "markdown",
   "metadata": {},
   "source": [
    "### Data Processing"
   ]
  },
  {
   "cell_type": "code",
   "execution_count": 89,
   "metadata": {},
   "outputs": [
    {
     "name": "stdout",
     "output_type": "stream",
     "text": [
      "[INFO] normalized data\n",
      "[[0. 0. 0. ... 0. 0. 0.]\n",
      " [0. 0. 0. ... 0. 0. 0.]\n",
      " [0. 0. 0. ... 0. 0. 0.]\n",
      " ...\n",
      " [0. 0. 0. ... 0. 0. 0.]\n",
      " [0. 0. 0. ... 0. 0. 0.]\n",
      " [0. 0. 0. ... 0. 0. 0.]]\n",
      "\n",
      "[INFO] data targets or labels\n",
      "[[0. 0. 0. ... 9. 9. 9.]]\n",
      "\n",
      "[INFO] data shape\n",
      "(784, 70000)\n",
      "\n",
      "[INFO] targets shape\n",
      "(1, 70000)\n"
     ]
    }
   ],
   "source": [
    "#Selecting normalized data\n",
    "data = dataset['data'].astype('float') / 255.0\n",
    "targets = dataset['label']\n",
    "\n",
    "print(\"[INFO] normalized data\")\n",
    "print(data)\n",
    "print()\n",
    "print(\"[INFO] data targets or labels\")\n",
    "print(targets)\n",
    "\n",
    "print()\n",
    "print(\"[INFO] data shape\")\n",
    "print(data.shape)\n",
    "\n",
    "print()\n",
    "print(\"[INFO] targets shape\")\n",
    "print(targets.shape)\n"
   ]
  },
  {
   "cell_type": "code",
   "execution_count": 90,
   "metadata": {},
   "outputs": [
    {
     "name": "stdout",
     "output_type": "stream",
     "text": [
      "[INFO] current shape of data after transpose...(70000, 784) + current shape of targets after transpose...(70000, 1)\n"
     ]
    }
   ],
   "source": [
    "# Data splitting into training samples and test samples\n",
    "# Before data split refer to the problem definition where we have a total of 70000 data points represented by a 784-d vector\n",
    "# Given the state of our model now we have a dataset with a (784, 70000) and (1, 70000) for data and targets respectively\n",
    "# therefore we need to transpose our data to comply with problems' data definition.\n",
    "data = data.T\n",
    "targets = targets.T\n",
    "\n",
    "print(\"[INFO] current shape of data after transpose...{} + current shape of targets after transpose...{}\".format(data.shape, targets.shape))\n"
   ]
  },
  {
   "cell_type": "code",
   "execution_count": 91,
   "metadata": {},
   "outputs": [
    {
     "name": "stdout",
     "output_type": "stream",
     "text": [
      "[INFO] Train samples....\n",
      "[[0. 0. 0. ... 0. 0. 0.]\n",
      " [0. 0. 0. ... 0. 0. 0.]\n",
      " [0. 0. 0. ... 0. 0. 0.]\n",
      " ...\n",
      " [0. 0. 0. ... 0. 0. 0.]\n",
      " [0. 0. 0. ... 0. 0. 0.]\n",
      " [0. 0. 0. ... 0. 0. 0.]]\n",
      "\n",
      "[INFO] Train labels....\n",
      "[[1.]\n",
      " [4.]\n",
      " [1.]\n",
      " ...\n",
      " [3.]\n",
      " [2.]\n",
      " [4.]]\n",
      "\n",
      "[INFO] Validation samples....\n",
      "[[0. 0. 0. ... 0. 0. 0.]\n",
      " [0. 0. 0. ... 0. 0. 0.]\n",
      " [0. 0. 0. ... 0. 0. 0.]\n",
      " ...\n",
      " [0. 0. 0. ... 0. 0. 0.]\n",
      " [0. 0. 0. ... 0. 0. 0.]\n",
      " [0. 0. 0. ... 0. 0. 0.]]\n",
      "\n",
      "[INFO] Validation labels....\n",
      "[[1.]\n",
      " [7.]\n",
      " [3.]\n",
      " ...\n",
      " [1.]\n",
      " [1.]\n",
      " [9.]]\n",
      "\n",
      "[INFO] Test samples....\n",
      "[[0. 0. 0. ... 0. 0. 0.]\n",
      " [0. 0. 0. ... 0. 0. 0.]\n",
      " [0. 0. 0. ... 0. 0. 0.]\n",
      " ...\n",
      " [0. 0. 0. ... 0. 0. 0.]\n",
      " [0. 0. 0. ... 0. 0. 0.]\n",
      " [0. 0. 0. ... 0. 0. 0.]]\n",
      "\n",
      "[INFO] Test labels....\n",
      "[[0.]\n",
      " [9.]\n",
      " [1.]\n",
      " ...\n",
      " [0.]\n",
      " [6.]\n",
      " [3.]]\n",
      "\n",
      "[INFO] Train samples shape....\n",
      "(39375, 784)\n",
      "\n",
      "[INFO] Validation samples shape....\n",
      "(13125, 784)\n",
      "\n",
      "[INFO] Test samples shape....\n",
      "(17500, 784)\n",
      "\n",
      "[INFO] test_label[0] : [0.]\n",
      "[INFO] train_label[0] : [1.]\n",
      "[INFO] validation_label[0] : [1.]\n"
     ]
    }
   ],
   "source": [
    "# Train, Validation and Test Split\n",
    "(trainX, testX, trainY, testY) = train_test_split(data, targets, test_size=0.25)\n",
    "(train_samples, validation_samples, train_labels, validation_labels) = train_test_split(trainX, trainY, test_size=0.25)\n",
    "print(\"[INFO] Train samples....\")\n",
    "print(train_samples)\n",
    "print()\n",
    "\n",
    "print(\"[INFO] Train labels....\")\n",
    "print(train_labels)\n",
    "print()\n",
    "\n",
    "print(\"[INFO] Validation samples....\")\n",
    "print(validation_samples)\n",
    "print()\n",
    "\n",
    "\n",
    "print(\"[INFO] Validation labels....\")\n",
    "print(validation_labels)\n",
    "print()\n",
    "\n",
    "\n",
    "print(\"[INFO] Test samples....\")\n",
    "print(testX)\n",
    "print()\n",
    "\n",
    "print(\"[INFO] Test labels....\")\n",
    "print(testY)\n",
    "print()\n",
    "\n",
    "\n",
    "print(\"[INFO] Train samples shape....\")\n",
    "print(train_samples.shape)\n",
    "print()\n",
    "\n",
    "\n",
    "\n",
    "print(\"[INFO] Validation samples shape....\")\n",
    "print(validation_samples.shape)\n",
    "print()\n",
    "\n",
    "\n",
    "\n",
    "print(\"[INFO] Test samples shape....\")\n",
    "print(testX.shape)\n",
    "print()\n",
    "\n",
    "\n",
    "print(\"[INFO] test_label[0] : {}\".format(testY[0]))\n",
    "print(\"[INFO] train_label[0] : {}\".format(train_labels[0]))\n",
    "print(\"[INFO] validation_label[0] : {}\".format(validation_labels[0]))"
   ]
  },
  {
   "cell_type": "code",
   "execution_count": 92,
   "metadata": {},
   "outputs": [
    {
     "name": "stdout",
     "output_type": "stream",
     "text": [
      "[INFO] test_label[0] : [1 0 0 0 0 0 0 0 0 0]\n",
      "[INFO] train_label[0] : [0 1 0 0 0 0 0 0 0 0]\n",
      "[INFO] validation_label[0] : [0 1 0 0 0 0 0 0 0 0]\n"
     ]
    }
   ],
   "source": [
    "# Label Binarization\n",
    "lb = LabelBinarizer()\n",
    "train_labels = lb.fit_transform(train_labels)\n",
    "validation_labels = lb.fit_transform(validation_labels)\n",
    "testY = lb.fit_transform(testY)\n",
    "print(\"[INFO] test_label[0] : {}\".format(testY[0]))\n",
    "print(\"[INFO] train_label[0] : {}\".format(train_labels[0]))\n",
    "print(\"[INFO] validation_label[0] : {}\".format(validation_labels[0]))"
   ]
  },
  {
   "cell_type": "markdown",
   "metadata": {},
   "source": [
    "# Model definintion"
   ]
  },
  {
   "cell_type": "code",
   "execution_count": 93,
   "metadata": {},
   "outputs": [
    {
     "name": "stdout",
     "output_type": "stream",
     "text": [
      "[INFO] model summary...\n",
      "Model: \"sequential_10\"\n",
      "_________________________________________________________________\n",
      "Layer (type)                 Output Shape              Param #   \n",
      "=================================================================\n",
      "dense_28 (Dense)             (None, 256)               200960    \n",
      "_________________________________________________________________\n",
      "dense_29 (Dense)             (None, 128)               32896     \n",
      "_________________________________________________________________\n",
      "dense_30 (Dense)             (None, 10)                1290      \n",
      "=================================================================\n",
      "Total params: 235,146\n",
      "Trainable params: 235,146\n",
      "Non-trainable params: 0\n",
      "_________________________________________________________________\n"
     ]
    }
   ],
   "source": [
    "model = models.Sequential()\n",
    "model.add(layers.Dense(256, activation='sigmoid', input_shape=(784,)))\n",
    "model.add(layers.Dense(128, activation='sigmoid'))\n",
    "model.add(layers.Dense(10, activation='softmax'))\n",
    "print(\"[INFO] model summary...\")\n",
    "model.summary()"
   ]
  },
  {
   "cell_type": "markdown",
   "metadata": {},
   "source": [
    "# Model Compilation and Training"
   ]
  },
  {
   "cell_type": "code",
   "execution_count": 94,
   "metadata": {},
   "outputs": [
    {
     "name": "stdout",
     "output_type": "stream",
     "text": [
      "Train on 39375 samples, validate on 13125 samples\n",
      "Epoch 1/100\n",
      "39375/39375 [==============================] - 2s 39us/step - loss: 2.2903 - acc: 0.1617 - val_loss: 2.2636 - val_acc: 0.3092\n",
      "Epoch 2/100\n",
      "39375/39375 [==============================] - 2s 39us/step - loss: 2.2441 - acc: 0.2917 - val_loss: 2.2218 - val_acc: 0.4418\n",
      "Epoch 3/100\n",
      "39375/39375 [==============================] - 1s 36us/step - loss: 2.1990 - acc: 0.4371 - val_loss: 2.1723 - val_acc: 0.5131\n",
      "Epoch 4/100\n",
      "39375/39375 [==============================] - 1s 36us/step - loss: 2.1442 - acc: 0.5270 - val_loss: 2.1123 - val_acc: 0.4563\n",
      "Epoch 5/100\n",
      "39375/39375 [==============================] - 1s 37us/step - loss: 2.0750 - acc: 0.5640 - val_loss: 2.0316 - val_acc: 0.6002\n",
      "Epoch 6/100\n",
      "39375/39375 [==============================] - 2s 39us/step - loss: 1.9860 - acc: 0.6104 - val_loss: 1.9311 - val_acc: 0.5888\n",
      "Epoch 7/100\n",
      "39375/39375 [==============================] - 1s 36us/step - loss: 1.8745 - acc: 0.6295 - val_loss: 1.8078 - val_acc: 0.6571\n",
      "Epoch 8/100\n",
      "39375/39375 [==============================] - 1s 36us/step - loss: 1.7434 - acc: 0.6562 - val_loss: 1.6688 - val_acc: 0.6769\n",
      "Epoch 9/100\n",
      "39375/39375 [==============================] - 1s 37us/step - loss: 1.6007 - acc: 0.6776 - val_loss: 1.5234 - val_acc: 0.7010\n",
      "Epoch 10/100\n",
      "39375/39375 [==============================] - 1s 38us/step - loss: 1.4569 - acc: 0.6983 - val_loss: 1.3846 - val_acc: 0.7260\n",
      "Epoch 11/100\n",
      "39375/39375 [==============================] - 1s 36us/step - loss: 1.3230 - acc: 0.7204 - val_loss: 1.2572 - val_acc: 0.7232\n",
      "Epoch 12/100\n",
      "39375/39375 [==============================] - 1s 36us/step - loss: 1.2040 - acc: 0.7366 - val_loss: 1.1481 - val_acc: 0.7423\n",
      "Epoch 13/100\n",
      "39375/39375 [==============================] - 2s 39us/step - loss: 1.1017 - acc: 0.7543 - val_loss: 1.0541 - val_acc: 0.7562\n",
      "Epoch 14/100\n",
      "39375/39375 [==============================] - 1s 36us/step - loss: 1.0151 - acc: 0.7684 - val_loss: 0.9757 - val_acc: 0.7804\n",
      "Epoch 15/100\n",
      "39375/39375 [==============================] - 1s 37us/step - loss: 0.9417 - acc: 0.7839 - val_loss: 0.9086 - val_acc: 0.7902\n",
      "Epoch 16/100\n",
      "39375/39375 [==============================] - 1s 37us/step - loss: 0.8793 - acc: 0.7940 - val_loss: 0.8523 - val_acc: 0.8034\n",
      "Epoch 17/100\n",
      "39375/39375 [==============================] - 2s 39us/step - loss: 0.8258 - acc: 0.8058 - val_loss: 0.8043 - val_acc: 0.8067\n",
      "Epoch 18/100\n",
      "39375/39375 [==============================] - 1s 37us/step - loss: 0.7798 - acc: 0.8150 - val_loss: 0.7612 - val_acc: 0.8198\n",
      "Epoch 19/100\n",
      "39375/39375 [==============================] - 1s 37us/step - loss: 0.7396 - acc: 0.8247 - val_loss: 0.7244 - val_acc: 0.8208\n",
      "Epoch 20/100\n",
      "39375/39375 [==============================] - 2s 39us/step - loss: 0.7044 - acc: 0.8319 - val_loss: 0.6924 - val_acc: 0.8290\n",
      "Epoch 21/100\n",
      "39375/39375 [==============================] - 1s 37us/step - loss: 0.6733 - acc: 0.8375 - val_loss: 0.6635 - val_acc: 0.8362\n",
      "Epoch 22/100\n",
      "39375/39375 [==============================] - 1s 37us/step - loss: 0.6457 - acc: 0.8431 - val_loss: 0.6381 - val_acc: 0.8382\n",
      "Epoch 23/100\n",
      "39375/39375 [==============================] - 1s 37us/step - loss: 0.6210 - acc: 0.8482 - val_loss: 0.6157 - val_acc: 0.8421\n",
      "Epoch 24/100\n",
      "39375/39375 [==============================] - 2s 39us/step - loss: 0.5990 - acc: 0.8534 - val_loss: 0.5956 - val_acc: 0.8459\n",
      "Epoch 25/100\n",
      "39375/39375 [==============================] - 1s 37us/step - loss: 0.5791 - acc: 0.8570 - val_loss: 0.5772 - val_acc: 0.8525\n",
      "Epoch 26/100\n",
      "39375/39375 [==============================] - 1s 36us/step - loss: 0.5611 - acc: 0.8603 - val_loss: 0.5608 - val_acc: 0.8561\n",
      "Epoch 27/100\n",
      "39375/39375 [==============================] - 1s 37us/step - loss: 0.5448 - acc: 0.8639 - val_loss: 0.5460 - val_acc: 0.8598\n",
      "Epoch 28/100\n",
      "39375/39375 [==============================] - 2s 38us/step - loss: 0.5299 - acc: 0.8671 - val_loss: 0.5324 - val_acc: 0.8598\n",
      "Epoch 29/100\n",
      "39375/39375 [==============================] - 1s 36us/step - loss: 0.5163 - acc: 0.8698 - val_loss: 0.5199 - val_acc: 0.8632\n",
      "Epoch 30/100\n",
      "39375/39375 [==============================] - 1s 37us/step - loss: 0.5039 - acc: 0.8721 - val_loss: 0.5088 - val_acc: 0.8651\n",
      "Epoch 31/100\n",
      "39375/39375 [==============================] - 2s 39us/step - loss: 0.4924 - acc: 0.8742 - val_loss: 0.4981 - val_acc: 0.8684\n",
      "Epoch 32/100\n",
      "39375/39375 [==============================] - 1s 37us/step - loss: 0.4819 - acc: 0.8767 - val_loss: 0.4887 - val_acc: 0.8699\n",
      "Epoch 33/100\n",
      "39375/39375 [==============================] - 1s 37us/step - loss: 0.4721 - acc: 0.8780 - val_loss: 0.4795 - val_acc: 0.8727\n",
      "Epoch 34/100\n",
      "39375/39375 [==============================] - 1s 37us/step - loss: 0.4630 - acc: 0.8796 - val_loss: 0.4717 - val_acc: 0.8748\n",
      "Epoch 35/100\n",
      "39375/39375 [==============================] - 2s 39us/step - loss: 0.4546 - acc: 0.8814 - val_loss: 0.4637 - val_acc: 0.8754\n",
      "Epoch 36/100\n",
      "39375/39375 [==============================] - 1s 37us/step - loss: 0.4469 - acc: 0.8833 - val_loss: 0.4566 - val_acc: 0.8766\n",
      "Epoch 37/100\n",
      "39375/39375 [==============================] - 1s 38us/step - loss: 0.4396 - acc: 0.8846 - val_loss: 0.4501 - val_acc: 0.8782\n",
      "Epoch 38/100\n",
      "39375/39375 [==============================] - 2s 39us/step - loss: 0.4328 - acc: 0.8854 - val_loss: 0.4441 - val_acc: 0.8799\n",
      "Epoch 39/100\n",
      "39375/39375 [==============================] - 1s 36us/step - loss: 0.4263 - acc: 0.8869 - val_loss: 0.4386 - val_acc: 0.8814\n",
      "Epoch 40/100\n",
      "39375/39375 [==============================] - 1s 36us/step - loss: 0.4204 - acc: 0.8881 - val_loss: 0.4332 - val_acc: 0.8825\n",
      "Epoch 41/100\n",
      "39375/39375 [==============================] - 1s 36us/step - loss: 0.4148 - acc: 0.8890 - val_loss: 0.4280 - val_acc: 0.8834\n",
      "Epoch 42/100\n",
      "39375/39375 [==============================] - 2s 39us/step - loss: 0.4096 - acc: 0.8900 - val_loss: 0.4237 - val_acc: 0.8845\n",
      "Epoch 43/100\n",
      "39375/39375 [==============================] - 1s 37us/step - loss: 0.4046 - acc: 0.8915 - val_loss: 0.4193 - val_acc: 0.8869\n",
      "Epoch 44/100\n",
      "39375/39375 [==============================] - 1s 38us/step - loss: 0.4000 - acc: 0.8918 - val_loss: 0.4147 - val_acc: 0.8862\n",
      "Epoch 45/100\n",
      "39375/39375 [==============================] - 2s 39us/step - loss: 0.3955 - acc: 0.8923 - val_loss: 0.4108 - val_acc: 0.8872\n",
      "Epoch 46/100\n",
      "39375/39375 [==============================] - 1s 37us/step - loss: 0.3913 - acc: 0.8934 - val_loss: 0.4071 - val_acc: 0.8886\n",
      "Epoch 47/100\n",
      "39375/39375 [==============================] - 1s 37us/step - loss: 0.3874 - acc: 0.8942 - val_loss: 0.4036 - val_acc: 0.8885\n",
      "Epoch 48/100\n",
      "39375/39375 [==============================] - 1s 36us/step - loss: 0.3837 - acc: 0.8949 - val_loss: 0.4001 - val_acc: 0.8889\n",
      "Epoch 49/100\n",
      "39375/39375 [==============================] - 2s 39us/step - loss: 0.3801 - acc: 0.8954 - val_loss: 0.3969 - val_acc: 0.8900\n",
      "Epoch 50/100\n",
      "39375/39375 [==============================] - 1s 37us/step - loss: 0.3767 - acc: 0.8964 - val_loss: 0.3940 - val_acc: 0.8895\n",
      "Epoch 51/100\n",
      "39375/39375 [==============================] - 1s 38us/step - loss: 0.3734 - acc: 0.8968 - val_loss: 0.3911 - val_acc: 0.8914\n",
      "Epoch 52/100\n",
      "39375/39375 [==============================] - 1s 37us/step - loss: 0.3705 - acc: 0.8979 - val_loss: 0.3883 - val_acc: 0.8905\n",
      "Epoch 53/100\n",
      "39375/39375 [==============================] - 2s 40us/step - loss: 0.3675 - acc: 0.8979 - val_loss: 0.3855 - val_acc: 0.8916\n",
      "Epoch 54/100\n",
      "39375/39375 [==============================] - 1s 38us/step - loss: 0.3647 - acc: 0.8982 - val_loss: 0.3833 - val_acc: 0.8919\n",
      "Epoch 55/100\n",
      "39375/39375 [==============================] - 1s 38us/step - loss: 0.3620 - acc: 0.8986 - val_loss: 0.3808 - val_acc: 0.8924\n",
      "Epoch 56/100\n",
      "39375/39375 [==============================] - 2s 40us/step - loss: 0.3593 - acc: 0.8994 - val_loss: 0.3785 - val_acc: 0.8934\n",
      "Epoch 57/100\n",
      "39375/39375 [==============================] - 1s 37us/step - loss: 0.3568 - acc: 0.8998 - val_loss: 0.3763 - val_acc: 0.8930\n",
      "Epoch 58/100\n",
      "39375/39375 [==============================] - 2s 39us/step - loss: 0.3543 - acc: 0.9002 - val_loss: 0.3742 - val_acc: 0.8932\n",
      "Epoch 59/100\n"
     ]
    },
    {
     "name": "stdout",
     "output_type": "stream",
     "text": [
      "39375/39375 [==============================] - 2s 39us/step - loss: 0.3521 - acc: 0.9006 - val_loss: 0.3722 - val_acc: 0.8942\n",
      "Epoch 60/100\n",
      "39375/39375 [==============================] - 2s 41us/step - loss: 0.3499 - acc: 0.9012 - val_loss: 0.3701 - val_acc: 0.8942\n",
      "Epoch 61/100\n",
      "39375/39375 [==============================] - 1s 37us/step - loss: 0.3477 - acc: 0.9014 - val_loss: 0.3683 - val_acc: 0.8950\n",
      "Epoch 62/100\n",
      "39375/39375 [==============================] - 1s 37us/step - loss: 0.3456 - acc: 0.9020 - val_loss: 0.3665 - val_acc: 0.8946\n",
      "Epoch 63/100\n",
      "39375/39375 [==============================] - 2s 40us/step - loss: 0.3436 - acc: 0.9027 - val_loss: 0.3648 - val_acc: 0.8958\n",
      "Epoch 64/100\n",
      "39375/39375 [==============================] - 2s 39us/step - loss: 0.3416 - acc: 0.9032 - val_loss: 0.3631 - val_acc: 0.8954\n",
      "Epoch 65/100\n",
      "39375/39375 [==============================] - 2s 38us/step - loss: 0.3398 - acc: 0.9031 - val_loss: 0.3612 - val_acc: 0.8966\n",
      "Epoch 66/100\n",
      "39375/39375 [==============================] - 2s 39us/step - loss: 0.3378 - acc: 0.9036 - val_loss: 0.3597 - val_acc: 0.8968\n",
      "Epoch 67/100\n",
      "39375/39375 [==============================] - 2s 40us/step - loss: 0.3362 - acc: 0.9045 - val_loss: 0.3582 - val_acc: 0.8971\n",
      "Epoch 68/100\n",
      "39375/39375 [==============================] - 2s 38us/step - loss: 0.3344 - acc: 0.9046 - val_loss: 0.3567 - val_acc: 0.8978\n",
      "Epoch 69/100\n",
      "39375/39375 [==============================] - 2s 39us/step - loss: 0.3328 - acc: 0.9049 - val_loss: 0.3551 - val_acc: 0.8989\n",
      "Epoch 70/100\n",
      "39375/39375 [==============================] - 2s 41us/step - loss: 0.3312 - acc: 0.9052 - val_loss: 0.3537 - val_acc: 0.8985\n",
      "Epoch 71/100\n",
      "39375/39375 [==============================] - 1s 38us/step - loss: 0.3296 - acc: 0.9057 - val_loss: 0.3525 - val_acc: 0.8993\n",
      "Epoch 72/100\n",
      "39375/39375 [==============================] - 2s 39us/step - loss: 0.3280 - acc: 0.9064 - val_loss: 0.3511 - val_acc: 0.8994\n",
      "Epoch 73/100\n",
      "39375/39375 [==============================] - 2s 41us/step - loss: 0.3265 - acc: 0.9065 - val_loss: 0.3496 - val_acc: 0.8997\n",
      "Epoch 74/100\n",
      "39375/39375 [==============================] - 2s 40us/step - loss: 0.3251 - acc: 0.9069 - val_loss: 0.3486 - val_acc: 0.8997\n",
      "Epoch 75/100\n",
      "39375/39375 [==============================] - 2s 40us/step - loss: 0.3236 - acc: 0.9078 - val_loss: 0.3475 - val_acc: 0.9003\n",
      "Epoch 76/100\n",
      "39375/39375 [==============================] - 2s 40us/step - loss: 0.3222 - acc: 0.9081 - val_loss: 0.3462 - val_acc: 0.8999\n",
      "Epoch 77/100\n",
      "39375/39375 [==============================] - 2s 41us/step - loss: 0.3208 - acc: 0.9083 - val_loss: 0.3451 - val_acc: 0.9003\n",
      "Epoch 78/100\n",
      "39375/39375 [==============================] - 2s 39us/step - loss: 0.3195 - acc: 0.9087 - val_loss: 0.3437 - val_acc: 0.9008\n",
      "Epoch 79/100\n",
      "39375/39375 [==============================] - 2s 39us/step - loss: 0.3182 - acc: 0.9091 - val_loss: 0.3428 - val_acc: 0.9017\n",
      "Epoch 80/100\n",
      "39375/39375 [==============================] - 2s 41us/step - loss: 0.3169 - acc: 0.9094 - val_loss: 0.3416 - val_acc: 0.9013\n",
      "Epoch 81/100\n",
      "39375/39375 [==============================] - 1s 38us/step - loss: 0.3156 - acc: 0.9102 - val_loss: 0.3405 - val_acc: 0.9026\n",
      "Epoch 82/100\n",
      "39375/39375 [==============================] - 2s 38us/step - loss: 0.3144 - acc: 0.9105 - val_loss: 0.3395 - val_acc: 0.9023\n",
      "Epoch 83/100\n",
      "39375/39375 [==============================] - 2s 38us/step - loss: 0.3132 - acc: 0.9106 - val_loss: 0.3384 - val_acc: 0.9021\n",
      "Epoch 84/100\n",
      "39375/39375 [==============================] - 2s 44us/step - loss: 0.3120 - acc: 0.9106 - val_loss: 0.3376 - val_acc: 0.9023\n",
      "Epoch 85/100\n",
      "39375/39375 [==============================] - 2s 45us/step - loss: 0.3108 - acc: 0.9113 - val_loss: 0.3366 - val_acc: 0.9022\n",
      "Epoch 86/100\n",
      "39375/39375 [==============================] - 2s 38us/step - loss: 0.3096 - acc: 0.9115 - val_loss: 0.3355 - val_acc: 0.9026\n",
      "Epoch 87/100\n",
      "39375/39375 [==============================] - 2s 40us/step - loss: 0.3085 - acc: 0.9119 - val_loss: 0.3347 - val_acc: 0.9029\n",
      "Epoch 88/100\n",
      "39375/39375 [==============================] - 1s 38us/step - loss: 0.3074 - acc: 0.9121 - val_loss: 0.3339 - val_acc: 0.9037\n",
      "Epoch 89/100\n",
      "39375/39375 [==============================] - 1s 38us/step - loss: 0.3063 - acc: 0.9124 - val_loss: 0.3326 - val_acc: 0.9029\n",
      "Epoch 90/100\n",
      "39375/39375 [==============================] - 2s 41us/step - loss: 0.3053 - acc: 0.9125 - val_loss: 0.3317 - val_acc: 0.9036\n",
      "Epoch 91/100\n",
      "39375/39375 [==============================] - 2s 40us/step - loss: 0.3041 - acc: 0.9132 - val_loss: 0.3310 - val_acc: 0.9043\n",
      "Epoch 92/100\n",
      "39375/39375 [==============================] - 2s 40us/step - loss: 0.3033 - acc: 0.9134 - val_loss: 0.3299 - val_acc: 0.9038\n",
      "Epoch 93/100\n",
      "39375/39375 [==============================] - 2s 40us/step - loss: 0.3022 - acc: 0.9137 - val_loss: 0.3291 - val_acc: 0.9043\n",
      "Epoch 94/100\n",
      "39375/39375 [==============================] - 2s 41us/step - loss: 0.3013 - acc: 0.9138 - val_loss: 0.3281 - val_acc: 0.9054\n",
      "Epoch 95/100\n",
      "39375/39375 [==============================] - 2s 39us/step - loss: 0.3004 - acc: 0.9146 - val_loss: 0.3275 - val_acc: 0.9038\n",
      "Epoch 96/100\n",
      "39375/39375 [==============================] - 2s 39us/step - loss: 0.2993 - acc: 0.9144 - val_loss: 0.3268 - val_acc: 0.9041\n",
      "Epoch 97/100\n",
      "39375/39375 [==============================] - 2s 41us/step - loss: 0.2983 - acc: 0.9145 - val_loss: 0.3258 - val_acc: 0.9053\n",
      "Epoch 98/100\n",
      "39375/39375 [==============================] - 2s 38us/step - loss: 0.2974 - acc: 0.9145 - val_loss: 0.3251 - val_acc: 0.9058\n",
      "Epoch 99/100\n",
      "39375/39375 [==============================] - 2s 39us/step - loss: 0.2965 - acc: 0.9153 - val_loss: 0.3246 - val_acc: 0.9044\n",
      "Epoch 100/100\n",
      "39375/39375 [==============================] - 2s 40us/step - loss: 0.2956 - acc: 0.9154 - val_loss: 0.3235 - val_acc: 0.9058\n"
     ]
    }
   ],
   "source": [
    "# Model compilation\n",
    "# A stocastic gradient decent is used with a learning rate of 0.01\n",
    "sgd = SGD(0.01)\n",
    "model.compile(optimizer=sgd, loss='categorical_crossentropy', metrics=['acc'])\n",
    "\n",
    "# Model training\n",
    "history = model.fit(train_samples, train_labels, epochs=100, batch_size=128, validation_data=(validation_samples, validation_labels))"
   ]
  },
  {
   "cell_type": "markdown",
   "metadata": {},
   "source": [
    "# Plotting Results"
   ]
  },
  {
   "cell_type": "code",
   "execution_count": 95,
   "metadata": {},
   "outputs": [],
   "source": [
    "# Data acquisition\n",
    "history_dict = history.history\n",
    "history_dict.keys()\n",
    "\n",
    "accuracy = history_dict['acc']\n",
    "loss = history_dict['loss']\n",
    "\n",
    "validation_accuracy = history_dict['val_acc']\n",
    "validation_loss = history_dict['val_loss']\n",
    "\n",
    "epochs = np.arange(0, 100)"
   ]
  },
  {
   "cell_type": "code",
   "execution_count": 96,
   "metadata": {},
   "outputs": [
    {
     "data": {
      "image/png": "[encoded data removed]",
      "text/plain": [
       "<Figure size 432x288 with 1 Axes>"
      ]
     },
     "metadata": {},
     "output_type": "display_data"
    }
   ],
   "source": [
    "# Train Vs Validation accuracy\n",
    "plt.style.use('ggplot')\n",
    "plt.plot(epochs, accuracy, label=\"Train Accuracy\")\n",
    "plt.plot(epochs, validation_accuracy, label=\"Validation Accuracy\")\n",
    "plt.title(\"Training and Validation Accuracy\")\n",
    "plt.xlabel(\"Epochs\")\n",
    "plt.ylabel(\"Accuracy\")\n",
    "plt.legend()\n",
    "plt.show()"
   ]
  },
  {
   "cell_type": "code",
   "execution_count": 97,
   "metadata": {},
   "outputs": [
    {
     "data": {
      "image/png": "[encoded data removed]",
      "text/plain": [
       "<Figure size 432x288 with 1 Axes>"
      ]
     },
     "metadata": {},
     "output_type": "display_data"
    }
   ],
   "source": [
    "# Train Vs Validation loss\n",
    "plt.clf()\n",
    "plt.plot(epochs, loss, label=\"Train loss\")\n",
    "plt.plot(epochs, validation_loss, label=\"Validation loss\")\n",
    "plt.title(\"Training and Validation Loss\")\n",
    "plt.xlabel(\"Epochs\")\n",
    "plt.ylabel(\"Loss\")\n",
    "plt.legend()\n",
    "plt.show()"
   ]
  },
  {
   "cell_type": "markdown",
   "metadata": {},
   "source": [
    "# Model Evaluation"
   ]
  },
  {
   "cell_type": "code",
   "execution_count": 98,
   "metadata": {},
   "outputs": [
    {
     "name": "stdout",
     "output_type": "stream",
     "text": [
      "17500/17500 [==============================] - 1s 69us/step\n"
     ]
    },
    {
     "data": {
      "text/plain": [
       "[0.31125843826702665, 0.9089714288711548]"
      ]
     },
     "execution_count": 98,
     "metadata": {},
     "output_type": "execute_result"
    }
   ],
   "source": [
    "results = model.evaluate(testX, testY)\n",
    "results"
   ]
  },
  {
   "cell_type": "markdown",
   "metadata": {},
   "source": [
    "The goal was to train a neural network using keras to obtain > 90% accuracy on MNIST dataset.\n",
    "\n",
    "As can be observed from the result above we have manage to evaluate a model with an accuracy of 91%"
   ]
  },
  {
   "cell_type": "code",
   "execution_count": 100,
   "metadata": {},
   "outputs": [
    {
     "name": "stdout",
     "output_type": "stream",
     "text": [
      "              precision    recall  f1-score   support\n",
      "\n",
      "         0.0       0.94      0.96      0.95      1733\n",
      "         1.0       0.94      0.97      0.95      1969\n",
      "         2.0       0.90      0.87      0.89      1727\n",
      "         3.0       0.90      0.88      0.89      1824\n",
      "         4.0       0.90      0.92      0.91      1613\n",
      "         5.0       0.88      0.84      0.86      1592\n",
      "         6.0       0.93      0.95      0.94      1767\n",
      "         7.0       0.93      0.93      0.93      1803\n",
      "         8.0       0.89      0.88      0.88      1715\n",
      "         9.0       0.88      0.89      0.88      1757\n",
      "\n",
      "    accuracy                           0.91     17500\n",
      "   macro avg       0.91      0.91      0.91     17500\n",
      "weighted avg       0.91      0.91      0.91     17500\n",
      "\n"
     ]
    }
   ],
   "source": [
    "predictions = model.predict(testX, batch_size=128)\n",
    "print(classification_report(testY.argmax(axis=1), predictions.argmax(axis=1), target_names=[str(x) for x in lb.classes_]))"
   ]
  },
  {
   "cell_type": "code",
   "execution_count": null,
   "metadata": {},
   "outputs": [],
   "source": []
  }
 ],
 "metadata": {
  "kernelspec": {
   "display_name": "Python 3",
   "language": "python",
   "name": "python3"
  },
  "language_info": {
   "codemirror_mode": {
    "name": "ipython",
    "version": 3
   },
   "file_extension": ".py",
   "mimetype": "text/x-python",
   "name": "python",
   "nbconvert_exporter": "python",
   "pygments_lexer": "ipython3",
   "version": "3.6.10"
  }
 },
 "nbformat": 4,
 "nbformat_minor": 4
}
