{
 "cells": [
  {
   "cell_type": "markdown",
   "metadata": {},
   "source": [
    "# NOTES"
   ]
  },
  {
   "cell_type": "code",
   "execution_count": null,
   "metadata": {},
   "outputs": [],
   "source": []
  },
  {
   "cell_type": "markdown",
   "metadata": {},
   "source": [
    "# IMPORT"
   ]
  },
  {
   "cell_type": "code",
   "execution_count": 1,
   "metadata": {},
   "outputs": [
    {
     "name": "stderr",
     "output_type": "stream",
     "text": [
      "Using TensorFlow backend.\n"
     ]
    }
   ],
   "source": [
    "from keras import models\n",
    "from keras import layers\n",
    "from keras.utils import plot_model\n",
    "from keras import backend as K\n",
    "import cv2\n",
    "from imutils import paths\n",
    "import progressbar\n",
    "import imutils\n",
    "from keras.preprocessing.image import img_to_array\n",
    "import numpy as np\n",
    "from sklearn.preprocessing import LabelBinarizer\n",
    "from sklearn.preprocessing import LabelEncoder\n",
    "from sklearn.model_selection import train_test_split\n",
    "from sklearn.metrics import classification_report\n",
    "from keras.optimizers import SGD\n",
    "import matplotlib.pyplot as plt\n",
    "import pandas as pd\n",
    "from sklearn.utils import shuffle"
   ]
  },
  {
   "cell_type": "markdown",
   "metadata": {},
   "source": [
    "# DATASET"
   ]
  },
  {
   "cell_type": "code",
   "execution_count": 2,
   "metadata": {},
   "outputs": [],
   "source": [
    "img_dir = 'C:/Users/Tajr/Desktop/Data/RadonPlus/RadonTechnology/Dev/Deep Learning/Datasets/computervision/Malaria/cell_images/'\n"
   ]
  },
  {
   "cell_type": "markdown",
   "metadata": {},
   "source": [
    "## PREPROCESSING"
   ]
  },
  {
   "cell_type": "code",
   "execution_count": 3,
   "metadata": {},
   "outputs": [],
   "source": [
    "class Preprocessing:\n",
    "    def __init__(self, width, height, inter=cv2.INTER_AREA, dataFormat=None):\n",
    "        self.width = width\n",
    "        self.height = height\n",
    "        self.inter = inter\n",
    "        self.dataFormat = dataFormat\n",
    "        self.load_widget = ['Data Loading: ', progressbar.Percentage(), \" \", progressbar.Bar(), \" \", progressbar.ETA()]\n",
    "        \n",
    "    def getPath(self, img_dir):\n",
    "        return list(paths.list_images(img_dir))\n",
    "    \n",
    "    def load_data(self, img_paths):\n",
    "        data = []\n",
    "        labels = []\n",
    "        \n",
    "        prog = progressbar.ProgressBar(maxval=len(img_paths), widgets=self.load_widget).start()\n",
    "        for (i, path) in enumerate(img_paths):\n",
    "            img = cv2.imread(path)\n",
    "            img = self.resize(img)\n",
    "            img = self.img2array(img)\n",
    "            data.append(img)\n",
    "            \n",
    "            label = path.split('/')[-1].split()[0]\n",
    "            labels.append(label)\n",
    "            \n",
    "            prog.update(i)\n",
    "        \n",
    "        data = np.array(data).astype('float') / 255.0\n",
    "        labels = np.array(labels)\n",
    "        prog.finish()\n",
    "        \n",
    "        return (data, labels)\n",
    "    \n",
    "    def resize(self, img):\n",
    "        \n",
    "        (h, w) = img.shape[:2]\n",
    "        dh = 0\n",
    "        dw = 0\n",
    "        \n",
    "        # resizing\n",
    "        if w < h:\n",
    "            img = imutils.resize(img, width=self.width, inter=self.inter)\n",
    "            dh = int((img.shape[0]  - self.height) / 2.0)\n",
    "        else:\n",
    "            img = imutils.resize(img, height=self.height, inter=self.inter)\n",
    "            dw = int((img.shape[1] - self.width) / 2.0)\n",
    "        \n",
    "        # cropping\n",
    "        (h, w) = img.shape[:2]\n",
    "        img = img[dh:h - dh, dw:w - dw]\n",
    "        \n",
    "        return cv2.resize(img, (self.width, self.height), interpolation=self.inter)\n",
    "    \n",
    "    def img2array(self, img):\n",
    "        return img_to_array(img, data_format=self.dataFormat)"
   ]
  },
  {
   "cell_type": "markdown",
   "metadata": {},
   "source": [
    "## INSTANTIATION"
   ]
  },
  {
   "cell_type": "code",
   "execution_count": 4,
   "metadata": {},
   "outputs": [],
   "source": [
    "preprocessor = Preprocessing(32, 32)"
   ]
  },
  {
   "cell_type": "markdown",
   "metadata": {},
   "source": [
    "## PATH"
   ]
  },
  {
   "cell_type": "code",
   "execution_count": 5,
   "metadata": {},
   "outputs": [],
   "source": [
    "imgPaths = shuffle(preprocessor.getPath(img_dir))"
   ]
  },
  {
   "cell_type": "markdown",
   "metadata": {},
   "source": [
    "## LOADING"
   ]
  },
  {
   "cell_type": "code",
   "execution_count": 6,
   "metadata": {},
   "outputs": [
    {
     "name": "stderr",
     "output_type": "stream",
     "text": [
      "Data Loading: 100% |############################################| Time: 0:00:20\n"
     ]
    }
   ],
   "source": [
    "(data, targets) = preprocessor.load_data(imgPaths)"
   ]
  },
  {
   "cell_type": "code",
   "execution_count": 7,
   "metadata": {},
   "outputs": [
    {
     "data": {
      "text/plain": [
       "(27558, 32, 32, 3)"
      ]
     },
     "execution_count": 7,
     "metadata": {},
     "output_type": "execute_result"
    }
   ],
   "source": [
    "data.shape"
   ]
  },
  {
   "cell_type": "code",
   "execution_count": 8,
   "metadata": {},
   "outputs": [
    {
     "data": {
      "text/plain": [
       "(27558,)"
      ]
     },
     "execution_count": 8,
     "metadata": {},
     "output_type": "execute_result"
    }
   ],
   "source": [
    "targets.shape"
   ]
  },
  {
   "cell_type": "code",
   "execution_count": 9,
   "metadata": {},
   "outputs": [
    {
     "data": {
      "text/plain": [
       "'Parasitized'"
      ]
     },
     "execution_count": 9,
     "metadata": {},
     "output_type": "execute_result"
    }
   ],
   "source": [
    "targets[0]"
   ]
  },
  {
   "cell_type": "markdown",
   "metadata": {},
   "source": [
    "## BINARIZATION"
   ]
  },
  {
   "cell_type": "code",
   "execution_count": 10,
   "metadata": {},
   "outputs": [],
   "source": [
    "lb = LabelBinarizer()\n",
    "labels = lb.fit_transform(targets)\n",
    "classNames = lb.classes_"
   ]
  },
  {
   "cell_type": "code",
   "execution_count": 11,
   "metadata": {},
   "outputs": [
    {
     "data": {
      "text/plain": [
       "array(['Parasitized', 'Uninfected'], dtype='<U11')"
      ]
     },
     "execution_count": 11,
     "metadata": {},
     "output_type": "execute_result"
    }
   ],
   "source": [
    "classNames"
   ]
  },
  {
   "cell_type": "code",
   "execution_count": 12,
   "metadata": {},
   "outputs": [
    {
     "data": {
      "text/plain": [
       "array([[0],\n",
       "       [1],\n",
       "       [1],\n",
       "       ...,\n",
       "       [1],\n",
       "       [0],\n",
       "       [0]])"
      ]
     },
     "execution_count": 12,
     "metadata": {},
     "output_type": "execute_result"
    }
   ],
   "source": [
    "labels"
   ]
  },
  {
   "cell_type": "markdown",
   "metadata": {},
   "source": [
    "## SPLITING"
   ]
  },
  {
   "cell_type": "code",
   "execution_count": 13,
   "metadata": {},
   "outputs": [],
   "source": [
    "(trainX, test_samples, trainY, test_targets) = train_test_split(data, labels, random_state=42, test_size=0.5)\n",
    "(testX, valX, testY, valY) =train_test_split(test_samples, test_targets, random_state=42, test_size=0.5)"
   ]
  },
  {
   "cell_type": "code",
   "execution_count": 14,
   "metadata": {},
   "outputs": [
    {
     "data": {
      "text/plain": [
       "(13779, 32, 32, 3)"
      ]
     },
     "execution_count": 14,
     "metadata": {},
     "output_type": "execute_result"
    }
   ],
   "source": [
    "trainX.shape"
   ]
  },
  {
   "cell_type": "code",
   "execution_count": 15,
   "metadata": {},
   "outputs": [
    {
     "data": {
      "text/plain": [
       "(27558, 1)"
      ]
     },
     "execution_count": 15,
     "metadata": {},
     "output_type": "execute_result"
    }
   ],
   "source": [
    "labels.shape"
   ]
  },
  {
   "cell_type": "code",
   "execution_count": 16,
   "metadata": {},
   "outputs": [
    {
     "data": {
      "text/plain": [
       "array([[0],\n",
       "       [1],\n",
       "       [1],\n",
       "       [1],\n",
       "       [1]])"
      ]
     },
     "execution_count": 16,
     "metadata": {},
     "output_type": "execute_result"
    }
   ],
   "source": [
    "labels[:5]"
   ]
  },
  {
   "cell_type": "code",
   "execution_count": 17,
   "metadata": {},
   "outputs": [
    {
     "data": {
      "text/html": [
       "<div>\n",
       "<style scoped>\n",
       "    .dataframe tbody tr th:only-of-type {\n",
       "        vertical-align: middle;\n",
       "    }\n",
       "\n",
       "    .dataframe tbody tr th {\n",
       "        vertical-align: top;\n",
       "    }\n",
       "\n",
       "    .dataframe thead th {\n",
       "        text-align: right;\n",
       "    }\n",
       "</style>\n",
       "<table border=\"1\" class=\"dataframe\">\n",
       "  <thead>\n",
       "    <tr style=\"text-align: right;\">\n",
       "      <th></th>\n",
       "      <th>0</th>\n",
       "    </tr>\n",
       "  </thead>\n",
       "  <tbody>\n",
       "    <tr>\n",
       "      <th>0</th>\n",
       "      <td>0</td>\n",
       "    </tr>\n",
       "    <tr>\n",
       "      <th>1</th>\n",
       "      <td>1</td>\n",
       "    </tr>\n",
       "    <tr>\n",
       "      <th>2</th>\n",
       "      <td>1</td>\n",
       "    </tr>\n",
       "    <tr>\n",
       "      <th>3</th>\n",
       "      <td>1</td>\n",
       "    </tr>\n",
       "    <tr>\n",
       "      <th>4</th>\n",
       "      <td>1</td>\n",
       "    </tr>\n",
       "  </tbody>\n",
       "</table>\n",
       "</div>"
      ],
      "text/plain": [
       "   0\n",
       "0  0\n",
       "1  1\n",
       "2  1\n",
       "3  1\n",
       "4  1"
      ]
     },
     "execution_count": 17,
     "metadata": {},
     "output_type": "execute_result"
    }
   ],
   "source": [
    "df = pd.DataFrame(labels)\n",
    "df.head()"
   ]
  },
  {
   "cell_type": "markdown",
   "metadata": {},
   "source": [
    "# NETWORK"
   ]
  },
  {
   "cell_type": "code",
   "execution_count": 18,
   "metadata": {},
   "outputs": [],
   "source": [
    "kernel_size = (3, 3)\n",
    "pool_size = (2, 2)\n",
    "width = 32\n",
    "height = 32\n",
    "depth = 3\n",
    "classes = 2\n",
    "input_shape = (width, height, depth)\n",
    "chan_dim = -1\n",
    "\n",
    "if K.image_data_format() == 'channels_first':\n",
    "    input_shape = (depth, width, height)\n",
    "    chan_dim = 1"
   ]
  },
  {
   "cell_type": "code",
   "execution_count": 19,
   "metadata": {},
   "outputs": [
    {
     "name": "stdout",
     "output_type": "stream",
     "text": [
      "Model: \"sequential_1\"\n",
      "_________________________________________________________________\n",
      "Layer (type)                 Output Shape              Param #   \n",
      "=================================================================\n",
      "conv2d_1 (Conv2D)            (None, 32, 32, 32)        896       \n",
      "_________________________________________________________________\n",
      "batch_normalization_1 (Batch (None, 32, 32, 32)        128       \n",
      "_________________________________________________________________\n",
      "conv2d_2 (Conv2D)            (None, 32, 32, 32)        9248      \n",
      "_________________________________________________________________\n",
      "batch_normalization_2 (Batch (None, 32, 32, 32)        128       \n",
      "_________________________________________________________________\n",
      "max_pooling2d_1 (MaxPooling2 (None, 16, 16, 32)        0         \n",
      "_________________________________________________________________\n",
      "dropout_1 (Dropout)          (None, 16, 16, 32)        0         \n",
      "_________________________________________________________________\n",
      "conv2d_3 (Conv2D)            (None, 16, 16, 64)        18496     \n",
      "_________________________________________________________________\n",
      "batch_normalization_3 (Batch (None, 16, 16, 64)        256       \n",
      "_________________________________________________________________\n",
      "conv2d_4 (Conv2D)            (None, 16, 16, 64)        36928     \n",
      "_________________________________________________________________\n",
      "batch_normalization_4 (Batch (None, 16, 16, 64)        256       \n",
      "_________________________________________________________________\n",
      "max_pooling2d_2 (MaxPooling2 (None, 8, 8, 64)          0         \n",
      "_________________________________________________________________\n",
      "dropout_2 (Dropout)          (None, 8, 8, 64)          0         \n",
      "_________________________________________________________________\n",
      "flatten_1 (Flatten)          (None, 4096)              0         \n",
      "_________________________________________________________________\n",
      "dense_1 (Dense)              (None, 512)               2097664   \n",
      "_________________________________________________________________\n",
      "batch_normalization_5 (Batch (None, 512)               2048      \n",
      "_________________________________________________________________\n",
      "dropout_3 (Dropout)          (None, 512)               0         \n",
      "_________________________________________________________________\n",
      "dense_2 (Dense)              (None, 1)                 513       \n",
      "=================================================================\n",
      "Total params: 2,166,561\n",
      "Trainable params: 2,165,153\n",
      "Non-trainable params: 1,408\n",
      "_________________________________________________________________\n"
     ]
    }
   ],
   "source": [
    "model = models.Sequential()\n",
    "model.add(layers.Conv2D(32, kernel_size, activation='relu', padding='same', input_shape=input_shape))\n",
    "model.add(layers.BatchNormalization(axis=chan_dim))\n",
    "model.add(layers.Conv2D(32, kernel_size, padding='same', activation='relu'))\n",
    "model.add(layers.BatchNormalization(axis=chan_dim))\n",
    "model.add(layers.MaxPooling2D(pool_size=pool_size))\n",
    "model.add(layers.Dropout(0.25))\n",
    "model.add(layers.Conv2D(64, kernel_size, padding='same', activation='relu'))\n",
    "model.add(layers.BatchNormalization(axis=chan_dim))\n",
    "model.add(layers.Conv2D(64, kernel_size, padding='same', activation='relu'))\n",
    "model.add(layers.BatchNormalization(axis=chan_dim))\n",
    "model.add(layers.MaxPooling2D(pool_size=pool_size))\n",
    "model.add(layers.Dropout(0.25))\n",
    "model.add(layers.Flatten())\n",
    "model.add(layers.Dense(512, activation='relu'))\n",
    "model.add(layers.BatchNormalization(axis=chan_dim))\n",
    "model.add(layers.Dropout(0.25))\n",
    "model.add(layers.Dense(1, activation='sigmoid'))\n",
    "\n",
    "model.summary()"
   ]
  },
  {
   "cell_type": "markdown",
   "metadata": {},
   "source": [
    "## ARCHITECTURE"
   ]
  },
  {
   "cell_type": "code",
   "execution_count": 20,
   "metadata": {
    "scrolled": true
   },
   "outputs": [
    {
     "data": {
      "image/png": "[encoded data removed]",
      "text/plain": [
       "<IPython.core.display.Image object>"
      ]
     },
     "execution_count": 20,
     "metadata": {},
     "output_type": "execute_result"
    }
   ],
   "source": [
    "plot_model(model, to_file='serialized/architecture/architecture.png', show_shapes=True)"
   ]
  },
  {
   "cell_type": "markdown",
   "metadata": {},
   "source": [
    "# TRAINING MULTIPLE MODELS"
   ]
  },
  {
   "cell_type": "code",
   "execution_count": null,
   "metadata": {
    "scrolled": true
   },
   "outputs": [
    {
     "name": "stderr",
     "output_type": "stream",
     "text": [
      "Training:   0% |                                               | ETA:  --:--:--\r"
     ]
    },
    {
     "name": "stdout",
     "output_type": "stream",
     "text": [
      "\n",
      "[INFO] training model 1/5\n",
      "\n",
      "Train on 13779 samples, validate on 6890 samples\n",
      "Epoch 1/100\n",
      "13779/13779 [==============================] - 35s 3ms/step - loss: 0.4463 - acc: 0.7943 - val_loss: 0.4116 - val_acc: 0.8247\n",
      "Epoch 2/100\n",
      "13779/13779 [==============================] - 31s 2ms/step - loss: 0.2121 - acc: 0.9225 - val_loss: 0.2493 - val_acc: 0.9097\n",
      "Epoch 3/100\n",
      "13779/13779 [==============================] - 32s 2ms/step - loss: 0.1817 - acc: 0.9336 - val_loss: 0.2079 - val_acc: 0.9238\n",
      "Epoch 4/100\n",
      "13779/13779 [==============================] - 32s 2ms/step - loss: 0.1819 - acc: 0.9357 - val_loss: 0.7269 - val_acc: 0.5081\n",
      "Epoch 5/100\n",
      "13779/13779 [==============================] - 31s 2ms/step - loss: 0.1638 - acc: 0.9415 - val_loss: 0.1921 - val_acc: 0.9303\n",
      "Epoch 6/100\n",
      "13779/13779 [==============================] - 31s 2ms/step - loss: 0.1504 - acc: 0.9448 - val_loss: 0.3223 - val_acc: 0.8772\n",
      "Epoch 7/100\n",
      "13779/13779 [==============================] - 31s 2ms/step - loss: 0.1474 - acc: 0.9474 - val_loss: 0.3618 - val_acc: 0.8154\n",
      "Epoch 8/100\n",
      "13779/13779 [==============================] - 29s 2ms/step - loss: 0.1444 - acc: 0.9489 - val_loss: 0.3019 - val_acc: 0.9280\n",
      "Epoch 9/100\n",
      "13779/13779 [==============================] - 32s 2ms/step - loss: 0.1414 - acc: 0.9494 - val_loss: 0.8180 - val_acc: 0.6906\n",
      "Epoch 10/100\n",
      "13779/13779 [==============================] - 31s 2ms/step - loss: 0.1393 - acc: 0.9486 - val_loss: 0.2042 - val_acc: 0.9345\n",
      "Epoch 11/100\n",
      "13779/13779 [==============================] - 31s 2ms/step - loss: 0.1326 - acc: 0.9518 - val_loss: 0.2923 - val_acc: 0.9238\n",
      "Epoch 12/100\n",
      "13779/13779 [==============================] - 31s 2ms/step - loss: 0.1276 - acc: 0.9531 - val_loss: 0.1792 - val_acc: 0.9427\n",
      "Epoch 13/100\n",
      "13779/13779 [==============================] - 29s 2ms/step - loss: 0.1282 - acc: 0.9523 - val_loss: 0.2493 - val_acc: 0.9224\n",
      "Epoch 14/100\n",
      "13779/13779 [==============================] - 31s 2ms/step - loss: 0.1220 - acc: 0.9554 - val_loss: 0.1908 - val_acc: 0.9282\n",
      "Epoch 15/100\n",
      "13779/13779 [==============================] - 31s 2ms/step - loss: 0.1201 - acc: 0.9563 - val_loss: 0.1794 - val_acc: 0.9357\n",
      "Epoch 16/100\n",
      "13779/13779 [==============================] - 31s 2ms/step - loss: 0.1164 - acc: 0.9578 - val_loss: 0.1985 - val_acc: 0.9419\n",
      "Epoch 17/100\n",
      "13779/13779 [==============================] - 29s 2ms/step - loss: 0.1089 - acc: 0.9604 - val_loss: 0.2088 - val_acc: 0.9443\n",
      "Epoch 18/100\n",
      "13779/13779 [==============================] - 32s 2ms/step - loss: 0.1110 - acc: 0.9599 - val_loss: 0.2131 - val_acc: 0.9324\n",
      "Epoch 19/100\n",
      "13779/13779 [==============================] - 32s 2ms/step - loss: 0.1045 - acc: 0.9620 - val_loss: 0.1639 - val_acc: 0.9473\n",
      "Epoch 20/100\n",
      "13779/13779 [==============================] - 31s 2ms/step - loss: 0.1048 - acc: 0.9626 - val_loss: 0.3011 - val_acc: 0.8929\n",
      "Epoch 21/100\n",
      "13779/13779 [==============================] - 29s 2ms/step - loss: 0.0997 - acc: 0.9626 - val_loss: 0.1693 - val_acc: 0.9493\n",
      "Epoch 22/100\n",
      "13779/13779 [==============================] - 31s 2ms/step - loss: 0.0988 - acc: 0.9647 - val_loss: 0.2488 - val_acc: 0.9062\n",
      "Epoch 23/100\n",
      "13779/13779 [==============================] - 29s 2ms/step - loss: 0.0900 - acc: 0.9660 - val_loss: 0.3779 - val_acc: 0.8611\n",
      "Epoch 24/100\n",
      "13779/13779 [==============================] - 29s 2ms/step - loss: 0.0962 - acc: 0.9636 - val_loss: 0.3871 - val_acc: 0.8689\n",
      "Epoch 25/100\n",
      "13779/13779 [==============================] - 32s 2ms/step - loss: 0.0908 - acc: 0.9689 - val_loss: 0.2446 - val_acc: 0.9202\n",
      "Epoch 26/100\n",
      "13779/13779 [==============================] - 29s 2ms/step - loss: 0.0870 - acc: 0.9694 - val_loss: 0.2492 - val_acc: 0.9163\n",
      "Epoch 27/100\n",
      "13779/13779 [==============================] - 29s 2ms/step - loss: 0.0896 - acc: 0.9670 - val_loss: 0.1578 - val_acc: 0.9448\n",
      "Epoch 28/100\n",
      "13779/13779 [==============================] - 32s 2ms/step - loss: 0.0764 - acc: 0.9722 - val_loss: 0.1630 - val_acc: 0.9460\n",
      "Epoch 29/100\n",
      "13779/13779 [==============================] - 29s 2ms/step - loss: 0.0809 - acc: 0.9705 - val_loss: 0.2033 - val_acc: 0.9425\n",
      "Epoch 30/100\n",
      "13779/13779 [==============================] - 29s 2ms/step - loss: 0.0736 - acc: 0.9735 - val_loss: 0.1663 - val_acc: 0.9498\n",
      "Epoch 31/100\n",
      "13779/13779 [==============================] - 29s 2ms/step - loss: 0.0764 - acc: 0.9727 - val_loss: 0.1767 - val_acc: 0.9489\n",
      "Epoch 32/100\n",
      "13779/13779 [==============================] - 29s 2ms/step - loss: 0.0742 - acc: 0.9723 - val_loss: 0.2485 - val_acc: 0.9270\n",
      "Epoch 33/100\n",
      "13779/13779 [==============================] - 29s 2ms/step - loss: 0.0698 - acc: 0.9741 - val_loss: 0.1892 - val_acc: 0.9457\n",
      "Epoch 34/100\n",
      "13779/13779 [==============================] - 29s 2ms/step - loss: 0.0670 - acc: 0.9767 - val_loss: 0.1650 - val_acc: 0.9473\n",
      "Epoch 35/100\n",
      "13779/13779 [==============================] - 29s 2ms/step - loss: 0.0675 - acc: 0.9748 - val_loss: 0.3178 - val_acc: 0.8984\n",
      "Epoch 36/100\n",
      "13779/13779 [==============================] - 31s 2ms/step - loss: 0.0662 - acc: 0.9749 - val_loss: 0.1743 - val_acc: 0.9428\n",
      "Epoch 37/100\n",
      "13779/13779 [==============================] - 29s 2ms/step - loss: 0.0721 - acc: 0.9742 - val_loss: 0.1881 - val_acc: 0.9470\n",
      "Epoch 38/100\n",
      "13779/13779 [==============================] - 29s 2ms/step - loss: 0.0741 - acc: 0.9737 - val_loss: 0.2036 - val_acc: 0.9421\n",
      "Epoch 39/100\n",
      "13779/13779 [==============================] - 29s 2ms/step - loss: 0.0651 - acc: 0.9745 - val_loss: 0.2382 - val_acc: 0.9377\n",
      "Epoch 40/100\n",
      "13779/13779 [==============================] - 29s 2ms/step - loss: 0.0686 - acc: 0.9750 - val_loss: 0.2020 - val_acc: 0.9412\n",
      "Epoch 41/100\n",
      "13779/13779 [==============================] - 29s 2ms/step - loss: 0.0569 - acc: 0.9788 - val_loss: 0.1891 - val_acc: 0.9433\n",
      "Epoch 42/100\n",
      "13779/13779 [==============================] - 29s 2ms/step - loss: 0.0537 - acc: 0.9816 - val_loss: 0.1958 - val_acc: 0.9489\n",
      "Epoch 43/100\n",
      "13779/13779 [==============================] - 31s 2ms/step - loss: 0.0531 - acc: 0.9808 - val_loss: 0.2378 - val_acc: 0.9376\n",
      "Epoch 44/100\n",
      " 7456/13779 [===============>..............] - ETA: 11s - loss: 0.0497 - acc: 0.9824"
     ]
    }
   ],
   "source": [
    "num_models = 5\n",
    "\n",
    "def stepFunc(predictions):\n",
    "    preds = list()\n",
    "    \n",
    "    for p in predictions:\n",
    "        if p > 0.5:\n",
    "            p = 1\n",
    "            preds.append(p)\n",
    "        else:\n",
    "            p = 0\n",
    "            preds.append(p)\n",
    "    \n",
    "    return preds\n",
    "\n",
    "progress = progressbar.ProgressBar(maxval=num_models, widgets=['Training: ', progressbar.Percentage(), ' ', progressbar.Bar(), ' ', progressbar.ETA()]).start()\n",
    "for i in np.arange(0, num_models):\n",
    "    \n",
    "    print()\n",
    "    print('[INFO] training model {}/{}'.format(i + 1, num_models))\n",
    "    print()\n",
    "    # compile\n",
    "    opt = SGD(lr=0.01, decay=0.01/100, momentum=0.9, nesterov=True)\n",
    "    model.compile(optimizer=opt, loss='binary_crossentropy', metrics=['acc'])\n",
    "    \n",
    "    # train\n",
    "    history = model.fit(trainX, trainY, epochs=100, batch_size=32, validation_data=(valX, valY))\n",
    "    \n",
    "    # save model to disk\n",
    "    model.save('serialized/model/model_{}.model'.format(i + 1))\n",
    "    \n",
    "    # predict\n",
    "    predictions = model.predict(testX, batch_size=32)\n",
    "    preds = stepFunc(predictions)\n",
    "    \n",
    "    report= classification_report(testY, preds, target_names=classNames)\n",
    "    \n",
    "    # save classification report\n",
    "    path = str('serialized/report/model_{}.txt'.format(i + 1))\n",
    "    f = open(path, 'w')\n",
    "    f.write(report)\n",
    "    f.close()\n",
    "    \n",
    "    # save plots\n",
    "    path = str('serialized/plot/model_{}'.format(i + 1))\n",
    "    plt.style.use('ggplot')\n",
    "    plt.plot(np.arange(0, 100), history.history['acc'], label='Train accuracy')\n",
    "    plt.plot(np.arange(0, 100), history.history['val_acc'], label='Validation accuracy')\n",
    "    plt.plot(np.arange(0, 100), history.history['loss'], label='Train Loss')\n",
    "    plt.plot(np.arange(0, 100), history.history['val_loss'], label='Validation Loss')\n",
    "    plt.title('Train Process')\n",
    "    plt.xlabel('Epochs')\n",
    "    plt.ylabel('Acc/Loss')\n",
    "    plt.legend()\n",
    "    plt.savefig(path)\n",
    "    plt.close()\n",
    "    progress.update(i)\n",
    "\n",
    "progress.finish()\n",
    "    "
   ]
  },
  {
   "cell_type": "code",
   "execution_count": null,
   "metadata": {},
   "outputs": [],
   "source": []
  },
  {
   "cell_type": "code",
   "execution_count": null,
   "metadata": {},
   "outputs": [],
   "source": []
  },
  {
   "cell_type": "code",
   "execution_count": null,
   "metadata": {},
   "outputs": [],
   "source": []
  },
  {
   "cell_type": "code",
   "execution_count": null,
   "metadata": {},
   "outputs": [],
   "source": []
  },
  {
   "cell_type": "markdown",
   "metadata": {},
   "source": [
    "# PLOTING"
   ]
  },
  {
   "cell_type": "code",
   "execution_count": null,
   "metadata": {},
   "outputs": [],
   "source": []
  },
  {
   "cell_type": "markdown",
   "metadata": {},
   "source": [
    "# EVALUATION"
   ]
  },
  {
   "cell_type": "code",
   "execution_count": null,
   "metadata": {},
   "outputs": [],
   "source": []
  },
  {
   "cell_type": "markdown",
   "metadata": {},
   "source": [
    "# PREDICTION"
   ]
  },
  {
   "cell_type": "code",
   "execution_count": null,
   "metadata": {},
   "outputs": [],
   "source": []
  },
  {
   "cell_type": "markdown",
   "metadata": {},
   "source": [
    "# SUMMARY"
   ]
  },
  {
   "cell_type": "raw",
   "metadata": {},
   "source": []
  }
 ],
 "metadata": {
  "kernelspec": {
   "display_name": "Python 3",
   "language": "python",
   "name": "python3"
  },
  "language_info": {
   "codemirror_mode": {
    "name": "ipython",
    "version": 3
   },
   "file_extension": ".py",
   "mimetype": "text/x-python",
   "name": "python",
   "nbconvert_exporter": "python",
   "pygments_lexer": "ipython3",
   "version": "3.6.10"
  }
 },
 "nbformat": 4,
 "nbformat_minor": 4
}
