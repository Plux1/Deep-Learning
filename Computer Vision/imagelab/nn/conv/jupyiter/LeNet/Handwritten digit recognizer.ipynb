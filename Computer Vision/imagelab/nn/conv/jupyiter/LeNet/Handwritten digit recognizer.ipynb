{
 "cells": [
  {
   "cell_type": "markdown",
   "metadata": {},
   "source": [
    "# NOTE"
   ]
  },
  {
   "cell_type": "raw",
   "metadata": {},
   "source": [
    "                                                          NETWORK ARCHITECTURE\n",
    " \n",
    "        INPUT => CONV => TANH => POOL => CONV => TANH => POOL =>FC => TANH => FC"
   ]
  },
  {
   "cell_type": "markdown",
   "metadata": {},
   "source": [
    "# IMPORTS"
   ]
  },
  {
   "cell_type": "code",
   "execution_count": 19,
   "metadata": {},
   "outputs": [],
   "source": [
    "from keras import models\n",
    "from keras import layers\n",
    "from scipy.io import loadmat\n",
    "from sklearn.preprocessing import LabelBinarizer\n",
    "from sklearn.model_selection import train_test_split\n",
    "from sklearn.metrics import classification_report\n",
    "from keras import backend as K\n",
    "from keras.optimizers import SGD\n",
    "import matplotlib.pyplot as plt\n",
    "import numpy as np"
   ]
  },
  {
   "cell_type": "markdown",
   "metadata": {},
   "source": [
    "# MNIST DATASET"
   ]
  },
  {
   "cell_type": "code",
   "execution_count": 2,
   "metadata": {
    "scrolled": true
   },
   "outputs": [
    {
     "data": {
      "text/plain": [
       "{'__header__': b'MATLAB 5.0 MAT-file Platform: posix, Created on: Sun Mar 30 03:19:02 2014',\n",
       " '__version__': '1.0',\n",
       " '__globals__': [],\n",
       " 'mldata_descr_ordering': array([[array(['label'], dtype='<U5'), array(['data'], dtype='<U4')]],\n",
       "       dtype=object),\n",
       " 'data': array([[0, 0, 0, ..., 0, 0, 0],\n",
       "        [0, 0, 0, ..., 0, 0, 0],\n",
       "        [0, 0, 0, ..., 0, 0, 0],\n",
       "        ...,\n",
       "        [0, 0, 0, ..., 0, 0, 0],\n",
       "        [0, 0, 0, ..., 0, 0, 0],\n",
       "        [0, 0, 0, ..., 0, 0, 0]], dtype=uint8),\n",
       " 'label': array([[0., 0., 0., ..., 9., 9., 9.]])}"
      ]
     },
     "execution_count": 2,
     "metadata": {},
     "output_type": "execute_result"
    }
   ],
   "source": [
    "# Load dataset\n",
    "dataset_path = 'C:/Users/Tajr/Desktop/Data/RadonPlus/RadonTechnology/Dev/Deep Learning/Datasets/mnist/mnist'\n",
    "dataset = loadmat(dataset_path)\n",
    "dataset"
   ]
  },
  {
   "cell_type": "markdown",
   "metadata": {},
   "source": [
    "## Data"
   ]
  },
  {
   "cell_type": "code",
   "execution_count": 3,
   "metadata": {},
   "outputs": [
    {
     "data": {
      "text/plain": [
       "(70000, 784)"
      ]
     },
     "execution_count": 3,
     "metadata": {},
     "output_type": "execute_result"
    }
   ],
   "source": [
    "data = dataset['data']\n",
    "data = data.T\n",
    "\n",
    "# Normalize data\n",
    "data = data.astype('float') / 255.0\n",
    "data.shape\n",
    "data.shape"
   ]
  },
  {
   "cell_type": "code",
   "execution_count": 4,
   "metadata": {},
   "outputs": [
    {
     "data": {
      "text/plain": [
       "(70000, 28, 28, 1)"
      ]
     },
     "execution_count": 4,
     "metadata": {},
     "output_type": "execute_result"
    }
   ],
   "source": [
    "data = data.reshape(data.shape[0], 28, 28, 1)\n",
    "data.shape"
   ]
  },
  {
   "cell_type": "markdown",
   "metadata": {},
   "source": [
    "## Labels"
   ]
  },
  {
   "cell_type": "code",
   "execution_count": 5,
   "metadata": {},
   "outputs": [
    {
     "data": {
      "text/plain": [
       "(70000, 10)"
      ]
     },
     "execution_count": 5,
     "metadata": {},
     "output_type": "execute_result"
    }
   ],
   "source": [
    "labels = dataset['label']\n",
    "labels = labels.T\n",
    "\n",
    "# Label Binarization\n",
    "lb = LabelBinarizer()\n",
    "labels = lb.fit_transform(labels)\n",
    "labels.shape"
   ]
  },
  {
   "cell_type": "markdown",
   "metadata": {},
   "source": [
    "## Data Split"
   ]
  },
  {
   "cell_type": "code",
   "execution_count": 6,
   "metadata": {},
   "outputs": [
    {
     "name": "stdout",
     "output_type": "stream",
     "text": [
      "(35000, 28, 28, 1)\n",
      "(17500, 28, 28, 1)\n",
      "(17500, 28, 28, 1)\n"
     ]
    }
   ],
   "source": [
    "(train_samples, testX, train_labels, testY) = train_test_split(data, labels, test_size=0.25)\n",
    "(trainX, validationX, trainY, validationY) = train_test_split(train_samples, train_labels, test_size=0.33333)\n",
    "print(trainX.shape)\n",
    "print(validationX.shape)\n",
    "print(testX.shape)"
   ]
  },
  {
   "cell_type": "markdown",
   "metadata": {},
   "source": [
    "# ARCHITECTURE"
   ]
  },
  {
   "cell_type": "code",
   "execution_count": 7,
   "metadata": {},
   "outputs": [
    {
     "name": "stdout",
     "output_type": "stream",
     "text": [
      "Model: \"sequential_1\"\n",
      "_________________________________________________________________\n",
      "Layer (type)                 Output Shape              Param #   \n",
      "=================================================================\n",
      "conv2d_1 (Conv2D)            (None, 28, 28, 20)        520       \n",
      "_________________________________________________________________\n",
      "activation_1 (Activation)    (None, 28, 28, 20)        0         \n",
      "_________________________________________________________________\n",
      "max_pooling2d_1 (MaxPooling2 (None, 14, 14, 20)        0         \n",
      "_________________________________________________________________\n",
      "conv2d_2 (Conv2D)            (None, 14, 14, 50)        25050     \n",
      "_________________________________________________________________\n",
      "activation_2 (Activation)    (None, 14, 14, 50)        0         \n",
      "_________________________________________________________________\n",
      "max_pooling2d_2 (MaxPooling2 (None, 7, 7, 50)          0         \n",
      "_________________________________________________________________\n",
      "flatten_1 (Flatten)          (None, 2450)              0         \n",
      "_________________________________________________________________\n",
      "dense_1 (Dense)              (None, 500)               1225500   \n",
      "_________________________________________________________________\n",
      "activation_3 (Activation)    (None, 500)               0         \n",
      "_________________________________________________________________\n",
      "dense_2 (Dense)              (None, 10)                5010      \n",
      "_________________________________________________________________\n",
      "activation_4 (Activation)    (None, 10)                0         \n",
      "=================================================================\n",
      "Total params: 1,256,080\n",
      "Trainable params: 1,256,080\n",
      "Non-trainable params: 0\n",
      "_________________________________________________________________\n"
     ]
    }
   ],
   "source": [
    "width = 28\n",
    "height = 28\n",
    "depth = 1\n",
    "classes = 10\n",
    "conv_strides = (5, 5)\n",
    "pool_strides = (2, 2)\n",
    "pool_size = (2, 2)\n",
    "input_filters = 20\n",
    "input_shape = (width, height, depth)\n",
    "\n",
    "# Configure input shape\n",
    "if K.image_data_format() == 'channels_first':\n",
    "    input_shape = (depth, width, height)\n",
    "\n",
    "# Build a model\n",
    "model = models.Sequential()\n",
    "model.add(layers.Conv2D(input_filters, conv_strides, padding='same', input_shape=input_shape))\n",
    "model.add(layers.Activation('relu'))\n",
    "model.add(layers.MaxPooling2D(pool_size=pool_size, strides=pool_strides))\n",
    "model.add(layers.Conv2D(50,conv_strides, padding='same'))\n",
    "model.add(layers.Activation('relu'))\n",
    "model.add(layers.MaxPooling2D(pool_size=pool_size, strides=pool_strides))\n",
    "model.add(layers.Flatten())\n",
    "model.add(layers.Dense(500))\n",
    "model.add(layers.Activation('relu'))\n",
    "model.add(layers.Dense(classes))\n",
    "model.add(layers.Activation('softmax'))\n",
    "\n",
    "model.summary()"
   ]
  },
  {
   "cell_type": "markdown",
   "metadata": {},
   "source": [
    "# COMPILE AND TRAIN"
   ]
  },
  {
   "cell_type": "code",
   "execution_count": 8,
   "metadata": {
    "scrolled": true
   },
   "outputs": [
    {
     "name": "stdout",
     "output_type": "stream",
     "text": [
      "Train on 35000 samples, validate on 17500 samples\n",
      "Epoch 1/100\n",
      "35000/35000 [==============================] - 26s 748us/step - loss: 0.5529 - acc: 0.8431 - val_loss: 0.1818 - val_acc: 0.9459\n",
      "Epoch 2/100\n",
      "35000/35000 [==============================] - 27s 764us/step - loss: 0.1475 - acc: 0.9558 - val_loss: 0.1212 - val_acc: 0.9644\n",
      "Epoch 3/100\n",
      "35000/35000 [==============================] - 22s 621us/step - loss: 0.1014 - acc: 0.9689 - val_loss: 0.1028 - val_acc: 0.9673\n",
      "Epoch 4/100\n",
      "35000/35000 [==============================] - 21s 599us/step - loss: 0.0790 - acc: 0.9758 - val_loss: 0.0781 - val_acc: 0.9745\n",
      "Epoch 5/100\n",
      "35000/35000 [==============================] - 18s 504us/step - loss: 0.0657 - acc: 0.9797 - val_loss: 0.0824 - val_acc: 0.9745\n",
      "Epoch 6/100\n",
      "35000/35000 [==============================] - 18s 501us/step - loss: 0.0559 - acc: 0.9830 - val_loss: 0.0642 - val_acc: 0.9802\n",
      "Epoch 7/100\n",
      "35000/35000 [==============================] - 22s 630us/step - loss: 0.0485 - acc: 0.9854 - val_loss: 0.0625 - val_acc: 0.9794\n",
      "Epoch 8/100\n",
      "35000/35000 [==============================] - 18s 501us/step - loss: 0.0428 - acc: 0.9861 - val_loss: 0.0640 - val_acc: 0.9796\n",
      "Epoch 9/100\n",
      "35000/35000 [==============================] - 21s 612us/step - loss: 0.0380 - acc: 0.9880 - val_loss: 0.0719 - val_acc: 0.9753\n",
      "Epoch 10/100\n",
      "35000/35000 [==============================] - 18s 502us/step - loss: 0.0344 - acc: 0.9893 - val_loss: 0.0568 - val_acc: 0.9826\n",
      "Epoch 11/100\n",
      "35000/35000 [==============================] - 21s 599us/step - loss: 0.0303 - acc: 0.9905 - val_loss: 0.0509 - val_acc: 0.9842\n",
      "Epoch 12/100\n",
      "35000/35000 [==============================] - 18s 508us/step - loss: 0.0273 - acc: 0.9919 - val_loss: 0.0550 - val_acc: 0.9835\n",
      "Epoch 13/100\n",
      "35000/35000 [==============================] - 18s 509us/step - loss: 0.0250 - acc: 0.9927 - val_loss: 0.0513 - val_acc: 0.9841\n",
      "Epoch 14/100\n",
      "35000/35000 [==============================] - 21s 610us/step - loss: 0.0226 - acc: 0.9935 - val_loss: 0.0496 - val_acc: 0.9847\n",
      "Epoch 15/100\n",
      "35000/35000 [==============================] - 18s 511us/step - loss: 0.0201 - acc: 0.9939 - val_loss: 0.0459 - val_acc: 0.9861\n",
      "Epoch 16/100\n",
      "35000/35000 [==============================] - 21s 609us/step - loss: 0.0186 - acc: 0.9944 - val_loss: 0.0493 - val_acc: 0.9850\n",
      "Epoch 17/100\n",
      "35000/35000 [==============================] - 18s 508us/step - loss: 0.0174 - acc: 0.9947 - val_loss: 0.0473 - val_acc: 0.9861\n",
      "Epoch 18/100\n",
      "35000/35000 [==============================] - 18s 505us/step - loss: 0.0156 - acc: 0.9957 - val_loss: 0.0482 - val_acc: 0.9850\n",
      "Epoch 19/100\n",
      "35000/35000 [==============================] - 18s 505us/step - loss: 0.0135 - acc: 0.9963 - val_loss: 0.0447 - val_acc: 0.9866\n",
      "Epoch 20/100\n",
      "35000/35000 [==============================] - 21s 605us/step - loss: 0.0117 - acc: 0.9970 - val_loss: 0.0458 - val_acc: 0.9861\n",
      "Epoch 21/100\n",
      "35000/35000 [==============================] - 18s 503us/step - loss: 0.0111 - acc: 0.9969 - val_loss: 0.0487 - val_acc: 0.9863\n",
      "Epoch 22/100\n",
      "35000/35000 [==============================] - 18s 508us/step - loss: 0.0101 - acc: 0.9971 - val_loss: 0.0563 - val_acc: 0.9824\n",
      "Epoch 23/100\n",
      "35000/35000 [==============================] - 18s 509us/step - loss: 0.0087 - acc: 0.9979 - val_loss: 0.0477 - val_acc: 0.9860\n",
      "Epoch 24/100\n",
      "35000/35000 [==============================] - 18s 509us/step - loss: 0.0086 - acc: 0.9979 - val_loss: 0.0463 - val_acc: 0.9865\n",
      "Epoch 25/100\n",
      "35000/35000 [==============================] - 18s 515us/step - loss: 0.0078 - acc: 0.9981 - val_loss: 0.0463 - val_acc: 0.9865\n",
      "Epoch 26/100\n",
      "35000/35000 [==============================] - 18s 510us/step - loss: 0.0072 - acc: 0.9982 - val_loss: 0.0474 - val_acc: 0.9859\n",
      "Epoch 27/100\n",
      "35000/35000 [==============================] - 22s 618us/step - loss: 0.0058 - acc: 0.9987 - val_loss: 0.0571 - val_acc: 0.9843\n",
      "Epoch 28/100\n",
      "35000/35000 [==============================] - 21s 608us/step - loss: 0.0059 - acc: 0.9987 - val_loss: 0.0558 - val_acc: 0.9841\n",
      "Epoch 29/100\n",
      "35000/35000 [==============================] - 18s 505us/step - loss: 0.0049 - acc: 0.9989 - val_loss: 0.0526 - val_acc: 0.9859\n",
      "Epoch 30/100\n",
      "35000/35000 [==============================] - 21s 612us/step - loss: 0.0044 - acc: 0.9992 - val_loss: 0.0487 - val_acc: 0.9865\n",
      "Epoch 31/100\n",
      "35000/35000 [==============================] - 18s 502us/step - loss: 0.0045 - acc: 0.9992 - val_loss: 0.0485 - val_acc: 0.9867\n",
      "Epoch 32/100\n",
      "35000/35000 [==============================] - 21s 605us/step - loss: 0.0037 - acc: 0.9993 - val_loss: 0.0502 - val_acc: 0.9859\n",
      "Epoch 33/100\n",
      "35000/35000 [==============================] - 18s 506us/step - loss: 0.0034 - acc: 0.9993 - val_loss: 0.0508 - val_acc: 0.9871\n",
      "Epoch 34/100\n",
      "35000/35000 [==============================] - 21s 603us/step - loss: 0.0034 - acc: 0.9994 - val_loss: 0.0490 - val_acc: 0.9875\n",
      "Epoch 35/100\n",
      "35000/35000 [==============================] - 18s 508us/step - loss: 0.0029 - acc: 0.9995 - val_loss: 0.0549 - val_acc: 0.9857\n",
      "Epoch 36/100\n",
      "35000/35000 [==============================] - 18s 510us/step - loss: 0.0028 - acc: 0.9995 - val_loss: 0.0500 - val_acc: 0.9875\n",
      "Epoch 37/100\n",
      "35000/35000 [==============================] - 21s 596us/step - loss: 0.0022 - acc: 0.9998 - val_loss: 0.0504 - val_acc: 0.9871\n",
      "Epoch 38/100\n",
      "35000/35000 [==============================] - 21s 601us/step - loss: 0.0020 - acc: 0.9999 - val_loss: 0.0511 - val_acc: 0.9865\n",
      "Epoch 39/100\n",
      "35000/35000 [==============================] - 18s 507us/step - loss: 0.0020 - acc: 0.9999 - val_loss: 0.0513 - val_acc: 0.9871\n",
      "Epoch 40/100\n",
      "35000/35000 [==============================] - 18s 507us/step - loss: 0.0018 - acc: 0.9999 - val_loss: 0.0538 - val_acc: 0.9864\n",
      "Epoch 41/100\n",
      "35000/35000 [==============================] - 21s 613us/step - loss: 0.0017 - acc: 0.9998 - val_loss: 0.0499 - val_acc: 0.9876\n",
      "Epoch 42/100\n",
      "35000/35000 [==============================] - 18s 505us/step - loss: 0.0016 - acc: 0.9999 - val_loss: 0.0508 - val_acc: 0.9875\n",
      "Epoch 43/100\n",
      "35000/35000 [==============================] - 18s 513us/step - loss: 0.0015 - acc: 0.9999 - val_loss: 0.0509 - val_acc: 0.9872\n",
      "Epoch 44/100\n",
      "35000/35000 [==============================] - 21s 597us/step - loss: 0.0014 - acc: 0.9999 - val_loss: 0.0511 - val_acc: 0.9874\n",
      "Epoch 45/100\n",
      "35000/35000 [==============================] - 18s 502us/step - loss: 0.0013 - acc: 0.9998 - val_loss: 0.0520 - val_acc: 0.9875\n",
      "Epoch 46/100\n",
      "35000/35000 [==============================] - 18s 503us/step - loss: 0.0012 - acc: 0.9999 - val_loss: 0.0521 - val_acc: 0.9869\n",
      "Epoch 47/100\n",
      "35000/35000 [==============================] - 18s 506us/step - loss: 0.0012 - acc: 0.9999 - val_loss: 0.0559 - val_acc: 0.9866\n",
      "Epoch 48/100\n",
      "35000/35000 [==============================] - 21s 596us/step - loss: 0.0010 - acc: 1.0000 - val_loss: 0.0543 - val_acc: 0.9865\n",
      "Epoch 49/100\n",
      "35000/35000 [==============================] - 21s 600us/step - loss: 9.8430e-04 - acc: 1.0000 - val_loss: 0.0533 - val_acc: 0.9873\n",
      "Epoch 50/100\n",
      "35000/35000 [==============================] - 21s 603us/step - loss: 9.3599e-04 - acc: 1.0000 - val_loss: 0.0529 - val_acc: 0.9882\n",
      "Epoch 51/100\n",
      "35000/35000 [==============================] - 22s 626us/step - loss: 8.6403e-04 - acc: 1.0000 - val_loss: 0.0527 - val_acc: 0.9876\n",
      "Epoch 52/100\n",
      "35000/35000 [==============================] - 21s 607us/step - loss: 8.7971e-04 - acc: 1.0000 - val_loss: 0.0533 - val_acc: 0.9872\n",
      "Epoch 53/100\n",
      "35000/35000 [==============================] - 18s 507us/step - loss: 8.0281e-04 - acc: 1.0000 - val_loss: 0.0538 - val_acc: 0.9876\n",
      "Epoch 54/100\n",
      "35000/35000 [==============================] - 21s 603us/step - loss: 7.5788e-04 - acc: 1.0000 - val_loss: 0.0607 - val_acc: 0.9860\n",
      "Epoch 55/100\n",
      "35000/35000 [==============================] - 18s 505us/step - loss: 0.0010 - acc: 0.9999 - val_loss: 0.0562 - val_acc: 0.9873\n",
      "Epoch 56/100\n",
      "35000/35000 [==============================] - 18s 505us/step - loss: 7.4570e-04 - acc: 1.0000 - val_loss: 0.0540 - val_acc: 0.9875\n",
      "Epoch 57/100\n",
      "35000/35000 [==============================] - 18s 501us/step - loss: 6.9534e-04 - acc: 1.0000 - val_loss: 0.0547 - val_acc: 0.9878\n",
      "Epoch 58/100\n"
     ]
    },
    {
     "name": "stdout",
     "output_type": "stream",
     "text": [
      "35000/35000 [==============================] - 18s 505us/step - loss: 6.3388e-04 - acc: 1.0000 - val_loss: 0.0540 - val_acc: 0.9879\n",
      "Epoch 59/100\n",
      "35000/35000 [==============================] - 18s 502us/step - loss: 6.3788e-04 - acc: 1.0000 - val_loss: 0.0548 - val_acc: 0.9875\n",
      "Epoch 60/100\n",
      "35000/35000 [==============================] - 21s 600us/step - loss: 5.8859e-04 - acc: 1.0000 - val_loss: 0.0547 - val_acc: 0.9874\n",
      "Epoch 61/100\n",
      "35000/35000 [==============================] - 18s 506us/step - loss: 5.6589e-04 - acc: 1.0000 - val_loss: 0.0551 - val_acc: 0.9875\n",
      "Epoch 62/100\n",
      "35000/35000 [==============================] - 21s 614us/step - loss: 5.7879e-04 - acc: 1.0000 - val_loss: 0.0558 - val_acc: 0.9873TA: 0s - loss: 5.7850e-04 - acc\n",
      "Epoch 63/100\n",
      "35000/35000 [==============================] - 21s 603us/step - loss: 5.5392e-04 - acc: 1.0000 - val_loss: 0.0552 - val_acc: 0.9878\n",
      "Epoch 64/100\n",
      "35000/35000 [==============================] - 18s 503us/step - loss: 5.2632e-04 - acc: 1.0000 - val_loss: 0.0557 - val_acc: 0.9881\n",
      "Epoch 65/100\n",
      "35000/35000 [==============================] - 18s 506us/step - loss: 5.0625e-04 - acc: 1.0000 - val_loss: 0.0567 - val_acc: 0.9881\n",
      "Epoch 66/100\n",
      "35000/35000 [==============================] - 21s 600us/step - loss: 4.7877e-04 - acc: 1.0000 - val_loss: 0.0562 - val_acc: 0.9881\n",
      "Epoch 67/100\n",
      "35000/35000 [==============================] - 18s 505us/step - loss: 4.9730e-04 - acc: 1.0000 - val_loss: 0.0559 - val_acc: 0.9878\n",
      "Epoch 68/100\n",
      "35000/35000 [==============================] - 18s 505us/step - loss: 4.8161e-04 - acc: 1.0000 - val_loss: 0.0560 - val_acc: 0.9877\n",
      "Epoch 69/100\n",
      "35000/35000 [==============================] - 18s 502us/step - loss: 4.4040e-04 - acc: 1.0000 - val_loss: 0.0561 - val_acc: 0.9875\n",
      "Epoch 70/100\n",
      "35000/35000 [==============================] - 18s 506us/step - loss: 4.3950e-04 - acc: 1.0000 - val_loss: 0.0561 - val_acc: 0.9878\n",
      "Epoch 71/100\n",
      "35000/35000 [==============================] - 21s 597us/step - loss: 4.2611e-04 - acc: 1.0000 - val_loss: 0.0568 - val_acc: 0.9881\n",
      "Epoch 72/100\n",
      "35000/35000 [==============================] - 18s 509us/step - loss: 4.0131e-04 - acc: 1.0000 - val_loss: 0.0570 - val_acc: 0.9876\n",
      "Epoch 73/100\n",
      "35000/35000 [==============================] - 21s 603us/step - loss: 4.0571e-04 - acc: 1.0000 - val_loss: 0.0574 - val_acc: 0.9882\n",
      "Epoch 74/100\n",
      "35000/35000 [==============================] - 18s 508us/step - loss: 3.9990e-04 - acc: 1.0000 - val_loss: 0.0571 - val_acc: 0.9875\n",
      "Epoch 75/100\n",
      "35000/35000 [==============================] - 18s 505us/step - loss: 3.8766e-04 - acc: 1.0000 - val_loss: 0.0571 - val_acc: 0.9877\n",
      "Epoch 76/100\n",
      "35000/35000 [==============================] - 21s 608us/step - loss: 3.8631e-04 - acc: 1.0000 - val_loss: 0.0576 - val_acc: 0.9877\n",
      "Epoch 77/100\n",
      "35000/35000 [==============================] - 18s 505us/step - loss: 3.6423e-04 - acc: 1.0000 - val_loss: 0.0577 - val_acc: 0.9878\n",
      "Epoch 78/100\n",
      "35000/35000 [==============================] - 18s 513us/step - loss: 3.6430e-04 - acc: 1.0000 - val_loss: 0.0575 - val_acc: 0.9880\n",
      "Epoch 79/100\n",
      "35000/35000 [==============================] - 21s 612us/step - loss: 3.5014e-04 - acc: 1.0000 - val_loss: 0.0577 - val_acc: 0.9878\n",
      "Epoch 80/100\n",
      "35000/35000 [==============================] - 21s 601us/step - loss: 3.4104e-04 - acc: 1.0000 - val_loss: 0.0576 - val_acc: 0.9880\n",
      "Epoch 81/100\n",
      "35000/35000 [==============================] - 18s 509us/step - loss: 3.3940e-04 - acc: 1.0000 - val_loss: 0.0581 - val_acc: 0.9881\n",
      "Epoch 82/100\n",
      "35000/35000 [==============================] - 18s 506us/step - loss: 3.2433e-04 - acc: 1.0000 - val_loss: 0.0583 - val_acc: 0.9875\n",
      "Epoch 83/100\n",
      "35000/35000 [==============================] - 18s 508us/step - loss: 3.1342e-04 - acc: 1.0000 - val_loss: 0.0583 - val_acc: 0.9875\n",
      "Epoch 84/100\n",
      "35000/35000 [==============================] - 21s 609us/step - loss: 3.1015e-04 - acc: 1.0000 - val_loss: 0.0582 - val_acc: 0.9877\n",
      "Epoch 85/100\n",
      "35000/35000 [==============================] - 21s 608us/step - loss: 2.9894e-04 - acc: 1.0000 - val_loss: 0.0587 - val_acc: 0.9878\n",
      "Epoch 86/100\n",
      "35000/35000 [==============================] - 18s 510us/step - loss: 2.9617e-04 - acc: 1.0000 - val_loss: 0.0589 - val_acc: 0.9881\n",
      "Epoch 87/100\n",
      "35000/35000 [==============================] - 22s 620us/step - loss: 2.9342e-04 - acc: 1.0000 - val_loss: 0.0588 - val_acc: 0.9879\n",
      "Epoch 88/100\n",
      "35000/35000 [==============================] - 18s 510us/step - loss: 2.9182e-04 - acc: 1.0000 - val_loss: 0.0591 - val_acc: 0.9878\n",
      "Epoch 89/100\n",
      "35000/35000 [==============================] - 22s 621us/step - loss: 2.7944e-04 - acc: 1.0000 - val_loss: 0.0593 - val_acc: 0.9877- ETA: 1s - loss: 2.8216e-04 - acc: 1.000 - \n",
      "Epoch 90/100\n",
      "35000/35000 [==============================] - 22s 629us/step - loss: 2.7277e-04 - acc: 1.0000 - val_loss: 0.0589 - val_acc: 0.9879\n",
      "Epoch 91/100\n",
      "35000/35000 [==============================] - 22s 622us/step - loss: 2.7144e-04 - acc: 1.0000 - val_loss: 0.0592 - val_acc: 0.9878\n",
      "Epoch 92/100\n",
      "35000/35000 [==============================] - 18s 509us/step - loss: 2.6638e-04 - acc: 1.0000 - val_loss: 0.0597 - val_acc: 0.9878\n",
      "Epoch 93/100\n",
      "35000/35000 [==============================] - 21s 610us/step - loss: 2.6135e-04 - acc: 1.0000 - val_loss: 0.0596 - val_acc: 0.9880\n",
      "Epoch 94/100\n",
      "35000/35000 [==============================] - 21s 605us/step - loss: 2.5283e-04 - acc: 1.0000 - val_loss: 0.0594 - val_acc: 0.9875\n",
      "Epoch 95/100\n",
      "35000/35000 [==============================] - 18s 505us/step - loss: 2.4919e-04 - acc: 1.0000 - val_loss: 0.0602 - val_acc: 0.9875\n",
      "Epoch 96/100\n",
      "35000/35000 [==============================] - 18s 507us/step - loss: 2.5067e-04 - acc: 1.0000 - val_loss: 0.0598 - val_acc: 0.9879\n",
      "Epoch 97/100\n",
      "35000/35000 [==============================] - 18s 504us/step - loss: 2.4350e-04 - acc: 1.0000 - val_loss: 0.0598 - val_acc: 0.9879\n",
      "Epoch 98/100\n",
      "35000/35000 [==============================] - 21s 604us/step - loss: 2.3906e-04 - acc: 1.0000 - val_loss: 0.0599 - val_acc: 0.9877\n",
      "Epoch 99/100\n",
      "35000/35000 [==============================] - 18s 505us/step - loss: 2.3136e-04 - acc: 1.0000 - val_loss: 0.0602 - val_acc: 0.9879\n",
      "Epoch 100/100\n",
      "35000/35000 [==============================] - 21s 604us/step - loss: 2.3259e-04 - acc: 1.0000 - val_loss: 0.0600 - val_acc: 0.9879\n"
     ]
    }
   ],
   "source": [
    "opt = SGD(lr=0.01)\n",
    "model.compile(optimizer=opt, loss='categorical_crossentropy', metrics=['acc'])\n",
    "history = model.fit(trainX, trainY, epochs=100, batch_size=32, validation_data=(validationX, validationY))"
   ]
  },
  {
   "cell_type": "markdown",
   "metadata": {},
   "source": [
    "# PLOT TRAIN RESULT"
   ]
  },
  {
   "cell_type": "markdown",
   "metadata": {},
   "source": [
    "## Data Points"
   ]
  },
  {
   "cell_type": "code",
   "execution_count": 9,
   "metadata": {},
   "outputs": [],
   "source": [
    "history_dict = history.history\n",
    "epochs = np.arange(0, 100)\n",
    "\n",
    "accuracy = history_dict['acc']\n",
    "val_accuracy = history_dict['val_acc']\n",
    "\n",
    "loss = history_dict['loss']\n",
    "val_loss = history_dict['val_loss']\n",
    "\n",
    "plt.style.use('ggplot')"
   ]
  },
  {
   "cell_type": "markdown",
   "metadata": {},
   "source": [
    "## Accuracy"
   ]
  },
  {
   "cell_type": "code",
   "execution_count": 10,
   "metadata": {},
   "outputs": [
    {
     "data": {
      "image/png": "[encoded data removed]",
      "text/plain": [
       "<Figure size 432x288 with 1 Axes>"
      ]
     },
     "metadata": {},
     "output_type": "display_data"
    }
   ],
   "source": [
    "plt.plot(epochs, accuracy, label='Train accuracy')\n",
    "plt.plot(epochs, val_accuracy, label='Validation accuracy')\n",
    "plt.title(\"Train and Validation Accuracy\")\n",
    "plt.xlabel('Epochs')\n",
    "plt.ylabel('Accuracy')\n",
    "plt.legend()\n",
    "plt.show()"
   ]
  },
  {
   "cell_type": "markdown",
   "metadata": {},
   "source": [
    "# Loss"
   ]
  },
  {
   "cell_type": "code",
   "execution_count": 11,
   "metadata": {},
   "outputs": [
    {
     "data": {
      "image/png": "[encoded data removed]",
      "text/plain": [
       "<Figure size 432x288 with 1 Axes>"
      ]
     },
     "metadata": {},
     "output_type": "display_data"
    }
   ],
   "source": [
    "plt.clf()\n",
    "plt.plot(epochs, loss, label='Train loss')\n",
    "plt.plot(epochs, val_loss, label='Validation loss')\n",
    "plt.title('Train and Validation Loss')\n",
    "plt.xlabel('Epochs')\n",
    "plt.ylabel('Loss')\n",
    "plt.legend()\n",
    "plt.show()"
   ]
  },
  {
   "cell_type": "markdown",
   "metadata": {},
   "source": [
    "# EVALUATE"
   ]
  },
  {
   "cell_type": "code",
   "execution_count": 15,
   "metadata": {},
   "outputs": [
    {
     "name": "stdout",
     "output_type": "stream",
     "text": [
      "17500/17500 [==============================] - 3s 195us/step\n"
     ]
    },
    {
     "data": {
      "text/plain": [
       "[0.05975236966203998, 0.9886857271194458]"
      ]
     },
     "execution_count": 15,
     "metadata": {},
     "output_type": "execute_result"
    }
   ],
   "source": [
    "# The first entry is our loss and the last entry in a list is our network accuracy on new data \n",
    "result = model.evaluate(testX, testY)\n",
    "result"
   ]
  },
  {
   "cell_type": "markdown",
   "metadata": {},
   "source": [
    "# PREDICTIONS"
   ]
  },
  {
   "cell_type": "code",
   "execution_count": 20,
   "metadata": {},
   "outputs": [
    {
     "name": "stdout",
     "output_type": "stream",
     "text": [
      "              precision    recall  f1-score   support\n",
      "\n",
      "         0.0       0.99      0.99      0.99      1770\n",
      "         1.0       0.99      0.99      0.99      1947\n",
      "         2.0       0.99      0.99      0.99      1780\n",
      "         3.0       0.99      0.98      0.98      1787\n",
      "         4.0       0.99      0.99      0.99      1785\n",
      "         5.0       0.99      0.98      0.98      1515\n",
      "         6.0       0.99      0.99      0.99      1714\n",
      "         7.0       0.98      0.99      0.99      1798\n",
      "         8.0       0.98      0.98      0.98      1709\n",
      "         9.0       0.99      0.98      0.98      1695\n",
      "\n",
      "    accuracy                           0.99     17500\n",
      "   macro avg       0.99      0.99      0.99     17500\n",
      "weighted avg       0.99      0.99      0.99     17500\n",
      "\n"
     ]
    }
   ],
   "source": [
    "predictions = model.predict(testX, batch_size=32)\n",
    "print(classification_report(testY.argmax(axis=1), predictions.argmax(axis=1), target_names=[str(x) for x in lb.classes_]))"
   ]
  },
  {
   "cell_type": "markdown",
   "metadata": {},
   "source": [
    "# CONCLUSION"
   ]
  },
  {
   "cell_type": "raw",
   "metadata": {},
   "source": [
    "The lenet is able to obtain a 99% accuracy a huge advancement from MNIST Final model trained \n",
    "            using Full Connected Network"
   ]
  }
 ],
 "metadata": {
  "kernelspec": {
   "display_name": "Python 3",
   "language": "python",
   "name": "python3"
  },
  "language_info": {
   "codemirror_mode": {
    "name": "ipython",
    "version": 3
   },
   "file_extension": ".py",
   "mimetype": "text/x-python",
   "name": "python",
   "nbconvert_exporter": "python",
   "pygments_lexer": "ipython3",
   "version": "3.6.10"
  }
 },
 "nbformat": 4,
 "nbformat_minor": 4
}
