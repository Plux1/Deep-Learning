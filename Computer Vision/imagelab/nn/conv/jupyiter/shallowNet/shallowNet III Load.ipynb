{
 "cells": [
  {
   "cell_type": "markdown",
   "metadata": {},
   "source": [
    "# NOTE"
   ]
  },
  {
   "cell_type": "code",
   "execution_count": null,
   "metadata": {},
   "outputs": [],
   "source": []
  },
  {
   "cell_type": "markdown",
   "metadata": {},
   "source": [
    "# IMPORTS"
   ]
  },
  {
   "cell_type": "code",
   "execution_count": 1,
   "metadata": {},
   "outputs": [
    {
     "name": "stderr",
     "output_type": "stream",
     "text": [
      "Using TensorFlow backend.\n"
     ]
    }
   ],
   "source": [
    "from imutils import paths\n",
    "from keras.preprocessing.image import img_to_array \n",
    "import cv2\n",
    "import numpy as np\n",
    "from keras.models import load_model"
   ]
  },
  {
   "cell_type": "markdown",
   "metadata": {},
   "source": [
    "# DATASET"
   ]
  },
  {
   "cell_type": "markdown",
   "metadata": {},
   "source": [
    "## Helper"
   ]
  },
  {
   "cell_type": "code",
   "execution_count": 2,
   "metadata": {},
   "outputs": [],
   "source": [
    "# Image loader: returns list of images\n",
    "def img_load(img_paths, verbose=1):\n",
    "    images = []\n",
    "    \n",
    "    print('[INFO] loading...')\n",
    "    for (i, image_path) in enumerate(img_paths):\n",
    "        image = cv2.imread(image_path)\n",
    "        images.append(image)\n",
    "        \n",
    "        if verbose > 0 and i > 0 and (i + 1) % verbose == 0:\n",
    "            print('[INFO] loaded {}/{}'.format((i + 1), len(img_paths)))\n",
    "    \n",
    "    if len(images) == len(img_paths):\n",
    "        print('[INFO] completed.')\n",
    "        \n",
    "    return images\n",
    "\n",
    "# Image processor: return list of data ready to pass though a pretrained model\n",
    "def img_processor(images, width, height, verbose=1):\n",
    "    data = []\n",
    "    inter = cv2.INTER_AREA\n",
    "    \n",
    "    print('[INFO] processing...')\n",
    "    for (i, image) in enumerate(images):\n",
    "        image = img_resize(image, width, height, inter)\n",
    "        image = img2array(image)\n",
    "        data.append(image)\n",
    "        \n",
    "        if i > 0 and verbose > 0 and (i + 1) % verbose == 0:\n",
    "            print('[INFO] processed {}/{}'.format(i, len(images)))\n",
    "    \n",
    "    if len(images) == len(data):\n",
    "        print('[INFO] completed.')\n",
    "    \n",
    "    data = np.array(data)\n",
    "    \n",
    "    # Scale\n",
    "    data = data.astype('float') / 255.0\n",
    "    \n",
    "    return data\n",
    "\n",
    "# Image resizer\n",
    "def img_resize(img, width, height, interpolation):\n",
    "    return cv2.resize(img, (width, height), interpolation)\n",
    "\n",
    "# Image to array\n",
    "def img2array(img, dataFormat=None):\n",
    "    return img_to_array(img, data_format=dataFormat)"
   ]
  },
  {
   "cell_type": "markdown",
   "metadata": {},
   "source": [
    "## Images"
   ]
  },
  {
   "cell_type": "code",
   "execution_count": 3,
   "metadata": {},
   "outputs": [
    {
     "name": "stdout",
     "output_type": "stream",
     "text": [
      "[INFO] loading...\n",
      "[INFO] loaded 2/12\n",
      "[INFO] loaded 3/12\n",
      "[INFO] loaded 4/12\n",
      "[INFO] loaded 5/12\n",
      "[INFO] loaded 6/12\n",
      "[INFO] loaded 7/12\n",
      "[INFO] loaded 8/12\n",
      "[INFO] loaded 9/12\n",
      "[INFO] loaded 10/12\n",
      "[INFO] loaded 11/12\n",
      "[INFO] loaded 12/12\n",
      "[INFO] completed.\n"
     ]
    }
   ],
   "source": [
    "images_dir = 'C:/Users/Tajr/Desktop/Data/RadonPlus/RadonTechnology/Dev/Deep Learning/Computer Vision/imagelab/nn/conv/jupyiter/shallowNet/predict_on/'\n",
    "images_paths = list(paths.list_images(images_dir))\n",
    "images = img_load(images_paths, verbose=1)"
   ]
  },
  {
   "cell_type": "markdown",
   "metadata": {},
   "source": [
    "## Data"
   ]
  },
  {
   "cell_type": "code",
   "execution_count": 4,
   "metadata": {},
   "outputs": [
    {
     "name": "stdout",
     "output_type": "stream",
     "text": [
      "[INFO] processing...\n",
      "[INFO] processed 1/12\n",
      "[INFO] processed 2/12\n",
      "[INFO] processed 3/12\n",
      "[INFO] processed 4/12\n",
      "[INFO] processed 5/12\n",
      "[INFO] processed 6/12\n",
      "[INFO] processed 7/12\n",
      "[INFO] processed 8/12\n",
      "[INFO] processed 9/12\n",
      "[INFO] processed 10/12\n",
      "[INFO] processed 11/12\n",
      "[INFO] completed.\n"
     ]
    }
   ],
   "source": [
    "data = img_processor(images, 32, 32)"
   ]
  },
  {
   "cell_type": "code",
   "execution_count": 5,
   "metadata": {},
   "outputs": [
    {
     "data": {
      "text/plain": [
       "(12, 32, 32, 3)"
      ]
     },
     "execution_count": 5,
     "metadata": {},
     "output_type": "execute_result"
    }
   ],
   "source": [
    "data.shape"
   ]
  },
  {
   "cell_type": "markdown",
   "metadata": {},
   "source": [
    "## Labels"
   ]
  },
  {
   "cell_type": "code",
   "execution_count": 6,
   "metadata": {},
   "outputs": [],
   "source": [
    "classLabels = ['cat', 'dog']"
   ]
  },
  {
   "cell_type": "markdown",
   "metadata": {},
   "source": [
    "# PRETRAINED MODEL"
   ]
  },
  {
   "cell_type": "code",
   "execution_count": 7,
   "metadata": {},
   "outputs": [
    {
     "name": "stdout",
     "output_type": "stream",
     "text": [
      "Model: \"sequential_1\"\n",
      "_________________________________________________________________\n",
      "Layer (type)                 Output Shape              Param #   \n",
      "=================================================================\n",
      "conv2d_1 (Conv2D)            (None, 32, 32, 32)        896       \n",
      "_________________________________________________________________\n",
      "activation_1 (Activation)    (None, 32, 32, 32)        0         \n",
      "_________________________________________________________________\n",
      "flatten_1 (Flatten)          (None, 32768)             0         \n",
      "_________________________________________________________________\n",
      "dense_1 (Dense)              (None, 1)                 32769     \n",
      "_________________________________________________________________\n",
      "activation_2 (Activation)    (None, 1)                 0         \n",
      "=================================================================\n",
      "Total params: 33,665\n",
      "Trainable params: 33,665\n",
      "Non-trainable params: 0\n",
      "_________________________________________________________________\n"
     ]
    }
   ],
   "source": [
    "model = load_model('C:/Users/Tajr/Desktop/Data/RadonPlus/RadonTechnology/Dev/Deep Learning/Computer Vision/imagelab/nn/conv/jupyiter/shallowNet/shallowNet_III_weights.hdf5')\n",
    "model.summary()"
   ]
  },
  {
   "cell_type": "markdown",
   "metadata": {},
   "source": [
    "# PREDICTION"
   ]
  },
  {
   "cell_type": "code",
   "execution_count": 8,
   "metadata": {},
   "outputs": [
    {
     "name": "stdout",
     "output_type": "stream",
     "text": [
      "[INFO] predicting...\n"
     ]
    }
   ],
   "source": [
    "print('[INFO] predicting...')\n",
    "preds = model.predict(data, batch_size=32)"
   ]
  },
  {
   "cell_type": "code",
   "execution_count": 9,
   "metadata": {
    "scrolled": true
   },
   "outputs": [
    {
     "data": {
      "text/plain": [
       "array([[0.08073819],\n",
       "       [0.3088717 ],\n",
       "       [0.9893645 ],\n",
       "       [0.55335176],\n",
       "       [0.9271964 ],\n",
       "       [0.90404946],\n",
       "       [0.10840864],\n",
       "       [0.45912603],\n",
       "       [0.90346503],\n",
       "       [0.04910101],\n",
       "       [0.80411035],\n",
       "       [0.09512459]], dtype=float32)"
      ]
     },
     "execution_count": 9,
     "metadata": {},
     "output_type": "execute_result"
    }
   ],
   "source": [
    "preds"
   ]
  },
  {
   "cell_type": "code",
   "execution_count": 10,
   "metadata": {},
   "outputs": [
    {
     "data": {
      "text/plain": [
       "[0, 0, 1, 1, 1, 1, 0, 0, 1, 0, 1, 0]"
      ]
     },
     "execution_count": 10,
     "metadata": {},
     "output_type": "execute_result"
    }
   ],
   "source": [
    "predictions = []\n",
    "\n",
    "for pred in preds:\n",
    "    if pred > 0.5:\n",
    "        pred = 1\n",
    "    else:\n",
    "        pred = 0\n",
    "    predictions.append(pred)\n",
    "\n",
    "predictions"
   ]
  },
  {
   "cell_type": "code",
   "execution_count": 11,
   "metadata": {},
   "outputs": [],
   "source": [
    "for (i, image_path) in enumerate(images_paths):\n",
    "    image = cv2.imread(image_path)\n",
    "    \n",
    "#     cv2.putText(image, 'Label: {}'.format(classLabels[predictions[i]], (10, 30), cv2.FONT_HERSHEY_SIMPLEX, 0.7, (0, 255, 0), 2))\n",
    "    cv2.imshow('Image', image)\n",
    "    cv2.waitKey(0)"
   ]
  },
  {
   "cell_type": "markdown",
   "metadata": {},
   "source": [
    "# CONCLUSION"
   ]
  },
  {
   "cell_type": "raw",
   "metadata": {},
   "source": [
    "The final results show that, the model can correctly classify 5 - 7 images our of 10. "
   ]
  },
  {
   "cell_type": "code",
   "execution_count": null,
   "metadata": {},
   "outputs": [],
   "source": []
  }
 ],
 "metadata": {
  "kernelspec": {
   "display_name": "Python 3",
   "language": "python",
   "name": "python3"
  },
  "language_info": {
   "codemirror_mode": {
    "name": "ipython",
    "version": 3
   },
   "file_extension": ".py",
   "mimetype": "text/x-python",
   "name": "python",
   "nbconvert_exporter": "python",
   "pygments_lexer": "ipython3",
   "version": "3.6.10"
  }
 },
 "nbformat": 4,
 "nbformat_minor": 4
}
