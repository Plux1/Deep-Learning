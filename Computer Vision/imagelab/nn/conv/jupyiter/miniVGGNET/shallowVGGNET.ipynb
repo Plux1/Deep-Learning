{
 "cells": [
  {
   "cell_type": "markdown",
   "metadata": {},
   "source": [
    "# NOTES"
   ]
  },
  {
   "cell_type": "code",
   "execution_count": null,
   "metadata": {},
   "outputs": [],
   "source": []
  },
  {
   "cell_type": "markdown",
   "metadata": {},
   "source": [
    "# IMPORTS"
   ]
  },
  {
   "cell_type": "code",
   "execution_count": 1,
   "metadata": {},
   "outputs": [
    {
     "name": "stderr",
     "output_type": "stream",
     "text": [
      "Using TensorFlow backend.\n"
     ]
    }
   ],
   "source": [
    "from keras import layers\n",
    "from keras import models\n",
    "from keras.optimizers import SGD\n",
    "from keras import backend as K\n",
    "from keras.datasets import cifar10\n",
    "from sklearn.preprocessing import LabelBinarizer\n",
    "from sklearn.metrics import classification_report\n",
    "from sklearn.model_selection import train_test_split\n",
    "import numpy as np\n",
    "import matplotlib.pyplot as plt\n"
   ]
  },
  {
   "cell_type": "markdown",
   "metadata": {},
   "source": [
    "# DATASET"
   ]
  },
  {
   "cell_type": "markdown",
   "metadata": {},
   "source": [
    "## Variables"
   ]
  },
  {
   "cell_type": "code",
   "execution_count": 2,
   "metadata": {},
   "outputs": [],
   "source": [
    "lb = LabelBinarizer()\n",
    "(train_samples, train_labels), (test_samples, test_labels) = cifar10.load_data()"
   ]
  },
  {
   "cell_type": "markdown",
   "metadata": {},
   "source": [
    "## Data"
   ]
  },
  {
   "cell_type": "code",
   "execution_count": 3,
   "metadata": {},
   "outputs": [
    {
     "name": "stdout",
     "output_type": "stream",
     "text": [
      "(50000, 32, 32, 3)\n",
      "(10000, 32, 32, 3)\n"
     ]
    }
   ],
   "source": [
    "# Normalization\n",
    "train_samples = train_samples.astype('float') / 255.0\n",
    "test_samples = test_samples.astype('float') / 255.0\n",
    "print(train_samples.shape)\n",
    "print(test_samples.shape)"
   ]
  },
  {
   "cell_type": "markdown",
   "metadata": {},
   "source": [
    "## Labels"
   ]
  },
  {
   "cell_type": "code",
   "execution_count": 4,
   "metadata": {},
   "outputs": [
    {
     "name": "stdout",
     "output_type": "stream",
     "text": [
      "(50000, 10)\n",
      "(10000, 10)\n"
     ]
    }
   ],
   "source": [
    "# Binarization\n",
    "train_labels = lb.fit_transform(train_labels)\n",
    "test_labels = lb.fit_transform(test_labels)\n",
    "print(train_labels.shape)\n",
    "print(test_labels.shape)"
   ]
  },
  {
   "cell_type": "markdown",
   "metadata": {},
   "source": [
    "## Splitting"
   ]
  },
  {
   "cell_type": "code",
   "execution_count": 5,
   "metadata": {},
   "outputs": [
    {
     "name": "stdout",
     "output_type": "stream",
     "text": [
      "TrainX shape:  (50000, 32, 32, 3)\n",
      "ValidationX shape: (10000, 32, 32, 3)\n",
      "PredictionX shape: (5000, 32, 32, 3)\n"
     ]
    }
   ],
   "source": [
    "(trainX, validationX, trainY, validationY) = train_test_split(train_samples, train_labels, test_size=0.30)\n",
    "(validationX, predX, validationY, predY) = train_test_split(validationX, validationY, test_size=0.3333)\n",
    "print('TrainX shape: ',train_samples.shape)\n",
    "print('ValidationX shape:', validationX.shape)\n",
    "print('PredictionX shape:', predX.shape)"
   ]
  },
  {
   "cell_type": "markdown",
   "metadata": {},
   "source": [
    "# ARCHITECTURE"
   ]
  },
  {
   "cell_type": "code",
   "execution_count": 6,
   "metadata": {},
   "outputs": [
    {
     "name": "stdout",
     "output_type": "stream",
     "text": [
      "Model: \"sequential_1\"\n",
      "_________________________________________________________________\n",
      "Layer (type)                 Output Shape              Param #   \n",
      "=================================================================\n",
      "conv2d_1 (Conv2D)            (None, 32, 32, 32)        896       \n",
      "_________________________________________________________________\n",
      "activation_1 (Activation)    (None, 32, 32, 32)        0         \n",
      "_________________________________________________________________\n",
      "batch_normalization_1 (Batch (None, 32, 32, 32)        128       \n",
      "_________________________________________________________________\n",
      "conv2d_2 (Conv2D)            (None, 32, 32, 32)        9248      \n",
      "_________________________________________________________________\n",
      "activation_2 (Activation)    (None, 32, 32, 32)        0         \n",
      "_________________________________________________________________\n",
      "batch_normalization_2 (Batch (None, 32, 32, 32)        128       \n",
      "_________________________________________________________________\n",
      "max_pooling2d_1 (MaxPooling2 (None, 16, 16, 32)        0         \n",
      "_________________________________________________________________\n",
      "dropout_1 (Dropout)          (None, 16, 16, 32)        0         \n",
      "_________________________________________________________________\n",
      "conv2d_3 (Conv2D)            (None, 16, 16, 64)        18496     \n",
      "_________________________________________________________________\n",
      "activation_3 (Activation)    (None, 16, 16, 64)        0         \n",
      "_________________________________________________________________\n",
      "batch_normalization_3 (Batch (None, 16, 16, 64)        256       \n",
      "_________________________________________________________________\n",
      "conv2d_4 (Conv2D)            (None, 16, 16, 64)        36928     \n",
      "_________________________________________________________________\n",
      "activation_4 (Activation)    (None, 16, 16, 64)        0         \n",
      "_________________________________________________________________\n",
      "batch_normalization_4 (Batch (None, 16, 16, 64)        256       \n",
      "_________________________________________________________________\n",
      "max_pooling2d_2 (MaxPooling2 (None, 8, 8, 64)          0         \n",
      "_________________________________________________________________\n",
      "dropout_2 (Dropout)          (None, 8, 8, 64)          0         \n",
      "_________________________________________________________________\n",
      "flatten_1 (Flatten)          (None, 4096)              0         \n",
      "_________________________________________________________________\n",
      "dense_1 (Dense)              (None, 512)               2097664   \n",
      "_________________________________________________________________\n",
      "activation_5 (Activation)    (None, 512)               0         \n",
      "_________________________________________________________________\n",
      "batch_normalization_5 (Batch (None, 512)               2048      \n",
      "_________________________________________________________________\n",
      "dropout_3 (Dropout)          (None, 512)               0         \n",
      "_________________________________________________________________\n",
      "dense_2 (Dense)              (None, 10)                5130      \n",
      "_________________________________________________________________\n",
      "activation_6 (Activation)    (None, 10)                0         \n",
      "=================================================================\n",
      "Total params: 2,171,178\n",
      "Trainable params: 2,169,770\n",
      "Non-trainable params: 1,408\n",
      "_________________________________________________________________\n"
     ]
    }
   ],
   "source": [
    "# Network Variables\n",
    "width = 32\n",
    "height = 32\n",
    "depth = 3\n",
    "filter_01 = 32\n",
    "filter_02 = 64\n",
    "pool_size = (2, 2)\n",
    "conv_stride = (3, 3)\n",
    "pad = 'same'\n",
    "classes = 10\n",
    "input_shape = (width, height, depth)\n",
    "channels_dim = -1\n",
    "\n",
    "# Configure input shape\n",
    "if K.image_data_format() == 'channels_first':\n",
    "    input_shape = (depth, width, height)\n",
    "    channels_dim = 1\n",
    "\n",
    "# Architecture\n",
    "model = models.Sequential()\n",
    "model.add(layers.Conv2D(filter_01, conv_stride, padding=pad, input_shape=input_shape))\n",
    "model.add(layers.Activation('relu'))\n",
    "model.add(layers.BatchNormalization(axis=channels_dim))\n",
    "model.add(layers.Conv2D(filter_01, conv_stride, padding=pad))\n",
    "model.add(layers.Activation('relu'))\n",
    "model.add(layers.BatchNormalization(axis=channels_dim))\n",
    "model.add(layers.MaxPooling2D(pool_size=pool_size))\n",
    "model.add(layers.Dropout(0.25))\n",
    "model.add(layers.Conv2D(filter_02, conv_stride, padding=pad))\n",
    "model.add(layers.Activation('relu'))\n",
    "model.add(layers.BatchNormalization(axis=channels_dim))\n",
    "model.add(layers.Conv2D(filter_02, conv_stride, padding=pad))\n",
    "model.add(layers.Activation('relu'))\n",
    "model.add(layers.BatchNormalization(axis=channels_dim))\n",
    "model.add(layers.MaxPooling2D(pool_size=pool_size))\n",
    "model.add(layers.Dropout(0.25))\n",
    "model.add(layers.Flatten())\n",
    "model.add(layers.Dense(512))\n",
    "model.add(layers.Activation('relu'))\n",
    "model.add(layers.BatchNormalization(axis=channels_dim))\n",
    "model.add(layers.Dropout(0.25))\n",
    "model.add(layers.Dense(classes))\n",
    "model.add(layers.Activation('softmax'))\n",
    "\n",
    "model.summary()\n"
   ]
  },
  {
   "cell_type": "markdown",
   "metadata": {},
   "source": [
    "# COMPILE AND TRAIN"
   ]
  },
  {
   "cell_type": "markdown",
   "metadata": {},
   "source": [
    "## Compilation"
   ]
  },
  {
   "cell_type": "code",
   "execution_count": 7,
   "metadata": {},
   "outputs": [
    {
     "name": "stdout",
     "output_type": "stream",
     "text": [
      "[INFO] compiling...\n",
      "[INFO] completed.\n"
     ]
    }
   ],
   "source": [
    "learning_rate = 0.01\n",
    "opt = SGD(lr = learning_rate, decay = 0.01 / 40, momentum=0.9, nesterov=True)\n",
    "\n",
    "print('[INFO] compiling...')\n",
    "model.compile(optimizer=opt, loss='categorical_crossentropy', metrics=['acc'])\n",
    "print('[INFO] completed.')"
   ]
  },
  {
   "cell_type": "markdown",
   "metadata": {},
   "source": [
    "## Training"
   ]
  },
  {
   "cell_type": "code",
   "execution_count": 8,
   "metadata": {},
   "outputs": [
    {
     "name": "stdout",
     "output_type": "stream",
     "text": [
      "Train on 35000 samples, validate on 10000 samples\n",
      "Epoch 1/40\n",
      "35000/35000 [==============================] - 86s 2ms/step - loss: 1.6627 - acc: 0.4479 - val_loss: 2.1842 - val_acc: 0.3619\n",
      "Epoch 2/40\n",
      "35000/35000 [==============================] - 68s 2ms/step - loss: 1.1442 - acc: 0.6031 - val_loss: 0.9634 - val_acc: 0.6629\n",
      "Epoch 3/40\n",
      "35000/35000 [==============================] - 74s 2ms/step - loss: 0.9436 - acc: 0.6717 - val_loss: 0.8769 - val_acc: 0.6930\n",
      "Epoch 4/40\n",
      "35000/35000 [==============================] - 71s 2ms/step - loss: 0.8341 - acc: 0.7093 - val_loss: 0.7977 - val_acc: 0.7207\n",
      "Epoch 5/40\n",
      "35000/35000 [==============================] - 73s 2ms/step - loss: 0.7368 - acc: 0.7416 - val_loss: 0.8186 - val_acc: 0.7127\n",
      "Epoch 6/40\n",
      "35000/35000 [==============================] - 73s 2ms/step - loss: 0.6728 - acc: 0.7653 - val_loss: 0.7388 - val_acc: 0.7467\n",
      "Epoch 7/40\n",
      "35000/35000 [==============================] - 74s 2ms/step - loss: 0.6105 - acc: 0.7845 - val_loss: 0.7104 - val_acc: 0.7532\n",
      "Epoch 8/40\n",
      "35000/35000 [==============================] - 72s 2ms/step - loss: 0.5663 - acc: 0.8021 - val_loss: 0.6563 - val_acc: 0.7740\n",
      "Epoch 9/40\n",
      "35000/35000 [==============================] - 75s 2ms/step - loss: 0.5155 - acc: 0.8191 - val_loss: 0.6998 - val_acc: 0.7638\n",
      "Epoch 10/40\n",
      "35000/35000 [==============================] - 75s 2ms/step - loss: 0.4734 - acc: 0.8321 - val_loss: 0.6482 - val_acc: 0.7805\n",
      "Epoch 11/40\n",
      "35000/35000 [==============================] - 72s 2ms/step - loss: 0.4365 - acc: 0.8460 - val_loss: 0.6747 - val_acc: 0.7708\n",
      "Epoch 12/40\n",
      "35000/35000 [==============================] - 75s 2ms/step - loss: 0.4044 - acc: 0.8571 - val_loss: 0.6387 - val_acc: 0.7876\n",
      "Epoch 13/40\n",
      "35000/35000 [==============================] - 72s 2ms/step - loss: 0.3781 - acc: 0.8647 - val_loss: 0.6433 - val_acc: 0.7882\n",
      "Epoch 14/40\n",
      "35000/35000 [==============================] - 75s 2ms/step - loss: 0.3514 - acc: 0.8752 - val_loss: 0.6413 - val_acc: 0.7917\n",
      "Epoch 15/40\n",
      "35000/35000 [==============================] - 69s 2ms/step - loss: 0.3351 - acc: 0.8824 - val_loss: 0.6316 - val_acc: 0.7976\n",
      "Epoch 16/40\n",
      "35000/35000 [==============================] - 69s 2ms/step - loss: 0.3114 - acc: 0.8895 - val_loss: 0.6425 - val_acc: 0.7959\n",
      "Epoch 17/40\n",
      "35000/35000 [==============================] - 68s 2ms/step - loss: 0.2867 - acc: 0.8987 - val_loss: 0.6546 - val_acc: 0.7921\n",
      "Epoch 18/40\n",
      "35000/35000 [==============================] - 68s 2ms/step - loss: 0.2697 - acc: 0.9041 - val_loss: 0.6472 - val_acc: 0.7961\n",
      "Epoch 19/40\n",
      "35000/35000 [==============================] - 72s 2ms/step - loss: 0.2545 - acc: 0.9105 - val_loss: 0.6594 - val_acc: 0.7951\n",
      "Epoch 20/40\n",
      "35000/35000 [==============================] - 68s 2ms/step - loss: 0.2477 - acc: 0.9123 - val_loss: 0.6564 - val_acc: 0.7991\n",
      "Epoch 21/40\n",
      "35000/35000 [==============================] - 70s 2ms/step - loss: 0.2316 - acc: 0.9177 - val_loss: 0.6754 - val_acc: 0.7928\n",
      "Epoch 22/40\n",
      "35000/35000 [==============================] - 70s 2ms/step - loss: 0.2219 - acc: 0.9209 - val_loss: 0.6561 - val_acc: 0.7977\n",
      "Epoch 23/40\n",
      "35000/35000 [==============================] - 67s 2ms/step - loss: 0.2112 - acc: 0.9267 - val_loss: 0.6611 - val_acc: 0.7996\n",
      "Epoch 24/40\n",
      "35000/35000 [==============================] - 69s 2ms/step - loss: 0.1991 - acc: 0.9299 - val_loss: 0.6524 - val_acc: 0.8056\n",
      "Epoch 25/40\n",
      "35000/35000 [==============================] - 70s 2ms/step - loss: 0.1900 - acc: 0.9328 - val_loss: 0.6817 - val_acc: 0.7978\n",
      "Epoch 26/40\n",
      "35000/35000 [==============================] - 70s 2ms/step - loss: 0.1901 - acc: 0.9324 - val_loss: 0.6618 - val_acc: 0.8038\n",
      "Epoch 27/40\n",
      "35000/35000 [==============================] - 67s 2ms/step - loss: 0.1796 - acc: 0.9360 - val_loss: 0.6772 - val_acc: 0.8019\n",
      "Epoch 28/40\n",
      "35000/35000 [==============================] - 70s 2ms/step - loss: 0.1771 - acc: 0.9384 - val_loss: 0.7002 - val_acc: 0.7974\n",
      "Epoch 29/40\n",
      "35000/35000 [==============================] - 70s 2ms/step - loss: 0.1638 - acc: 0.9435 - val_loss: 0.6721 - val_acc: 0.8042\n",
      "Epoch 30/40\n",
      "35000/35000 [==============================] - 71s 2ms/step - loss: 0.1568 - acc: 0.9447 - val_loss: 0.6773 - val_acc: 0.8066\n",
      "Epoch 31/40\n",
      "35000/35000 [==============================] - 77s 2ms/step - loss: 0.1561 - acc: 0.9438 - val_loss: 0.6840 - val_acc: 0.8015\n",
      "Epoch 32/40\n",
      "35000/35000 [==============================] - 76s 2ms/step - loss: 0.1514 - acc: 0.9472 - val_loss: 0.6845 - val_acc: 0.8075acc: 0.9\n",
      "Epoch 33/40\n",
      "35000/35000 [==============================] - 76s 2ms/step - loss: 0.1461 - acc: 0.9489 - val_loss: 0.6816 - val_acc: 0.8041\n",
      "Epoch 34/40\n",
      "35000/35000 [==============================] - 72s 2ms/step - loss: 0.1447 - acc: 0.9493 - val_loss: 0.6890 - val_acc: 0.8024\n",
      "Epoch 35/40\n",
      "35000/35000 [==============================] - 73s 2ms/step - loss: 0.1344 - acc: 0.9550 - val_loss: 0.6914 - val_acc: 0.8037\n",
      "Epoch 36/40\n",
      "35000/35000 [==============================] - 76s 2ms/step - loss: 0.1374 - acc: 0.9521 - val_loss: 0.6924 - val_acc: 0.8050\n",
      "Epoch 37/40\n",
      "35000/35000 [==============================] - 72s 2ms/step - loss: 0.1322 - acc: 0.9537 - val_loss: 0.6901 - val_acc: 0.8058\n",
      "Epoch 38/40\n",
      "35000/35000 [==============================] - 70s 2ms/step - loss: 0.1322 - acc: 0.9545 - val_loss: 0.7045 - val_acc: 0.8034\n",
      "Epoch 39/40\n",
      "35000/35000 [==============================] - 71s 2ms/step - loss: 0.1205 - acc: 0.9595 - val_loss: 0.6928 - val_acc: 0.8068\n",
      "Epoch 40/40\n",
      "35000/35000 [==============================] - 72s 2ms/step - loss: 0.1220 - acc: 0.9584 - val_loss: 0.6925 - val_acc: 0.8073\n"
     ]
    }
   ],
   "source": [
    "history = model.fit(trainX, trainY, epochs=40, batch_size=32, validation_data=(validationX, validationY))"
   ]
  },
  {
   "cell_type": "markdown",
   "metadata": {},
   "source": [
    "# PLOTTING TRAIN RESULT"
   ]
  },
  {
   "cell_type": "markdown",
   "metadata": {},
   "source": [
    "## Variables"
   ]
  },
  {
   "cell_type": "code",
   "execution_count": 11,
   "metadata": {},
   "outputs": [],
   "source": [
    "history_dict = history.history\n",
    "epochs = np.arange(0, 40)\n",
    "\n",
    "accuracy = history_dict['acc']\n",
    "val_accuracy = history_dict['val_acc']\n",
    "\n",
    "loss = history_dict['loss']\n",
    "val_loss = history_dict['val_loss']\n",
    "\n",
    "plt.style.use('ggplot')"
   ]
  },
  {
   "cell_type": "markdown",
   "metadata": {},
   "source": [
    "## Accuracy"
   ]
  },
  {
   "cell_type": "code",
   "execution_count": 13,
   "metadata": {},
   "outputs": [
    {
     "data": {
      "text/plain": [
       "<function matplotlib.pyplot.show(*args, **kw)>"
      ]
     },
     "execution_count": 13,
     "metadata": {},
     "output_type": "execute_result"
    },
    {
     "data": {
      "image/png": "[encoded data removed]",
      "text/plain": [
       "<Figure size 432x288 with 1 Axes>"
      ]
     },
     "metadata": {},
     "output_type": "display_data"
    }
   ],
   "source": [
    "plt.plot(epochs, accuracy, label='Train accuracy')\n",
    "plt.plot(epochs, val_accuracy, label='Validation accuracy')\n",
    "plt.title('Train and Validation Accuracy')\n",
    "plt.xlabel('Epochs')\n",
    "plt.ylabel('Accuracy')\n",
    "plt.legend()\n",
    "plt.show()"
   ]
  },
  {
   "cell_type": "markdown",
   "metadata": {},
   "source": [
    "## Loss"
   ]
  },
  {
   "cell_type": "code",
   "execution_count": 14,
   "metadata": {},
   "outputs": [
    {
     "data": {
      "image/png": "[encoded data removed]",
      "text/plain": [
       "<Figure size 432x288 with 1 Axes>"
      ]
     },
     "metadata": {},
     "output_type": "display_data"
    }
   ],
   "source": [
    "plt.clf()\n",
    "plt.plot(epochs, loss, label='Train loss')\n",
    "plt.plot(epochs, val_loss, label='Validation loss')\n",
    "plt.title('Train and Validation Loss')\n",
    "plt.xlabel('Epochs')\n",
    "plt.ylabel('Loss')\n",
    "plt.legend()\n",
    "plt.show()"
   ]
  },
  {
   "cell_type": "markdown",
   "metadata": {},
   "source": [
    "# EVALUATION"
   ]
  },
  {
   "cell_type": "code",
   "execution_count": 16,
   "metadata": {},
   "outputs": [
    {
     "name": "stdout",
     "output_type": "stream",
     "text": [
      "10000/10000 [==============================] - 10s 998us/step\n"
     ]
    },
    {
     "data": {
      "text/plain": [
       "[0.7186503355026245, 0.8025000095367432]"
      ]
     },
     "execution_count": 16,
     "metadata": {},
     "output_type": "execute_result"
    }
   ],
   "source": [
    "results = model.evaluate(test_samples, test_labels)\n",
    "results"
   ]
  },
  {
   "cell_type": "markdown",
   "metadata": {},
   "source": [
    "# PREDICTION"
   ]
  },
  {
   "cell_type": "code",
   "execution_count": 18,
   "metadata": {},
   "outputs": [
    {
     "name": "stdout",
     "output_type": "stream",
     "text": [
      "              precision    recall  f1-score   support\n",
      "\n",
      "    airplane       0.84      0.83      0.84       503\n",
      "  automobile       0.91      0.90      0.91       526\n",
      "        bird       0.75      0.69      0.72       479\n",
      "         cat       0.64      0.61      0.63       501\n",
      "        deer       0.76      0.80      0.78       521\n",
      "         dog       0.73      0.71      0.72       487\n",
      "        frog       0.81      0.88      0.84       506\n",
      "       horse       0.84      0.87      0.86       486\n",
      "        ship       0.89      0.88      0.88       484\n",
      "       truck       0.89      0.89      0.89       507\n",
      "\n",
      "    accuracy                           0.81      5000\n",
      "   macro avg       0.81      0.81      0.81      5000\n",
      "weighted avg       0.81      0.81      0.81      5000\n",
      "\n"
     ]
    }
   ],
   "source": [
    "labelNames = ['airplane', 'automobile', 'bird', 'cat', 'deer', 'dog', 'frog', 'horse', 'ship', 'truck']\n",
    "predictions = model.predict(predX, batch_size=32)\n",
    "print(classification_report(predY.argmax(axis=1), predictions.argmax(axis=1), target_names=labelNames))"
   ]
  },
  {
   "cell_type": "markdown",
   "metadata": {},
   "source": [
    "# CONCLUSION"
   ]
  },
  {
   "cell_type": "code",
   "execution_count": null,
   "metadata": {},
   "outputs": [],
   "source": [
    "                                                                       With BatchNormalization\n",
    "The model finish to train on cifar10 dataset and manage obtain an accuracy of 81% a jump of 23% from a novice/shallowNet II obtained accuracy of 58%"
   ]
  }
 ],
 "metadata": {
  "kernelspec": {
   "display_name": "Python 3",
   "language": "python",
   "name": "python3"
  },
  "language_info": {
   "codemirror_mode": {
    "name": "ipython",
    "version": 3
   },
   "file_extension": ".py",
   "mimetype": "text/x-python",
   "name": "python",
   "nbconvert_exporter": "python",
   "pygments_lexer": "ipython3",
   "version": "3.6.10"
  }
 },
 "nbformat": 4,
 "nbformat_minor": 4
}
