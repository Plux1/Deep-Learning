{
 "cells": [
  {
   "cell_type": "code",
   "execution_count": 26,
   "metadata": {},
   "outputs": [],
   "source": [
    "from keras.applications import VGG16\n",
    "from keras import layers\n",
    "from keras import models\n",
    "from imutils import paths\n",
    "from keras.preprocessing.image import img_to_array\n",
    "import imutils\n",
    "import numpy as np\n",
    "import cv2\n",
    "import progressbar\n",
    "from sklearn.utils import shuffle\n",
    "from keras.preprocessing.image import ImageDataGenerator\n",
    "from keras.optimizers import RMSprop\n",
    "from keras.optimizers import SGD\n",
    "from sklearn.model_selection import train_test_split\n",
    "from keras.utils import plot_model\n",
    "from sklearn.preprocessing import LabelBinarizer\n",
    "import matplotlib.pyplot as plt\n"
   ]
  },
  {
   "cell_type": "markdown",
   "metadata": {},
   "source": [
    "# Dataset"
   ]
  },
  {
   "cell_type": "markdown",
   "metadata": {},
   "source": [
    "## Preprocessing"
   ]
  },
  {
   "cell_type": "code",
   "execution_count": 2,
   "metadata": {},
   "outputs": [],
   "source": [
    "class Preprocessor:\n",
    "    def __init__(self, width, height, inter=cv2.INTER_AREA, dataFormat=None):\n",
    "        self.width = width\n",
    "        self.height = height\n",
    "        self.inter = inter\n",
    "        self.dataFormat = dataFormat\n",
    "        self.load_widgets = ['Loading Data: ', progressbar.Percentage(), ' ', progressbar.Bar(), ' ', progressbar.ETA()]\n",
    "        \n",
    "    def getImagesPath(self, img_dir):\n",
    "        return list(paths.list_images(img_dir))\n",
    "    \n",
    "    def load_data(self, img_paths):\n",
    "        data = []\n",
    "        labels = []\n",
    "        \n",
    "        prog = progressbar.ProgressBar(maxval=len(img_paths), widgets=self.load_widgets).start()\n",
    "        for (i, path) in enumerate(img_paths):\n",
    "            img = cv2.imread(path)\n",
    "            img = self.resize(img)\n",
    "            img =self.img2array(img)\n",
    "            data.append(img)\n",
    "            \n",
    "            label = path.split('/')[-1].split()[0]\n",
    "            labels.append(label)\n",
    "            \n",
    "            prog.update(i)\n",
    "        \n",
    "        data= np.array(data).astype('float') / 255.0\n",
    "        labels = np.array(labels)\n",
    "        \n",
    "        prog.finish()\n",
    "        return (data, labels)\n",
    "    \n",
    "    def resize(self, img):\n",
    "        (h, w) = img.shape[:2]\n",
    "        dh = 0\n",
    "        dw = 0\n",
    "        \n",
    "        # resizing\n",
    "        if w < h:\n",
    "            img = imutils.resize(img, width=self.width, inter=self.inter)\n",
    "            dh = int((img.shape[0] - self.height) / 2.0)\n",
    "        else:\n",
    "            img = imutils.resize(img, height=self.height, inter=self.inter)\n",
    "            dw = int((img.shape[1] - self.width) / 2.0)\n",
    "        \n",
    "        #cropping\n",
    "        (h, w)= img.shape[:2]\n",
    "        img = img[dh:h - dh, dw:w - dw]\n",
    "        \n",
    "        # maintain spatial dimension\n",
    "        return cv2.resize(img, (self.width, self.height), interpolation=self.inter)\n",
    "    \n",
    "    def img2array(self, img):\n",
    "        return img_to_array(img, data_format=self.dataFormat)\n",
    "            "
   ]
  },
  {
   "cell_type": "markdown",
   "metadata": {},
   "source": [
    "## Initialization"
   ]
  },
  {
   "cell_type": "code",
   "execution_count": 3,
   "metadata": {},
   "outputs": [],
   "source": [
    "preprop = Preprocessor(200, 88)"
   ]
  },
  {
   "cell_type": "markdown",
   "metadata": {},
   "source": [
    "## Get path"
   ]
  },
  {
   "cell_type": "code",
   "execution_count": 4,
   "metadata": {},
   "outputs": [
    {
     "data": {
      "text/plain": [
       "'MidVegetativePhase'"
      ]
     },
     "execution_count": 4,
     "metadata": {},
     "output_type": "execute_result"
    }
   ],
   "source": [
    "img_dir = 'C:/Users/Tajr/Desktop/Data/RadonPlus/RadonTechnology/Dev/Deep Learning/Datasets/computervision/zindi/working/high/'\n",
    "img_paths = shuffle(preprop.getImagesPath(img_dir))\n",
    "label = img_paths[0].split('/')[-1].split()[0]\n",
    "label"
   ]
  },
  {
   "cell_type": "markdown",
   "metadata": {},
   "source": [
    "## Load Data"
   ]
  },
  {
   "cell_type": "code",
   "execution_count": 5,
   "metadata": {},
   "outputs": [
    {
     "name": "stderr",
     "output_type": "stream",
     "text": [
      "Loading Data: 100% |############################################| Time: 0:00:23\n"
     ]
    }
   ],
   "source": [
    "(data, labels) = preprop.load_data(img_paths)"
   ]
  },
  {
   "cell_type": "code",
   "execution_count": 6,
   "metadata": {},
   "outputs": [
    {
     "data": {
      "text/plain": [
       "(5103, 88, 200, 3)"
      ]
     },
     "execution_count": 6,
     "metadata": {},
     "output_type": "execute_result"
    }
   ],
   "source": [
    "data.shape"
   ]
  },
  {
   "cell_type": "markdown",
   "metadata": {},
   "source": [
    "## Binarization"
   ]
  },
  {
   "cell_type": "code",
   "execution_count": 7,
   "metadata": {},
   "outputs": [],
   "source": [
    "lb = LabelBinarizer()\n",
    "targets = lb.fit_transform(labels)\n",
    "\n",
    "classNames = lb.classes_\n"
   ]
  },
  {
   "cell_type": "markdown",
   "metadata": {},
   "source": [
    "## Splitting"
   ]
  },
  {
   "cell_type": "code",
   "execution_count": 8,
   "metadata": {},
   "outputs": [],
   "source": [
    "(trainX, test_samples, trainY, test_targets) = train_test_split(data, targets, random_state=42, test_size=0.5)\n",
    "(testX, validationX, testY, validationY) = train_test_split(test_samples, test_targets, random_state=42, test_size=0.5)"
   ]
  },
  {
   "cell_type": "markdown",
   "metadata": {},
   "source": [
    "## Network"
   ]
  },
  {
   "cell_type": "code",
   "execution_count": 9,
   "metadata": {},
   "outputs": [],
   "source": [
    "conv_base = VGG16(weights='imagenet', include_top=False, input_shape=(88, 200, 3))"
   ]
  },
  {
   "cell_type": "code",
   "execution_count": 10,
   "metadata": {
    "scrolled": true
   },
   "outputs": [
    {
     "name": "stdout",
     "output_type": "stream",
     "text": [
      "Model: \"vgg16\"\n",
      "_________________________________________________________________\n",
      "Layer (type)                 Output Shape              Param #   \n",
      "=================================================================\n",
      "input_1 (InputLayer)         (None, 88, 200, 3)        0         \n",
      "_________________________________________________________________\n",
      "block1_conv1 (Conv2D)        (None, 88, 200, 64)       1792      \n",
      "_________________________________________________________________\n",
      "block1_conv2 (Conv2D)        (None, 88, 200, 64)       36928     \n",
      "_________________________________________________________________\n",
      "block1_pool (MaxPooling2D)   (None, 44, 100, 64)       0         \n",
      "_________________________________________________________________\n",
      "block2_conv1 (Conv2D)        (None, 44, 100, 128)      73856     \n",
      "_________________________________________________________________\n",
      "block2_conv2 (Conv2D)        (None, 44, 100, 128)      147584    \n",
      "_________________________________________________________________\n",
      "block2_pool (MaxPooling2D)   (None, 22, 50, 128)       0         \n",
      "_________________________________________________________________\n",
      "block3_conv1 (Conv2D)        (None, 22, 50, 256)       295168    \n",
      "_________________________________________________________________\n",
      "block3_conv2 (Conv2D)        (None, 22, 50, 256)       590080    \n",
      "_________________________________________________________________\n",
      "block3_conv3 (Conv2D)        (None, 22, 50, 256)       590080    \n",
      "_________________________________________________________________\n",
      "block3_pool (MaxPooling2D)   (None, 11, 25, 256)       0         \n",
      "_________________________________________________________________\n",
      "block4_conv1 (Conv2D)        (None, 11, 25, 512)       1180160   \n",
      "_________________________________________________________________\n",
      "block4_conv2 (Conv2D)        (None, 11, 25, 512)       2359808   \n",
      "_________________________________________________________________\n",
      "block4_conv3 (Conv2D)        (None, 11, 25, 512)       2359808   \n",
      "_________________________________________________________________\n",
      "block4_pool (MaxPooling2D)   (None, 5, 12, 512)        0         \n",
      "_________________________________________________________________\n",
      "block5_conv1 (Conv2D)        (None, 5, 12, 512)        2359808   \n",
      "_________________________________________________________________\n",
      "block5_conv2 (Conv2D)        (None, 5, 12, 512)        2359808   \n",
      "_________________________________________________________________\n",
      "block5_conv3 (Conv2D)        (None, 5, 12, 512)        2359808   \n",
      "_________________________________________________________________\n",
      "block5_pool (MaxPooling2D)   (None, 2, 6, 512)         0         \n",
      "=================================================================\n",
      "Total params: 14,714,688\n",
      "Trainable params: 14,714,688\n",
      "Non-trainable params: 0\n",
      "_________________________________________________________________\n"
     ]
    }
   ],
   "source": [
    "conv_base.summary()"
   ]
  },
  {
   "cell_type": "code",
   "execution_count": 11,
   "metadata": {},
   "outputs": [
    {
     "name": "stdout",
     "output_type": "stream",
     "text": [
      "[INFO] 0\tInputLayer\n",
      "[INFO] 1\tConv2D\n",
      "[INFO] 2\tConv2D\n",
      "[INFO] 3\tMaxPooling2D\n",
      "[INFO] 4\tConv2D\n",
      "[INFO] 5\tConv2D\n",
      "[INFO] 6\tMaxPooling2D\n",
      "[INFO] 7\tConv2D\n",
      "[INFO] 8\tConv2D\n",
      "[INFO] 9\tConv2D\n",
      "[INFO] 10\tMaxPooling2D\n",
      "[INFO] 11\tConv2D\n",
      "[INFO] 12\tConv2D\n",
      "[INFO] 13\tConv2D\n",
      "[INFO] 14\tMaxPooling2D\n",
      "[INFO] 15\tConv2D\n",
      "[INFO] 16\tConv2D\n",
      "[INFO] 17\tConv2D\n",
      "[INFO] 18\tMaxPooling2D\n"
     ]
    }
   ],
   "source": [
    "for (i, layer) in enumerate(conv_base.layers):\n",
    "    print('[INFO] {}\\t{}'.format(i, layer.__class__.__name__))"
   ]
  },
  {
   "cell_type": "markdown",
   "metadata": {},
   "source": [
    "## Head Installation"
   ]
  },
  {
   "cell_type": "code",
   "execution_count": 12,
   "metadata": {},
   "outputs": [
    {
     "name": "stdout",
     "output_type": "stream",
     "text": [
      "Model: \"sequential_1\"\n",
      "_________________________________________________________________\n",
      "Layer (type)                 Output Shape              Param #   \n",
      "=================================================================\n",
      "vgg16 (Model)                (None, 2, 6, 512)         14714688  \n",
      "_________________________________________________________________\n",
      "flatten_1 (Flatten)          (None, 6144)              0         \n",
      "_________________________________________________________________\n",
      "dense_1 (Dense)              (None, 512)               3146240   \n",
      "_________________________________________________________________\n",
      "dense_2 (Dense)              (None, 7)                 3591      \n",
      "=================================================================\n",
      "Total params: 17,864,519\n",
      "Trainable params: 17,864,519\n",
      "Non-trainable params: 0\n",
      "_________________________________________________________________\n"
     ]
    }
   ],
   "source": [
    "model = models.Sequential()\n",
    "\n",
    "model.add(conv_base)\n",
    "model.add(layers.Flatten())\n",
    "model.add(layers.Dense(512, activation='relu'))\n",
    "model.add(layers.Dense(7, activation='softmax'))\n",
    "model.summary()"
   ]
  },
  {
   "cell_type": "markdown",
   "metadata": {},
   "source": [
    "## Freezing Body layers"
   ]
  },
  {
   "cell_type": "code",
   "execution_count": 13,
   "metadata": {},
   "outputs": [],
   "source": [
    "for layer in conv_base.layers:\n",
    "    layer.trainable = False\n"
   ]
  },
  {
   "cell_type": "code",
   "execution_count": 14,
   "metadata": {},
   "outputs": [
    {
     "name": "stdout",
     "output_type": "stream",
     "text": [
      "Model: \"sequential_1\"\n",
      "_________________________________________________________________\n",
      "Layer (type)                 Output Shape              Param #   \n",
      "=================================================================\n",
      "vgg16 (Model)                (None, 2, 6, 512)         14714688  \n",
      "_________________________________________________________________\n",
      "flatten_1 (Flatten)          (None, 6144)              0         \n",
      "_________________________________________________________________\n",
      "dense_1 (Dense)              (None, 512)               3146240   \n",
      "_________________________________________________________________\n",
      "dense_2 (Dense)              (None, 7)                 3591      \n",
      "=================================================================\n",
      "Total params: 17,864,519\n",
      "Trainable params: 3,149,831\n",
      "Non-trainable params: 14,714,688\n",
      "_________________________________________________________________\n"
     ]
    }
   ],
   "source": [
    "model.summary()"
   ]
  },
  {
   "cell_type": "code",
   "execution_count": 15,
   "metadata": {},
   "outputs": [
    {
     "data": {
      "image/png": "[encoded data removed]",
      "text/plain": [
       "<IPython.core.display.Image object>"
      ]
     },
     "execution_count": 15,
     "metadata": {},
     "output_type": "execute_result"
    }
   ],
   "source": [
    "plot_model(model, to_file='serialized/architecture/architecture.png', show_shapes=True)"
   ]
  },
  {
   "cell_type": "markdown",
   "metadata": {},
   "source": [
    "## Augmentation"
   ]
  },
  {
   "cell_type": "code",
   "execution_count": 16,
   "metadata": {},
   "outputs": [],
   "source": [
    "aug = ImageDataGenerator(rotation_range=30, shear_range=0.2, zoom_range=0.2, width_shift_range=0.1, height_shift_range=0.1, horizontal_flip=True, fill_mode='nearest')"
   ]
  },
  {
   "cell_type": "markdown",
   "metadata": {},
   "source": [
    "## Model Warming Up"
   ]
  },
  {
   "cell_type": "code",
   "execution_count": 17,
   "metadata": {},
   "outputs": [],
   "source": [
    "model.compile(optimizer=RMSprop(lr=0.001), loss='categorical_crossentropy', metrics=['acc'])"
   ]
  },
  {
   "cell_type": "code",
   "execution_count": 18,
   "metadata": {},
   "outputs": [
    {
     "name": "stdout",
     "output_type": "stream",
     "text": [
      "Epoch 1/25\n",
      "79/79 [==============================] - 76s 956ms/step - loss: 2.3291 - acc: 0.2815 - val_loss: 1.7492 - val_acc: 0.3049\n",
      "Epoch 2/25\n",
      "79/79 [==============================] - 55s 696ms/step - loss: 1.6884 - acc: 0.3239 - val_loss: 1.7634 - val_acc: 0.2947\n",
      "Epoch 3/25\n",
      "79/79 [==============================] - 56s 712ms/step - loss: 1.5782 - acc: 0.3609 - val_loss: 1.7480 - val_acc: 0.2908\n",
      "Epoch 4/25\n",
      "79/79 [==============================] - 53s 674ms/step - loss: 1.5618 - acc: 0.3696 - val_loss: 1.5458 - val_acc: 0.3958\n",
      "Epoch 5/25\n",
      "79/79 [==============================] - 55s 702ms/step - loss: 1.5419 - acc: 0.3795 - val_loss: 1.5725 - val_acc: 0.3660\n",
      "Epoch 6/25\n",
      "79/79 [==============================] - 56s 703ms/step - loss: 1.5211 - acc: 0.3759 - val_loss: 1.5427 - val_acc: 0.3762\n",
      "Epoch 7/25\n",
      "79/79 [==============================] - 52s 661ms/step - loss: 1.5042 - acc: 0.3970 - val_loss: 1.5387 - val_acc: 0.3793\n",
      "Epoch 8/25\n",
      "79/79 [==============================] - 59s 742ms/step - loss: 1.4988 - acc: 0.3974 - val_loss: 1.5276 - val_acc: 0.3903\n",
      "Epoch 9/25\n",
      "79/79 [==============================] - 54s 681ms/step - loss: 1.4935 - acc: 0.4010 - val_loss: 1.5423 - val_acc: 0.3707\n",
      "Epoch 10/25\n",
      "79/79 [==============================] - 54s 683ms/step - loss: 1.4811 - acc: 0.3998 - val_loss: 1.5030 - val_acc: 0.4028\n",
      "Epoch 11/25\n",
      "79/79 [==============================] - 54s 688ms/step - loss: 1.4618 - acc: 0.4081 - val_loss: 1.5075 - val_acc: 0.3934\n",
      "Epoch 12/25\n",
      "79/79 [==============================] - 56s 709ms/step - loss: 1.4627 - acc: 0.4061 - val_loss: 1.6273 - val_acc: 0.3707\n",
      "Epoch 13/25\n",
      "79/79 [==============================] - 53s 674ms/step - loss: 1.4722 - acc: 0.3946 - val_loss: 1.5497 - val_acc: 0.3981\n",
      "Epoch 14/25\n",
      "79/79 [==============================] - 56s 713ms/step - loss: 1.4468 - acc: 0.4279 - val_loss: 1.5106 - val_acc: 0.3981\n",
      "Epoch 15/25\n",
      "79/79 [==============================] - 53s 669ms/step - loss: 1.4542 - acc: 0.4228 - val_loss: 1.5749 - val_acc: 0.3848\n",
      "Epoch 16/25\n",
      "79/79 [==============================] - 55s 702ms/step - loss: 1.4575 - acc: 0.4188 - val_loss: 1.5844 - val_acc: 0.3723\n",
      "Epoch 17/25\n",
      "79/79 [==============================] - 54s 686ms/step - loss: 1.4475 - acc: 0.4113 - val_loss: 1.5851 - val_acc: 0.3793\n",
      "Epoch 18/25\n",
      "79/79 [==============================] - 55s 701ms/step - loss: 1.4381 - acc: 0.4284 - val_loss: 1.5758 - val_acc: 0.3636\n",
      "Epoch 19/25\n",
      "79/79 [==============================] - 54s 678ms/step - loss: 1.4195 - acc: 0.4315 - val_loss: 1.5115 - val_acc: 0.4005\n",
      "Epoch 20/25\n",
      "79/79 [==============================] - 56s 703ms/step - loss: 1.4211 - acc: 0.4395 - val_loss: 1.5258 - val_acc: 0.3981\n",
      "Epoch 21/25\n",
      "79/79 [==============================] - 54s 678ms/step - loss: 1.4399 - acc: 0.4224 - val_loss: 1.5256 - val_acc: 0.4020\n",
      "Epoch 22/25\n",
      "79/79 [==============================] - 54s 687ms/step - loss: 1.4244 - acc: 0.4287 - val_loss: 1.5173 - val_acc: 0.3950\n",
      "Epoch 23/25\n",
      "79/79 [==============================] - 57s 725ms/step - loss: 1.4217 - acc: 0.4208 - val_loss: 1.5320 - val_acc: 0.3934\n",
      "Epoch 24/25\n",
      "79/79 [==============================] - 51s 648ms/step - loss: 1.3840 - acc: 0.4442 - val_loss: 1.5295 - val_acc: 0.4083\n",
      "Epoch 25/25\n",
      "79/79 [==============================] - 47s 596ms/step - loss: 1.4345 - acc: 0.4172 - val_loss: 1.5299 - val_acc: 0.4052\n"
     ]
    },
    {
     "data": {
      "text/plain": [
       "<keras.callbacks.callbacks.History at 0x21dac9a94e0>"
      ]
     },
     "execution_count": 18,
     "metadata": {},
     "output_type": "execute_result"
    }
   ],
   "source": [
    "model.fit_generator(aug.flow(trainX, trainY, batch_size=32), validation_data=(validationX, validationY), epochs=25, steps_per_epoch=len(trainX)//32)"
   ]
  },
  {
   "cell_type": "code",
   "execution_count": 19,
   "metadata": {},
   "outputs": [
    {
     "name": "stdout",
     "output_type": "stream",
     "text": [
      "1276/1276 [==============================] - 21s 17ms/step\n"
     ]
    }
   ],
   "source": [
    "result = model.evaluate(testX, testY)"
   ]
  },
  {
   "cell_type": "code",
   "execution_count": 20,
   "metadata": {},
   "outputs": [
    {
     "data": {
      "text/plain": [
       "[1.5205635232237813, 0.41144201159477234]"
      ]
     },
     "execution_count": 20,
     "metadata": {},
     "output_type": "execute_result"
    }
   ],
   "source": [
    "result"
   ]
  },
  {
   "cell_type": "markdown",
   "metadata": {},
   "source": [
    "## Unfreeze conv_base layers from top to bottom"
   ]
  },
  {
   "cell_type": "code",
   "execution_count": 21,
   "metadata": {},
   "outputs": [],
   "source": [
    "for layer in conv_base.layers[15:]:\n",
    "    layer.trainable = True"
   ]
  },
  {
   "cell_type": "code",
   "execution_count": 22,
   "metadata": {},
   "outputs": [
    {
     "name": "stdout",
     "output_type": "stream",
     "text": [
      "Model: \"sequential_1\"\n",
      "_________________________________________________________________\n",
      "Layer (type)                 Output Shape              Param #   \n",
      "=================================================================\n",
      "vgg16 (Model)                (None, 2, 6, 512)         14714688  \n",
      "_________________________________________________________________\n",
      "flatten_1 (Flatten)          (None, 6144)              0         \n",
      "_________________________________________________________________\n",
      "dense_1 (Dense)              (None, 512)               3146240   \n",
      "_________________________________________________________________\n",
      "dense_2 (Dense)              (None, 7)                 3591      \n",
      "=================================================================\n",
      "Total params: 10,785,095\n",
      "Trainable params: 3,149,831\n",
      "Non-trainable params: 7,635,264\n",
      "_________________________________________________________________\n"
     ]
    },
    {
     "name": "stderr",
     "output_type": "stream",
     "text": [
      "C:\\Users\\Tajr\\Anaconda3\\envs\\Deep_Learning\\lib\\site-packages\\keras\\engine\\training.py:297: UserWarning: Discrepancy between trainable weights and collected trainable weights, did you set `model.trainable` without calling `model.compile` after ?\n",
      "  'Discrepancy between trainable weights and collected trainable'\n"
     ]
    }
   ],
   "source": [
    "model.summary()"
   ]
  },
  {
   "cell_type": "markdown",
   "metadata": {},
   "source": [
    "## Recompile and Train the model"
   ]
  },
  {
   "cell_type": "code",
   "execution_count": 23,
   "metadata": {},
   "outputs": [],
   "source": [
    "model.compile(optimizer=SGD(lr=0.001), loss='categorical_crossentropy', metrics=['acc'])"
   ]
  },
  {
   "cell_type": "code",
   "execution_count": 25,
   "metadata": {
    "scrolled": true
   },
   "outputs": [
    {
     "name": "stdout",
     "output_type": "stream",
     "text": [
      "Epoch 1/100\n",
      "79/79 [==============================] - 62s 788ms/step - loss: 1.3948 - acc: 0.4450 - val_loss: 1.4973 - val_acc: 0.3989\n",
      "Epoch 2/100\n",
      "79/79 [==============================] - 60s 756ms/step - loss: 1.3679 - acc: 0.4502 - val_loss: 1.5061 - val_acc: 0.3997\n",
      "Epoch 3/100\n",
      "79/79 [==============================] - 61s 774ms/step - loss: 1.3649 - acc: 0.4478 - val_loss: 1.4833 - val_acc: 0.4138\n",
      "Epoch 4/100\n",
      "79/79 [==============================] - 60s 761ms/step - loss: 1.3607 - acc: 0.4510 - val_loss: 1.5181 - val_acc: 0.3973\n",
      "Epoch 5/100\n",
      "79/79 [==============================] - 60s 757ms/step - loss: 1.3433 - acc: 0.4585 - val_loss: 1.4981 - val_acc: 0.4099\n",
      "Epoch 6/100\n",
      "79/79 [==============================] - 61s 772ms/step - loss: 1.3517 - acc: 0.4538 - val_loss: 1.5095 - val_acc: 0.3942\n",
      "Epoch 7/100\n",
      "79/79 [==============================] - 70s 882ms/step - loss: 1.3462 - acc: 0.4625 - val_loss: 1.4810 - val_acc: 0.4138\n",
      "Epoch 8/100\n",
      "79/79 [==============================] - 63s 792ms/step - loss: 1.3438 - acc: 0.4633 - val_loss: 1.4832 - val_acc: 0.4146\n",
      "Epoch 9/100\n",
      "79/79 [==============================] - 60s 763ms/step - loss: 1.3278 - acc: 0.4657 - val_loss: 1.5133 - val_acc: 0.4067\n",
      "Epoch 10/100\n",
      "79/79 [==============================] - 60s 754ms/step - loss: 1.3238 - acc: 0.4712 - val_loss: 1.4926 - val_acc: 0.4177\n",
      "Epoch 11/100\n",
      "79/79 [==============================] - 59s 753ms/step - loss: 1.3202 - acc: 0.4692 - val_loss: 1.4934 - val_acc: 0.4099\n",
      "Epoch 12/100\n",
      "79/79 [==============================] - 62s 780ms/step - loss: 1.3215 - acc: 0.4680 - val_loss: 1.4912 - val_acc: 0.4107\n",
      "Epoch 13/100\n",
      "79/79 [==============================] - 59s 749ms/step - loss: 1.3364 - acc: 0.4620 - val_loss: 1.4914 - val_acc: 0.4130\n",
      "Epoch 14/100\n",
      "79/79 [==============================] - 60s 755ms/step - loss: 1.2983 - acc: 0.4785 - val_loss: 1.4960 - val_acc: 0.4091\n",
      "Epoch 15/100\n",
      "79/79 [==============================] - 62s 779ms/step - loss: 1.3175 - acc: 0.4780 - val_loss: 1.4988 - val_acc: 0.4130\n",
      "Epoch 16/100\n",
      "79/79 [==============================] - 60s 765ms/step - loss: 1.3060 - acc: 0.4728 - val_loss: 1.4839 - val_acc: 0.4122\n",
      "Epoch 17/100\n",
      "79/79 [==============================] - 60s 757ms/step - loss: 1.3179 - acc: 0.4597 - val_loss: 1.4779 - val_acc: 0.4154\n",
      "Epoch 18/100\n",
      "79/79 [==============================] - 60s 763ms/step - loss: 1.3092 - acc: 0.4823 - val_loss: 1.4900 - val_acc: 0.4279\n",
      "Epoch 19/100\n",
      "79/79 [==============================] - 61s 767ms/step - loss: 1.2998 - acc: 0.4684 - val_loss: 1.4893 - val_acc: 0.4146\n",
      "Epoch 20/100\n",
      "79/79 [==============================] - 65s 824ms/step - loss: 1.2896 - acc: 0.4765 - val_loss: 1.5109 - val_acc: 0.3981\n",
      "Epoch 21/100\n",
      "79/79 [==============================] - 60s 757ms/step - loss: 1.2955 - acc: 0.4803 - val_loss: 1.5138 - val_acc: 0.4169\n",
      "Epoch 22/100\n",
      "79/79 [==============================] - 60s 757ms/step - loss: 1.3040 - acc: 0.4740 - val_loss: 1.5173 - val_acc: 0.4044\n",
      "Epoch 23/100\n",
      "79/79 [==============================] - 61s 767ms/step - loss: 1.2869 - acc: 0.4847 - val_loss: 1.5193 - val_acc: 0.4060\n",
      "Epoch 24/100\n",
      "79/79 [==============================] - 62s 783ms/step - loss: 1.3051 - acc: 0.4688 - val_loss: 1.5040 - val_acc: 0.4060\n",
      "Epoch 25/100\n",
      "79/79 [==============================] - 62s 780ms/step - loss: 1.3004 - acc: 0.4879 - val_loss: 1.5087 - val_acc: 0.4044\n",
      "Epoch 26/100\n",
      "79/79 [==============================] - 62s 780ms/step - loss: 1.2882 - acc: 0.4891 - val_loss: 1.4824 - val_acc: 0.4107\n",
      "Epoch 27/100\n",
      "79/79 [==============================] - 64s 805ms/step - loss: 1.2765 - acc: 0.4858 - val_loss: 1.4897 - val_acc: 0.4099\n",
      "Epoch 28/100\n",
      "79/79 [==============================] - 62s 779ms/step - loss: 1.3043 - acc: 0.4892 - val_loss: 1.4870 - val_acc: 0.4122\n",
      "Epoch 29/100\n",
      "79/79 [==============================] - 62s 787ms/step - loss: 1.2788 - acc: 0.4835 - val_loss: 1.5021 - val_acc: 0.4146\n",
      "Epoch 30/100\n",
      "79/79 [==============================] - 62s 782ms/step - loss: 1.2916 - acc: 0.4798 - val_loss: 1.5218 - val_acc: 0.4122\n",
      "Epoch 31/100\n",
      "79/79 [==============================] - 55s 694ms/step - loss: 1.2746 - acc: 0.4859 - val_loss: 1.5201 - val_acc: 0.4099\n",
      "Epoch 32/100\n",
      "79/79 [==============================] - 55s 700ms/step - loss: 1.2760 - acc: 0.4888 - val_loss: 1.4895 - val_acc: 0.4185\n",
      "Epoch 33/100\n",
      "79/79 [==============================] - 55s 698ms/step - loss: 1.2847 - acc: 0.4748 - val_loss: 1.4984 - val_acc: 0.4208\n",
      "Epoch 34/100\n",
      "79/79 [==============================] - 55s 700ms/step - loss: 1.2481 - acc: 0.4990 - val_loss: 1.5102 - val_acc: 0.4303\n",
      "Epoch 35/100\n",
      "79/79 [==============================] - 55s 693ms/step - loss: 1.2721 - acc: 0.4915 - val_loss: 1.5035 - val_acc: 0.4161\n",
      "Epoch 36/100\n",
      "79/79 [==============================] - 54s 689ms/step - loss: 1.2714 - acc: 0.4831 - val_loss: 1.4973 - val_acc: 0.4271\n",
      "Epoch 37/100\n",
      "79/79 [==============================] - 54s 689ms/step - loss: 1.2704 - acc: 0.4970 - val_loss: 1.4914 - val_acc: 0.4357\n",
      "Epoch 38/100\n",
      "79/79 [==============================] - 54s 686ms/step - loss: 1.2577 - acc: 0.4956 - val_loss: 1.5085 - val_acc: 0.4279\n",
      "Epoch 39/100\n",
      "79/79 [==============================] - 55s 691ms/step - loss: 1.2813 - acc: 0.4879 - val_loss: 1.5262 - val_acc: 0.4326\n",
      "Epoch 40/100\n",
      "79/79 [==============================] - 60s 755ms/step - loss: 1.2509 - acc: 0.4896 - val_loss: 1.5316 - val_acc: 0.4044\n",
      "Epoch 41/100\n",
      "79/79 [==============================] - 54s 688ms/step - loss: 1.2390 - acc: 0.5038 - val_loss: 1.5799 - val_acc: 0.4201\n",
      "Epoch 42/100\n",
      "79/79 [==============================] - 55s 694ms/step - loss: 1.2726 - acc: 0.4771 - val_loss: 1.4900 - val_acc: 0.4216\n",
      "Epoch 43/100\n",
      "79/79 [==============================] - 54s 687ms/step - loss: 1.2529 - acc: 0.5018 - val_loss: 1.5330 - val_acc: 0.4224\n",
      "Epoch 44/100\n",
      "79/79 [==============================] - 54s 687ms/step - loss: 1.2624 - acc: 0.4857 - val_loss: 1.5100 - val_acc: 0.4232\n",
      "Epoch 45/100\n",
      "79/79 [==============================] - 54s 687ms/step - loss: 1.2502 - acc: 0.4998 - val_loss: 1.5041 - val_acc: 0.4216\n",
      "Epoch 46/100\n",
      "79/79 [==============================] - 59s 747ms/step - loss: 1.2469 - acc: 0.5000 - val_loss: 1.5741 - val_acc: 0.4208\n",
      "Epoch 47/100\n",
      "79/79 [==============================] - 54s 686ms/step - loss: 1.2463 - acc: 0.4891 - val_loss: 1.5148 - val_acc: 0.4357\n",
      "Epoch 48/100\n",
      "79/79 [==============================] - 54s 688ms/step - loss: 1.2688 - acc: 0.4927 - val_loss: 1.4891 - val_acc: 0.4326\n",
      "Epoch 49/100\n",
      "79/79 [==============================] - 55s 691ms/step - loss: 1.2403 - acc: 0.5050 - val_loss: 1.5224 - val_acc: 0.4091\n",
      "Epoch 50/100\n",
      "79/79 [==============================] - 55s 693ms/step - loss: 1.2608 - acc: 0.4964 - val_loss: 1.5339 - val_acc: 0.4060\n",
      "Epoch 51/100\n",
      "79/79 [==============================] - 55s 692ms/step - loss: 1.2432 - acc: 0.5040 - val_loss: 1.5244 - val_acc: 0.4020\n",
      "Epoch 52/100\n",
      "79/79 [==============================] - 55s 692ms/step - loss: 1.2412 - acc: 0.5014 - val_loss: 1.5191 - val_acc: 0.4193\n",
      "Epoch 53/100\n",
      "79/79 [==============================] - 54s 689ms/step - loss: 1.2281 - acc: 0.5048 - val_loss: 1.5141 - val_acc: 0.4224\n",
      "Epoch 54/100\n",
      "79/79 [==============================] - 55s 691ms/step - loss: 1.2455 - acc: 0.4925 - val_loss: 1.5138 - val_acc: 0.4122\n",
      "Epoch 55/100\n",
      "79/79 [==============================] - 55s 692ms/step - loss: 1.2331 - acc: 0.4946 - val_loss: 1.5046 - val_acc: 0.4185\n",
      "Epoch 56/100\n",
      "79/79 [==============================] - 55s 695ms/step - loss: 1.2484 - acc: 0.4990 - val_loss: 1.5246 - val_acc: 0.4240\n",
      "Epoch 57/100\n",
      "79/79 [==============================] - 55s 693ms/step - loss: 1.2364 - acc: 0.5054 - val_loss: 1.5615 - val_acc: 0.3981\n",
      "Epoch 58/100\n",
      "79/79 [==============================] - 55s 690ms/step - loss: 1.2239 - acc: 0.5056 - val_loss: 1.5483 - val_acc: 0.4185\n",
      "Epoch 59/100\n",
      "79/79 [==============================] - 55s 693ms/step - loss: 1.2314 - acc: 0.5079 - val_loss: 1.5350 - val_acc: 0.4255\n",
      "Epoch 60/100\n",
      "79/79 [==============================] - 55s 692ms/step - loss: 1.2421 - acc: 0.5068 - val_loss: 1.5464 - val_acc: 0.4036\n",
      "Epoch 61/100\n",
      "79/79 [==============================] - 55s 695ms/step - loss: 1.2062 - acc: 0.5202 - val_loss: 1.5495 - val_acc: 0.4091\n"
     ]
    },
    {
     "name": "stdout",
     "output_type": "stream",
     "text": [
      "Epoch 62/100\n",
      "79/79 [==============================] - 55s 691ms/step - loss: 1.2174 - acc: 0.5224 - val_loss: 1.5056 - val_acc: 0.4201\n",
      "Epoch 63/100\n",
      "79/79 [==============================] - 54s 688ms/step - loss: 1.2412 - acc: 0.4938 - val_loss: 1.5274 - val_acc: 0.4083\n",
      "Epoch 64/100\n",
      "79/79 [==============================] - 55s 691ms/step - loss: 1.2193 - acc: 0.5165 - val_loss: 1.5040 - val_acc: 0.4326\n",
      "Epoch 65/100\n",
      "79/79 [==============================] - 55s 693ms/step - loss: 1.2102 - acc: 0.5149 - val_loss: 1.5955 - val_acc: 0.3989\n",
      "Epoch 66/100\n",
      "79/79 [==============================] - 55s 692ms/step - loss: 1.2172 - acc: 0.5129 - val_loss: 1.5168 - val_acc: 0.4232\n",
      "Epoch 67/100\n",
      "79/79 [==============================] - 54s 689ms/step - loss: 1.2048 - acc: 0.5139 - val_loss: 1.5386 - val_acc: 0.4177\n",
      "Epoch 68/100\n",
      "79/79 [==============================] - 55s 691ms/step - loss: 1.2002 - acc: 0.5170 - val_loss: 1.5523 - val_acc: 0.4216\n",
      "Epoch 69/100\n",
      "79/79 [==============================] - 55s 691ms/step - loss: 1.2069 - acc: 0.5232 - val_loss: 1.5501 - val_acc: 0.4114\n",
      "Epoch 70/100\n",
      "79/79 [==============================] - 55s 694ms/step - loss: 1.2032 - acc: 0.5121 - val_loss: 1.5507 - val_acc: 0.4067\n",
      "Epoch 71/100\n",
      "79/79 [==============================] - 54s 689ms/step - loss: 1.2167 - acc: 0.5177 - val_loss: 1.5784 - val_acc: 0.4287\n",
      "Epoch 72/100\n",
      "79/79 [==============================] - 54s 689ms/step - loss: 1.2140 - acc: 0.5127 - val_loss: 1.5396 - val_acc: 0.4248\n",
      "Epoch 73/100\n",
      "79/79 [==============================] - 55s 691ms/step - loss: 1.1966 - acc: 0.5225 - val_loss: 1.5366 - val_acc: 0.4208\n",
      "Epoch 74/100\n",
      "79/79 [==============================] - 54s 690ms/step - loss: 1.2106 - acc: 0.5101 - val_loss: 1.5474 - val_acc: 0.4208\n",
      "Epoch 75/100\n",
      "79/79 [==============================] - 54s 689ms/step - loss: 1.1944 - acc: 0.5220 - val_loss: 1.5580 - val_acc: 0.4263\n",
      "Epoch 76/100\n",
      "79/79 [==============================] - 54s 689ms/step - loss: 1.1951 - acc: 0.5191 - val_loss: 1.5287 - val_acc: 0.4107\n",
      "Epoch 77/100\n",
      "79/79 [==============================] - 55s 690ms/step - loss: 1.1963 - acc: 0.5222 - val_loss: 1.5213 - val_acc: 0.4295\n",
      "Epoch 78/100\n",
      "79/79 [==============================] - 55s 690ms/step - loss: 1.1799 - acc: 0.5355 - val_loss: 1.5589 - val_acc: 0.4083\n",
      "Epoch 79/100\n",
      "79/79 [==============================] - 54s 689ms/step - loss: 1.1986 - acc: 0.5268 - val_loss: 1.5660 - val_acc: 0.4091\n",
      "Epoch 80/100\n",
      "79/79 [==============================] - 55s 692ms/step - loss: 1.1885 - acc: 0.5351 - val_loss: 1.5801 - val_acc: 0.4193\n",
      "Epoch 81/100\n",
      "79/79 [==============================] - 54s 690ms/step - loss: 1.1901 - acc: 0.5200 - val_loss: 1.5320 - val_acc: 0.4279\n",
      "Epoch 82/100\n",
      "79/79 [==============================] - 55s 692ms/step - loss: 1.1899 - acc: 0.5244 - val_loss: 1.5429 - val_acc: 0.4138\n",
      "Epoch 83/100\n",
      "79/79 [==============================] - 55s 692ms/step - loss: 1.1779 - acc: 0.5324 - val_loss: 1.5391 - val_acc: 0.4161\n",
      "Epoch 84/100\n",
      "79/79 [==============================] - 55s 692ms/step - loss: 1.1748 - acc: 0.5391 - val_loss: 1.5599 - val_acc: 0.4177\n",
      "Epoch 85/100\n",
      "79/79 [==============================] - 54s 689ms/step - loss: 1.1865 - acc: 0.5244 - val_loss: 1.5589 - val_acc: 0.4287\n",
      "Epoch 86/100\n",
      "79/79 [==============================] - 55s 690ms/step - loss: 1.1716 - acc: 0.5236 - val_loss: 1.5562 - val_acc: 0.4208\n",
      "Epoch 87/100\n",
      "79/79 [==============================] - 55s 690ms/step - loss: 1.1873 - acc: 0.5355 - val_loss: 1.5585 - val_acc: 0.4224\n",
      "Epoch 88/100\n",
      "79/79 [==============================] - 55s 690ms/step - loss: 1.1622 - acc: 0.5379 - val_loss: 1.5708 - val_acc: 0.4303\n",
      "Epoch 89/100\n",
      "79/79 [==============================] - 55s 692ms/step - loss: 1.1751 - acc: 0.5324 - val_loss: 1.5605 - val_acc: 0.4169\n",
      "Epoch 90/100\n",
      "79/79 [==============================] - 55s 691ms/step - loss: 1.1763 - acc: 0.5244 - val_loss: 1.5792 - val_acc: 0.4248\n",
      "Epoch 91/100\n",
      "79/79 [==============================] - 54s 689ms/step - loss: 1.1611 - acc: 0.5281 - val_loss: 1.5286 - val_acc: 0.4154\n",
      "Epoch 92/100\n",
      "79/79 [==============================] - 54s 689ms/step - loss: 1.1761 - acc: 0.5271 - val_loss: 1.5233 - val_acc: 0.4154\n",
      "Epoch 93/100\n",
      "79/79 [==============================] - 54s 688ms/step - loss: 1.1618 - acc: 0.5391 - val_loss: 1.5693 - val_acc: 0.4248\n",
      "Epoch 94/100\n",
      "79/79 [==============================] - 54s 689ms/step - loss: 1.1682 - acc: 0.5335 - val_loss: 1.5617 - val_acc: 0.4248\n",
      "Epoch 95/100\n",
      "79/79 [==============================] - 54s 690ms/step - loss: 1.1455 - acc: 0.5431 - val_loss: 1.5296 - val_acc: 0.4161\n",
      "Epoch 96/100\n",
      "79/79 [==============================] - 55s 690ms/step - loss: 1.1615 - acc: 0.5387 - val_loss: 1.5458 - val_acc: 0.4185\n",
      "Epoch 97/100\n",
      "79/79 [==============================] - 54s 689ms/step - loss: 1.1506 - acc: 0.5494 - val_loss: 1.5978 - val_acc: 0.4083\n",
      "Epoch 98/100\n",
      "79/79 [==============================] - 55s 690ms/step - loss: 1.1559 - acc: 0.5387 - val_loss: 1.5903 - val_acc: 0.4208\n",
      "Epoch 99/100\n",
      "79/79 [==============================] - 55s 691ms/step - loss: 1.1576 - acc: 0.5328 - val_loss: 1.5553 - val_acc: 0.4208\n",
      "Epoch 100/100\n",
      "79/79 [==============================] - 55s 691ms/step - loss: 1.1467 - acc: 0.5435 - val_loss: 1.5779 - val_acc: 0.4350\n"
     ]
    }
   ],
   "source": [
    "history = model.fit_generator(aug.flow(trainX, trainY, batch_size=32), epochs=100, steps_per_epoch=len(trainX)//32, validation_data=(validationX, validationY))"
   ]
  },
  {
   "cell_type": "markdown",
   "metadata": {},
   "source": [
    "# Plotting"
   ]
  },
  {
   "cell_type": "code",
   "execution_count": 28,
   "metadata": {},
   "outputs": [],
   "source": [
    "history_dict = history.history\n",
    "epoch = np.arange(1, len(history_dict['acc']) + 1)\n",
    "acc = history_dict['acc']\n",
    "val_acc = history_dict['val_acc']\n",
    "loss = history_dict['loss']\n",
    "val_loss = history_dict['val_loss']"
   ]
  },
  {
   "cell_type": "markdown",
   "metadata": {},
   "source": [
    "## Accuracy"
   ]
  },
  {
   "cell_type": "code",
   "execution_count": 29,
   "metadata": {},
   "outputs": [
    {
     "data": {
      "image/png": "[encoded data removed]",
      "text/plain": [
       "<Figure size 432x288 with 1 Axes>"
      ]
     },
     "metadata": {},
     "output_type": "display_data"
    }
   ],
   "source": [
    "plt.style.use('ggplot')\n",
    "plt.plot(epoch, acc, label='Train Accuracy')\n",
    "plt.plot(epoch, val_acc, label='Validation Accuracy')\n",
    "plt.title('Accuracy')\n",
    "plt.xlabel('Epochs')\n",
    "plt.ylabel('Accuracy')\n",
    "plt.legend()\n",
    "plt.show()"
   ]
  },
  {
   "cell_type": "markdown",
   "metadata": {},
   "source": [
    "## Loss"
   ]
  },
  {
   "cell_type": "code",
   "execution_count": 30,
   "metadata": {},
   "outputs": [
    {
     "data": {
      "image/png": "[encoded data removed]",
      "text/plain": [
       "<Figure size 432x288 with 1 Axes>"
      ]
     },
     "metadata": {},
     "output_type": "display_data"
    }
   ],
   "source": [
    "plt.clf()\n",
    "plt.plot(epoch, loss, label='Train Loss')\n",
    "plt.plot(epoch, val_loss, label='validation Loss')\n",
    "plt.title('Loss')\n",
    "plt.xlabel('Epochs')\n",
    "plt.ylabel('Loss')\n",
    "plt.legend()\n",
    "plt.show()"
   ]
  },
  {
   "cell_type": "markdown",
   "metadata": {},
   "source": [
    "## eVALUATION"
   ]
  },
  {
   "cell_type": "code",
   "execution_count": 31,
   "metadata": {},
   "outputs": [
    {
     "name": "stdout",
     "output_type": "stream",
     "text": [
      "1276/1276 [==============================] - 20s 16ms/step\n"
     ]
    }
   ],
   "source": [
    "result = model.evaluate(testX, testY)"
   ]
  },
  {
   "cell_type": "code",
   "execution_count": 32,
   "metadata": {},
   "outputs": [
    {
     "data": {
      "text/plain": [
       "[1.6103312599247899, 0.4098746180534363]"
      ]
     },
     "execution_count": 32,
     "metadata": {},
     "output_type": "execute_result"
    }
   ],
   "source": [
    "result"
   ]
  },
  {
   "cell_type": "code",
   "execution_count": null,
   "metadata": {},
   "outputs": [],
   "source": []
  }
 ],
 "metadata": {
  "kernelspec": {
   "display_name": "Python 3",
   "language": "python",
   "name": "python3"
  }
 },
 "nbformat": 4,
 "nbformat_minor": 4
}
