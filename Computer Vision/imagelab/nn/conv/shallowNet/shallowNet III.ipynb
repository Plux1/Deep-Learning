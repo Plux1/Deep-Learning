{
 "cells": [
  {
   "cell_type": "markdown",
   "metadata": {},
   "source": [
    "# NOTE"
   ]
  },
  {
   "cell_type": "raw",
   "metadata": {},
   "source": [
    "This version:\n",
    "    1) Modify the way we load images, now we are going to load data paths all together and them split them latter with sklearn.\n",
    "    2) Model is trained on cat_dog dataset, hence binary classification\n",
    "    "
   ]
  },
  {
   "cell_type": "markdown",
   "metadata": {},
   "source": [
    "# IMPORTS"
   ]
  },
  {
   "cell_type": "code",
   "execution_count": 1,
   "metadata": {},
   "outputs": [
    {
     "name": "stderr",
     "output_type": "stream",
     "text": [
      "Using TensorFlow backend.\n"
     ]
    }
   ],
   "source": [
    "from keras.preprocessing.image import img_to_array\n",
    "from sklearn.model_selection import train_test_split\n",
    "from sklearn.preprocessing import LabelBinarizer\n",
    "from keras.optimizers import SGD\n",
    "from keras import backend as K\n",
    "from sklearn.utils import shuffle\n",
    "import matplotlib.pyplot as plt\n",
    "from keras import models\n",
    "from imutils import paths\n",
    "from keras import layers\n",
    "import numpy as np\n",
    "import cv2\n",
    "import os"
   ]
  },
  {
   "cell_type": "markdown",
   "metadata": {},
   "source": [
    "# LOAD DATASET"
   ]
  },
  {
   "cell_type": "markdown",
   "metadata": {},
   "source": [
    "## Global"
   ]
  },
  {
   "cell_type": "code",
   "execution_count": 2,
   "metadata": {},
   "outputs": [],
   "source": [
    "lb = LabelBinarizer()"
   ]
  },
  {
   "cell_type": "markdown",
   "metadata": {},
   "source": [
    "## Helper"
   ]
  },
  {
   "cell_type": "code",
   "execution_count": 3,
   "metadata": {},
   "outputs": [],
   "source": [
    "# Resize processor\n",
    "def img_resize(img, width, height, interpolation):\n",
    "    inter = interpolation\n",
    "    return cv2.resize(img, (width, height), inter)\n",
    "\n",
    "# Image to array processor\n",
    "def img2array(img, dataFormat=None):\n",
    "    return img_to_array(img, data_format=dataFormat)\n",
    "\n",
    "# Image loader: \n",
    "    # This method return a network ready data, by passing data through preprocessors\n",
    "def img_load(img_paths, verbose=1):\n",
    "#     data = []\n",
    "    images = []\n",
    "#     inter = cv2.INTER_AREA\n",
    "    \n",
    "    print('[INFO] loading...')\n",
    "    for (i, img_path) in enumerate(img_paths):\n",
    "        img = cv2.imread(img_path)\n",
    "        images.append(img)\n",
    "        \n",
    "        # Console Followup\n",
    "        if i > 0 and verbose > 0 and (i + 1) % verbose == 0:\n",
    "            print('[INFO] loaded {}/{}'.format((i + 1), len(img_paths)))\n",
    "  \n",
    "    # Convert images list into numpy array\n",
    "    images = np.array(images)\n",
    "    \n",
    "    return images\n",
    "\n",
    "# Image processor\n",
    "def img_processor(imgs):\n",
    "    data = []\n",
    "    inter = cv2.INTER_AREA\n",
    "       \n",
    "    # Process images and store them in data container\n",
    "    print('[INFO] processing images...')\n",
    "    for image in images:\n",
    "        image = img_resize(image, 32, 32, inter)\n",
    "        image = img2array(image)\n",
    "        data.append(image)\n",
    "    \n",
    "    # Convert data into numpy array\n",
    "    data = np.array(data)\n",
    "    \n",
    "    # Scale the pixels intensity [0, 1]\n",
    "    data = data.astype('float') / 255.0\n",
    "    \n",
    "    return data\n",
    "\n",
    "# Label Extractor\n",
    "def extract_label(img_dir, img_paths):\n",
    "    labels = []\n",
    "    \n",
    "    for path in img_paths:\n",
    "        image_name = path[len(img_dir):]\n",
    "        label = image_name[:3]\n",
    "        labels.append(label)\n",
    "    \n",
    "    # Convert labels list to numpy array\n",
    "    labels = np.array(labels)\n",
    "    \n",
    "    return labels"
   ]
  },
  {
   "cell_type": "markdown",
   "metadata": {},
   "source": [
    "## Images"
   ]
  },
  {
   "cell_type": "code",
   "execution_count": 4,
   "metadata": {},
   "outputs": [
    {
     "name": "stdout",
     "output_type": "stream",
     "text": [
      "[INFO] loading...\n",
      "[INFO] loaded 1250/25000\n",
      "[INFO] loaded 2500/25000\n",
      "[INFO] loaded 3750/25000\n",
      "[INFO] loaded 5000/25000\n",
      "[INFO] loaded 6250/25000\n",
      "[INFO] loaded 7500/25000\n",
      "[INFO] loaded 8750/25000\n",
      "[INFO] loaded 10000/25000\n",
      "[INFO] loaded 11250/25000\n",
      "[INFO] loaded 12500/25000\n",
      "[INFO] loaded 13750/25000\n",
      "[INFO] loaded 15000/25000\n",
      "[INFO] loaded 16250/25000\n",
      "[INFO] loaded 17500/25000\n",
      "[INFO] loaded 18750/25000\n",
      "[INFO] loaded 20000/25000\n",
      "[INFO] loaded 21250/25000\n",
      "[INFO] loaded 22500/25000\n",
      "[INFO] loaded 23750/25000\n",
      "[INFO] loaded 25000/25000\n"
     ]
    },
    {
     "name": "stderr",
     "output_type": "stream",
     "text": [
      "C:\\Users\\Tajr\\Anaconda3\\envs\\Deep_Learning\\lib\\site-packages\\ipykernel_launcher.py:27: VisibleDeprecationWarning: Creating an ndarray from ragged nested sequences (which is a list-or-tuple of lists-or-tuples-or ndarrays with different lengths or shapes) is deprecated. If you meant to do this, you must specify 'dtype=object' when creating the ndarray\n"
     ]
    }
   ],
   "source": [
    "# Acquire Paths\n",
    "images_dir = 'C:/Users/Tajr/Desktop/Data/RadonPlus/RadonTechnology/Dev/Deep Learning/Datasets/CatDog/All/'\n",
    "images_path = list(paths.list_images(images_dir))\n",
    "\n",
    "# Shuffle Paths\n",
    "images_path = shuffle(images_path)\n",
    "\n",
    "# Images\n",
    "images = img_load(images_path, verbose=1250)"
   ]
  },
  {
   "cell_type": "markdown",
   "metadata": {},
   "source": [
    "## Labels"
   ]
  },
  {
   "cell_type": "code",
   "execution_count": 5,
   "metadata": {},
   "outputs": [
    {
     "data": {
      "text/plain": [
       "(25000, 1)"
      ]
     },
     "execution_count": 5,
     "metadata": {},
     "output_type": "execute_result"
    }
   ],
   "source": [
    "# Extract labels\n",
    "labels = extract_label(images_dir, images_path)\n",
    "\n",
    "\n",
    "# Binarize labels special for feedforwad network\n",
    "labels = lb.fit_transform(labels)\n",
    "labels.shape"
   ]
  },
  {
   "cell_type": "markdown",
   "metadata": {},
   "source": [
    "## Data"
   ]
  },
  {
   "cell_type": "code",
   "execution_count": 6,
   "metadata": {},
   "outputs": [
    {
     "name": "stdout",
     "output_type": "stream",
     "text": [
      "[INFO] processing images...\n"
     ]
    },
    {
     "data": {
      "text/plain": [
       "(25000, 32, 32, 3)"
      ]
     },
     "execution_count": 6,
     "metadata": {},
     "output_type": "execute_result"
    }
   ],
   "source": [
    "# Pass images to image processors to get network data\n",
    "data = img_processor(images)\n",
    "data.shape"
   ]
  },
  {
   "cell_type": "markdown",
   "metadata": {},
   "source": [
    "## Data Splitting"
   ]
  },
  {
   "cell_type": "code",
   "execution_count": 7,
   "metadata": {},
   "outputs": [],
   "source": [
    "# Extract 5000 data points for test samples and labels from data and labels\n",
    "(train_samples, testX, train_labels, testY) = train_test_split(data, labels, test_size=0.2)\n",
    "\n",
    "# Extract 5000 data points for validation samples and labels from train_samples and train_labels\n",
    "(trainX, validationX, trainY, validationY) = train_test_split(train_samples, train_labels, test_size=0.25)"
   ]
  },
  {
   "cell_type": "markdown",
   "metadata": {},
   "source": [
    "# ARCHITECTURE"
   ]
  },
  {
   "cell_type": "code",
   "execution_count": 8,
   "metadata": {},
   "outputs": [
    {
     "name": "stdout",
     "output_type": "stream",
     "text": [
      "Model: \"sequential_1\"\n",
      "_________________________________________________________________\n",
      "Layer (type)                 Output Shape              Param #   \n",
      "=================================================================\n",
      "conv2d_1 (Conv2D)            (None, 32, 32, 32)        896       \n",
      "_________________________________________________________________\n",
      "activation_1 (Activation)    (None, 32, 32, 32)        0         \n",
      "_________________________________________________________________\n",
      "flatten_1 (Flatten)          (None, 32768)             0         \n",
      "_________________________________________________________________\n",
      "dense_1 (Dense)              (None, 1)                 32769     \n",
      "_________________________________________________________________\n",
      "activation_2 (Activation)    (None, 1)                 0         \n",
      "=================================================================\n",
      "Total params: 33,665\n",
      "Trainable params: 33,665\n",
      "Non-trainable params: 0\n",
      "_________________________________________________________________\n"
     ]
    }
   ],
   "source": [
    "width = 32\n",
    "height = 32\n",
    "depth = 3\n",
    "stride = (3, 3)\n",
    "filters = 32\n",
    "input_shape = (width, height, depth)\n",
    "\n",
    "if K.image_data_format() == 'channels_first':\n",
    "    input_shape = (depth, width, height)\n",
    "\n",
    "model = models.Sequential()\n",
    "model.add(layers.Conv2D(32, stride, padding='same', input_shape=input_shape))\n",
    "model.add(layers.Activation('relu'))\n",
    "model.add(layers.Flatten())\n",
    "model.add(layers.Dense(1))\n",
    "model.add(layers.Activation('sigmoid'))\n",
    "model.summary()"
   ]
  },
  {
   "cell_type": "markdown",
   "metadata": {},
   "source": [
    "# COMPILE AND TRAIN"
   ]
  },
  {
   "cell_type": "code",
   "execution_count": 9,
   "metadata": {},
   "outputs": [
    {
     "name": "stdout",
     "output_type": "stream",
     "text": [
      "Train on 15000 samples, validate on 5000 samples\n",
      "Epoch 1/100\n",
      "15000/15000 [==============================] - 20s 1ms/step - loss: 0.6840 - acc: 0.5665 - val_loss: 0.6665 - val_acc: 0.5780\n",
      "Epoch 2/100\n",
      "15000/15000 [==============================] - 7s 477us/step - loss: 0.6567 - acc: 0.6126 - val_loss: 0.6521 - val_acc: 0.6138\n",
      "Epoch 3/100\n",
      "15000/15000 [==============================] - 7s 436us/step - loss: 0.6397 - acc: 0.6415 - val_loss: 0.6517 - val_acc: 0.6088\n",
      "Epoch 4/100\n",
      "15000/15000 [==============================] - 6s 412us/step - loss: 0.6241 - acc: 0.6620 - val_loss: 0.6169 - val_acc: 0.6748\n",
      "Epoch 5/100\n",
      "15000/15000 [==============================] - 5s 359us/step - loss: 0.6057 - acc: 0.6818 - val_loss: 0.6069 - val_acc: 0.6750\n",
      "Epoch 6/100\n",
      "15000/15000 [==============================] - 5s 364us/step - loss: 0.5903 - acc: 0.6959 - val_loss: 0.5959 - val_acc: 0.6886\n",
      "Epoch 7/100\n",
      "15000/15000 [==============================] - 5s 359us/step - loss: 0.5764 - acc: 0.7067 - val_loss: 0.5789 - val_acc: 0.7026\n",
      "Epoch 8/100\n",
      "15000/15000 [==============================] - 5s 357us/step - loss: 0.5664 - acc: 0.7155 - val_loss: 0.5785 - val_acc: 0.7080\n",
      "Epoch 9/100\n",
      "15000/15000 [==============================] - 5s 358us/step - loss: 0.5561 - acc: 0.7222 - val_loss: 0.5726 - val_acc: 0.7046\n",
      "Epoch 10/100\n",
      "15000/15000 [==============================] - 6s 421us/step - loss: 0.5491 - acc: 0.7257 - val_loss: 0.5650 - val_acc: 0.7128\n",
      "Epoch 11/100\n",
      "15000/15000 [==============================] - 7s 464us/step - loss: 0.5401 - acc: 0.7315 - val_loss: 0.5729 - val_acc: 0.7036\n",
      "Epoch 12/100\n",
      "15000/15000 [==============================] - 5s 359us/step - loss: 0.5333 - acc: 0.7372 - val_loss: 0.5675 - val_acc: 0.7060\n",
      "Epoch 13/100\n",
      "15000/15000 [==============================] - 5s 356us/step - loss: 0.5291 - acc: 0.7437 - val_loss: 0.5733 - val_acc: 0.6996\n",
      "Epoch 14/100\n",
      "15000/15000 [==============================] - 5s 366us/step - loss: 0.5232 - acc: 0.7446 - val_loss: 0.5629 - val_acc: 0.7132\n",
      "Epoch 15/100\n",
      "15000/15000 [==============================] - 6s 370us/step - loss: 0.5166 - acc: 0.7517 - val_loss: 0.5530 - val_acc: 0.7230\n",
      "Epoch 16/100\n",
      "15000/15000 [==============================] - 5s 366us/step - loss: 0.5134 - acc: 0.7540 - val_loss: 0.5807 - val_acc: 0.7022\n",
      "Epoch 17/100\n",
      "15000/15000 [==============================] - 6s 367us/step - loss: 0.5077 - acc: 0.7542 - val_loss: 0.5665 - val_acc: 0.7116\n",
      "Epoch 18/100\n",
      "15000/15000 [==============================] - 6s 383us/step - loss: 0.5024 - acc: 0.7585 - val_loss: 0.5697 - val_acc: 0.7040\n",
      "Epoch 19/100\n",
      "15000/15000 [==============================] - 6s 409us/step - loss: 0.4966 - acc: 0.7625 - val_loss: 0.5602 - val_acc: 0.7136\n",
      "Epoch 20/100\n",
      "15000/15000 [==============================] - 6s 404us/step - loss: 0.4903 - acc: 0.7679 - val_loss: 0.5488 - val_acc: 0.7218\n",
      "Epoch 21/100\n",
      "15000/15000 [==============================] - 8s 510us/step - loss: 0.4874 - acc: 0.7666 - val_loss: 0.5440 - val_acc: 0.7282\n",
      "Epoch 22/100\n",
      "15000/15000 [==============================] - 6s 382us/step - loss: 0.4823 - acc: 0.7719 - val_loss: 0.5454 - val_acc: 0.7272\n",
      "Epoch 23/100\n",
      "15000/15000 [==============================] - 6s 392us/step - loss: 0.4786 - acc: 0.7738 - val_loss: 0.5501 - val_acc: 0.7268\n",
      "Epoch 24/100\n",
      "15000/15000 [==============================] - 5s 356us/step - loss: 0.4734 - acc: 0.7773 - val_loss: 0.5460 - val_acc: 0.7246\n",
      "Epoch 25/100\n",
      "15000/15000 [==============================] - 5s 356us/step - loss: 0.4701 - acc: 0.7805 - val_loss: 0.5796 - val_acc: 0.7070\n",
      "Epoch 26/100\n",
      "15000/15000 [==============================] - 5s 351us/step - loss: 0.4648 - acc: 0.7826 - val_loss: 0.5467 - val_acc: 0.7272\n",
      "Epoch 27/100\n",
      "15000/15000 [==============================] - 5s 355us/step - loss: 0.4599 - acc: 0.7854 - val_loss: 0.5466 - val_acc: 0.7280\n",
      "Epoch 28/100\n",
      "15000/15000 [==============================] - 6s 374us/step - loss: 0.4567 - acc: 0.7871 - val_loss: 0.5421 - val_acc: 0.7314\n",
      "Epoch 29/100\n",
      "15000/15000 [==============================] - 6s 380us/step - loss: 0.4512 - acc: 0.7899 - val_loss: 0.5385 - val_acc: 0.7316\n",
      "Epoch 30/100\n",
      "15000/15000 [==============================] - 6s 382us/step - loss: 0.4474 - acc: 0.7929 - val_loss: 0.5461 - val_acc: 0.7298\n",
      "Epoch 31/100\n",
      "15000/15000 [==============================] - 6s 380us/step - loss: 0.4443 - acc: 0.7952 - val_loss: 0.5418 - val_acc: 0.7298\n",
      "Epoch 32/100\n",
      "15000/15000 [==============================] - 6s 378us/step - loss: 0.4398 - acc: 0.7994 - val_loss: 0.5633 - val_acc: 0.7152\n",
      "Epoch 33/100\n",
      "15000/15000 [==============================] - 6s 380us/step - loss: 0.4346 - acc: 0.8018 - val_loss: 0.5685 - val_acc: 0.7230\n",
      "Epoch 34/100\n",
      "15000/15000 [==============================] - 6s 374us/step - loss: 0.4312 - acc: 0.8014 - val_loss: 0.5405 - val_acc: 0.7330\n",
      "Epoch 35/100\n",
      "15000/15000 [==============================] - 6s 411us/step - loss: 0.4280 - acc: 0.8055 - val_loss: 0.5463 - val_acc: 0.7296\n",
      "Epoch 36/100\n",
      "15000/15000 [==============================] - 6s 429us/step - loss: 0.4253 - acc: 0.8064 - val_loss: 0.5536 - val_acc: 0.7282\n",
      "Epoch 37/100\n",
      "15000/15000 [==============================] - 7s 469us/step - loss: 0.4211 - acc: 0.8104 - val_loss: 0.5564 - val_acc: 0.7188\n",
      "Epoch 38/100\n",
      "15000/15000 [==============================] - 7s 448us/step - loss: 0.4164 - acc: 0.8131 - val_loss: 0.5517 - val_acc: 0.7228\n",
      "Epoch 39/100\n",
      "15000/15000 [==============================] - 7s 463us/step - loss: 0.4153 - acc: 0.8110 - val_loss: 0.5501 - val_acc: 0.7256\n",
      "Epoch 40/100\n",
      "15000/15000 [==============================] - 6s 422us/step - loss: 0.4101 - acc: 0.8147 - val_loss: 0.5446 - val_acc: 0.7306\n",
      "Epoch 41/100\n",
      "15000/15000 [==============================] - 6s 406us/step - loss: 0.4072 - acc: 0.8171 - val_loss: 0.5519 - val_acc: 0.7356\n",
      "Epoch 42/100\n",
      "15000/15000 [==============================] - 6s 380us/step - loss: 0.4028 - acc: 0.8212 - val_loss: 0.5519 - val_acc: 0.7324\n",
      "Epoch 43/100\n",
      "15000/15000 [==============================] - 6s 385us/step - loss: 0.3993 - acc: 0.8231 - val_loss: 0.5479 - val_acc: 0.7276\n",
      "Epoch 44/100\n",
      "15000/15000 [==============================] - 6s 373us/step - loss: 0.3977 - acc: 0.8229 - val_loss: 0.5608 - val_acc: 0.7204\n",
      "Epoch 45/100\n",
      "15000/15000 [==============================] - 6s 372us/step - loss: 0.3943 - acc: 0.8225 - val_loss: 0.5486 - val_acc: 0.7322\n",
      "Epoch 46/100\n",
      "15000/15000 [==============================] - 7s 467us/step - loss: 0.3911 - acc: 0.8280 - val_loss: 0.5513 - val_acc: 0.7310\n",
      "Epoch 47/100\n",
      "15000/15000 [==============================] - 6s 425us/step - loss: 0.3881 - acc: 0.8276 - val_loss: 0.5571 - val_acc: 0.7368\n",
      "Epoch 48/100\n",
      "15000/15000 [==============================] - 7s 467us/step - loss: 0.3843 - acc: 0.8313 - val_loss: 0.5566 - val_acc: 0.7276\n",
      "Epoch 49/100\n",
      "15000/15000 [==============================] - 7s 463us/step - loss: 0.3809 - acc: 0.8335 - val_loss: 0.5746 - val_acc: 0.7178\n",
      "Epoch 50/100\n",
      "15000/15000 [==============================] - 6s 373us/step - loss: 0.3784 - acc: 0.8346 - val_loss: 0.5673 - val_acc: 0.7338\n",
      "Epoch 51/100\n",
      "15000/15000 [==============================] - 6s 395us/step - loss: 0.3753 - acc: 0.8380 - val_loss: 0.5557 - val_acc: 0.7380\n",
      "Epoch 52/100\n",
      "15000/15000 [==============================] - 7s 499us/step - loss: 0.3737 - acc: 0.8367 - val_loss: 0.5596 - val_acc: 0.7364\n",
      "Epoch 53/100\n",
      "15000/15000 [==============================] - 6s 424us/step - loss: 0.3688 - acc: 0.8420 - val_loss: 0.5571 - val_acc: 0.7324\n",
      "Epoch 54/100\n",
      "15000/15000 [==============================] - 7s 487us/step - loss: 0.3679 - acc: 0.8411 - val_loss: 0.5685 - val_acc: 0.7332\n",
      "Epoch 55/100\n",
      "15000/15000 [==============================] - 6s 377us/step - loss: 0.3642 - acc: 0.8429 - val_loss: 0.5627 - val_acc: 0.7366\n",
      "Epoch 56/100\n",
      "15000/15000 [==============================] - 7s 433us/step - loss: 0.3614 - acc: 0.8472 - val_loss: 0.5767 - val_acc: 0.7298\n",
      "Epoch 57/100\n",
      "15000/15000 [==============================] - 6s 404us/step - loss: 0.3574 - acc: 0.8475 - val_loss: 0.5624 - val_acc: 0.7316\n",
      "Epoch 58/100\n",
      "15000/15000 [==============================] - 6s 388us/step - loss: 0.3539 - acc: 0.8490 - val_loss: 0.5653 - val_acc: 0.7368\n",
      "Epoch 59/100\n"
     ]
    },
    {
     "name": "stdout",
     "output_type": "stream",
     "text": [
      "15000/15000 [==============================] - 7s 439us/step - loss: 0.3528 - acc: 0.8517 - val_loss: 0.5699 - val_acc: 0.7300\n",
      "Epoch 60/100\n",
      "15000/15000 [==============================] - 6s 377us/step - loss: 0.3491 - acc: 0.8537 - val_loss: 0.5875 - val_acc: 0.7272\n",
      "Epoch 61/100\n",
      "15000/15000 [==============================] - 6s 372us/step - loss: 0.3480 - acc: 0.8495 - val_loss: 0.5788 - val_acc: 0.7246\n",
      "Epoch 62/100\n",
      "15000/15000 [==============================] - 7s 440us/step - loss: 0.3444 - acc: 0.8555 - val_loss: 0.6158 - val_acc: 0.7206\n",
      "Epoch 63/100\n",
      "15000/15000 [==============================] - 6s 390us/step - loss: 0.3418 - acc: 0.8542 - val_loss: 0.5720 - val_acc: 0.7282\n",
      "Epoch 64/100\n",
      "15000/15000 [==============================] - 6s 408us/step - loss: 0.3381 - acc: 0.8570 - val_loss: 0.5828 - val_acc: 0.7226\n",
      "Epoch 65/100\n",
      "15000/15000 [==============================] - 6s 372us/step - loss: 0.3366 - acc: 0.8583 - val_loss: 0.5815 - val_acc: 0.7310\n",
      "Epoch 66/100\n",
      "15000/15000 [==============================] - 6s 372us/step - loss: 0.3354 - acc: 0.8583 - val_loss: 0.5791 - val_acc: 0.7268\n",
      "Epoch 67/100\n",
      "15000/15000 [==============================] - 6s 372us/step - loss: 0.3295 - acc: 0.8633 - val_loss: 0.5830 - val_acc: 0.7322\n",
      "Epoch 68/100\n",
      "15000/15000 [==============================] - 6s 372us/step - loss: 0.3278 - acc: 0.8647 - val_loss: 0.5914 - val_acc: 0.7236\n",
      "Epoch 69/100\n",
      "15000/15000 [==============================] - 6s 379us/step - loss: 0.3260 - acc: 0.8649 - val_loss: 0.5812 - val_acc: 0.7314\n",
      "Epoch 70/100\n",
      "15000/15000 [==============================] - 6s 374us/step - loss: 0.3208 - acc: 0.8684 - val_loss: 0.5956 - val_acc: 0.7284\n",
      "Epoch 71/100\n",
      "15000/15000 [==============================] - 6s 412us/step - loss: 0.3198 - acc: 0.8687 - val_loss: 0.5950 - val_acc: 0.7220\n",
      "Epoch 72/100\n",
      "15000/15000 [==============================] - 6s 392us/step - loss: 0.3187 - acc: 0.8679 - val_loss: 0.5960 - val_acc: 0.7258\n",
      "Epoch 73/100\n",
      "15000/15000 [==============================] - 6s 372us/step - loss: 0.3145 - acc: 0.8711 - val_loss: 0.5919 - val_acc: 0.7260\n",
      "Epoch 74/100\n",
      "15000/15000 [==============================] - 7s 448us/step - loss: 0.3119 - acc: 0.8715 - val_loss: 0.6120 - val_acc: 0.7294\n",
      "Epoch 75/100\n",
      "15000/15000 [==============================] - 6s 392us/step - loss: 0.3089 - acc: 0.8744 - val_loss: 0.5920 - val_acc: 0.7328\n",
      "Epoch 76/100\n",
      "15000/15000 [==============================] - 6s 400us/step - loss: 0.3069 - acc: 0.8763 - val_loss: 0.5958 - val_acc: 0.7266\n",
      "Epoch 77/100\n",
      "15000/15000 [==============================] - 6s 405us/step - loss: 0.3047 - acc: 0.8767 - val_loss: 0.6048 - val_acc: 0.7270\n",
      "Epoch 78/100\n",
      "15000/15000 [==============================] - 7s 474us/step - loss: 0.3023 - acc: 0.8783 - val_loss: 0.5981 - val_acc: 0.7318\n",
      "Epoch 79/100\n",
      "15000/15000 [==============================] - 7s 434us/step - loss: 0.3004 - acc: 0.8796 - val_loss: 0.6070 - val_acc: 0.7312\n",
      "Epoch 80/100\n",
      "15000/15000 [==============================] - 7s 439us/step - loss: 0.2960 - acc: 0.8821 - val_loss: 0.6122 - val_acc: 0.7272\n",
      "Epoch 81/100\n",
      "15000/15000 [==============================] - 6s 372us/step - loss: 0.2932 - acc: 0.8845 - val_loss: 0.6050 - val_acc: 0.7290\n",
      "Epoch 82/100\n",
      "15000/15000 [==============================] - 7s 471us/step - loss: 0.2918 - acc: 0.8839 - val_loss: 0.6121 - val_acc: 0.7276: 2s - loss: - \n",
      "Epoch 83/100\n",
      "15000/15000 [==============================] - 8s 501us/step - loss: 0.2897 - acc: 0.8862 - val_loss: 0.6117 - val_acc: 0.7292\n",
      "Epoch 84/100\n",
      "15000/15000 [==============================] - 7s 454us/step - loss: 0.2862 - acc: 0.8878 - val_loss: 0.6191 - val_acc: 0.7306\n",
      "Epoch 85/100\n",
      "15000/15000 [==============================] - 6s 415us/step - loss: 0.2837 - acc: 0.8887 - val_loss: 0.6222 - val_acc: 0.7300\n",
      "Epoch 86/100\n",
      "15000/15000 [==============================] - 7s 435us/step - loss: 0.2824 - acc: 0.8901 - val_loss: 0.6164 - val_acc: 0.7312\n",
      "Epoch 87/100\n",
      "15000/15000 [==============================] - 8s 526us/step - loss: 0.2783 - acc: 0.8900 - val_loss: 0.6273 - val_acc: 0.7292\n",
      "Epoch 88/100\n",
      "15000/15000 [==============================] - 6s 426us/step - loss: 0.2772 - acc: 0.8919 - val_loss: 0.6221 - val_acc: 0.7290\n",
      "Epoch 89/100\n",
      "15000/15000 [==============================] - 6s 373us/step - loss: 0.2750 - acc: 0.8936 - val_loss: 0.6469 - val_acc: 0.7232\n",
      "Epoch 90/100\n",
      "15000/15000 [==============================] - 6s 422us/step - loss: 0.2713 - acc: 0.8964 - val_loss: 0.6360 - val_acc: 0.7230\n",
      "Epoch 91/100\n",
      "15000/15000 [==============================] - 7s 454us/step - loss: 0.2697 - acc: 0.8979 - val_loss: 0.6279 - val_acc: 0.7282\n",
      "Epoch 92/100\n",
      "15000/15000 [==============================] - 8s 551us/step - loss: 0.2690 - acc: 0.8968 - val_loss: 0.6597 - val_acc: 0.7140\n",
      "Epoch 93/100\n",
      "15000/15000 [==============================] - 6s 385us/step - loss: 0.2651 - acc: 0.8987 - val_loss: 0.6468 - val_acc: 0.7278\n",
      "Epoch 94/100\n",
      "15000/15000 [==============================] - 6s 374us/step - loss: 0.2622 - acc: 0.9004 - val_loss: 0.6337 - val_acc: 0.7264\n",
      "Epoch 95/100\n",
      "15000/15000 [==============================] - 6s 373us/step - loss: 0.2588 - acc: 0.9042 - val_loss: 0.6638 - val_acc: 0.7148\n",
      "Epoch 96/100\n",
      "15000/15000 [==============================] - 6s 416us/step - loss: 0.2582 - acc: 0.9023 - val_loss: 0.6531 - val_acc: 0.7266\n",
      "Epoch 97/100\n",
      "15000/15000 [==============================] - 6s 414us/step - loss: 0.2547 - acc: 0.9059 - val_loss: 0.6389 - val_acc: 0.7302\n",
      "Epoch 98/100\n",
      "15000/15000 [==============================] - 6s 373us/step - loss: 0.2541 - acc: 0.9071 - val_loss: 0.6479 - val_acc: 0.7288\n",
      "Epoch 99/100\n",
      "15000/15000 [==============================] - 7s 461us/step - loss: 0.2501 - acc: 0.9083 - val_loss: 0.7184 - val_acc: 0.6986\n",
      "Epoch 100/100\n",
      "15000/15000 [==============================] - 6s 402us/step - loss: 0.2517 - acc: 0.9049 - val_loss: 0.6755 - val_acc: 0.7222\n"
     ]
    }
   ],
   "source": [
    "opt = SGD(0.01)\n",
    "model.compile(optimizer=opt, loss='binary_crossentropy', metrics=['acc'])\n",
    "history = model.fit(trainX, trainY, epochs=100, batch_size=32, validation_data=(validationX, validationY))"
   ]
  },
  {
   "cell_type": "code",
   "execution_count": 10,
   "metadata": {},
   "outputs": [
    {
     "data": {
      "text/plain": [
       "dict_keys(['val_loss', 'val_acc', 'loss', 'acc'])"
      ]
     },
     "execution_count": 10,
     "metadata": {},
     "output_type": "execute_result"
    }
   ],
   "source": [
    "history_dict = history.history\n",
    "history_dict.keys()"
   ]
  },
  {
   "cell_type": "markdown",
   "metadata": {},
   "source": [
    "# PLOT TRAIN HISTORY"
   ]
  },
  {
   "cell_type": "code",
   "execution_count": 11,
   "metadata": {},
   "outputs": [],
   "source": [
    "# Data\n",
    "epochs = np.arange(0, 100)\n",
    "\n",
    "accuracy = history_dict['acc']\n",
    "val_accuracy = history_dict['val_acc']\n",
    "\n",
    "loss = history_dict['loss']\n",
    "val_loss = history_dict['val_loss']"
   ]
  },
  {
   "cell_type": "markdown",
   "metadata": {},
   "source": [
    "## Accuracy"
   ]
  },
  {
   "cell_type": "code",
   "execution_count": 12,
   "metadata": {},
   "outputs": [
    {
     "data": {
      "image/png": "[encoded data removed]",
      "text/plain": [
       "<Figure size 432x288 with 1 Axes>"
      ]
     },
     "metadata": {},
     "output_type": "display_data"
    }
   ],
   "source": [
    "plt.style.use('ggplot')\n",
    "plt.plot(epochs, accuracy, label='Train accuracy')\n",
    "plt.plot(epochs, val_accuracy, label='Validation accuracy')\n",
    "plt.title('Train and Validation Accuracy')\n",
    "plt.xlabel('Epochs')\n",
    "plt.ylabel('Accuracy')\n",
    "plt.legend()\n",
    "plt.show()"
   ]
  },
  {
   "cell_type": "markdown",
   "metadata": {},
   "source": [
    "## Loss"
   ]
  },
  {
   "cell_type": "code",
   "execution_count": 13,
   "metadata": {},
   "outputs": [
    {
     "data": {
      "image/png": "[encoded data removed]",
      "text/plain": [
       "<Figure size 432x288 with 1 Axes>"
      ]
     },
     "metadata": {},
     "output_type": "display_data"
    }
   ],
   "source": [
    "plt.clf()\n",
    "plt.plot(epochs, loss, label='Train loss')\n",
    "plt.plot(epochs, val_loss, label='Validation loss')\n",
    "plt.title('Train and Validation Loss')\n",
    "plt.xlabel('Epochs')\n",
    "plt.ylabel('Loss')\n",
    "plt.legend()\n",
    "plt.show()"
   ]
  },
  {
   "cell_type": "markdown",
   "metadata": {},
   "source": [
    "# EVALUATION"
   ]
  },
  {
   "cell_type": "code",
   "execution_count": 14,
   "metadata": {},
   "outputs": [
    {
     "name": "stdout",
     "output_type": "stream",
     "text": [
      "5000/5000 [==============================] - 1s 217us/step\n"
     ]
    },
    {
     "data": {
      "text/plain": [
       "[0.6618949712753296, 0.727400004863739]"
      ]
     },
     "execution_count": 14,
     "metadata": {},
     "output_type": "execute_result"
    }
   ],
   "source": [
    "result = model.evaluate(testX, testY)\n",
    "result"
   ]
  },
  {
   "cell_type": "raw",
   "metadata": {},
   "source": [
    "From evaluation result above we have achieved an accuracy of 70%, which means in every 10 samples we can correctly\n",
    "    classify only 7 of them."
   ]
  },
  {
   "cell_type": "markdown",
   "metadata": {},
   "source": [
    "# SERIALIZE A MODEL"
   ]
  },
  {
   "cell_type": "code",
   "execution_count": 15,
   "metadata": {},
   "outputs": [],
   "source": [
    "model.save('shallowNet_III_weights.hdf5')"
   ]
  }
 ],
 "metadata": {
  "kernelspec": {
   "display_name": "Python 3",
   "language": "python",
   "name": "python3"
  },
  "language_info": {
   "codemirror_mode": {
    "name": "ipython",
    "version": 3
   },
   "file_extension": ".py",
   "mimetype": "text/x-python",
   "name": "python",
   "nbconvert_exporter": "python",
   "pygments_lexer": "ipython3",
   "version": "3.6.10"
  }
 },
 "nbformat": 4,
 "nbformat_minor": 4
}
