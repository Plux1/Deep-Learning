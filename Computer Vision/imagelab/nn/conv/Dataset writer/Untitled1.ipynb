{
 "cells": [
  {
   "cell_type": "code",
   "execution_count": null,
   "metadata": {},
   "outputs": [],
   "source": [
    "import h5py\n",
    "import os"
   ]
  },
  {
   "cell_type": "code",
   "execution_count": 1,
   "metadata": {},
   "outputs": [
    {
     "ename": "SyntaxError",
     "evalue": "unexpected EOF while parsing (<ipython-input-1-7a1c4a1d6e89>, line 27)",
     "output_type": "error",
     "traceback": [
      "\u001b[1;36m  File \u001b[1;32m\"<ipython-input-1-7a1c4a1d6e89>\"\u001b[1;36m, line \u001b[1;32m27\u001b[0m\n\u001b[1;33m    def flush(self):\u001b[0m\n\u001b[1;37m                    ^\u001b[0m\n\u001b[1;31mSyntaxError\u001b[0m\u001b[1;31m:\u001b[0m unexpected EOF while parsing\n"
     ]
    }
   ],
   "source": [
    "class HDF5DatasetWriter:\n",
    "    # constructor\n",
    "    def __init__(self, dims, outputPath, dataKey='images', bufSize=1000):\n",
    "        # check to see if the output path exists and if so raise an exception\n",
    "        if os.path.exists(outputPath):\n",
    "            raise ValueError('The supplied \"outputPath\" already exists and cannot be overwritten. Manually delete the file before continuing.', outputPath)\n",
    "        \n",
    "        # open the HDF5 database for writing and create two datasets 1) to store the images/features and 2) to store the class labels\n",
    "        self.db = h5py.File(outputPath, 'w')\n",
    "        self.data = self.db.create_dataset(dataKey, dims, dype='float')\n",
    "        self.labels = self.db.create_dataset('labels', dims[0], dtype='int')\n",
    "        \n",
    "        # store the buffer size, then initialize the buffer itself along with the index into the datasets\n",
    "        self.bufSize = bufSize\n",
    "        self.buffer = {'data': [], 'labels': []}\n",
    "        self.idx = 0\n",
    "    \n",
    "    def add(self,rows, labels):\n",
    "        # add data to our buffer\n",
    "        self.buffer['data'].extend(rows)\n",
    "        self.buffer['labels'].extend(labels)\n",
    "        \n",
    "        # check to see if the buffer needs to be flushed to disk\n",
    "        if len(self.buffer['data']) >= self.bufSize:\n",
    "            self.flush()\n",
    "    \n",
    "    def flush(self):\n",
    "        # write the buffer to disk then reset the buffer\n",
    "        i = self.idx + len(self.buffer['data'])\n",
    "        self.data[self.idx:i] = self.buffer['data']\n",
    "        self.labels[self.idx:1] = self.buffer['labels']\n",
    "        self.idx = i\n",
    "        self.buffer = {'data': [], 'label': []}\n",
    "    \n",
    "    def storeClassLabels(self, classLabels):\n",
    "        # create a dataset to store the actual class label names, then store the class labels\n",
    "        dt = h5py.special_dtype(vlen=unicode)\n",
    "        labelSet = self.db.create_dataset('label_names', (len(classLabels),), dtype=dt)\n",
    "        labelSet[:] = classLabels\n",
    "    \n",
    "    def close(self):\n",
    "        # chck to see if there are any othere entries in the buffer that need to be flushed to disk\n",
    "        if len(self.buffer['data']) > 0:\n",
    "            self.flush()\n",
    "        \n",
    "        # close the dataset\n",
    "        self.db.close()"
   ]
  },
  {
   "cell_type": "code",
   "execution_count": null,
   "metadata": {},
   "outputs": [],
   "source": []
  }
 ],
 "metadata": {
  "kernelspec": {
   "display_name": "Python 3",
   "language": "python",
   "name": "python3"
  },
  "language_info": {
   "codemirror_mode": {
    "name": "ipython",
    "version": 3
   },
   "file_extension": ".py",
   "mimetype": "text/x-python",
   "name": "python",
   "nbconvert_exporter": "python",
   "pygments_lexer": "ipython3",
   "version": "3.6.10"
  }
 },
 "nbformat": 4,
 "nbformat_minor": 4
}
