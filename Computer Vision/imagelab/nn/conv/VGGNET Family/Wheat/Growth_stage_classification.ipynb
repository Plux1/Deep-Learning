{
 "cells": [
  {
   "cell_type": "markdown",
   "metadata": {},
   "source": [
    "# NOTES"
   ]
  },
  {
   "cell_type": "raw",
   "metadata": {},
   "source": [
    "The wheat growth dataset:\n",
    "    X-listics: \n",
    "                  ===>  images are divided into high quality and low quality.\n",
    "                  ===> high class imbalance is spotted\n",
    "                  ===> based on seven growth stages high quality pot missed the third stage\n",
    "                  ===> based on seven growth stages low quality pot misses the first and the sixth stage \n",
    "    Combat: \n",
    "                  ===> take stage three in low and treat as high (train a model only with high quality pot)"
   ]
  },
  {
   "cell_type": "markdown",
   "metadata": {},
   "source": [
    "# IMPORTS"
   ]
  },
  {
   "cell_type": "code",
   "execution_count": 1,
   "metadata": {},
   "outputs": [
    {
     "name": "stderr",
     "output_type": "stream",
     "text": [
      "Using TensorFlow backend.\n"
     ]
    }
   ],
   "source": [
    "import os\n",
    "import cv2\n",
    "import json\n",
    "import imutils\n",
    "import progressbar\n",
    "import numpy as np\n",
    "import pandas as pd\n",
    "from imutils import paths\n",
    "from keras import layers\n",
    "from keras import models\n",
    "import matplotlib.pyplot as plt\n",
    "from sklearn.utils import shuffle\n",
    "from keras import backend as K\n",
    "from keras.utils import plot_model\n",
    "from keras.optimizers import SGD\n",
    "from keras.callbacks import BaseLogger\n",
    "from sklearn.preprocessing import LabelBinarizer\n",
    "from sklearn.model_selection import train_test_split\n",
    "from keras.preprocessing.image import img_to_array\n",
    "from keras.preprocessing.image import ImageDataGenerator"
   ]
  },
  {
   "cell_type": "markdown",
   "metadata": {},
   "source": [
    "# DATASET"
   ]
  },
  {
   "cell_type": "markdown",
   "metadata": {},
   "source": [
    "## Preprocessing"
   ]
  },
  {
   "cell_type": "code",
   "execution_count": 2,
   "metadata": {},
   "outputs": [],
   "source": [
    "class Preprocessor:\n",
    "    \n",
    "    def __init__(self, width, height, inter=cv2.INTER_AREA, dataFormat=None):\n",
    "        self.width = width\n",
    "        self.height = height\n",
    "        self.inter = inter\n",
    "        self.dataFormat = dataFormat\n",
    "        self.load_widgets = ['Load Data: ', progressbar.Percentage(), ' ', progressbar.Bar(), ' ', progressbar.ETA()]\n",
    "    \n",
    "    # path\n",
    "    def get_images_path(self, img_dir):\n",
    "        return list(paths.list_images(img_dir))\n",
    "    \n",
    "    # data and labels\n",
    "    def load_data(self, images_path):\n",
    "        data = []\n",
    "        labels = []\n",
    "        \n",
    "        # start a progress bar\n",
    "        progress_load = progressbar.ProgressBar(maxval=len(images_path), widgets=self.load_widgets).start()\n",
    "        \n",
    "        # loop over the paths\n",
    "        for (i, path) in enumerate(images_path):\n",
    "            image = cv2.imread(path)\n",
    "            image = self.resize(image)\n",
    "            image = self.img2array(image)\n",
    "            data.append(image)\n",
    "            \n",
    "            # extract labels\n",
    "            label = path.split('/')[-1].split()[0]\n",
    "            labels.append(label)\n",
    "            \n",
    "            # update progress bar\n",
    "            progress_load.update(i)\n",
    "            \n",
    "        # numpy conversion\n",
    "        labels = np.array(labels)\n",
    "        data = np.array(data).astype('float32') / 255.0\n",
    "        \n",
    "        progress_load.finish()\n",
    "        \n",
    "        return (data, labels)\n",
    "    \n",
    "    # resive with aspect ratio\n",
    "    def resize(self, image):\n",
    "        # get height, width and initialize crop deltas\n",
    "        (h, w) = image.shape[:2]\n",
    "        dH = 0\n",
    "        dW = 0\n",
    "        \n",
    "        \n",
    "        \n",
    "        \n",
    "        # resize\n",
    "        if w < h:\n",
    "            image = imutils.resize(image, width=self.width, inter=self.inter)\n",
    "            dH = int((image_shape[0] - self.height) / 2.0)\n",
    "        else:\n",
    "            image = imutils.resize(image, height=self.height, inter=self.inter)\n",
    "            dW = int((image.shape[1] - self.width) / 2.0)\n",
    "            \n",
    "        \n",
    "        # crop\n",
    "        (h, w) = image.shape[:2]\n",
    "        image = image[dH:h - dH, dW:w - dW]\n",
    "        \n",
    "        # restore spatial dimension \n",
    "        return cv2.resize(image,(self.width, self.height), interpolation=self.inter)\n",
    "    \n",
    "    # convert image to keras array\n",
    "    def img2array(self, image):\n",
    "        return img_to_array(image, data_format=self.dataFormat)\n",
    "    "
   ]
  },
  {
   "cell_type": "markdown",
   "metadata": {},
   "source": [
    "## Load data"
   ]
  },
  {
   "cell_type": "code",
   "execution_count": 3,
   "metadata": {},
   "outputs": [],
   "source": [
    "preprocessor = Preprocessor(width=200, height=88)\n",
    "image_dir = 'C:/Users/Tajr/Desktop/Data/RadonPlus/RadonTechnology/Dev/Deep Learning/Datasets/computervision/zindi/working/high/'\n",
    "images_path = shuffle(preprocessor.get_images_path(image_dir))\n"
   ]
  },
  {
   "cell_type": "code",
   "execution_count": 4,
   "metadata": {},
   "outputs": [
    {
     "name": "stderr",
     "output_type": "stream",
     "text": [
      "Load Data: 100% |###############################################| Time: 0:00:32\n"
     ]
    }
   ],
   "source": [
    "(data, labels) = preprocessor.load_data(images_path)"
   ]
  },
  {
   "cell_type": "code",
   "execution_count": 5,
   "metadata": {},
   "outputs": [
    {
     "data": {
      "text/plain": [
       "(5103, 88, 200, 3)"
      ]
     },
     "execution_count": 5,
     "metadata": {},
     "output_type": "execute_result"
    }
   ],
   "source": [
    "data.shape"
   ]
  },
  {
   "cell_type": "code",
   "execution_count": 6,
   "metadata": {},
   "outputs": [],
   "source": [
    "# data = data.reshape(data.shape[0], data.shape[2], data.shape[1], data.shape[3])"
   ]
  },
  {
   "cell_type": "code",
   "execution_count": 7,
   "metadata": {},
   "outputs": [],
   "source": [
    "# cv2.imshow('reshaped', data[0])\n",
    "# cv2.waitKey(0)"
   ]
  },
  {
   "cell_type": "code",
   "execution_count": 8,
   "metadata": {},
   "outputs": [
    {
     "data": {
      "text/plain": [
       "array(['Tillering', 'Heading', 'Booting', 'MidVegetativePhase',\n",
       "       'CrownRoot'], dtype='<U18')"
      ]
     },
     "execution_count": 8,
     "metadata": {},
     "output_type": "execute_result"
    }
   ],
   "source": [
    "labels[:5]"
   ]
  },
  {
   "cell_type": "code",
   "execution_count": 9,
   "metadata": {},
   "outputs": [
    {
     "data": {
      "text/plain": [
       "689"
      ]
     },
     "execution_count": 9,
     "metadata": {},
     "output_type": "execute_result"
    }
   ],
   "source": [
    "count = 0\n",
    "for (i, label) in enumerate(labels):\n",
    "    if label == 'MidVegetativePhase':\n",
    "        count += 1\n",
    "count"
   ]
  },
  {
   "cell_type": "markdown",
   "metadata": {},
   "source": [
    "## Binarization"
   ]
  },
  {
   "cell_type": "code",
   "execution_count": 10,
   "metadata": {},
   "outputs": [],
   "source": [
    "lb = LabelBinarizer()\n",
    "labels = lb.fit_transform(labels)\n",
    "classNames = lb.classes_"
   ]
  },
  {
   "cell_type": "code",
   "execution_count": 11,
   "metadata": {},
   "outputs": [
    {
     "data": {
      "text/html": [
       "<div>\n",
       "<style scoped>\n",
       "    .dataframe tbody tr th:only-of-type {\n",
       "        vertical-align: middle;\n",
       "    }\n",
       "\n",
       "    .dataframe tbody tr th {\n",
       "        vertical-align: top;\n",
       "    }\n",
       "\n",
       "    .dataframe thead tr th {\n",
       "        text-align: left;\n",
       "    }\n",
       "</style>\n",
       "<table border=\"1\" class=\"dataframe\">\n",
       "  <thead>\n",
       "    <tr>\n",
       "      <th></th>\n",
       "      <th>Anthesis</th>\n",
       "      <th>Booting</th>\n",
       "      <th>CrownRoot</th>\n",
       "      <th>Heading</th>\n",
       "      <th>MidVegetativePhase</th>\n",
       "      <th>Milking</th>\n",
       "      <th>Tillering</th>\n",
       "    </tr>\n",
       "  </thead>\n",
       "  <tbody>\n",
       "    <tr>\n",
       "      <th>count</th>\n",
       "      <td>5103.000000</td>\n",
       "      <td>5103.000000</td>\n",
       "      <td>5103.000000</td>\n",
       "      <td>5103.000000</td>\n",
       "      <td>5103.000000</td>\n",
       "      <td>5103.000000</td>\n",
       "      <td>5103.000000</td>\n",
       "    </tr>\n",
       "    <tr>\n",
       "      <th>mean</th>\n",
       "      <td>0.082500</td>\n",
       "      <td>0.116010</td>\n",
       "      <td>0.151088</td>\n",
       "      <td>0.164805</td>\n",
       "      <td>0.135019</td>\n",
       "      <td>0.169312</td>\n",
       "      <td>0.181266</td>\n",
       "    </tr>\n",
       "    <tr>\n",
       "      <th>std</th>\n",
       "      <td>0.275153</td>\n",
       "      <td>0.320269</td>\n",
       "      <td>0.358169</td>\n",
       "      <td>0.371041</td>\n",
       "      <td>0.341777</td>\n",
       "      <td>0.375064</td>\n",
       "      <td>0.385276</td>\n",
       "    </tr>\n",
       "    <tr>\n",
       "      <th>min</th>\n",
       "      <td>0.000000</td>\n",
       "      <td>0.000000</td>\n",
       "      <td>0.000000</td>\n",
       "      <td>0.000000</td>\n",
       "      <td>0.000000</td>\n",
       "      <td>0.000000</td>\n",
       "      <td>0.000000</td>\n",
       "    </tr>\n",
       "    <tr>\n",
       "      <th>25%</th>\n",
       "      <td>0.000000</td>\n",
       "      <td>0.000000</td>\n",
       "      <td>0.000000</td>\n",
       "      <td>0.000000</td>\n",
       "      <td>0.000000</td>\n",
       "      <td>0.000000</td>\n",
       "      <td>0.000000</td>\n",
       "    </tr>\n",
       "    <tr>\n",
       "      <th>50%</th>\n",
       "      <td>0.000000</td>\n",
       "      <td>0.000000</td>\n",
       "      <td>0.000000</td>\n",
       "      <td>0.000000</td>\n",
       "      <td>0.000000</td>\n",
       "      <td>0.000000</td>\n",
       "      <td>0.000000</td>\n",
       "    </tr>\n",
       "    <tr>\n",
       "      <th>75%</th>\n",
       "      <td>0.000000</td>\n",
       "      <td>0.000000</td>\n",
       "      <td>0.000000</td>\n",
       "      <td>0.000000</td>\n",
       "      <td>0.000000</td>\n",
       "      <td>0.000000</td>\n",
       "      <td>0.000000</td>\n",
       "    </tr>\n",
       "    <tr>\n",
       "      <th>max</th>\n",
       "      <td>1.000000</td>\n",
       "      <td>1.000000</td>\n",
       "      <td>1.000000</td>\n",
       "      <td>1.000000</td>\n",
       "      <td>1.000000</td>\n",
       "      <td>1.000000</td>\n",
       "      <td>1.000000</td>\n",
       "    </tr>\n",
       "  </tbody>\n",
       "</table>\n",
       "</div>"
      ],
      "text/plain": [
       "          Anthesis      Booting    CrownRoot      Heading MidVegetativePhase  \\\n",
       "count  5103.000000  5103.000000  5103.000000  5103.000000        5103.000000   \n",
       "mean      0.082500     0.116010     0.151088     0.164805           0.135019   \n",
       "std       0.275153     0.320269     0.358169     0.371041           0.341777   \n",
       "min       0.000000     0.000000     0.000000     0.000000           0.000000   \n",
       "25%       0.000000     0.000000     0.000000     0.000000           0.000000   \n",
       "50%       0.000000     0.000000     0.000000     0.000000           0.000000   \n",
       "75%       0.000000     0.000000     0.000000     0.000000           0.000000   \n",
       "max       1.000000     1.000000     1.000000     1.000000           1.000000   \n",
       "\n",
       "           Milking    Tillering  \n",
       "count  5103.000000  5103.000000  \n",
       "mean      0.169312     0.181266  \n",
       "std       0.375064     0.385276  \n",
       "min       0.000000     0.000000  \n",
       "25%       0.000000     0.000000  \n",
       "50%       0.000000     0.000000  \n",
       "75%       0.000000     0.000000  \n",
       "max       1.000000     1.000000  "
      ]
     },
     "execution_count": 11,
     "metadata": {},
     "output_type": "execute_result"
    }
   ],
   "source": [
    "df = pd.DataFrame(labels, columns=[classNames])\n",
    "df.describe(include='all')"
   ]
  },
  {
   "cell_type": "markdown",
   "metadata": {},
   "source": [
    "## Splitting"
   ]
  },
  {
   "cell_type": "code",
   "execution_count": 12,
   "metadata": {},
   "outputs": [],
   "source": [
    "(trainX, test_x, trainY, test_y) = train_test_split(data, labels, test_size=0.5)\n",
    "(validationX, testX, validationY, testY) = train_test_split(test_x, test_y, test_size=0.5)"
   ]
  },
  {
   "cell_type": "markdown",
   "metadata": {},
   "source": [
    "# NETWORK"
   ]
  },
  {
   "cell_type": "markdown",
   "metadata": {},
   "source": [
    "## Variables"
   ]
  },
  {
   "cell_type": "code",
   "execution_count": 13,
   "metadata": {},
   "outputs": [],
   "source": [
    "pool_size = (2, 2)\n",
    "kernel_size = (3, 3)\n",
    "width = 88\n",
    "height = 200\n",
    "depth = 3\n",
    "classes = 7\n",
    "\n",
    "input_shape = (width, height, depth)\n",
    "chann_dim = -1\n",
    "\n",
    "# configure input shape\n",
    "if K.image_data_format() == 'channels_first':\n",
    "    input_shape = (depth, width, height)\n",
    "    chann_dim = 1\n"
   ]
  },
  {
   "cell_type": "markdown",
   "metadata": {},
   "source": [
    "## Net"
   ]
  },
  {
   "cell_type": "code",
   "execution_count": 15,
   "metadata": {},
   "outputs": [
    {
     "name": "stdout",
     "output_type": "stream",
     "text": [
      "Model: \"sequential_2\"\n",
      "_________________________________________________________________\n",
      "Layer (type)                 Output Shape              Param #   \n",
      "=================================================================\n",
      "conv2d_6 (Conv2D)            (None, 88, 200, 32)       896       \n",
      "_________________________________________________________________\n",
      "conv2d_7 (Conv2D)            (None, 88, 200, 64)       18496     \n",
      "_________________________________________________________________\n",
      "max_pooling2d_4 (MaxPooling2 (None, 44, 100, 64)       0         \n",
      "_________________________________________________________________\n",
      "conv2d_8 (Conv2D)            (None, 44, 100, 128)      73856     \n",
      "_________________________________________________________________\n",
      "conv2d_9 (Conv2D)            (None, 44, 100, 256)      295168    \n",
      "_________________________________________________________________\n",
      "max_pooling2d_5 (MaxPooling2 (None, 22, 50, 256)       0         \n",
      "_________________________________________________________________\n",
      "flatten_2 (Flatten)          (None, 281600)            0         \n",
      "_________________________________________________________________\n",
      "dense_4 (Dense)              (None, 256)               72089856  \n",
      "_________________________________________________________________\n",
      "dense_5 (Dense)              (None, 128)               32896     \n",
      "_________________________________________________________________\n",
      "dense_6 (Dense)              (None, 7)                 903       \n",
      "=================================================================\n",
      "Total params: 72,512,071\n",
      "Trainable params: 72,512,071\n",
      "Non-trainable params: 0\n",
      "_________________________________________________________________\n"
     ]
    }
   ],
   "source": [
    "model = models.Sequential()\n",
    "\n",
    "model.add(layers.Conv2D(32, kernel_size, padding='same', input_shape=input_shape, activation='relu'))\n",
    "# model.add(layers.BatchNormalization(axis=chann_dim))\n",
    "model.add(layers.Conv2D(64, kernel_size, padding='same', activation='relu'))\n",
    "# model.add(layers.BatchNormalization(axis=chann_dim))\n",
    "model.add(layers.MaxPooling2D(pool_size=pool_size))\n",
    "# model.add(layers.Dropout(0.25))\n",
    "\n",
    "# model.add(layers.Conv2D(64, kernel_size, padding='same', activation='relu'))\n",
    "# model.add(layers.BatchNormalization(axis=chann_dim))\n",
    "model.add(layers.Conv2D(128, kernel_size, padding='same', activation='relu'))\n",
    "# model.add(layers.BatchNormalization(axis=chann_dim))\n",
    "\n",
    "model.add(layers.Conv2D(256, kernel_size, padding='same', activation='relu'))\n",
    "# model.add(layers.BatchNormalization(axis=chann_dim))\n",
    "model.add(layers.MaxPooling2D(pool_size=pool_size))\n",
    "# model.add(layers.Dropout(0.25))\n",
    "\n",
    "# model.add(layers.Conv2D(256, kernel_size, padding='same', activation='relu'))\n",
    "# model.add(layers.BatchNormalization(axis=chann_dim))\n",
    "# model.add(layers.Conv2D(128, kernel_size, padding='same', activation='relu'))\n",
    "# model.add(layers.BatchNormalization(axis=chann_dim))\n",
    "# model.add(layers.Conv2D(512, kernel_size, padding='same', activation='relu'))\n",
    "# model.add(layers.BatchNormalization(axis=chann_dim))\n",
    "# model.add(layers.Conv2D(256, kernel_size, padding='same', activation='relu'))\n",
    "# model.add(layers.BatchNormalization(axis=chann_dim))\n",
    "# model.add(layers.MaxPooling2D(pool_size=pool_size))\n",
    "# model.add(layers.Dropout(0.25))\n",
    "\n",
    "model.add(layers.Flatten())\n",
    "\n",
    "model.add(layers.Dense(256, activation='relu'))\n",
    "# model.add(layers.Dropout(0.5))\n",
    "\n",
    "# model.add(layers.Dense(128, activation='relu'))\n",
    "# model.add(layers.Dropout(0.5))\n",
    "# model.add(layers.Dense(64, activation='relu'))\n",
    "# model.add(layers.Dropout(0.5))\n",
    "model.add(layers.Dense(128, activation='relu'))\n",
    "# model.add(layers.Dropout(0.5))\n",
    "\n",
    "model.add(layers.Dense(classes, activation='softmax'))\n",
    "\n",
    "model.summary()"
   ]
  },
  {
   "cell_type": "markdown",
   "metadata": {},
   "source": [
    "## Architecture"
   ]
  },
  {
   "cell_type": "code",
   "execution_count": 16,
   "metadata": {
    "scrolled": false
   },
   "outputs": [
    {
     "data": {
      "image/png": "[encoded data removed]",
      "text/plain": [
       "<IPython.core.display.Image object>"
      ]
     },
     "execution_count": 16,
     "metadata": {},
     "output_type": "execute_result"
    }
   ],
   "source": [
    "plot_model(model, to_file='serialized/architecture/architecture.png', show_shapes=True)"
   ]
  },
  {
   "cell_type": "markdown",
   "metadata": {},
   "source": [
    "# COMPILATION"
   ]
  },
  {
   "cell_type": "markdown",
   "metadata": {},
   "source": [
    "## Optimization"
   ]
  },
  {
   "cell_type": "code",
   "execution_count": 18,
   "metadata": {},
   "outputs": [],
   "source": [
    "learning_rate = 0.01\n",
    "epch = 100\n",
    "opt = SGD(lr=learning_rate, momentum=0.999, decay=learning_rate/epch, nesterov=True)"
   ]
  },
  {
   "cell_type": "markdown",
   "metadata": {},
   "source": [
    "## Compile"
   ]
  },
  {
   "cell_type": "code",
   "execution_count": 19,
   "metadata": {},
   "outputs": [],
   "source": [
    "model.compile(optimizer=opt, loss='categorical_crossentropy', metrics=['acc'])"
   ]
  },
  {
   "cell_type": "markdown",
   "metadata": {},
   "source": [
    "# TRAINING"
   ]
  },
  {
   "cell_type": "markdown",
   "metadata": {},
   "source": [
    "## Class imbalance problem"
   ]
  },
  {
   "cell_type": "code",
   "execution_count": 20,
   "metadata": {},
   "outputs": [
    {
     "data": {
      "text/plain": [
       "array([2.19714964, 1.5625    , 1.1997406 , 1.09988109, 1.3425254 ,\n",
       "       1.07060185, 1.        ])"
      ]
     },
     "execution_count": 20,
     "metadata": {},
     "output_type": "execute_result"
    }
   ],
   "source": [
    "# class imbalance problem can be solved by looking at the class weights which define how many of class A go in ration with \n",
    "# how many of class B. see the implementation below\n",
    "classTotal = labels.sum(axis=0)\n",
    "classWeights = classTotal.max() / classTotal\n",
    "classWeights"
   ]
  },
  {
   "cell_type": "markdown",
   "metadata": {},
   "source": [
    "## Data augmentation"
   ]
  },
  {
   "cell_type": "code",
   "execution_count": 21,
   "metadata": {},
   "outputs": [],
   "source": [
    "aug = ImageDataGenerator(rotation_range=30,width_shift_range=0.1, height_shift_range=0.1, shear_range=0.2, zoom_range=0.2, horizontal_flip=True, fill_mode='nearest')"
   ]
  },
  {
   "cell_type": "markdown",
   "metadata": {},
   "source": [
    "## Monitor training"
   ]
  },
  {
   "cell_type": "code",
   "execution_count": 23,
   "metadata": {},
   "outputs": [],
   "source": [
    "class TrainingMonitor(BaseLogger):\n",
    "    def __init__(self, figpath, jsonpath=None, startat=0):\n",
    "        \n",
    "        super(TrainingMonitor, self).__init__()\n",
    "        self.figpath = figpath\n",
    "        self.jsonpath = jsonpath\n",
    "        self.starat = startat\n",
    "    \n",
    "    def on_train_begin(self, logs={}):\n",
    "        self.history_dict = {}\n",
    "        \n",
    "#         # if json history exists, load the training history\n",
    "#         if self.jsonpath is not None:\n",
    "#             if os.path.exists(self.jsonpath):\n",
    "#                 self.history_dict = json.loads(open(self.jsonpath).read())\n",
    "                \n",
    "#                 # check if a starting epoch was supplied\n",
    "#                 if self.startat > 0:\n",
    "#                     # loop over the entries in the history log and trim any entries that are past the starting epoch\n",
    "#                     for k in self.history_dict.keys():\n",
    "#                         self.history_dict[k] = self.history_dict[k][:self.startat]\n",
    "    \n",
    "    def on_epoch_end(self, epoch, logs={}):\n",
    "        # loop over the log and update the loss and acc for the entire traininig process\n",
    "        for (k, v) in logs.items():\n",
    "            l = self.history_dict.get(k, [])\n",
    "            l.append(v)\n",
    "            self.history_dict[k] = l\n",
    "        \n",
    "        # check to see if the training history should be serialized to file\n",
    "#         if self.jsonpath is not None:\n",
    "#             f = open(self.jsonpath, 'w')\n",
    "#             f.write(json.dumps(self.history_dict))\n",
    "#             f.close()\n",
    "        \n",
    "        # ensure at least two epochs have passed befor start plotting\n",
    "        if len(self.history_dict['acc']) > 1:\n",
    "            N = np.arange(0, len(self.history_dict['acc']))\n",
    "            plt.style.use('ggplot')\n",
    "            plt.plot(N, self.history_dict['acc'], label='Train Accuracy')\n",
    "            plt.plot(N, self.history_dict['val_acc'], label='Validation Accuracy')            \n",
    "            plt.plot(N, self.history_dict['loss'], label='Train Loss')            \n",
    "            plt.plot(N, self.history_dict['val_loss'], label='Validation Loss')\n",
    "            plt.title('Training loss and accuracy [Epoch {}]'.format(len(self.history_dict['acc'])))\n",
    "            plt.xlabel('Epoch')\n",
    "            plt.ylabel('Acc/Loss')\n",
    "            plt.legend()\n",
    "            plt.savefig(self.figpath)\n",
    "            plt.close()"
   ]
  },
  {
   "cell_type": "markdown",
   "metadata": {},
   "source": [
    "## Callbacks"
   ]
  },
  {
   "cell_type": "code",
   "execution_count": 24,
   "metadata": {},
   "outputs": [],
   "source": [
    "figpath = 'C:/Users/Tajr/Desktop/Data/RadonPlus/RadonTechnology/Dev/Deep Learning/Computer Vision/imagelab/nn/conv/VGGNET Family/Wheat/serialized/training/plots/'\n",
    "jsonpath = 'C:/Users/Tajr/Desktop/Data/RadonPlus/RadonTechnology/Dev/Deep Learning/Computer Vision/imagelab/nn/conv/VGGNET Family/Wheat/serialized/training/json/{}.json'.format(os.getpid())\n",
    "\n",
    "callbacks = [TrainingMonitor(figpath, jsonpath)]"
   ]
  },
  {
   "cell_type": "markdown",
   "metadata": {},
   "source": [
    "## Train"
   ]
  },
  {
   "cell_type": "code",
   "execution_count": 25,
   "metadata": {
    "scrolled": true
   },
   "outputs": [
    {
     "name": "stdout",
     "output_type": "stream",
     "text": [
      "Train on 2551 samples, validate on 1276 samples\n",
      "Epoch 1/100\n",
      "2551/2551 [==============================] - 83s 32ms/step - loss: 1.8462 - acc: 0.2575 - val_loss: 1.8392 - val_acc: 0.2257\n",
      "Epoch 2/100\n",
      "2551/2551 [==============================] - 67s 26ms/step - loss: 1.8218 - acc: 0.2728 - val_loss: 1.8728 - val_acc: 0.1873\n",
      "Epoch 3/100\n",
      "2551/2551 [==============================] - 69s 27ms/step - loss: 1.8143 - acc: 0.2458 - val_loss: 1.8951 - val_acc: 0.2586\n",
      "Epoch 4/100\n",
      "2551/2551 [==============================] - 66s 26ms/step - loss: 1.8025 - acc: 0.2497 - val_loss: 1.7876 - val_acc: 0.2422\n",
      "Epoch 5/100\n",
      "2551/2551 [==============================] - 65s 25ms/step - loss: 1.8369 - acc: 0.2626 - val_loss: 1.8856 - val_acc: 0.2045\n",
      "Epoch 6/100\n",
      "2551/2551 [==============================] - 65s 26ms/step - loss: 1.9006 - acc: 0.2058 - val_loss: 1.9073 - val_acc: 0.2147\n",
      "Epoch 7/100\n",
      "2551/2551 [==============================] - 69s 27ms/step - loss: 1.9731 - acc: 0.1807 - val_loss: 1.8728 - val_acc: 0.2218\n",
      "Epoch 8/100\n",
      "2551/2551 [==============================] - 68s 27ms/step - loss: 1.9389 - acc: 0.2258 - val_loss: 1.9600 - val_acc: 0.1748\n",
      "Epoch 9/100\n",
      "2551/2551 [==============================] - 65s 26ms/step - loss: 1.9720 - acc: 0.1697 - val_loss: 1.9760 - val_acc: 0.1724\n",
      "Epoch 10/100\n",
      "2551/2551 [==============================] - 66s 26ms/step - loss: 1.9329 - acc: 0.1709 - val_loss: 1.9313 - val_acc: 0.1716\n",
      "Epoch 11/100\n",
      "2551/2551 [==============================] - 65s 26ms/step - loss: 1.9679 - acc: 0.1717 - val_loss: 1.9540 - val_acc: 0.1458\n",
      "Epoch 12/100\n",
      "2551/2551 [==============================] - 65s 26ms/step - loss: 1.9615 - acc: 0.1556 - val_loss: 1.9691 - val_acc: 0.1716\n",
      "Epoch 13/100\n",
      "2551/2551 [==============================] - 66s 26ms/step - loss: 10757912.2282 - acc: 0.1752 - val_loss: 1.9895 - val_acc: 0.1395\n",
      "Epoch 14/100\n",
      "2551/2551 [==============================] - 67s 26ms/step - loss: 556202.8313 - acc: 0.1666 - val_loss: 1.9584 - val_acc: 0.1356\n",
      "Epoch 15/100\n",
      "2551/2551 [==============================] - 71s 28ms/step - loss: 1.9612 - acc: 0.1693 - val_loss: 1.9467 - val_acc: 0.1724\n",
      "Epoch 16/100\n",
      "2551/2551 [==============================] - 67s 26ms/step - loss: 1.9489 - acc: 0.1631 - val_loss: 1.9330 - val_acc: 0.1724\n",
      "Epoch 17/100\n",
      "2551/2551 [==============================] - 67s 26ms/step - loss: 1.9433 - acc: 0.1623 - val_loss: 1.9275 - val_acc: 0.1724\n",
      "Epoch 18/100\n",
      "2551/2551 [==============================] - 67s 26ms/step - loss: 5016170744131633545216.0000 - acc: 0.1509 - val_loss: 2.0152 - val_acc: 0.1732\n",
      "Epoch 19/100\n",
      "2551/2551 [==============================] - 67s 26ms/step - loss: 1.9998 - acc: 0.1592 - val_loss: 2.0064 - val_acc: 0.1724\n",
      "Epoch 20/100\n",
      "2551/2551 [==============================] - 67s 26ms/step - loss: 1.9886 - acc: 0.1627 - val_loss: 2.0122 - val_acc: 0.1732\n",
      "Epoch 21/100\n",
      "2551/2551 [==============================] - 67s 26ms/step - loss: 1.9832 - acc: 0.1662 - val_loss: 1.9772 - val_acc: 0.1724\n",
      "Epoch 22/100\n",
      "2551/2551 [==============================] - 67s 26ms/step - loss: 1.9750 - acc: 0.1697 - val_loss: 1.9464 - val_acc: 0.1732\n",
      "Epoch 23/100\n",
      "2551/2551 [==============================] - 67s 26ms/step - loss: 1.9836 - acc: 0.1529 - val_loss: 1.9530 - val_acc: 0.1724\n",
      "Epoch 24/100\n",
      "2551/2551 [==============================] - 67s 26ms/step - loss: 1.9750 - acc: 0.1674 - val_loss: 1.9493 - val_acc: 0.1732\n",
      "Epoch 25/100\n",
      "2551/2551 [==============================] - 67s 26ms/step - loss: 1.9637 - acc: 0.1646 - val_loss: 1.9462 - val_acc: 0.1724\n",
      "Epoch 26/100\n",
      "2551/2551 [==============================] - 67s 26ms/step - loss: 1.9529 - acc: 0.1752 - val_loss: 1.9387 - val_acc: 0.1724\n",
      "Epoch 27/100\n",
      "2551/2551 [==============================] - 67s 26ms/step - loss: 1.9433 - acc: 0.1623 - val_loss: 1.9497 - val_acc: 0.1356\n",
      "Epoch 28/100\n",
      "2551/2551 [==============================] - 67s 26ms/step - loss: 1.9468 - acc: 0.1619 - val_loss: 1.9351 - val_acc: 0.1724\n",
      "Epoch 29/100\n",
      "2551/2551 [==============================] - 67s 26ms/step - loss: 1.9451 - acc: 0.1674 - val_loss: 1.9322 - val_acc: 0.1732\n",
      "Epoch 30/100\n",
      "2551/2551 [==============================] - 67s 26ms/step - loss: 1.9410 - acc: 0.1733 - val_loss: 1.9373 - val_acc: 0.1724\n",
      "Epoch 31/100\n",
      "2551/2551 [==============================] - 67s 26ms/step - loss: 1.9410 - acc: 0.1588 - val_loss: 1.9353 - val_acc: 0.1732\n",
      "Epoch 32/100\n",
      "2551/2551 [==============================] - 67s 26ms/step - loss: 1.9440 - acc: 0.1752 - val_loss: 1.9284 - val_acc: 0.1724\n",
      "Epoch 33/100\n",
      "2551/2551 [==============================] - 67s 26ms/step - loss: 1.9345 - acc: 0.1744 - val_loss: 1.9281 - val_acc: 0.1724\n",
      "Epoch 34/100\n",
      "2551/2551 [==============================] - 67s 26ms/step - loss: 1.9376 - acc: 0.1827 - val_loss: 1.9354 - val_acc: 0.1724\n",
      "Epoch 35/100\n",
      "2551/2551 [==============================] - 66s 26ms/step - loss: 1.9429 - acc: 0.1509 - val_loss: 1.9376 - val_acc: 0.1724\n",
      "Epoch 36/100\n",
      "2551/2551 [==============================] - 66s 26ms/step - loss: 1.9344 - acc: 0.1701 - val_loss: 1.9448 - val_acc: 0.1724\n",
      "Epoch 37/100\n",
      "2551/2551 [==============================] - 66s 26ms/step - loss: 1.9330 - acc: 0.1780 - val_loss: 1.9414 - val_acc: 0.1724\n",
      "Epoch 38/100\n",
      "2551/2551 [==============================] - 66s 26ms/step - loss: 1.9429 - acc: 0.1690 - val_loss: 1.9442 - val_acc: 0.1724\n",
      "Epoch 39/100\n",
      "2551/2551 [==============================] - 66s 26ms/step - loss: 1.9394 - acc: 0.1811 - val_loss: 1.9341 - val_acc: 0.1724\n",
      "Epoch 40/100\n",
      "2551/2551 [==============================] - 66s 26ms/step - loss: 1.9378 - acc: 0.1580 - val_loss: 1.9322 - val_acc: 0.1732\n",
      "Epoch 41/100\n",
      "2551/2551 [==============================] - 66s 26ms/step - loss: 1.9389 - acc: 0.1721 - val_loss: 1.9327 - val_acc: 0.1724\n",
      "Epoch 42/100\n",
      "2551/2551 [==============================] - 66s 26ms/step - loss: 1.9320 - acc: 0.1682 - val_loss: 1.9268 - val_acc: 0.1724\n",
      "Epoch 43/100\n",
      "2551/2551 [==============================] - 66s 26ms/step - loss: 1.9402 - acc: 0.1635 - val_loss: 1.9357 - val_acc: 0.1724\n",
      "Epoch 44/100\n",
      "2551/2551 [==============================] - 67s 26ms/step - loss: 1.9373 - acc: 0.1580 - val_loss: 1.9348 - val_acc: 0.1724\n",
      "Epoch 45/100\n",
      "2528/2551 [============================>.] - ETA: 0s - loss: 1.9342 - acc: 0.1748"
     ]
    },
    {
     "ename": "KeyboardInterrupt",
     "evalue": "",
     "output_type": "error",
     "traceback": [
      "\u001b[1;31m---------------------------------------------------------------------------\u001b[0m",
      "\u001b[1;31mKeyboardInterrupt\u001b[0m                         Traceback (most recent call last)",
      "\u001b[1;32m<ipython-input-25-1517327a9e5c>\u001b[0m in \u001b[0;36m<module>\u001b[1;34m\u001b[0m\n\u001b[0;32m      1\u001b[0m \u001b[1;31m# history = model.fit_generator(aug.flow(trainX, trainY, batch_size=32), callbacks=callbacks, validation_data=(validationX, validationY), epochs=40, steps_per_epoch=len(trainX) // 32)\u001b[0m\u001b[1;33m\u001b[0m\u001b[1;33m\u001b[0m\u001b[1;33m\u001b[0m\u001b[0m\n\u001b[1;32m----> 2\u001b[1;33m \u001b[0mhistory\u001b[0m \u001b[1;33m=\u001b[0m \u001b[0mmodel\u001b[0m\u001b[1;33m.\u001b[0m\u001b[0mfit\u001b[0m\u001b[1;33m(\u001b[0m\u001b[0mtrainX\u001b[0m\u001b[1;33m,\u001b[0m \u001b[0mtrainY\u001b[0m\u001b[1;33m,\u001b[0m \u001b[0mclass_weight\u001b[0m\u001b[1;33m=\u001b[0m\u001b[0mclassWeights\u001b[0m\u001b[1;33m,\u001b[0m \u001b[0mcallbacks\u001b[0m\u001b[1;33m=\u001b[0m\u001b[0mcallbacks\u001b[0m\u001b[1;33m,\u001b[0m \u001b[0mepochs\u001b[0m\u001b[1;33m=\u001b[0m\u001b[1;36m100\u001b[0m\u001b[1;33m,\u001b[0m \u001b[0mbatch_size\u001b[0m\u001b[1;33m=\u001b[0m\u001b[1;36m32\u001b[0m\u001b[1;33m,\u001b[0m \u001b[0mvalidation_data\u001b[0m\u001b[1;33m=\u001b[0m\u001b[1;33m(\u001b[0m\u001b[0mvalidationX\u001b[0m\u001b[1;33m,\u001b[0m \u001b[0mvalidationY\u001b[0m\u001b[1;33m)\u001b[0m\u001b[1;33m)\u001b[0m\u001b[1;33m\u001b[0m\u001b[1;33m\u001b[0m\u001b[0m\n\u001b[0m",
      "\u001b[1;32m~\\Anaconda3\\envs\\Deep_Learning\\lib\\site-packages\\keras\\engine\\training.py\u001b[0m in \u001b[0;36mfit\u001b[1;34m(self, x, y, batch_size, epochs, verbose, callbacks, validation_split, validation_data, shuffle, class_weight, sample_weight, initial_epoch, steps_per_epoch, validation_steps, validation_freq, max_queue_size, workers, use_multiprocessing, **kwargs)\u001b[0m\n\u001b[0;32m   1237\u001b[0m                                         \u001b[0msteps_per_epoch\u001b[0m\u001b[1;33m=\u001b[0m\u001b[0msteps_per_epoch\u001b[0m\u001b[1;33m,\u001b[0m\u001b[1;33m\u001b[0m\u001b[1;33m\u001b[0m\u001b[0m\n\u001b[0;32m   1238\u001b[0m                                         \u001b[0mvalidation_steps\u001b[0m\u001b[1;33m=\u001b[0m\u001b[0mvalidation_steps\u001b[0m\u001b[1;33m,\u001b[0m\u001b[1;33m\u001b[0m\u001b[1;33m\u001b[0m\u001b[0m\n\u001b[1;32m-> 1239\u001b[1;33m                                         validation_freq=validation_freq)\n\u001b[0m\u001b[0;32m   1240\u001b[0m \u001b[1;33m\u001b[0m\u001b[0m\n\u001b[0;32m   1241\u001b[0m     def evaluate(self,\n",
      "\u001b[1;32m~\\Anaconda3\\envs\\Deep_Learning\\lib\\site-packages\\keras\\engine\\training_arrays.py\u001b[0m in \u001b[0;36mfit_loop\u001b[1;34m(model, fit_function, fit_inputs, out_labels, batch_size, epochs, verbose, callbacks, val_function, val_inputs, shuffle, initial_epoch, steps_per_epoch, validation_steps, validation_freq)\u001b[0m\n\u001b[0;32m    208\u001b[0m                                          \u001b[0mbatch_size\u001b[0m\u001b[1;33m=\u001b[0m\u001b[0mbatch_size\u001b[0m\u001b[1;33m,\u001b[0m\u001b[1;33m\u001b[0m\u001b[1;33m\u001b[0m\u001b[0m\n\u001b[0;32m    209\u001b[0m                                          \u001b[0mcallbacks\u001b[0m\u001b[1;33m=\u001b[0m\u001b[0mcallbacks\u001b[0m\u001b[1;33m,\u001b[0m\u001b[1;33m\u001b[0m\u001b[1;33m\u001b[0m\u001b[0m\n\u001b[1;32m--> 210\u001b[1;33m                                          verbose=0)\n\u001b[0m\u001b[0;32m    211\u001b[0m                     \u001b[0mval_outs\u001b[0m \u001b[1;33m=\u001b[0m \u001b[0mto_list\u001b[0m\u001b[1;33m(\u001b[0m\u001b[0mval_outs\u001b[0m\u001b[1;33m)\u001b[0m\u001b[1;33m\u001b[0m\u001b[1;33m\u001b[0m\u001b[0m\n\u001b[0;32m    212\u001b[0m                     \u001b[1;31m# Same labels assumed.\u001b[0m\u001b[1;33m\u001b[0m\u001b[1;33m\u001b[0m\u001b[1;33m\u001b[0m\u001b[0m\n",
      "\u001b[1;32m~\\Anaconda3\\envs\\Deep_Learning\\lib\\site-packages\\keras\\engine\\training_arrays.py\u001b[0m in \u001b[0;36mtest_loop\u001b[1;34m(model, f, ins, batch_size, verbose, steps, callbacks)\u001b[0m\n\u001b[0;32m    447\u001b[0m             \u001b[0mbatch_logs\u001b[0m \u001b[1;33m=\u001b[0m \u001b[1;33m{\u001b[0m\u001b[1;34m'batch'\u001b[0m\u001b[1;33m:\u001b[0m \u001b[0mbatch_index\u001b[0m\u001b[1;33m,\u001b[0m \u001b[1;34m'size'\u001b[0m\u001b[1;33m:\u001b[0m \u001b[0mlen\u001b[0m\u001b[1;33m(\u001b[0m\u001b[0mbatch_ids\u001b[0m\u001b[1;33m)\u001b[0m\u001b[1;33m}\u001b[0m\u001b[1;33m\u001b[0m\u001b[1;33m\u001b[0m\u001b[0m\n\u001b[0;32m    448\u001b[0m             \u001b[0mcallbacks\u001b[0m\u001b[1;33m.\u001b[0m\u001b[0m_call_batch_hook\u001b[0m\u001b[1;33m(\u001b[0m\u001b[1;34m'test'\u001b[0m\u001b[1;33m,\u001b[0m \u001b[1;34m'begin'\u001b[0m\u001b[1;33m,\u001b[0m \u001b[0mbatch_index\u001b[0m\u001b[1;33m,\u001b[0m \u001b[0mbatch_logs\u001b[0m\u001b[1;33m)\u001b[0m\u001b[1;33m\u001b[0m\u001b[1;33m\u001b[0m\u001b[0m\n\u001b[1;32m--> 449\u001b[1;33m             \u001b[0mbatch_outs\u001b[0m \u001b[1;33m=\u001b[0m \u001b[0mf\u001b[0m\u001b[1;33m(\u001b[0m\u001b[0mins_batch\u001b[0m\u001b[1;33m)\u001b[0m\u001b[1;33m\u001b[0m\u001b[1;33m\u001b[0m\u001b[0m\n\u001b[0m\u001b[0;32m    450\u001b[0m             \u001b[1;32mif\u001b[0m \u001b[0misinstance\u001b[0m\u001b[1;33m(\u001b[0m\u001b[0mbatch_outs\u001b[0m\u001b[1;33m,\u001b[0m \u001b[0mlist\u001b[0m\u001b[1;33m)\u001b[0m\u001b[1;33m:\u001b[0m\u001b[1;33m\u001b[0m\u001b[1;33m\u001b[0m\u001b[0m\n\u001b[0;32m    451\u001b[0m                 \u001b[1;32mif\u001b[0m \u001b[0mbatch_index\u001b[0m \u001b[1;33m==\u001b[0m \u001b[1;36m0\u001b[0m\u001b[1;33m:\u001b[0m\u001b[1;33m\u001b[0m\u001b[1;33m\u001b[0m\u001b[0m\n",
      "\u001b[1;32m~\\Anaconda3\\envs\\Deep_Learning\\lib\\site-packages\\tensorflow_core\\python\\keras\\backend.py\u001b[0m in \u001b[0;36m__call__\u001b[1;34m(self, inputs)\u001b[0m\n\u001b[0;32m   3725\u001b[0m         \u001b[0mvalue\u001b[0m \u001b[1;33m=\u001b[0m \u001b[0mmath_ops\u001b[0m\u001b[1;33m.\u001b[0m\u001b[0mcast\u001b[0m\u001b[1;33m(\u001b[0m\u001b[0mvalue\u001b[0m\u001b[1;33m,\u001b[0m \u001b[0mtensor\u001b[0m\u001b[1;33m.\u001b[0m\u001b[0mdtype\u001b[0m\u001b[1;33m)\u001b[0m\u001b[1;33m\u001b[0m\u001b[1;33m\u001b[0m\u001b[0m\n\u001b[0;32m   3726\u001b[0m       \u001b[0mconverted_inputs\u001b[0m\u001b[1;33m.\u001b[0m\u001b[0mappend\u001b[0m\u001b[1;33m(\u001b[0m\u001b[0mvalue\u001b[0m\u001b[1;33m)\u001b[0m\u001b[1;33m\u001b[0m\u001b[1;33m\u001b[0m\u001b[0m\n\u001b[1;32m-> 3727\u001b[1;33m     \u001b[0moutputs\u001b[0m \u001b[1;33m=\u001b[0m \u001b[0mself\u001b[0m\u001b[1;33m.\u001b[0m\u001b[0m_graph_fn\u001b[0m\u001b[1;33m(\u001b[0m\u001b[1;33m*\u001b[0m\u001b[0mconverted_inputs\u001b[0m\u001b[1;33m)\u001b[0m\u001b[1;33m\u001b[0m\u001b[1;33m\u001b[0m\u001b[0m\n\u001b[0m\u001b[0;32m   3728\u001b[0m \u001b[1;33m\u001b[0m\u001b[0m\n\u001b[0;32m   3729\u001b[0m     \u001b[1;31m# EagerTensor.numpy() will often make a copy to ensure memory safety.\u001b[0m\u001b[1;33m\u001b[0m\u001b[1;33m\u001b[0m\u001b[1;33m\u001b[0m\u001b[0m\n",
      "\u001b[1;32m~\\Anaconda3\\envs\\Deep_Learning\\lib\\site-packages\\tensorflow_core\\python\\eager\\function.py\u001b[0m in \u001b[0;36m__call__\u001b[1;34m(self, *args, **kwargs)\u001b[0m\n\u001b[0;32m   1549\u001b[0m       \u001b[0mTypeError\u001b[0m\u001b[1;33m:\u001b[0m \u001b[0mFor\u001b[0m \u001b[0minvalid\u001b[0m \u001b[0mpositional\u001b[0m\u001b[1;33m/\u001b[0m\u001b[0mkeyword\u001b[0m \u001b[0margument\u001b[0m \u001b[0mcombinations\u001b[0m\u001b[1;33m.\u001b[0m\u001b[1;33m\u001b[0m\u001b[1;33m\u001b[0m\u001b[0m\n\u001b[0;32m   1550\u001b[0m     \"\"\"\n\u001b[1;32m-> 1551\u001b[1;33m     \u001b[1;32mreturn\u001b[0m \u001b[0mself\u001b[0m\u001b[1;33m.\u001b[0m\u001b[0m_call_impl\u001b[0m\u001b[1;33m(\u001b[0m\u001b[0margs\u001b[0m\u001b[1;33m,\u001b[0m \u001b[0mkwargs\u001b[0m\u001b[1;33m)\u001b[0m\u001b[1;33m\u001b[0m\u001b[1;33m\u001b[0m\u001b[0m\n\u001b[0m\u001b[0;32m   1552\u001b[0m \u001b[1;33m\u001b[0m\u001b[0m\n\u001b[0;32m   1553\u001b[0m   \u001b[1;32mdef\u001b[0m \u001b[0m_call_impl\u001b[0m\u001b[1;33m(\u001b[0m\u001b[0mself\u001b[0m\u001b[1;33m,\u001b[0m \u001b[0margs\u001b[0m\u001b[1;33m,\u001b[0m \u001b[0mkwargs\u001b[0m\u001b[1;33m,\u001b[0m \u001b[0mcancellation_manager\u001b[0m\u001b[1;33m=\u001b[0m\u001b[1;32mNone\u001b[0m\u001b[1;33m)\u001b[0m\u001b[1;33m:\u001b[0m\u001b[1;33m\u001b[0m\u001b[1;33m\u001b[0m\u001b[0m\n",
      "\u001b[1;32m~\\Anaconda3\\envs\\Deep_Learning\\lib\\site-packages\\tensorflow_core\\python\\eager\\function.py\u001b[0m in \u001b[0;36m_call_impl\u001b[1;34m(self, args, kwargs, cancellation_manager)\u001b[0m\n\u001b[0;32m   1589\u001b[0m       raise TypeError(\"Keyword arguments {} unknown. Expected {}.\".format(\n\u001b[0;32m   1590\u001b[0m           list(kwargs.keys()), list(self._arg_keywords)))\n\u001b[1;32m-> 1591\u001b[1;33m     \u001b[1;32mreturn\u001b[0m \u001b[0mself\u001b[0m\u001b[1;33m.\u001b[0m\u001b[0m_call_flat\u001b[0m\u001b[1;33m(\u001b[0m\u001b[0margs\u001b[0m\u001b[1;33m,\u001b[0m \u001b[0mself\u001b[0m\u001b[1;33m.\u001b[0m\u001b[0mcaptured_inputs\u001b[0m\u001b[1;33m,\u001b[0m \u001b[0mcancellation_manager\u001b[0m\u001b[1;33m)\u001b[0m\u001b[1;33m\u001b[0m\u001b[1;33m\u001b[0m\u001b[0m\n\u001b[0m\u001b[0;32m   1592\u001b[0m \u001b[1;33m\u001b[0m\u001b[0m\n\u001b[0;32m   1593\u001b[0m   \u001b[1;32mdef\u001b[0m \u001b[0m_filtered_call\u001b[0m\u001b[1;33m(\u001b[0m\u001b[0mself\u001b[0m\u001b[1;33m,\u001b[0m \u001b[0margs\u001b[0m\u001b[1;33m,\u001b[0m \u001b[0mkwargs\u001b[0m\u001b[1;33m)\u001b[0m\u001b[1;33m:\u001b[0m\u001b[1;33m\u001b[0m\u001b[1;33m\u001b[0m\u001b[0m\n",
      "\u001b[1;32m~\\Anaconda3\\envs\\Deep_Learning\\lib\\site-packages\\tensorflow_core\\python\\eager\\function.py\u001b[0m in \u001b[0;36m_call_flat\u001b[1;34m(self, args, captured_inputs, cancellation_manager)\u001b[0m\n\u001b[0;32m   1690\u001b[0m       \u001b[1;31m# No tape is watching; skip to running the function.\u001b[0m\u001b[1;33m\u001b[0m\u001b[1;33m\u001b[0m\u001b[1;33m\u001b[0m\u001b[0m\n\u001b[0;32m   1691\u001b[0m       return self._build_call_outputs(self._inference_function.call(\n\u001b[1;32m-> 1692\u001b[1;33m           ctx, args, cancellation_manager=cancellation_manager))\n\u001b[0m\u001b[0;32m   1693\u001b[0m     forward_backward = self._select_forward_and_backward_functions(\n\u001b[0;32m   1694\u001b[0m         \u001b[0margs\u001b[0m\u001b[1;33m,\u001b[0m\u001b[1;33m\u001b[0m\u001b[1;33m\u001b[0m\u001b[0m\n",
      "\u001b[1;32m~\\Anaconda3\\envs\\Deep_Learning\\lib\\site-packages\\tensorflow_core\\python\\eager\\function.py\u001b[0m in \u001b[0;36mcall\u001b[1;34m(self, ctx, args, cancellation_manager)\u001b[0m\n\u001b[0;32m    543\u001b[0m               \u001b[0minputs\u001b[0m\u001b[1;33m=\u001b[0m\u001b[0margs\u001b[0m\u001b[1;33m,\u001b[0m\u001b[1;33m\u001b[0m\u001b[1;33m\u001b[0m\u001b[0m\n\u001b[0;32m    544\u001b[0m               \u001b[0mattrs\u001b[0m\u001b[1;33m=\u001b[0m\u001b[1;33m(\u001b[0m\u001b[1;34m\"executor_type\"\u001b[0m\u001b[1;33m,\u001b[0m \u001b[0mexecutor_type\u001b[0m\u001b[1;33m,\u001b[0m \u001b[1;34m\"config_proto\"\u001b[0m\u001b[1;33m,\u001b[0m \u001b[0mconfig\u001b[0m\u001b[1;33m)\u001b[0m\u001b[1;33m,\u001b[0m\u001b[1;33m\u001b[0m\u001b[1;33m\u001b[0m\u001b[0m\n\u001b[1;32m--> 545\u001b[1;33m               ctx=ctx)\n\u001b[0m\u001b[0;32m    546\u001b[0m         \u001b[1;32melse\u001b[0m\u001b[1;33m:\u001b[0m\u001b[1;33m\u001b[0m\u001b[1;33m\u001b[0m\u001b[0m\n\u001b[0;32m    547\u001b[0m           outputs = execute.execute_with_cancellation(\n",
      "\u001b[1;32m~\\Anaconda3\\envs\\Deep_Learning\\lib\\site-packages\\tensorflow_core\\python\\eager\\execute.py\u001b[0m in \u001b[0;36mquick_execute\u001b[1;34m(op_name, num_outputs, inputs, attrs, ctx, name)\u001b[0m\n\u001b[0;32m     59\u001b[0m     tensors = pywrap_tensorflow.TFE_Py_Execute(ctx._handle, device_name,\n\u001b[0;32m     60\u001b[0m                                                \u001b[0mop_name\u001b[0m\u001b[1;33m,\u001b[0m \u001b[0minputs\u001b[0m\u001b[1;33m,\u001b[0m \u001b[0mattrs\u001b[0m\u001b[1;33m,\u001b[0m\u001b[1;33m\u001b[0m\u001b[1;33m\u001b[0m\u001b[0m\n\u001b[1;32m---> 61\u001b[1;33m                                                num_outputs)\n\u001b[0m\u001b[0;32m     62\u001b[0m   \u001b[1;32mexcept\u001b[0m \u001b[0mcore\u001b[0m\u001b[1;33m.\u001b[0m\u001b[0m_NotOkStatusException\u001b[0m \u001b[1;32mas\u001b[0m \u001b[0me\u001b[0m\u001b[1;33m:\u001b[0m\u001b[1;33m\u001b[0m\u001b[1;33m\u001b[0m\u001b[0m\n\u001b[0;32m     63\u001b[0m     \u001b[1;32mif\u001b[0m \u001b[0mname\u001b[0m \u001b[1;32mis\u001b[0m \u001b[1;32mnot\u001b[0m \u001b[1;32mNone\u001b[0m\u001b[1;33m:\u001b[0m\u001b[1;33m\u001b[0m\u001b[1;33m\u001b[0m\u001b[0m\n",
      "\u001b[1;31mKeyboardInterrupt\u001b[0m: "
     ]
    }
   ],
   "source": [
    "history = model.fit_generator(aug.flow(trainX, trainY, batch_size=32), callbacks=callbacks, validation_data=(validationX, validationY), epochs=40, steps_per_epoch=len(trainX) // 32)\n",
    "# history = model.fit(trainX, trainY, class_weight=classWeights, callbacks=callbacks, epochs=100, batch_size=32, validation_data=(validationX, validationY))"
   ]
  },
  {
   "cell_type": "markdown",
   "metadata": {},
   "source": [
    "# PLOTTING"
   ]
  },
  {
   "cell_type": "code",
   "execution_count": null,
   "metadata": {},
   "outputs": [],
   "source": [
    "history_dict = history.history\n",
    "epochs = np.arange(1, len(history_dict['acc']) + 1)\n",
    "\n",
    "acc = history_dict['acc']\n",
    "val_acc = history_dict['val_acc']\n",
    "loss = history_dict['loss']\n",
    "val_loss = history_dict['val_loss']\n",
    "\n",
    "plt.style.use('ggplot')"
   ]
  },
  {
   "cell_type": "code",
   "execution_count": null,
   "metadata": {
    "scrolled": true
   },
   "outputs": [],
   "source": [
    "plt.plot(epochs, acc, label='Train Accuracy')\n",
    "plt.plot(epochs, val_acc, label='Validation Accuracy')\n",
    "plt.plot(epochs, loss, label='Train Loss')\n",
    "plt.plot(epochs, val_loss, label='Validation Loss')\n",
    "plt.title('Train History')\n",
    "plt.xlabel('Epochs')\n",
    "plt.ylabel('Accuracy/Loss')\n",
    "plt.legend()\n",
    "plt.show()"
   ]
  },
  {
   "cell_type": "markdown",
   "metadata": {},
   "source": [
    "# EVALUATION"
   ]
  },
  {
   "cell_type": "code",
   "execution_count": null,
   "metadata": {},
   "outputs": [],
   "source": [
    "result = model.evaluate(testX, testY)"
   ]
  },
  {
   "cell_type": "code",
   "execution_count": null,
   "metadata": {},
   "outputs": [],
   "source": [
    "result"
   ]
  },
  {
   "cell_type": "markdown",
   "metadata": {},
   "source": [
    "# PREDICTION"
   ]
  },
  {
   "cell_type": "markdown",
   "metadata": {},
   "source": [
    "# SUMMARY"
   ]
  }
 ],
 "metadata": {
  "kernelspec": {
   "display_name": "Python 3",
   "language": "python",
   "name": "python3"
  },
  "language_info": {
   "codemirror_mode": {
    "name": "ipython",
    "version": 3
   },
   "file_extension": ".py",
   "mimetype": "text/x-python",
   "name": "python",
   "nbconvert_exporter": "python",
   "pygments_lexer": "ipython3",
   "version": "3.6.10"
  }
 },
 "nbformat": 4,
 "nbformat_minor": 4
}
