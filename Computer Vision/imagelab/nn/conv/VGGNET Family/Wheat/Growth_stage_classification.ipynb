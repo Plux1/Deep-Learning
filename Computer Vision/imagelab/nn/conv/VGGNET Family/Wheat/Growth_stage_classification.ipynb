{
 "cells": [
  {
   "cell_type": "markdown",
   "metadata": {},
   "source": [
    "# NOTES"
   ]
  },
  {
   "cell_type": "raw",
   "metadata": {},
   "source": [
    "The wheat growth dataset:\n",
    "    X-listics: \n",
    "                  ===>  images are divided into high quality and low quality.\n",
    "                  ===> high class imbalance is spotted\n",
    "                  ===> based on seven growth stages high quality pot missed the third stage\n",
    "                  ===> based on seven growth stages low quality pot misses the first and the sixth stage \n",
    "    Combat: \n",
    "                  ===> take stage three in low and treat as high (train a model only with high quality pot)"
   ]
  },
  {
   "cell_type": "markdown",
   "metadata": {},
   "source": [
    "# IMPORTS"
   ]
  },
  {
   "cell_type": "code",
   "execution_count": 1,
   "metadata": {},
   "outputs": [
    {
     "name": "stderr",
     "output_type": "stream",
     "text": [
      "Using TensorFlow backend.\n"
     ]
    }
   ],
   "source": [
    "import os\n",
    "import cv2\n",
    "import imutils\n",
    "import progressbar\n",
    "import numpy as np\n",
    "import pandas as pd\n",
    "from imutils import paths\n",
    "from keras import layers\n",
    "from keras import models\n",
    "import matplotlib.pyplot as plt\n",
    "from sklearn.utils import shuffle\n",
    "from keras import backend as K\n",
    "from keras.utils import plot_model\n",
    "from keras.optimizers import SGD\n",
    "from sklearn.preprocessing import LabelBinarizer\n",
    "from sklearn.model_selection import train_test_split\n",
    "from keras.preprocessing.image import img_to_array\n",
    "from keras.preprocessing.image import ImageDataGenerator"
   ]
  },
  {
   "cell_type": "markdown",
   "metadata": {},
   "source": [
    "# DATASET"
   ]
  },
  {
   "cell_type": "markdown",
   "metadata": {},
   "source": [
    "## Preprocessing"
   ]
  },
  {
   "cell_type": "code",
   "execution_count": 2,
   "metadata": {},
   "outputs": [],
   "source": [
    "class Preprocessor:\n",
    "    \n",
    "    def __init__(self, width, height, inter=cv2.INTER_AREA, dataFormat=None):\n",
    "        self.width = width\n",
    "        self.height = height\n",
    "        self.inter = inter\n",
    "        self.dataFormat = dataFormat\n",
    "        self.load_widgets = ['Load Data: ', progressbar.Percentage(), ' ', progressbar.Bar(), ' ', progressbar.ETA()]\n",
    "    \n",
    "    # path\n",
    "    def get_images_path(self, img_dir):\n",
    "        return list(paths.list_images(img_dir))\n",
    "    \n",
    "    # data and labels\n",
    "    def load_data(self, images_path):\n",
    "        data = []\n",
    "        labels = []\n",
    "        \n",
    "        # start a progress bar\n",
    "        progress_load = progressbar.ProgressBar(maxval=len(images_path), widgets=self.load_widgets).start()\n",
    "        \n",
    "        # loop over the paths\n",
    "        for (i, path) in enumerate(images_path):\n",
    "            image = cv2.imread(path)\n",
    "            image = self.resize(image)\n",
    "            image = self.img2array(image)\n",
    "            data.append(image)\n",
    "            \n",
    "            # extract labels\n",
    "            label = path.split('/')[-1].split()[0]\n",
    "            labels.append(label)\n",
    "            \n",
    "            # update progress bar\n",
    "            progress_load.update(i)\n",
    "            \n",
    "        # numpy conversion\n",
    "        labels = np.array(labels)\n",
    "        data = np.array(data).astype('float32') / 255.0\n",
    "        \n",
    "        progress_load.finish()\n",
    "        \n",
    "        return (data, labels)\n",
    "    \n",
    "    # resive with aspect ratio\n",
    "    def resize(self, image):\n",
    "        # get height, width and initialize crop deltas\n",
    "        (h, w) = image.shape[:2]\n",
    "        dH = 0\n",
    "        dW = 0\n",
    "        \n",
    "        \n",
    "        \n",
    "        \n",
    "        # resize\n",
    "        if w < h:\n",
    "            image = imutils.resize(image, width=self.width, inter=self.inter)\n",
    "            dH = int((image_shape[0] - self.height) / 2.0)\n",
    "        else:\n",
    "            image = imutils.resize(image, height=self.height, inter=self.inter)\n",
    "            dW = int((image.shape[1] - self.width) / 2.0)\n",
    "            \n",
    "        \n",
    "        # crop\n",
    "        (h, w) = image.shape[:2]\n",
    "        image = image[dH:h - dH, dW:w - dW]\n",
    "        \n",
    "        # restore spatial dimension \n",
    "        return cv2.resize(image,(self.width, self.height), interpolation=self.inter)\n",
    "    \n",
    "    # convert image to keras array\n",
    "    def img2array(self, image):\n",
    "        return img_to_array(image, data_format=self.dataFormat)\n",
    "    "
   ]
  },
  {
   "cell_type": "markdown",
   "metadata": {},
   "source": [
    "## Load data"
   ]
  },
  {
   "cell_type": "code",
   "execution_count": 3,
   "metadata": {},
   "outputs": [],
   "source": [
    "preprocessor = Preprocessor(width=200, height=88)\n",
    "image_dir = 'C:/Users/Tajr/Desktop/Data/RadonPlus/RadonTechnology/Dev/Deep Learning/Datasets/computervision/zindi/working/high/'\n",
    "images_path = shuffle(preprocessor.get_images_path(image_dir))\n"
   ]
  },
  {
   "cell_type": "code",
   "execution_count": 4,
   "metadata": {},
   "outputs": [
    {
     "name": "stderr",
     "output_type": "stream",
     "text": [
      "Load Data: 100% |###############################################| Time: 0:00:55\n"
     ]
    }
   ],
   "source": [
    "(data, labels) = preprocessor.load_data(images_path)"
   ]
  },
  {
   "cell_type": "code",
   "execution_count": 5,
   "metadata": {},
   "outputs": [
    {
     "data": {
      "text/plain": [
       "(8528, 88, 200, 3)"
      ]
     },
     "execution_count": 5,
     "metadata": {},
     "output_type": "execute_result"
    }
   ],
   "source": [
    "data.shape"
   ]
  },
  {
   "cell_type": "code",
   "execution_count": 6,
   "metadata": {},
   "outputs": [],
   "source": [
    "data = data.reshape(data.shape[0], data.shape[2], data.shape[1], data.shape[3])"
   ]
  },
  {
   "cell_type": "code",
   "execution_count": 7,
   "metadata": {},
   "outputs": [],
   "source": [
    "# cv2.imshow('reshaped', data[0])\n",
    "# cv2.waitKey(0)"
   ]
  },
  {
   "cell_type": "code",
   "execution_count": 8,
   "metadata": {},
   "outputs": [
    {
     "data": {
      "text/plain": [
       "array(['MidVegetativePhase', 'MidVegetativePhase', 'MidVegetativePhase',\n",
       "       'Tillering', 'Milking'], dtype='<U18')"
      ]
     },
     "execution_count": 8,
     "metadata": {},
     "output_type": "execute_result"
    }
   ],
   "source": [
    "labels[:5]"
   ]
  },
  {
   "cell_type": "code",
   "execution_count": null,
   "metadata": {},
   "outputs": [],
   "source": []
  },
  {
   "cell_type": "markdown",
   "metadata": {},
   "source": [
    "## Binarization"
   ]
  },
  {
   "cell_type": "code",
   "execution_count": 9,
   "metadata": {},
   "outputs": [],
   "source": [
    "lb = LabelBinarizer()\n",
    "labels = lb.fit_transform(labels)\n",
    "classNames = lb.classes_"
   ]
  },
  {
   "cell_type": "code",
   "execution_count": 10,
   "metadata": {},
   "outputs": [
    {
     "data": {
      "text/html": [
       "<div>\n",
       "<style scoped>\n",
       "    .dataframe tbody tr th:only-of-type {\n",
       "        vertical-align: middle;\n",
       "    }\n",
       "\n",
       "    .dataframe tbody tr th {\n",
       "        vertical-align: top;\n",
       "    }\n",
       "\n",
       "    .dataframe thead tr th {\n",
       "        text-align: left;\n",
       "    }\n",
       "</style>\n",
       "<table border=\"1\" class=\"dataframe\">\n",
       "  <thead>\n",
       "    <tr>\n",
       "      <th></th>\n",
       "      <th>Anthesis</th>\n",
       "      <th>Booting</th>\n",
       "      <th>CrownRoot</th>\n",
       "      <th>Heading</th>\n",
       "      <th>MidVegetativePhase</th>\n",
       "      <th>Milking</th>\n",
       "      <th>Tillering</th>\n",
       "    </tr>\n",
       "  </thead>\n",
       "  <tbody>\n",
       "    <tr>\n",
       "      <th>0</th>\n",
       "      <td>0</td>\n",
       "      <td>0</td>\n",
       "      <td>0</td>\n",
       "      <td>0</td>\n",
       "      <td>1</td>\n",
       "      <td>0</td>\n",
       "      <td>0</td>\n",
       "    </tr>\n",
       "    <tr>\n",
       "      <th>1</th>\n",
       "      <td>0</td>\n",
       "      <td>0</td>\n",
       "      <td>0</td>\n",
       "      <td>0</td>\n",
       "      <td>1</td>\n",
       "      <td>0</td>\n",
       "      <td>0</td>\n",
       "    </tr>\n",
       "    <tr>\n",
       "      <th>2</th>\n",
       "      <td>0</td>\n",
       "      <td>0</td>\n",
       "      <td>0</td>\n",
       "      <td>0</td>\n",
       "      <td>1</td>\n",
       "      <td>0</td>\n",
       "      <td>0</td>\n",
       "    </tr>\n",
       "    <tr>\n",
       "      <th>3</th>\n",
       "      <td>0</td>\n",
       "      <td>0</td>\n",
       "      <td>0</td>\n",
       "      <td>0</td>\n",
       "      <td>0</td>\n",
       "      <td>0</td>\n",
       "      <td>1</td>\n",
       "    </tr>\n",
       "    <tr>\n",
       "      <th>4</th>\n",
       "      <td>0</td>\n",
       "      <td>0</td>\n",
       "      <td>0</td>\n",
       "      <td>0</td>\n",
       "      <td>0</td>\n",
       "      <td>1</td>\n",
       "      <td>0</td>\n",
       "    </tr>\n",
       "  </tbody>\n",
       "</table>\n",
       "</div>"
      ],
      "text/plain": [
       "  Anthesis Booting CrownRoot Heading MidVegetativePhase Milking Tillering\n",
       "0        0       0         0       0                  1       0         0\n",
       "1        0       0         0       0                  1       0         0\n",
       "2        0       0         0       0                  1       0         0\n",
       "3        0       0         0       0                  0       0         1\n",
       "4        0       0         0       0                  0       1         0"
      ]
     },
     "execution_count": 10,
     "metadata": {},
     "output_type": "execute_result"
    }
   ],
   "source": [
    "df = pd.DataFrame(labels, columns=[classNames])\n",
    "df.head()"
   ]
  },
  {
   "cell_type": "markdown",
   "metadata": {},
   "source": [
    "## Splitting"
   ]
  },
  {
   "cell_type": "code",
   "execution_count": 11,
   "metadata": {},
   "outputs": [],
   "source": [
    "(trainX, test_x, trainY, test_y) = train_test_split(data, labels, test_size=0.469)\n",
    "(validationX, testX, validationY, testY) = train_test_split(test_x, test_y, test_size=0.5)"
   ]
  },
  {
   "cell_type": "markdown",
   "metadata": {},
   "source": [
    "# NETWORK"
   ]
  },
  {
   "cell_type": "markdown",
   "metadata": {},
   "source": [
    "## Variables"
   ]
  },
  {
   "cell_type": "code",
   "execution_count": 12,
   "metadata": {},
   "outputs": [],
   "source": [
    "pool_size = (2, 2)\n",
    "kernel_size = (3, 3)\n",
    "width = 200\n",
    "height = 88\n",
    "depth = 3\n",
    "classes = 7\n",
    "\n",
    "input_shape = (width, height, depth)\n",
    "chann_dim = -1\n",
    "\n",
    "# configure input shape\n",
    "if K.image_data_format() == 'channels_first':\n",
    "    input_shape = (depth, width, height)\n",
    "    chann_dim = 1\n"
   ]
  },
  {
   "cell_type": "markdown",
   "metadata": {},
   "source": [
    "## Net"
   ]
  },
  {
   "cell_type": "code",
   "execution_count": 13,
   "metadata": {},
   "outputs": [
    {
     "name": "stdout",
     "output_type": "stream",
     "text": [
      "Model: \"sequential_1\"\n",
      "_________________________________________________________________\n",
      "Layer (type)                 Output Shape              Param #   \n",
      "=================================================================\n",
      "conv2d_1 (Conv2D)            (None, 200, 88, 32)       896       \n",
      "_________________________________________________________________\n",
      "batch_normalization_1 (Batch (None, 200, 88, 32)       128       \n",
      "_________________________________________________________________\n",
      "max_pooling2d_1 (MaxPooling2 (None, 100, 44, 32)       0         \n",
      "_________________________________________________________________\n",
      "conv2d_2 (Conv2D)            (None, 100, 44, 64)       18496     \n",
      "_________________________________________________________________\n",
      "batch_normalization_2 (Batch (None, 100, 44, 64)       256       \n",
      "_________________________________________________________________\n",
      "max_pooling2d_2 (MaxPooling2 (None, 50, 22, 64)        0         \n",
      "_________________________________________________________________\n",
      "conv2d_3 (Conv2D)            (None, 50, 22, 128)       73856     \n",
      "_________________________________________________________________\n",
      "batch_normalization_3 (Batch (None, 50, 22, 128)       512       \n",
      "_________________________________________________________________\n",
      "max_pooling2d_3 (MaxPooling2 (None, 25, 11, 128)       0         \n",
      "_________________________________________________________________\n",
      "flatten_1 (Flatten)          (None, 35200)             0         \n",
      "_________________________________________________________________\n",
      "dense_1 (Dense)              (None, 256)               9011456   \n",
      "_________________________________________________________________\n",
      "dense_2 (Dense)              (None, 32)                8224      \n",
      "_________________________________________________________________\n",
      "dense_3 (Dense)              (None, 7)                 231       \n",
      "=================================================================\n",
      "Total params: 9,114,055\n",
      "Trainable params: 9,113,607\n",
      "Non-trainable params: 448\n",
      "_________________________________________________________________\n"
     ]
    }
   ],
   "source": [
    "model = models.Sequential()\n",
    "\n",
    "model.add(layers.Conv2D(32, kernel_size, padding='same', input_shape=input_shape, activation='relu'))\n",
    "model.add(layers.BatchNormalization(axis=chann_dim))\n",
    "# model.add(layers.Conv2D(32, kernel_size, padding='same', activation='relu'))\n",
    "# model.add(layers.BatchNormalization(axis=chann_dim))\n",
    "model.add(layers.MaxPooling2D(pool_size=pool_size))\n",
    "# model.add(layers.Dropout(0.25))\n",
    "\n",
    "# model.add(layers.Conv2D(64, kernel_size, padding='same', activation='relu'))\n",
    "# model.add(layers.BatchNormalization(axis=chann_dim))\n",
    "# model.add(layers.Conv2D(64, kernel_size, padding='same', activation='relu'))\n",
    "# model.add(layers.BatchNormalization(axis=chann_dim))\n",
    "\n",
    "model.add(layers.Conv2D(64, kernel_size, padding='same', activation='relu'))\n",
    "model.add(layers.BatchNormalization(axis=chann_dim))\n",
    "model.add(layers.MaxPooling2D(pool_size=pool_size))\n",
    "# model.add(layers.Dropout(0.25))\n",
    "\n",
    "model.add(layers.Conv2D(128, kernel_size, padding='same', activation='relu'))\n",
    "model.add(layers.BatchNormalization(axis=chann_dim))\n",
    "# model.add(layers.Conv2D(128, kernel_size, padding='same', activation='relu'))\n",
    "# model.add(layers.BatchNormalization(axis=chann_dim))\n",
    "# model.add(layers.Conv2D(256, kernel_size, padding='same', activation='relu'))\n",
    "# model.add(layers.BatchNormalization(axis=chann_dim))\n",
    "# model.add(layers.Conv2D(256, kernel_size, padding='same', activation='relu'))\n",
    "# model.add(layers.BatchNormalization(axis=chann_dim))\n",
    "model.add(layers.MaxPooling2D(pool_size=pool_size))\n",
    "# model.add(layers.Dropout(0.25))\n",
    "\n",
    "model.add(layers.Flatten())\n",
    "\n",
    "model.add(layers.Dense(256, activation='relu'))\n",
    "# model.add(layers.Dropout(0.5))\n",
    "\n",
    "# model.add(layers.Dense(128, activation='relu'))\n",
    "# model.add(layers.Dropout(0.5))\n",
    "# model.add(layers.Dense(64, activation='relu'))\n",
    "# model.add(layers.Dropout(0.5))\n",
    "model.add(layers.Dense(32, activation='relu'))\n",
    "# model.add(layers.Dropout(0.5))\n",
    "\n",
    "model.add(layers.Dense(classes, activation='softmax'))\n",
    "\n",
    "model.summary()"
   ]
  },
  {
   "cell_type": "markdown",
   "metadata": {},
   "source": [
    "## Architecture"
   ]
  },
  {
   "cell_type": "code",
   "execution_count": 14,
   "metadata": {
    "scrolled": false
   },
   "outputs": [
    {
     "data": {
      "image/png": "[encoded data removed]",
      "text/plain": [
       "<IPython.core.display.Image object>"
      ]
     },
     "execution_count": 14,
     "metadata": {},
     "output_type": "execute_result"
    }
   ],
   "source": [
    "plot_model(model, to_file='serialized/architecture/architecture.png', show_shapes=True)"
   ]
  },
  {
   "cell_type": "markdown",
   "metadata": {},
   "source": [
    "# COMPILATION"
   ]
  },
  {
   "cell_type": "markdown",
   "metadata": {},
   "source": [
    "## Optimization"
   ]
  },
  {
   "cell_type": "code",
   "execution_count": 15,
   "metadata": {},
   "outputs": [],
   "source": [
    "learning_rate = 0.05\n",
    "opt = SGD(lr=learning_rate, momentum=0.9, nesterov=True)"
   ]
  },
  {
   "cell_type": "markdown",
   "metadata": {},
   "source": [
    "## Compile"
   ]
  },
  {
   "cell_type": "code",
   "execution_count": 16,
   "metadata": {},
   "outputs": [],
   "source": [
    "model.compile(optimizer='rmsprop', loss='categorical_crossentropy', metrics=['acc'])"
   ]
  },
  {
   "cell_type": "markdown",
   "metadata": {},
   "source": [
    "# TRAINING"
   ]
  },
  {
   "cell_type": "markdown",
   "metadata": {},
   "source": [
    "## Class imbalance problem"
   ]
  },
  {
   "cell_type": "code",
   "execution_count": 17,
   "metadata": {},
   "outputs": [],
   "source": [
    "# class imbalance problem can be solved by looking at the class weights which define how many of class A go in ration with \n",
    "# how many of class B. see the implementation below\n",
    "classTotal = labels.sum(axis=0)\n",
    "classWeights = classTotal.max() / classTotal"
   ]
  },
  {
   "cell_type": "markdown",
   "metadata": {},
   "source": [
    "## Data augmentation"
   ]
  },
  {
   "cell_type": "code",
   "execution_count": 18,
   "metadata": {},
   "outputs": [],
   "source": [
    "aug = ImageDataGenerator(rotation_range=30,width_shift_range=0.1, height_shift_range=0.1, shear_range=0.2, zoom_range=0.2, horizontal_flip=True, fill_mode='nearest')"
   ]
  },
  {
   "cell_type": "markdown",
   "metadata": {},
   "source": [
    "## Train"
   ]
  },
  {
   "cell_type": "code",
   "execution_count": null,
   "metadata": {
    "scrolled": false
   },
   "outputs": [
    {
     "name": "stdout",
     "output_type": "stream",
     "text": [
      "Epoch 1/40\n",
      " 45/141 [========>.....................] - ETA: 58s - loss: 6.1225 - acc: 0.2826"
     ]
    }
   ],
   "source": [
    "history = model.fit_generator(aug.flow(trainX, trainY, batch_size=32), class_weight=classWeights, validation_data=(validationX, validationY), epochs=40, steps_per_epoch=len(trainX) // 32)"
   ]
  },
  {
   "cell_type": "markdown",
   "metadata": {},
   "source": [
    "# PLOTTING"
   ]
  },
  {
   "cell_type": "code",
   "execution_count": null,
   "metadata": {},
   "outputs": [],
   "source": [
    "history_dict = history.history\n",
    "epochs = np.arange(1, len(history_dict['acc']) + 1)\n",
    "\n",
    "acc = history_dict['acc']\n",
    "val_acc = history_dict['val_acc']\n",
    "loss = history_dict['loss']\n",
    "val_loss = history_dict['val_loss']\n",
    "\n",
    "plt.style.use('ggplot')"
   ]
  },
  {
   "cell_type": "code",
   "execution_count": null,
   "metadata": {
    "scrolled": true
   },
   "outputs": [],
   "source": [
    "plt.plot(epochs, acc, label='Train Accuracy')\n",
    "plt.plot(epochs, val_acc, label='Validation Accuracy')\n",
    "plt.plot(epochs, loss, label='Train Loss')\n",
    "plt.plot(epochs, val_loss, label='Validation Loss')\n",
    "plt.title('Train History')\n",
    "plt.xlabel('Epochs')\n",
    "plt.ylabel('Accuracy/Loss')\n",
    "plt.legend()\n",
    "plt.show()"
   ]
  },
  {
   "cell_type": "markdown",
   "metadata": {},
   "source": [
    "# EVALUATION"
   ]
  },
  {
   "cell_type": "code",
   "execution_count": null,
   "metadata": {},
   "outputs": [],
   "source": [
    "result = model.evaluate(testX, testY)"
   ]
  },
  {
   "cell_type": "code",
   "execution_count": null,
   "metadata": {},
   "outputs": [],
   "source": [
    "result"
   ]
  },
  {
   "cell_type": "markdown",
   "metadata": {},
   "source": [
    "# PREDICTION"
   ]
  },
  {
   "cell_type": "markdown",
   "metadata": {},
   "source": [
    "# SUMMARY"
   ]
  }
 ],
 "metadata": {
  "kernelspec": {
   "display_name": "Python 3",
   "language": "python",
   "name": "python3"
  },
  "language_info": {
   "codemirror_mode": {
    "name": "ipython",
    "version": 3
   },
   "file_extension": ".py",
   "mimetype": "text/x-python",
   "name": "python",
   "nbconvert_exporter": "python",
   "pygments_lexer": "ipython3",
   "version": "3.6.10"
  }
 },
 "nbformat": 4,
 "nbformat_minor": 4
}
