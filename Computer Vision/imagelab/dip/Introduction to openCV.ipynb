{
 "cells": [
  {
   "cell_type": "code",
   "execution_count": 8,
   "metadata": {},
   "outputs": [],
   "source": [
    "import cv2\n",
    "import numpy as np"
   ]
  },
  {
   "cell_type": "markdown",
   "metadata": {},
   "source": [
    "## Read image from disk"
   ]
  },
  {
   "cell_type": "code",
   "execution_count": 9,
   "metadata": {},
   "outputs": [
    {
     "data": {
      "text/plain": [
       "-1"
      ]
     },
     "execution_count": 9,
     "metadata": {},
     "output_type": "execute_result"
    }
   ],
   "source": [
    "path = 'C:/users/Tajr/Desktop/iss.jpg'\n",
    "image = cv2.imread(path)\n",
    "cv2.imshow('Issa', image)\n",
    "cv2.waitKey(0)"
   ]
  },
  {
   "cell_type": "code",
   "execution_count": 10,
   "metadata": {
    "scrolled": true
   },
   "outputs": [
    {
     "data": {
      "text/plain": [
       "array([[[237, 208,  73],\n",
       "        [237, 208,  73],\n",
       "        [237, 208,  73],\n",
       "        ...,\n",
       "        [226, 202,  72],\n",
       "        [225, 198,  77],\n",
       "        [183, 157,  39]],\n",
       "\n",
       "       [[237, 208,  73],\n",
       "        [237, 208,  73],\n",
       "        [237, 208,  73],\n",
       "        ...,\n",
       "        [226, 202,  72],\n",
       "        [225, 198,  77],\n",
       "        [183, 157,  39]],\n",
       "\n",
       "       [[234, 208,  72],\n",
       "        [234, 208,  72],\n",
       "        [235, 209,  73],\n",
       "        ...,\n",
       "        [225, 201,  71],\n",
       "        [225, 198,  77],\n",
       "        [183, 157,  39]],\n",
       "\n",
       "       ...,\n",
       "\n",
       "       [[137, 143, 166],\n",
       "        [136, 142, 165],\n",
       "        [135, 143, 166],\n",
       "        ...,\n",
       "        [132, 137, 158],\n",
       "        [131, 136, 157],\n",
       "        [ 99, 104, 125]],\n",
       "\n",
       "       [[142, 148, 171],\n",
       "        [141, 147, 170],\n",
       "        [138, 146, 169],\n",
       "        ...,\n",
       "        [127, 132, 153],\n",
       "        [128, 133, 154],\n",
       "        [ 95, 100, 121]],\n",
       "\n",
       "       [[139, 145, 168],\n",
       "        [139, 145, 168],\n",
       "        [137, 145, 168],\n",
       "        ...,\n",
       "        [128, 133, 154],\n",
       "        [134, 139, 160],\n",
       "        [102, 107, 128]]], dtype=uint8)"
      ]
     },
     "execution_count": 10,
     "metadata": {},
     "output_type": "execute_result"
    }
   ],
   "source": [
    "image"
   ]
  },
  {
   "cell_type": "code",
   "execution_count": 11,
   "metadata": {},
   "outputs": [
    {
     "name": "stdout",
     "output_type": "stream",
     "text": [
      "height, width, channels (400, 400, 3)\n"
     ]
    }
   ],
   "source": [
    "print('height, width, channels',image.shape)"
   ]
  },
  {
   "cell_type": "code",
   "execution_count": 12,
   "metadata": {},
   "outputs": [
    {
     "name": "stdout",
     "output_type": "stream",
     "text": [
      "width: 400 pixels\n",
      "height: 400 pixels\n",
      "channels:3\n"
     ]
    }
   ],
   "source": [
    "print('width: {} pixels'.format(image.shape[1]))\n",
    "print('height: {} pixels'.format(image.shape[0]))\n",
    "print('channels:{}'.format(image.shape[2]))"
   ]
  },
  {
   "cell_type": "code",
   "execution_count": 13,
   "metadata": {},
   "outputs": [],
   "source": [
    "# Convert image to png\n",
    "image2 = cv2.imwrite('issa.png', image)\n"
   ]
  },
  {
   "cell_type": "code",
   "execution_count": 14,
   "metadata": {},
   "outputs": [
    {
     "data": {
      "text/plain": [
       "array([237, 208,  73], dtype=uint8)"
      ]
     },
     "execution_count": 14,
     "metadata": {},
     "output_type": "execute_result"
    }
   ],
   "source": [
    "pixel_0 = image[0,0]\n",
    "pixel_0"
   ]
  },
  {
   "cell_type": "code",
   "execution_count": 15,
   "metadata": {},
   "outputs": [
    {
     "data": {
      "text/plain": [
       "237"
      ]
     },
     "execution_count": 15,
     "metadata": {},
     "output_type": "execute_result"
    }
   ],
   "source": [
    "(b, g, r) = image[0, 0]\n",
    "b"
   ]
  },
  {
   "cell_type": "code",
   "execution_count": 16,
   "metadata": {},
   "outputs": [
    {
     "data": {
      "text/plain": [
       "208"
      ]
     },
     "execution_count": 16,
     "metadata": {},
     "output_type": "execute_result"
    }
   ],
   "source": [
    "g"
   ]
  },
  {
   "cell_type": "code",
   "execution_count": 17,
   "metadata": {
    "scrolled": true
   },
   "outputs": [
    {
     "data": {
      "text/plain": [
       "73"
      ]
     },
     "execution_count": 17,
     "metadata": {},
     "output_type": "execute_result"
    }
   ],
   "source": [
    "r"
   ]
  },
  {
   "cell_type": "code",
   "execution_count": 18,
   "metadata": {},
   "outputs": [
    {
     "name": "stdout",
     "output_type": "stream",
     "text": [
      "-Red 73, -Green  208, -Blue 237\n"
     ]
    }
   ],
   "source": [
    "print('-Red {}, -Green  {}, -Blue {}'.format(r, g, b))"
   ]
  },
  {
   "cell_type": "code",
   "execution_count": 19,
   "metadata": {},
   "outputs": [
    {
     "data": {
      "text/plain": [
       "-1"
      ]
     },
     "execution_count": 19,
     "metadata": {},
     "output_type": "execute_result"
    }
   ],
   "source": [
    "image[0, 0] = (0, 0, 0)\n",
    "(b, g, r) = image[0, 0]\n",
    "cv2.imshow('Modified', image)\n",
    "cv2.waitKey(0)"
   ]
  },
  {
   "cell_type": "code",
   "execution_count": 20,
   "metadata": {},
   "outputs": [
    {
     "name": "stdout",
     "output_type": "stream",
     "text": [
      "-Red 0, -Green  0, -Blue 0\n"
     ]
    }
   ],
   "source": [
    "print('-Red {}, -Green  {}, -Blue {}'.format(r, g, b))"
   ]
  },
  {
   "cell_type": "code",
   "execution_count": 24,
   "metadata": {},
   "outputs": [
    {
     "data": {
      "text/plain": [
       "-1"
      ]
     },
     "execution_count": 24,
     "metadata": {},
     "output_type": "execute_result"
    }
   ],
   "source": [
    "alpha = (237, 208, 73)\n",
    "alpha = np.array(alpha)\n",
    "comparison = (alpha)\n",
    "for i in range(0, 200):\n",
    "    for j in range(0,400):\n",
    "        image[i, j] = (237,208,73)\n",
    "        \n",
    "cv2.imshow('Teal', image)\n",
    "cv2.waitKey(0)\n",
    "\n"
   ]
  },
  {
   "cell_type": "code",
   "execution_count": 27,
   "metadata": {},
   "outputs": [
    {
     "data": {
      "text/plain": [
       "-1"
      ]
     },
     "execution_count": 27,
     "metadata": {},
     "output_type": "execute_result"
    }
   ],
   "source": [
    "imagex = image[250: 350, 250:350]\n",
    "cv2.imshow('Teal', imagex)\n",
    "cv2.waitKey(0)\n"
   ]
  },
  {
   "cell_type": "code",
   "execution_count": null,
   "metadata": {},
   "outputs": [],
   "source": []
  }
 ],
 "metadata": {
  "kernelspec": {
   "display_name": "Python 3",
   "language": "python",
   "name": "python3"
  },
  "language_info": {
   "codemirror_mode": {
    "name": "ipython",
    "version": 3
   },
   "file_extension": ".py",
   "mimetype": "text/x-python",
   "name": "python",
   "nbconvert_exporter": "python",
   "pygments_lexer": "ipython3",
   "version": "3.6.10"
  }
 },
 "nbformat": 4,
 "nbformat_minor": 4
}
