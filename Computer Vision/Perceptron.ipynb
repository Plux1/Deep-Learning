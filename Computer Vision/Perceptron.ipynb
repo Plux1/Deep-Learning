{
 "cells": [
  {
   "cell_type": "code",
   "execution_count": 17,
   "metadata": {},
   "outputs": [],
   "source": [
    "import numpy as np\n"
   ]
  },
  {
   "cell_type": "markdown",
   "metadata": {},
   "source": [
    "# Perceptron initiation"
   ]
  },
  {
   "cell_type": "code",
   "execution_count": 18,
   "metadata": {},
   "outputs": [],
   "source": [
    "# Construct the OR dataset\n",
    "X =np.array([[0,0], [0,1], [1,0], [1,1]])\n",
    "y = np.array([[0], [1], [1], [1]])"
   ]
  },
  {
   "cell_type": "code",
   "execution_count": 19,
   "metadata": {},
   "outputs": [
    {
     "data": {
      "text/plain": [
       "array([[0, 0],\n",
       "       [0, 1],\n",
       "       [1, 0],\n",
       "       [1, 1]])"
      ]
     },
     "execution_count": 19,
     "metadata": {},
     "output_type": "execute_result"
    }
   ],
   "source": [
    "X"
   ]
  },
  {
   "cell_type": "code",
   "execution_count": 20,
   "metadata": {},
   "outputs": [
    {
     "data": {
      "text/plain": [
       "(4, 2)"
      ]
     },
     "execution_count": 20,
     "metadata": {},
     "output_type": "execute_result"
    }
   ],
   "source": [
    "X.shape"
   ]
  },
  {
   "cell_type": "code",
   "execution_count": 21,
   "metadata": {},
   "outputs": [
    {
     "data": {
      "text/plain": [
       "4"
      ]
     },
     "execution_count": 21,
     "metadata": {},
     "output_type": "execute_result"
    }
   ],
   "source": [
    "\n",
    "X.shape[0]"
   ]
  },
  {
   "cell_type": "code",
   "execution_count": 22,
   "metadata": {},
   "outputs": [
    {
     "data": {
      "text/plain": [
       "2"
      ]
     },
     "execution_count": 22,
     "metadata": {},
     "output_type": "execute_result"
    }
   ],
   "source": [
    "X.shape[1]"
   ]
  },
  {
   "cell_type": "code",
   "execution_count": 23,
   "metadata": {},
   "outputs": [
    {
     "data": {
      "text/plain": [
       "array([[0],\n",
       "       [1],\n",
       "       [1],\n",
       "       [1]])"
      ]
     },
     "execution_count": 23,
     "metadata": {},
     "output_type": "execute_result"
    }
   ],
   "source": [
    "y"
   ]
  },
  {
   "cell_type": "code",
   "execution_count": 24,
   "metadata": {},
   "outputs": [
    {
     "data": {
      "text/plain": [
       "(4, 1)"
      ]
     },
     "execution_count": 24,
     "metadata": {},
     "output_type": "execute_result"
    }
   ],
   "source": [
    "y.shape"
   ]
  },
  {
   "cell_type": "code",
   "execution_count": 25,
   "metadata": {},
   "outputs": [],
   "source": [
    "# # Initilize the weight matrix and store the learning rate\n",
    "# # N refer to the number of culumns in our input feature vectors\n",
    "# # alpha is our learning rate for the perceptron algorithm => normaly alpha = 0.1, 0.01, 0.001\n",
    "# # W is our weight matrix with random values sampled from a normal (Gaussian) distribution with mean zero and unit variance\n",
    "# # W will have N + 1 entries one for each of the N inputs in the feature vector plus one for the bias\n",
    "# # W is divided by the square_root of the number of inputs, a common technique used to scale our weight matrix (faster convergence).\n",
    "# N = X.shape[1]\n",
    "# Weights = np.random.randn(N + 1) / np.sqrt(N)\n",
    "# alpha = 0.1"
   ]
  },
  {
   "cell_type": "code",
   "execution_count": 26,
   "metadata": {},
   "outputs": [],
   "source": [
    "# Weights"
   ]
  },
  {
   "cell_type": "code",
   "execution_count": 27,
   "metadata": {},
   "outputs": [],
   "source": [
    "# # Define step function\n",
    "# def step(x):\n",
    "#     return 1 if x > 0 else 0"
   ]
  },
  {
   "cell_type": "code",
   "execution_count": 28,
   "metadata": {},
   "outputs": [],
   "source": [
    "# # Define a training procedure fit\n",
    "# def fit(X, y, epochs=10):\n",
    "#     # insert a colums of 1's as the last entry in the feature matrix, in order to treat the bias as a trainable parameter within W\n",
    "#     X = np.c_[X, np.ones((X.shape[0]))]\n",
    "#     W = Weights\n",
    "    \n",
    "#     # Loop over the desired number of epochs\n",
    "#     for epoch in np.arange(0, epochs):\n",
    "#         # loop over each individual data point\n",
    "#         for (x, target) in zip(X, y):\n",
    "#             # take the dot product btn the input features and the W, the pass this value through the step function to obtain prediction\n",
    "#             p = step(np.dot(x, W))\n",
    "            \n",
    "#             # restrict to perform a weight update if our prediction does not match the target\n",
    "#             if p != target:\n",
    "#                 error = p - target\n",
    "#                 # update W\n",
    "#                 W += -alpha * error * x\n",
    "#                 print(\"[UPDATED] weights... \", W)\n",
    "#         Weights = W"
   ]
  },
  {
   "cell_type": "code",
   "execution_count": 29,
   "metadata": {},
   "outputs": [],
   "source": [
    "# # Define predict method to predict the class labels for a given set of input data\n",
    "# # Note: obtaining the output prediction for X is the same as the training procedure\n",
    "# def predict(X, addBias=True):\n",
    "#     # ensure our input is matrix\n",
    "#     X = np.atleast_2d(X)\n",
    "#     W = Weights\n",
    "    \n",
    "#     # check to see if the bias column should be added\n",
    "#     if addBias:\n",
    "#         #i nsert a columns of 1's as the last enry in the feature matrix\n",
    "#         X = np.c_[X, np.ones((X.shape[0]))]\n",
    "    \n",
    "#     # take the dot product between the input features and the weight matrix, then pass the value through the step function\n",
    "#     return step(np.dot(X, W))"
   ]
  },
  {
   "cell_type": "markdown",
   "metadata": {},
   "source": [
    "# Evaluating the perceptron bitwise dataset"
   ]
  },
  {
   "cell_type": "code",
   "execution_count": 30,
   "metadata": {
    "scrolled": true
   },
   "outputs": [],
   "source": [
    "# # Training our perceptron\n",
    "# print(\"[INFO] training perceptron...\")\n",
    "# fit(X, y, epochs=20)"
   ]
  },
  {
   "cell_type": "code",
   "execution_count": 31,
   "metadata": {},
   "outputs": [],
   "source": [
    "# # Evaluate our trained perceptron\n",
    "# print(\"[INFO] testing perceptron...\")\n",
    "\n",
    "# # Evaluation is done by looping over the data points \n",
    "# for (x, target) in zip(X, y):\n",
    "#     pred = predict(x)\n",
    "#     print(\"[INFO] data={}, ground_truth={}, pred={}\".format(x, target[0], pred))"
   ]
  },
  {
   "cell_type": "markdown",
   "metadata": {},
   "source": [
    "# AND OPERATION"
   ]
  },
  {
   "cell_type": "code",
   "execution_count": 32,
   "metadata": {},
   "outputs": [],
   "source": [
    "# AND operation classification with object oriented\n",
    "class Perceptron:\n",
    "    def __init__(self, N, alpha=0.1):\n",
    "        # initialize the weight matrix and strore the learning rate\n",
    "        self.W = np.random.randn(N + 1) /np.sqrt(N)\n",
    "        self.alpha = alpha\n",
    "        \n",
    "    def step(self, x):\n",
    "        return 1 if x >0 else 0\n",
    "    \n",
    "    def fit(self, X, y, epochs=10):\n",
    "        # insert column of 1's as the last enry in the feature matrix\n",
    "        X =np.c_[X, np.ones((X.shape[0]))]\n",
    "        \n",
    "        for epoch in np.arange(0, epochs):\n",
    "            for (x, target) in zip(X, y):\n",
    "                # Obtain prediction by taking the dot product of the input features and weight matrix\n",
    "                p = self.step(np.dot(x, self.W))\n",
    "                \n",
    "                # Perform weight update only when a weight update does not match the target\n",
    "                if p != target:\n",
    "                    error = p - target\n",
    "                    self.W += -self.alpha * error * x\n",
    "                    print(\"[UPDATED] weights..... \", self.W)\n",
    "    \n",
    "    def predict(self, X, addBias=True):\n",
    "        # Ensuring that X is a matrix\n",
    "        X =np.atleast_2d(X)\n",
    "        \n",
    "        if addBias:\n",
    "            X = np.c_[X, np.ones((X.shape[0]))]\n",
    "        \n",
    "        return self.step(np.dot(X, self.W))\n",
    "        "
   ]
  },
  {
   "cell_type": "code",
   "execution_count": 33,
   "metadata": {},
   "outputs": [],
   "source": [
    "# Constructing AND dataset\n",
    "X =np.array([[0,0], [0,1], [1,0], [1,1]])\n",
    "y = np.array([[0], [0], [0], [1]])"
   ]
  },
  {
   "cell_type": "code",
   "execution_count": 34,
   "metadata": {},
   "outputs": [
    {
     "data": {
      "text/plain": [
       "array([[0, 0],\n",
       "       [0, 1],\n",
       "       [1, 0],\n",
       "       [1, 1]])"
      ]
     },
     "execution_count": 34,
     "metadata": {},
     "output_type": "execute_result"
    }
   ],
   "source": [
    "X"
   ]
  },
  {
   "cell_type": "code",
   "execution_count": 35,
   "metadata": {},
   "outputs": [
    {
     "data": {
      "text/plain": [
       "(4, 2)"
      ]
     },
     "execution_count": 35,
     "metadata": {},
     "output_type": "execute_result"
    }
   ],
   "source": [
    "X.shape"
   ]
  },
  {
   "cell_type": "code",
   "execution_count": 36,
   "metadata": {},
   "outputs": [
    {
     "data": {
      "text/plain": [
       "4"
      ]
     },
     "execution_count": 36,
     "metadata": {},
     "output_type": "execute_result"
    }
   ],
   "source": [
    "X.shape[0]"
   ]
  },
  {
   "cell_type": "code",
   "execution_count": 37,
   "metadata": {},
   "outputs": [
    {
     "data": {
      "text/plain": [
       "2"
      ]
     },
     "execution_count": 37,
     "metadata": {},
     "output_type": "execute_result"
    }
   ],
   "source": [
    "X.shape[1]"
   ]
  },
  {
   "cell_type": "code",
   "execution_count": 38,
   "metadata": {},
   "outputs": [
    {
     "data": {
      "text/plain": [
       "array([[0],\n",
       "       [0],\n",
       "       [0],\n",
       "       [1]])"
      ]
     },
     "execution_count": 38,
     "metadata": {},
     "output_type": "execute_result"
    }
   ],
   "source": [
    "y"
   ]
  },
  {
   "cell_type": "code",
   "execution_count": 39,
   "metadata": {},
   "outputs": [
    {
     "data": {
      "text/plain": [
       "(4, 1)"
      ]
     },
     "execution_count": 39,
     "metadata": {},
     "output_type": "execute_result"
    }
   ],
   "source": [
    "y.shape"
   ]
  },
  {
   "cell_type": "code",
   "execution_count": 40,
   "metadata": {},
   "outputs": [
    {
     "name": "stdout",
     "output_type": "stream",
     "text": [
      "[UPDATED] weights.....  [-0.75036133 -0.70196433 -0.37902387]\n",
      "[UPDATED] weights.....  [-0.65036133 -0.60196433 -0.27902387]\n",
      "[UPDATED] weights.....  [-0.55036133 -0.50196433 -0.17902387]\n",
      "[UPDATED] weights.....  [-0.45036133 -0.40196433 -0.07902387]\n",
      "[UPDATED] weights.....  [-0.35036133 -0.30196433  0.02097613]\n",
      "[UPDATED] weights.....  [-0.35036133 -0.30196433 -0.07902387]\n",
      "[UPDATED] weights.....  [-0.25036133 -0.20196433  0.02097613]\n",
      "[UPDATED] weights.....  [-0.25036133 -0.20196433 -0.07902387]\n",
      "[UPDATED] weights.....  [-0.15036133 -0.10196433  0.02097613]\n",
      "[UPDATED] weights.....  [-0.15036133 -0.10196433 -0.07902387]\n",
      "[UPDATED] weights.....  [-0.05036133 -0.00196433  0.02097613]\n",
      "[UPDATED] weights.....  [-0.05036133 -0.00196433 -0.07902387]\n",
      "[UPDATED] weights.....  [0.04963867 0.09803567 0.02097613]\n",
      "[UPDATED] weights.....  [ 0.04963867  0.09803567 -0.07902387]\n",
      "[UPDATED] weights.....  [ 0.04963867 -0.00196433 -0.17902387]\n",
      "[UPDATED] weights.....  [ 0.14963867  0.09803567 -0.07902387]\n",
      "[UPDATED] weights.....  [ 0.14963867 -0.00196433 -0.17902387]\n",
      "[UPDATED] weights.....  [ 0.24963867  0.09803567 -0.07902387]\n",
      "[UPDATED] weights.....  [ 0.24963867 -0.00196433 -0.17902387]\n",
      "[UPDATED] weights.....  [ 0.14963867 -0.00196433 -0.27902387]\n",
      "[UPDATED] weights.....  [ 0.24963867  0.09803567 -0.17902387]\n",
      "[UPDATED] weights.....  [ 0.14963867  0.09803567 -0.27902387]\n",
      "[UPDATED] weights.....  [ 0.24963867  0.19803567 -0.17902387]\n",
      "[UPDATED] weights.....  [ 0.24963867  0.09803567 -0.27902387]\n"
     ]
    }
   ],
   "source": [
    "# Define out perceptron and train it\n",
    "p = Perceptron(X.shape[1], alpha=0.1)\n",
    "p.fit(X, y, epochs=20)"
   ]
  },
  {
   "cell_type": "code",
   "execution_count": 41,
   "metadata": {},
   "outputs": [
    {
     "name": "stdout",
     "output_type": "stream",
     "text": [
      "[INFO] testing perceptron...\n",
      "[INFO] data=[0 0], ground_truth=0, pred=0\n",
      "[INFO] data=[0 1], ground_truth=0, pred=0\n",
      "[INFO] data=[1 0], ground_truth=0, pred=0\n",
      "[INFO] data=[1 1], ground_truth=1, pred=1\n"
     ]
    }
   ],
   "source": [
    "# Evaluation\n",
    "print(\"[INFO] testing perceptron...\")\n",
    "for (x, target) in zip(X, y):\n",
    "    pred = p.predict(x)\n",
    "    print(\"[INFO] data={}, ground_truth={}, pred={}\".format(x, target[0], pred))"
   ]
  },
  {
   "cell_type": "markdown",
   "metadata": {},
   "source": [
    "# OR operation"
   ]
  },
  {
   "cell_type": "code",
   "execution_count": 42,
   "metadata": {},
   "outputs": [
    {
     "name": "stdout",
     "output_type": "stream",
     "text": [
      "[INFO] training the perceptron...\n",
      "[UPDATED] weights.....  [-0.89182738 -0.15244416  1.34324714]\n",
      "[UPDATED] weights.....  [-0.89182738 -0.15244416  1.24324714]\n",
      "[UPDATED] weights.....  [-0.89182738 -0.15244416  1.14324714]\n",
      "[UPDATED] weights.....  [-0.89182738 -0.15244416  1.04324714]\n",
      "[UPDATED] weights.....  [-0.79182738 -0.05244416  1.14324714]\n",
      "[UPDATED] weights.....  [-0.79182738 -0.05244416  1.04324714]\n",
      "[UPDATED] weights.....  [-0.79182738 -0.05244416  0.94324714]\n",
      "[UPDATED] weights.....  [-0.79182738 -0.05244416  0.84324714]\n",
      "[UPDATED] weights.....  [-0.69182738  0.04755584  0.94324714]\n",
      "[UPDATED] weights.....  [-0.69182738  0.04755584  0.84324714]\n",
      "[UPDATED] weights.....  [-0.69182738  0.04755584  0.74324714]\n",
      "[UPDATED] weights.....  [-0.69182738  0.04755584  0.64324714]\n",
      "[UPDATED] weights.....  [-0.59182738  0.04755584  0.74324714]\n",
      "[UPDATED] weights.....  [-0.59182738  0.04755584  0.64324714]\n",
      "[UPDATED] weights.....  [-0.59182738  0.04755584  0.54324714]\n",
      "[UPDATED] weights.....  [-0.49182738  0.04755584  0.64324714]\n",
      "[UPDATED] weights.....  [-0.49182738  0.04755584  0.54324714]\n",
      "[UPDATED] weights.....  [-0.49182738  0.04755584  0.44324714]\n",
      "[UPDATED] weights.....  [-0.39182738  0.04755584  0.54324714]\n",
      "[UPDATED] weights.....  [-0.39182738  0.04755584  0.44324714]\n",
      "[UPDATED] weights.....  [-0.39182738  0.04755584  0.34324714]\n",
      "[UPDATED] weights.....  [-0.29182738  0.04755584  0.44324714]\n",
      "[UPDATED] weights.....  [-0.29182738  0.04755584  0.34324714]\n",
      "[UPDATED] weights.....  [-0.29182738  0.04755584  0.24324714]\n",
      "[UPDATED] weights.....  [-0.19182738  0.04755584  0.34324714]\n",
      "[UPDATED] weights.....  [-0.19182738  0.04755584  0.24324714]\n",
      "[UPDATED] weights.....  [-0.19182738  0.04755584  0.14324714]\n",
      "[UPDATED] weights.....  [-0.09182738  0.04755584  0.24324714]\n"
     ]
    }
   ],
   "source": [
    "# Constructing a dataset\n",
    "X =np.array([[0,0], [0,1], [1,0], [1,1]])\n",
    "y = np.array([[0], [1], [1], [1]])\n",
    "\n",
    "# Defining the perceptron and train it\n",
    "m = Perceptron(X.shape[1], alpha=0.1)\n",
    "print(\"[INFO] training the perceptron...\")\n",
    "m.fit(X, y, epochs=20)"
   ]
  },
  {
   "cell_type": "code",
   "execution_count": 43,
   "metadata": {},
   "outputs": [
    {
     "name": "stdout",
     "output_type": "stream",
     "text": [
      "[INFO] testing the perceptron\n",
      "[INFO] data=[0 0], ground_truth=0, pred=1\n",
      "[INFO] data=[0 1], ground_truth=1, pred=1\n",
      "[INFO] data=[1 0], ground_truth=1, pred=1\n",
      "[INFO] data=[1 1], ground_truth=1, pred=1\n"
     ]
    }
   ],
   "source": [
    "# Evaluate\n",
    "print(\"[INFO] testing the perceptron\")\n",
    "for (x, target) in zip(X, y):\n",
    "    pred = m.predict(x)\n",
    "    print(\"[INFO] data={}, ground_truth={}, pred={}\".format(x, target[0], pred))"
   ]
  },
  {
   "cell_type": "markdown",
   "metadata": {},
   "source": [
    "# XOR nonlineary separable operation"
   ]
  },
  {
   "cell_type": "code",
   "execution_count": 44,
   "metadata": {},
   "outputs": [
    {
     "name": "stdout",
     "output_type": "stream",
     "text": [
      "[INFO] training the perceptron...\n",
      "[UPDATED] weights.....  [-0.26906775 -0.98942244  0.02323836]\n",
      "[UPDATED] weights.....  [-0.16906775 -0.98942244  0.12323836]\n",
      "[UPDATED] weights.....  [-0.16906775 -0.98942244  0.02323836]\n",
      "[UPDATED] weights.....  [-0.16906775 -0.88942244  0.12323836]\n",
      "[UPDATED] weights.....  [-0.06906775 -0.88942244  0.22323836]\n",
      "[UPDATED] weights.....  [-0.06906775 -0.88942244  0.12323836]\n",
      "[UPDATED] weights.....  [-0.06906775 -0.78942244  0.22323836]\n",
      "[UPDATED] weights.....  [-0.06906775 -0.78942244  0.12323836]\n",
      "[UPDATED] weights.....  [-0.06906775 -0.68942244  0.22323836]\n",
      "[UPDATED] weights.....  [-0.06906775 -0.68942244  0.12323836]\n",
      "[UPDATED] weights.....  [-0.06906775 -0.58942244  0.22323836]\n",
      "[UPDATED] weights.....  [-0.06906775 -0.58942244  0.12323836]\n",
      "[UPDATED] weights.....  [-0.06906775 -0.48942244  0.22323836]\n",
      "[UPDATED] weights.....  [-0.06906775 -0.48942244  0.12323836]\n",
      "[UPDATED] weights.....  [-0.06906775 -0.38942244  0.22323836]\n",
      "[UPDATED] weights.....  [-0.06906775 -0.38942244  0.12323836]\n",
      "[UPDATED] weights.....  [-0.06906775 -0.28942244  0.22323836]\n",
      "[UPDATED] weights.....  [-0.06906775 -0.28942244  0.12323836]\n",
      "[UPDATED] weights.....  [-0.06906775 -0.18942244  0.22323836]\n",
      "[UPDATED] weights.....  [-0.06906775 -0.18942244  0.12323836]\n",
      "[UPDATED] weights.....  [-0.06906775 -0.08942244  0.22323836]\n",
      "[UPDATED] weights.....  [-0.16906775 -0.18942244  0.12323836]\n",
      "[UPDATED] weights.....  [-0.16906775 -0.18942244  0.02323836]\n",
      "[UPDATED] weights.....  [-0.16906775 -0.08942244  0.12323836]\n",
      "[UPDATED] weights.....  [-0.06906775 -0.08942244  0.22323836]\n",
      "[UPDATED] weights.....  [-0.16906775 -0.18942244  0.12323836]\n",
      "[UPDATED] weights.....  [-0.16906775 -0.18942244  0.02323836]\n",
      "[UPDATED] weights.....  [-0.16906775 -0.08942244  0.12323836]\n",
      "[UPDATED] weights.....  [-0.06906775 -0.08942244  0.22323836]\n",
      "[UPDATED] weights.....  [-0.16906775 -0.18942244  0.12323836]\n",
      "[UPDATED] weights.....  [-0.16906775 -0.18942244  0.02323836]\n",
      "[UPDATED] weights.....  [-0.16906775 -0.08942244  0.12323836]\n",
      "[UPDATED] weights.....  [-0.06906775 -0.08942244  0.22323836]\n",
      "[UPDATED] weights.....  [-0.16906775 -0.18942244  0.12323836]\n",
      "[UPDATED] weights.....  [-0.16906775 -0.18942244  0.02323836]\n",
      "[UPDATED] weights.....  [-0.16906775 -0.08942244  0.12323836]\n",
      "[UPDATED] weights.....  [-0.06906775 -0.08942244  0.22323836]\n",
      "[UPDATED] weights.....  [-0.16906775 -0.18942244  0.12323836]\n",
      "[UPDATED] weights.....  [-0.16906775 -0.18942244  0.02323836]\n",
      "[UPDATED] weights.....  [-0.16906775 -0.08942244  0.12323836]\n",
      "[UPDATED] weights.....  [-0.06906775 -0.08942244  0.22323836]\n",
      "[UPDATED] weights.....  [-0.16906775 -0.18942244  0.12323836]\n",
      "[UPDATED] weights.....  [-0.16906775 -0.18942244  0.02323836]\n",
      "[UPDATED] weights.....  [-0.16906775 -0.08942244  0.12323836]\n",
      "[UPDATED] weights.....  [-0.06906775 -0.08942244  0.22323836]\n",
      "[UPDATED] weights.....  [-0.16906775 -0.18942244  0.12323836]\n",
      "[UPDATED] weights.....  [-0.16906775 -0.18942244  0.02323836]\n",
      "[UPDATED] weights.....  [-0.16906775 -0.08942244  0.12323836]\n",
      "[UPDATED] weights.....  [-0.06906775 -0.08942244  0.22323836]\n",
      "[UPDATED] weights.....  [-0.16906775 -0.18942244  0.12323836]\n",
      "[UPDATED] weights.....  [-0.16906775 -0.18942244  0.02323836]\n",
      "[UPDATED] weights.....  [-0.16906775 -0.08942244  0.12323836]\n",
      "[UPDATED] weights.....  [-0.06906775 -0.08942244  0.22323836]\n",
      "[UPDATED] weights.....  [-0.16906775 -0.18942244  0.12323836]\n",
      "[UPDATED] weights.....  [-0.16906775 -0.18942244  0.02323836]\n",
      "[UPDATED] weights.....  [-0.16906775 -0.08942244  0.12323836]\n",
      "[UPDATED] weights.....  [-0.06906775 -0.08942244  0.22323836]\n",
      "[UPDATED] weights.....  [-0.16906775 -0.18942244  0.12323836]\n",
      "[UPDATED] weights.....  [-0.16906775 -0.18942244  0.02323836]\n",
      "[UPDATED] weights.....  [-0.16906775 -0.08942244  0.12323836]\n",
      "[UPDATED] weights.....  [-0.06906775 -0.08942244  0.22323836]\n",
      "[UPDATED] weights.....  [-0.16906775 -0.18942244  0.12323836]\n"
     ]
    }
   ],
   "source": [
    "# Construct a dataset\n",
    "X = np.array([[0,0], [0,1], [1,0], [1,1]])\n",
    "y = np.array([[0], [1], [1], [0]])\n",
    "\n",
    "# Define Perceptron and Train it\n",
    "k = Perceptron(X.shape[1], alpha=0.1)\n",
    "print(\"[INFO] training the perceptron...\")\n",
    "k.fit(X, y, epochs=20)"
   ]
  },
  {
   "cell_type": "code",
   "execution_count": 45,
   "metadata": {},
   "outputs": [
    {
     "name": "stdout",
     "output_type": "stream",
     "text": [
      "[INFO] testing the perceptron...\n",
      "[INFO] data=[0 0], ground_truth=0, pred=1\n",
      "[INFO] data=[0 1], ground_truth=1, pred=0\n",
      "[INFO] data=[1 0], ground_truth=1, pred=0\n",
      "[INFO] data=[1 1], ground_truth=0, pred=0\n"
     ]
    }
   ],
   "source": [
    "# Evaluate the perceptron\n",
    "print(\"[INFO] testing the perceptron...\")\n",
    "for (x, target) in zip(X, y):\n",
    "    pred = k.predict(x)\n",
    "    print(\"[INFO] data={}, ground_truth={}, pred={}\".format(x, target[0], pred))"
   ]
  },
  {
   "cell_type": "markdown",
   "metadata": {},
   "source": [
    "# Conclusion"
   ]
  },
  {
   "cell_type": "code",
   "execution_count": null,
   "metadata": {},
   "outputs": [],
   "source": [
    "This illustrate a single layer network commonly known as perceptron.\n",
    "The percetron is used to model bitwise operation OR and AND successfully since they are linearly separable\n",
    "But the perceptron fail to model bitwise operation XOR because this is a nonlinearly separable operation. Hence require multiple layers.\n"
   ]
  }
 ],
 "metadata": {
  "kernelspec": {
   "display_name": "Python 3",
   "language": "python",
   "name": "python3"
  },
  "language_info": {
   "codemirror_mode": {
    "name": "ipython",
    "version": 3
   },
   "file_extension": ".py",
   "mimetype": "text/x-python",
   "name": "python",
   "nbconvert_exporter": "python",
   "pygments_lexer": "ipython3",
   "version": "3.6.10"
  }
 },
 "nbformat": 4,
 "nbformat_minor": 4
}
