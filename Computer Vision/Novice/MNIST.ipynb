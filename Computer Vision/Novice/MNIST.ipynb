{
 "cells": [
  {
   "cell_type": "code",
   "execution_count": 65,
   "metadata": {},
   "outputs": [],
   "source": [
    "from sklearn.preprocessing import LabelBinarizer\n",
    "from sklearn.model_selection import train_test_split\n",
    "from sklearn.metrics import classification_report\n",
    "from keras import models, layers\n",
    "from keras.optimizers import SGD\n",
    "from scipy.io import loadmat\n",
    "import matplotlib.pyplot as plt\n",
    "import numpy as np\n",
    "import argparse"
   ]
  },
  {
   "cell_type": "markdown",
   "metadata": {},
   "source": [
    "# Loading Data from Disk"
   ]
  },
  {
   "cell_type": "code",
   "execution_count": 66,
   "metadata": {},
   "outputs": [
    {
     "name": "stdout",
     "output_type": "stream",
     "text": [
      "[INFO] loading MNIST full dataset...\n"
     ]
    }
   ],
   "source": [
    "print(\"[INFO] loading MNIST full dataset...\")\n",
    "dataset = loadmat(\"C:/Users/Tajr\\Desktop/Data/RadonPlus/RadonTechnology/Dev/Deep Learning/Datasets/mnist/mnist\")"
   ]
  },
  {
   "cell_type": "code",
   "execution_count": 67,
   "metadata": {},
   "outputs": [
    {
     "data": {
      "text/plain": [
       "{'__header__': b'MATLAB 5.0 MAT-file Platform: posix, Created on: Sun Mar 30 03:19:02 2014',\n",
       " '__version__': '1.0',\n",
       " '__globals__': [],\n",
       " 'mldata_descr_ordering': array([[array(['label'], dtype='<U5'), array(['data'], dtype='<U4')]],\n",
       "       dtype=object),\n",
       " 'data': array([[0, 0, 0, ..., 0, 0, 0],\n",
       "        [0, 0, 0, ..., 0, 0, 0],\n",
       "        [0, 0, 0, ..., 0, 0, 0],\n",
       "        ...,\n",
       "        [0, 0, 0, ..., 0, 0, 0],\n",
       "        [0, 0, 0, ..., 0, 0, 0],\n",
       "        [0, 0, 0, ..., 0, 0, 0]], dtype=uint8),\n",
       " 'label': array([[0., 0., 0., ..., 9., 9., 9.]])}"
      ]
     },
     "execution_count": 67,
     "metadata": {},
     "output_type": "execute_result"
    }
   ],
   "source": [
    "dataset"
   ]
  },
  {
   "cell_type": "code",
   "execution_count": 68,
   "metadata": {},
   "outputs": [
    {
     "data": {
      "text/plain": [
       "array([[0., 0., 0., ..., 0., 0., 0.],\n",
       "       [0., 0., 0., ..., 0., 0., 0.],\n",
       "       [0., 0., 0., ..., 0., 0., 0.],\n",
       "       ...,\n",
       "       [0., 0., 0., ..., 0., 0., 0.],\n",
       "       [0., 0., 0., ..., 0., 0., 0.],\n",
       "       [0., 0., 0., ..., 0., 0., 0.]])"
      ]
     },
     "execution_count": 68,
     "metadata": {},
     "output_type": "execute_result"
    }
   ],
   "source": [
    "data = dataset['data'].astype(\"float\") / 255.0\n",
    "data"
   ]
  },
  {
   "cell_type": "code",
   "execution_count": 69,
   "metadata": {},
   "outputs": [],
   "source": [
    "data = data.T"
   ]
  },
  {
   "cell_type": "code",
   "execution_count": 70,
   "metadata": {},
   "outputs": [
    {
     "data": {
      "text/plain": [
       "(70000, 784)"
      ]
     },
     "execution_count": 70,
     "metadata": {},
     "output_type": "execute_result"
    }
   ],
   "source": [
    "data.shape"
   ]
  },
  {
   "cell_type": "code",
   "execution_count": 71,
   "metadata": {},
   "outputs": [
    {
     "data": {
      "text/plain": [
       "array([[0., 0., 0., ..., 9., 9., 9.]])"
      ]
     },
     "execution_count": 71,
     "metadata": {},
     "output_type": "execute_result"
    }
   ],
   "source": [
    "targets = dataset['label']\n",
    "targets"
   ]
  },
  {
   "cell_type": "code",
   "execution_count": 72,
   "metadata": {},
   "outputs": [],
   "source": [
    "targets = targets.T"
   ]
  },
  {
   "cell_type": "code",
   "execution_count": 73,
   "metadata": {},
   "outputs": [
    {
     "data": {
      "text/plain": [
       "(70000, 1)"
      ]
     },
     "execution_count": 73,
     "metadata": {},
     "output_type": "execute_result"
    }
   ],
   "source": [
    "targets.shape"
   ]
  },
  {
   "cell_type": "code",
   "execution_count": 74,
   "metadata": {},
   "outputs": [
    {
     "data": {
      "text/plain": [
       "array([[0., 0., 0., ..., 0., 0., 0.],\n",
       "       [0., 0., 0., ..., 0., 0., 0.],\n",
       "       [0., 0., 0., ..., 0., 0., 0.],\n",
       "       ...,\n",
       "       [0., 0., 0., ..., 0., 0., 0.],\n",
       "       [0., 0., 0., ..., 0., 0., 0.],\n",
       "       [0., 0., 0., ..., 0., 0., 0.]])"
      ]
     },
     "execution_count": 74,
     "metadata": {},
     "output_type": "execute_result"
    }
   ],
   "source": [
    "#  Train and test data splitting\n",
    "(trainX, testX, trainY, testY) = train_test_split(data, targets, test_size=0.25)\n",
    "trainX"
   ]
  },
  {
   "cell_type": "code",
   "execution_count": 75,
   "metadata": {},
   "outputs": [
    {
     "data": {
      "text/plain": [
       "(52500, 784)"
      ]
     },
     "execution_count": 75,
     "metadata": {},
     "output_type": "execute_result"
    }
   ],
   "source": [
    "trainX.shape"
   ]
  },
  {
   "cell_type": "code",
   "execution_count": 76,
   "metadata": {},
   "outputs": [
    {
     "data": {
      "text/plain": [
       "(52500, 1)"
      ]
     },
     "execution_count": 76,
     "metadata": {},
     "output_type": "execute_result"
    }
   ],
   "source": [
    "trainY.shape"
   ]
  },
  {
   "cell_type": "code",
   "execution_count": 77,
   "metadata": {},
   "outputs": [
    {
     "data": {
      "text/plain": [
       "(17500, 784)"
      ]
     },
     "execution_count": 77,
     "metadata": {},
     "output_type": "execute_result"
    }
   ],
   "source": [
    "testX.shape"
   ]
  },
  {
   "cell_type": "code",
   "execution_count": 78,
   "metadata": {},
   "outputs": [
    {
     "data": {
      "text/plain": [
       "(17500, 1)"
      ]
     },
     "execution_count": 78,
     "metadata": {},
     "output_type": "execute_result"
    }
   ],
   "source": [
    "testY.shape"
   ]
  },
  {
   "cell_type": "code",
   "execution_count": 79,
   "metadata": {},
   "outputs": [
    {
     "data": {
      "text/plain": [
       "array([[6.],\n",
       "       [0.],\n",
       "       [1.],\n",
       "       ...,\n",
       "       [6.],\n",
       "       [0.],\n",
       "       [6.]])"
      ]
     },
     "execution_count": 79,
     "metadata": {},
     "output_type": "execute_result"
    }
   ],
   "source": [
    "testY"
   ]
  },
  {
   "cell_type": "code",
   "execution_count": 80,
   "metadata": {},
   "outputs": [
    {
     "data": {
      "text/plain": [
       "array([0, 0, 0, 0, 0, 0, 1, 0, 0, 0])"
      ]
     },
     "execution_count": 80,
     "metadata": {},
     "output_type": "execute_result"
    }
   ],
   "source": [
    "# Converting labels from integers to vectors\n",
    "lb = LabelBinarizer()\n",
    "trainY = lb.fit_transform(trainY)\n",
    "testY = lb.fit_transform(testY)\n",
    "testY[0]"
   ]
  },
  {
   "cell_type": "markdown",
   "metadata": {},
   "source": [
    "# Network definition"
   ]
  },
  {
   "cell_type": "code",
   "execution_count": 81,
   "metadata": {},
   "outputs": [],
   "source": [
    "\n",
    "model = models.Sequential()\n",
    "model.add(layers.Dense(256, input_shape=(784,), activation='sigmoid'))\n",
    "model.add(layers.Dense(128, activation='sigmoid'))\n",
    "model.add(layers.Dense(10, activation='softmax'))"
   ]
  },
  {
   "cell_type": "markdown",
   "metadata": {},
   "source": [
    "# Compilation and Training"
   ]
  },
  {
   "cell_type": "code",
   "execution_count": 82,
   "metadata": {},
   "outputs": [
    {
     "name": "stdout",
     "output_type": "stream",
     "text": [
      "Train on 52500 samples, validate on 17500 samples\n",
      "Epoch 1/100\n",
      "52500/52500 [==============================] - 2s 40us/step - loss: 2.2751 - acc: 0.1917 - val_loss: 2.2441 - val_acc: 0.1805\n",
      "Epoch 2/100\n",
      "52500/52500 [==============================] - 2s 36us/step - loss: 2.2143 - acc: 0.3593 - val_loss: 2.1816 - val_acc: 0.3992\n",
      "Epoch 3/100\n",
      "52500/52500 [==============================] - 2s 37us/step - loss: 2.1417 - acc: 0.4749 - val_loss: 2.0969 - val_acc: 0.4691\n",
      "Epoch 4/100\n",
      "52500/52500 [==============================] - 2s 41us/step - loss: 2.0413 - acc: 0.5525 - val_loss: 1.9780 - val_acc: 0.6310\n",
      "Epoch 5/100\n",
      "52500/52500 [==============================] - 2s 40us/step - loss: 1.9032 - acc: 0.6065 - val_loss: 1.8195 - val_acc: 0.6596\n",
      "Epoch 6/100\n",
      "52500/52500 [==============================] - 2s 42us/step - loss: 1.7286 - acc: 0.6514 - val_loss: 1.6328 - val_acc: 0.6788\n",
      "Epoch 7/100\n",
      "52500/52500 [==============================] - 2s 41us/step - loss: 1.5390 - acc: 0.6898 - val_loss: 1.4453 - val_acc: 0.7185\n",
      "Epoch 8/100\n",
      "52500/52500 [==============================] - 2s 39us/step - loss: 1.3605 - acc: 0.7251 - val_loss: 1.2780 - val_acc: 0.7474\n",
      "Epoch 9/100\n",
      "52500/52500 [==============================] - 2s 42us/step - loss: 1.2065 - acc: 0.7508 - val_loss: 1.1388 - val_acc: 0.7787\n",
      "Epoch 10/100\n",
      "52500/52500 [==============================] - 2s 39us/step - loss: 1.0791 - acc: 0.7706 - val_loss: 1.0238 - val_acc: 0.7798\n",
      "Epoch 11/100\n",
      "52500/52500 [==============================] - 2s 40us/step - loss: 0.9757 - acc: 0.7859 - val_loss: 0.9314 - val_acc: 0.7948\n",
      "Epoch 12/100\n",
      "52500/52500 [==============================] - 2s 37us/step - loss: 0.8916 - acc: 0.7992 - val_loss: 0.8556 - val_acc: 0.8038\n",
      "Epoch 13/100\n",
      "52500/52500 [==============================] - 2s 38us/step - loss: 0.8224 - acc: 0.8106 - val_loss: 0.7938 - val_acc: 0.8159\n",
      "Epoch 14/100\n",
      "52500/52500 [==============================] - 2s 39us/step - loss: 0.7651 - acc: 0.8204 - val_loss: 0.7407 - val_acc: 0.8215\n",
      "Epoch 15/100\n",
      "52500/52500 [==============================] - 2s 37us/step - loss: 0.7170 - acc: 0.8281 - val_loss: 0.6969 - val_acc: 0.8289\n",
      "Epoch 16/100\n",
      "52500/52500 [==============================] - 2s 39us/step - loss: 0.6762 - acc: 0.8358 - val_loss: 0.6603 - val_acc: 0.8327\n",
      "Epoch 17/100\n",
      "52500/52500 [==============================] - 2s 39us/step - loss: 0.6413 - acc: 0.8414 - val_loss: 0.6276 - val_acc: 0.8419\n",
      "Epoch 18/100\n",
      "52500/52500 [==============================] - 2s 40us/step - loss: 0.6113 - acc: 0.8467 - val_loss: 0.6006 - val_acc: 0.8450\n",
      "Epoch 19/100\n",
      "52500/52500 [==============================] - 2s 40us/step - loss: 0.5852 - acc: 0.8518 - val_loss: 0.5757 - val_acc: 0.8510\n",
      "Epoch 20/100\n",
      "52500/52500 [==============================] - 2s 39us/step - loss: 0.5622 - acc: 0.8571 - val_loss: 0.5549 - val_acc: 0.8554\n",
      "Epoch 21/100\n",
      "52500/52500 [==============================] - 7s 131us/step - loss: 0.5420 - acc: 0.8611 - val_loss: 0.5354 - val_acc: 0.8585\n",
      "Epoch 22/100\n",
      "52500/52500 [==============================] - 3s 52us/step - loss: 0.5238 - acc: 0.8650 - val_loss: 0.5188 - val_acc: 0.8635\n",
      "Epoch 23/100\n",
      "52500/52500 [==============================] - 3s 55us/step - loss: 0.5076 - acc: 0.8686 - val_loss: 0.5035 - val_acc: 0.8650\n",
      "Epoch 24/100\n",
      "52500/52500 [==============================] - 3s 53us/step - loss: 0.4930 - acc: 0.8719 - val_loss: 0.4905 - val_acc: 0.8673\n",
      "Epoch 25/100\n",
      "52500/52500 [==============================] - 3s 54us/step - loss: 0.4799 - acc: 0.8745 - val_loss: 0.4778 - val_acc: 0.8725\n",
      "Epoch 26/100\n",
      "52500/52500 [==============================] - 3s 53us/step - loss: 0.4679 - acc: 0.8765 - val_loss: 0.4664 - val_acc: 0.8741\n",
      "Epoch 27/100\n",
      "52500/52500 [==============================] - 2s 47us/step - loss: 0.4570 - acc: 0.8793 - val_loss: 0.4566 - val_acc: 0.8758\n",
      "Epoch 28/100\n",
      "52500/52500 [==============================] - 2s 39us/step - loss: 0.4470 - acc: 0.8815 - val_loss: 0.4472 - val_acc: 0.8783\n",
      "Epoch 29/100\n",
      "52500/52500 [==============================] - 2s 44us/step - loss: 0.4379 - acc: 0.8833 - val_loss: 0.4387 - val_acc: 0.8803\n",
      "Epoch 30/100\n",
      "52500/52500 [==============================] - 2s 40us/step - loss: 0.4295 - acc: 0.8852 - val_loss: 0.4310 - val_acc: 0.8818\n",
      "Epoch 31/100\n",
      "52500/52500 [==============================] - 2s 39us/step - loss: 0.4218 - acc: 0.8864 - val_loss: 0.4239 - val_acc: 0.8838\n",
      "Epoch 32/100\n",
      "52500/52500 [==============================] - 2s 38us/step - loss: 0.4146 - acc: 0.8876 - val_loss: 0.4170 - val_acc: 0.8853\n",
      "Epoch 33/100\n",
      "52500/52500 [==============================] - 2s 38us/step - loss: 0.4082 - acc: 0.8897 - val_loss: 0.4107 - val_acc: 0.8861\n",
      "Epoch 34/100\n",
      "52500/52500 [==============================] - 2s 40us/step - loss: 0.4021 - acc: 0.8905 - val_loss: 0.4055 - val_acc: 0.8874\n",
      "Epoch 35/100\n",
      "52500/52500 [==============================] - 2s 38us/step - loss: 0.3964 - acc: 0.8920 - val_loss: 0.3999 - val_acc: 0.8876\n",
      "Epoch 36/100\n",
      "52500/52500 [==============================] - 2s 40us/step - loss: 0.3911 - acc: 0.8935 - val_loss: 0.3952 - val_acc: 0.8894\n",
      "Epoch 37/100\n",
      "52500/52500 [==============================] - 2s 40us/step - loss: 0.3863 - acc: 0.8941 - val_loss: 0.3903 - val_acc: 0.8907\n",
      "Epoch 38/100\n",
      "52500/52500 [==============================] - 2s 40us/step - loss: 0.3816 - acc: 0.8946 - val_loss: 0.3861 - val_acc: 0.8918\n",
      "Epoch 39/100\n",
      "52500/52500 [==============================] - 2s 40us/step - loss: 0.3772 - acc: 0.8961 - val_loss: 0.3819 - val_acc: 0.8927\n",
      "Epoch 40/100\n",
      "52500/52500 [==============================] - 2s 38us/step - loss: 0.3731 - acc: 0.8967 - val_loss: 0.3785 - val_acc: 0.8930\n",
      "Epoch 41/100\n",
      "52500/52500 [==============================] - 2s 38us/step - loss: 0.3693 - acc: 0.8976 - val_loss: 0.3745 - val_acc: 0.8943\n",
      "Epoch 42/100\n",
      "52500/52500 [==============================] - 2s 40us/step - loss: 0.3657 - acc: 0.8983 - val_loss: 0.3713 - val_acc: 0.8950\n",
      "Epoch 43/100\n",
      "52500/52500 [==============================] - 2s 38us/step - loss: 0.3623 - acc: 0.8990 - val_loss: 0.3679 - val_acc: 0.8957\n",
      "Epoch 44/100\n",
      "52500/52500 [==============================] - 2s 39us/step - loss: 0.3590 - acc: 0.8996 - val_loss: 0.3649 - val_acc: 0.8962\n",
      "Epoch 45/100\n",
      "52500/52500 [==============================] - 2s 39us/step - loss: 0.3559 - acc: 0.9003 - val_loss: 0.3618 - val_acc: 0.8969\n",
      "Epoch 46/100\n",
      "52500/52500 [==============================] - 2s 39us/step - loss: 0.3529 - acc: 0.9012 - val_loss: 0.3591 - val_acc: 0.8978\n",
      "Epoch 47/100\n",
      "52500/52500 [==============================] - 2s 40us/step - loss: 0.3501 - acc: 0.9014 - val_loss: 0.3563 - val_acc: 0.8987\n",
      "Epoch 48/100\n",
      "52500/52500 [==============================] - 2s 40us/step - loss: 0.3473 - acc: 0.9024 - val_loss: 0.3540 - val_acc: 0.8995\n",
      "Epoch 49/100\n",
      "52500/52500 [==============================] - 2s 41us/step - loss: 0.3448 - acc: 0.9029 - val_loss: 0.3513 - val_acc: 0.8998\n",
      "Epoch 50/100\n",
      "52500/52500 [==============================] - 2s 40us/step - loss: 0.3423 - acc: 0.9028 - val_loss: 0.3491 - val_acc: 0.9001\n",
      "Epoch 51/100\n",
      "52500/52500 [==============================] - 2s 40us/step - loss: 0.3399 - acc: 0.9035 - val_loss: 0.3468 - val_acc: 0.9010\n",
      "Epoch 52/100\n",
      "52500/52500 [==============================] - 2s 43us/step - loss: 0.3375 - acc: 0.9042 - val_loss: 0.3445 - val_acc: 0.9014\n",
      "Epoch 53/100\n",
      "52500/52500 [==============================] - 2s 40us/step - loss: 0.3354 - acc: 0.9047 - val_loss: 0.3424 - val_acc: 0.9018\n",
      "Epoch 54/100\n",
      "52500/52500 [==============================] - 2s 41us/step - loss: 0.3332 - acc: 0.9051 - val_loss: 0.3405 - val_acc: 0.9023\n",
      "Epoch 55/100\n",
      "52500/52500 [==============================] - 2s 41us/step - loss: 0.3311 - acc: 0.9058 - val_loss: 0.3384 - val_acc: 0.9027\n",
      "Epoch 56/100\n",
      "52500/52500 [==============================] - 2s 40us/step - loss: 0.3291 - acc: 0.9065 - val_loss: 0.3364 - val_acc: 0.9031\n",
      "Epoch 57/100\n",
      "52500/52500 [==============================] - 2s 42us/step - loss: 0.3272 - acc: 0.9066 - val_loss: 0.3348 - val_acc: 0.9031\n",
      "Epoch 58/100\n",
      "52500/52500 [==============================] - 2s 41us/step - loss: 0.3253 - acc: 0.9071 - val_loss: 0.3329 - val_acc: 0.9045\n",
      "Epoch 59/100\n"
     ]
    },
    {
     "name": "stdout",
     "output_type": "stream",
     "text": [
      "52500/52500 [==============================] - 2s 41us/step - loss: 0.3235 - acc: 0.9073 - val_loss: 0.3311 - val_acc: 0.9050\n",
      "Epoch 60/100\n",
      "52500/52500 [==============================] - 2s 38us/step - loss: 0.3217 - acc: 0.9079 - val_loss: 0.3297 - val_acc: 0.9046\n",
      "Epoch 61/100\n",
      "52500/52500 [==============================] - 2s 39us/step - loss: 0.3200 - acc: 0.9084 - val_loss: 0.3280 - val_acc: 0.9062\n",
      "Epoch 62/100\n",
      "52500/52500 [==============================] - 2s 41us/step - loss: 0.3182 - acc: 0.9086 - val_loss: 0.3265 - val_acc: 0.9055\n",
      "Epoch 63/100\n",
      "52500/52500 [==============================] - 2s 39us/step - loss: 0.3167 - acc: 0.9094 - val_loss: 0.3247 - val_acc: 0.9064\n",
      "Epoch 64/100\n",
      "52500/52500 [==============================] - 2s 42us/step - loss: 0.3151 - acc: 0.9102 - val_loss: 0.3231 - val_acc: 0.9067\n",
      "Epoch 65/100\n",
      "52500/52500 [==============================] - 2s 40us/step - loss: 0.3135 - acc: 0.9102 - val_loss: 0.3219 - val_acc: 0.9073\n",
      "Epoch 66/100\n",
      "52500/52500 [==============================] - 2s 40us/step - loss: 0.3120 - acc: 0.9106 - val_loss: 0.3201 - val_acc: 0.9077\n",
      "Epoch 67/100\n",
      "52500/52500 [==============================] - 2s 41us/step - loss: 0.3105 - acc: 0.9110 - val_loss: 0.3190 - val_acc: 0.9073\n",
      "Epoch 68/100\n",
      "52500/52500 [==============================] - 2s 38us/step - loss: 0.3091 - acc: 0.9116 - val_loss: 0.3175 - val_acc: 0.9082\n",
      "Epoch 69/100\n",
      "52500/52500 [==============================] - 2s 41us/step - loss: 0.3077 - acc: 0.9118 - val_loss: 0.3162 - val_acc: 0.9079\n",
      "Epoch 70/100\n",
      "52500/52500 [==============================] - 2s 40us/step - loss: 0.3062 - acc: 0.9124 - val_loss: 0.3150 - val_acc: 0.9089\n",
      "Epoch 71/100\n",
      "52500/52500 [==============================] - 2s 41us/step - loss: 0.3050 - acc: 0.9129 - val_loss: 0.3136 - val_acc: 0.9094\n",
      "Epoch 72/100\n",
      "52500/52500 [==============================] - 2s 42us/step - loss: 0.3036 - acc: 0.9131 - val_loss: 0.3123 - val_acc: 0.9092\n",
      "Epoch 73/100\n",
      "52500/52500 [==============================] - 2s 40us/step - loss: 0.3023 - acc: 0.9136 - val_loss: 0.3115 - val_acc: 0.9094\n",
      "Epoch 74/100\n",
      "52500/52500 [==============================] - 2s 42us/step - loss: 0.3011 - acc: 0.9139 - val_loss: 0.3099 - val_acc: 0.9101\n",
      "Epoch 75/100\n",
      "52500/52500 [==============================] - 2s 40us/step - loss: 0.2998 - acc: 0.9141 - val_loss: 0.3087 - val_acc: 0.9106\n",
      "Epoch 76/100\n",
      "52500/52500 [==============================] - 2s 40us/step - loss: 0.2985 - acc: 0.9144 - val_loss: 0.3078 - val_acc: 0.9106\n",
      "Epoch 77/100\n",
      "52500/52500 [==============================] - 2s 41us/step - loss: 0.2974 - acc: 0.9147 - val_loss: 0.3065 - val_acc: 0.9113\n",
      "Epoch 78/100\n",
      "52500/52500 [==============================] - 2s 39us/step - loss: 0.2962 - acc: 0.9154 - val_loss: 0.3053 - val_acc: 0.9113\n",
      "Epoch 79/100\n",
      "52500/52500 [==============================] - 2s 41us/step - loss: 0.2950 - acc: 0.9153 - val_loss: 0.3049 - val_acc: 0.9113\n",
      "Epoch 80/100\n",
      "52500/52500 [==============================] - 2s 39us/step - loss: 0.2940 - acc: 0.9158 - val_loss: 0.3031 - val_acc: 0.9114\n",
      "Epoch 81/100\n",
      "52500/52500 [==============================] - 2s 38us/step - loss: 0.2928 - acc: 0.9161 - val_loss: 0.3021 - val_acc: 0.9126\n",
      "Epoch 82/100\n",
      "52500/52500 [==============================] - 2s 42us/step - loss: 0.2917 - acc: 0.9161 - val_loss: 0.3010 - val_acc: 0.9126\n",
      "Epoch 83/100\n",
      "52500/52500 [==============================] - 2s 40us/step - loss: 0.2906 - acc: 0.9165 - val_loss: 0.3003 - val_acc: 0.9129\n",
      "Epoch 84/100\n",
      "52500/52500 [==============================] - 2s 41us/step - loss: 0.2896 - acc: 0.9170 - val_loss: 0.2989 - val_acc: 0.9127\n",
      "Epoch 85/100\n",
      "52500/52500 [==============================] - 2s 40us/step - loss: 0.2885 - acc: 0.9174 - val_loss: 0.2982 - val_acc: 0.9129\n",
      "Epoch 86/100\n",
      "52500/52500 [==============================] - 2s 41us/step - loss: 0.2874 - acc: 0.9176 - val_loss: 0.2972 - val_acc: 0.9134\n",
      "Epoch 87/100\n",
      "52500/52500 [==============================] - 2s 41us/step - loss: 0.2864 - acc: 0.9177 - val_loss: 0.2961 - val_acc: 0.9143\n",
      "Epoch 88/100\n",
      "52500/52500 [==============================] - 2s 39us/step - loss: 0.2854 - acc: 0.9179 - val_loss: 0.2953 - val_acc: 0.9142\n",
      "Epoch 89/100\n",
      "52500/52500 [==============================] - 2s 42us/step - loss: 0.2844 - acc: 0.9182 - val_loss: 0.2942 - val_acc: 0.9141\n",
      "Epoch 90/100\n",
      "52500/52500 [==============================] - 2s 40us/step - loss: 0.2834 - acc: 0.9188 - val_loss: 0.2935 - val_acc: 0.9139\n",
      "Epoch 91/100\n",
      "52500/52500 [==============================] - 2s 42us/step - loss: 0.2824 - acc: 0.9189 - val_loss: 0.2925 - val_acc: 0.9144\n",
      "Epoch 92/100\n",
      "52500/52500 [==============================] - 2s 47us/step - loss: 0.2814 - acc: 0.9191 - val_loss: 0.2913 - val_acc: 0.9158\n",
      "Epoch 93/100\n",
      "52500/52500 [==============================] - 2s 43us/step - loss: 0.2806 - acc: 0.9192 - val_loss: 0.2906 - val_acc: 0.9151\n",
      "Epoch 94/100\n",
      "52500/52500 [==============================] - 2s 43us/step - loss: 0.2796 - acc: 0.9195 - val_loss: 0.2898 - val_acc: 0.9147\n",
      "Epoch 95/100\n",
      "52500/52500 [==============================] - 2s 41us/step - loss: 0.2787 - acc: 0.9198 - val_loss: 0.2889 - val_acc: 0.9152\n",
      "Epoch 96/100\n",
      "52500/52500 [==============================] - 2s 42us/step - loss: 0.2778 - acc: 0.9199 - val_loss: 0.2881 - val_acc: 0.9151\n",
      "Epoch 97/100\n",
      "52500/52500 [==============================] - 2s 40us/step - loss: 0.2769 - acc: 0.9206 - val_loss: 0.2872 - val_acc: 0.9158\n",
      "Epoch 98/100\n",
      "52500/52500 [==============================] - 2s 40us/step - loss: 0.2760 - acc: 0.9206 - val_loss: 0.2863 - val_acc: 0.9164\n",
      "Epoch 99/100\n",
      "52500/52500 [==============================] - 2s 42us/step - loss: 0.2751 - acc: 0.9210 - val_loss: 0.2853 - val_acc: 0.9163\n",
      "Epoch 100/100\n",
      "52500/52500 [==============================] - 2s 41us/step - loss: 0.2742 - acc: 0.9211 - val_loss: 0.2847 - val_acc: 0.9165\n"
     ]
    }
   ],
   "source": [
    "sgd = SGD(0.01)\n",
    "model.compile(optimizer=sgd, loss='categorical_crossentropy', metrics=['acc'])\n",
    "history = model.fit(trainX, trainY, validation_data=(testX, testY), epochs=100, batch_size=128)"
   ]
  },
  {
   "cell_type": "markdown",
   "metadata": {},
   "source": [
    "# Presenting results"
   ]
  },
  {
   "cell_type": "code",
   "execution_count": 83,
   "metadata": {},
   "outputs": [
    {
     "data": {
      "text/plain": [
       "dict_keys(['val_loss', 'val_acc', 'loss', 'acc'])"
      ]
     },
     "execution_count": 83,
     "metadata": {},
     "output_type": "execute_result"
    }
   ],
   "source": [
    "history_dict = history.history\n",
    "history_dict.keys()"
   ]
  },
  {
   "cell_type": "code",
   "execution_count": 90,
   "metadata": {},
   "outputs": [
    {
     "data": {
      "image/png": "[encoded data removed]",
      "text/plain": [
       "<Figure size 432x288 with 1 Axes>"
      ]
     },
     "metadata": {},
     "output_type": "display_data"
    }
   ],
   "source": [
    "epochs = np.arange(0, 100)\n",
    "\n",
    "accuracy = history_dict['acc']\n",
    "loss = history_dict['loss']\n",
    "\n",
    "val_accuracy = history_dict['val_acc']\n",
    "validation_loss = history_dict['val_loss']\n",
    "\n",
    "plt.style.use('ggplot')\n",
    "plt.plot(epochs, accuracy, label=\"Train accuracy\")\n",
    "plt.plot(epochs, val_accuracy, label=\"Validation accuracy\")\n",
    "\n",
    "plt.title(\"Training and Validation Accuracy\")\n",
    "plt.xlabel(\"Epochs\")\n",
    "plt.ylabel('Accuracy')\n",
    "plt.legend()\n",
    "plt.show()"
   ]
  },
  {
   "cell_type": "code",
   "execution_count": 86,
   "metadata": {},
   "outputs": [
    {
     "data": {
      "image/png": "[encoded data removed]",
      "text/plain": [
       "<Figure size 432x288 with 1 Axes>"
      ]
     },
     "metadata": {},
     "output_type": "display_data"
    }
   ],
   "source": [
    "plt.clf()\n",
    "plt.plot(epochs, loss, label=\"Training loss\")\n",
    "plt.plot(epochs, validation_loss, label=\"Validation loss\")\n",
    "plt.title(\"Training and Validation loss\")\n",
    "plt.xlabel(\"Epochs\")\n",
    "plt.ylabel(\"Loss\")\n",
    "plt.legend()\n",
    "plt.show()"
   ]
  },
  {
   "cell_type": "markdown",
   "metadata": {},
   "source": [
    "# Model Evaluation"
   ]
  },
  {
   "cell_type": "code",
   "execution_count": 87,
   "metadata": {},
   "outputs": [
    {
     "name": "stdout",
     "output_type": "stream",
     "text": [
      "              precision    recall  f1-score   support\n",
      "\n",
      "         0.0       0.95      0.96      0.96      1729\n",
      "         1.0       0.95      0.97      0.96      1973\n",
      "         2.0       0.91      0.89      0.90      1721\n",
      "         3.0       0.90      0.88      0.89      1772\n",
      "         4.0       0.90      0.93      0.92      1743\n",
      "         5.0       0.88      0.86      0.87      1555\n",
      "         6.0       0.93      0.95      0.94      1734\n",
      "         7.0       0.94      0.92      0.93      1806\n",
      "         8.0       0.89      0.88      0.88      1693\n",
      "         9.0       0.90      0.90      0.90      1774\n",
      "\n",
      "    accuracy                           0.92     17500\n",
      "   macro avg       0.92      0.92      0.92     17500\n",
      "weighted avg       0.92      0.92      0.92     17500\n",
      "\n"
     ]
    }
   ],
   "source": [
    "#Note: a call to predict method will return the class label probabilities for every datapoint in the testX\n",
    "# To determine the class with the largest probability we can simply call argmax(axis=1)\n",
    "# The argmax method will give us the final output classification by the network in tabulated format\n",
    "\n",
    "\n",
    "predictions = model.predict(testX, batch_size=128)\n",
    "print(classification_report(testY.argmax(axis=1), predictions.argmax(axis=1), target_names=[str(x) for x in lb.classes_]))"
   ]
  },
  {
   "cell_type": "markdown",
   "metadata": {},
   "source": [
    "From the graphs above notice how training and validation curves are near identical, implying that there is no overfitting occuring"
   ]
  }
 ],
 "metadata": {
  "kernelspec": {
   "display_name": "Python 3",
   "language": "python",
   "name": "python3"
  },
  "language_info": {
   "codemirror_mode": {
    "name": "ipython",
    "version": 3
   },
   "file_extension": ".py",
   "mimetype": "text/x-python",
   "name": "python",
   "nbconvert_exporter": "python",
   "pygments_lexer": "ipython3",
   "version": "3.6.10"
  }
 },
 "nbformat": 4,
 "nbformat_minor": 4
}
