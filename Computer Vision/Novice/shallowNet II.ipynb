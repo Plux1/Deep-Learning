{
 "cells": [
  {
   "cell_type": "code",
   "execution_count": 2,
   "metadata": {},
   "outputs": [],
   "source": [
    "from imutils import paths\n",
    "from sklearn.utils import shuffle\n",
    "from sklearn.preprocessing import LabelBinarizer\n",
    "from sklearn.metrics import classification_report\n",
    "from keras.preprocessing.image import img_to_array\n",
    "from keras.optimizers import SGD\n",
    "from keras import models\n",
    "from keras import layers\n",
    "from keras import backend as K\n",
    "import cv2\n",
    "import os\n",
    "import numpy as np\n",
    "import matplotlib.pyplot as plt\n"
   ]
  },
  {
   "cell_type": "markdown",
   "metadata": {},
   "source": [
    "# Loading Images"
   ]
  },
  {
   "cell_type": "code",
   "execution_count": 10,
   "metadata": {},
   "outputs": [],
   "source": [
    "# Global\n",
    "Base_dir = 'C:/Users/Tajr/Desktop/Data/RadonPlus/RadonTechnology/Dev/Deep Learning/Datasets/CatDog/Data/'\n",
    "lb = LabelBinarizer()"
   ]
  },
  {
   "cell_type": "markdown",
   "metadata": {},
   "source": [
    "### Helpers"
   ]
  },
  {
   "cell_type": "code",
   "execution_count": 9,
   "metadata": {},
   "outputs": [],
   "source": [
    "# Label Extractor\n",
    "def extract_labels(img_dir, img_path_list):\n",
    "    img_labels = []\n",
    "    img_dir_len = len(img_dir)\n",
    "    \n",
    "    for img_path in img_path_list:\n",
    "        img_label = img_path[img_dir_len:]\n",
    "        img_labels.append(img_label[:3])\n",
    "    \n",
    "    return img_labels\n",
    "\n",
    "# Group Two Lists\n",
    "def group_data(list_one, list_two):\n",
    "    joint_list = list_one\n",
    "    \n",
    "    for item in list_two:\n",
    "        joint_list.append(item)\n",
    "    \n",
    "    return joint_list\n",
    "\n",
    "# Resizer (ignore image aspect ratio)\n",
    "def img_resizer(img, width, height, interpolation):\n",
    "    inter = interpolation\n",
    "    return cv2.resize(img, (width, height), inter)\n",
    "\n",
    "# Image to array preprocessor\n",
    "def img2array(img, dataFormat=None):\n",
    "    return img_to_array(img, data_format=dataFormat)\n",
    "\n",
    "# Image Loader\n",
    "def load_img(img_paths, verbose=1):\n",
    "    data = []\n",
    "    images = []\n",
    "    interpolation = cv2.INTER_AREA\n",
    "    \n",
    "    for (i, img_path) in enumerate(img_paths):\n",
    "        img = cv2.imread(img_path)\n",
    "        images.append(img)\n",
    "        \n",
    "        if verbose > 0 and i > 0 and (i + 1) % verbose == 0:\n",
    "            print('[INFO] processed {} / {}'.format((i + 1), len(img_paths)))\n",
    "    \n",
    "    images = np.array(images)\n",
    "    \n",
    "    for image in images:\n",
    "        image = img_resizer(image, 32, 32, interpolation)\n",
    "        image = img2array(image)\n",
    "        data.append(image)\n",
    "\n",
    "        \n",
    "    \n",
    "    data = np.array(data)\n",
    "    \n",
    "    return data"
   ]
  },
  {
   "cell_type": "markdown",
   "metadata": {},
   "source": [
    "### Train"
   ]
  },
  {
   "cell_type": "code",
   "execution_count": 4,
   "metadata": {},
   "outputs": [
    {
     "name": "stdout",
     "output_type": "stream",
     "text": [
      "[INFO] processed 500 / 16500\n",
      "[INFO] processed 1000 / 16500\n",
      "[INFO] processed 1500 / 16500\n",
      "[INFO] processed 2000 / 16500\n",
      "[INFO] processed 2500 / 16500\n",
      "[INFO] processed 3000 / 16500\n",
      "[INFO] processed 3500 / 16500\n",
      "[INFO] processed 4000 / 16500\n",
      "[INFO] processed 4500 / 16500\n",
      "[INFO] processed 5000 / 16500\n",
      "[INFO] processed 5500 / 16500\n",
      "[INFO] processed 6000 / 16500\n",
      "[INFO] processed 6500 / 16500\n",
      "[INFO] processed 7000 / 16500\n",
      "[INFO] processed 7500 / 16500\n",
      "[INFO] processed 8000 / 16500\n",
      "[INFO] processed 8500 / 16500\n",
      "[INFO] processed 9000 / 16500\n",
      "[INFO] processed 9500 / 16500\n",
      "[INFO] processed 10000 / 16500\n",
      "[INFO] processed 10500 / 16500\n",
      "[INFO] processed 11000 / 16500\n",
      "[INFO] processed 11500 / 16500\n",
      "[INFO] processed 12000 / 16500\n",
      "[INFO] processed 12500 / 16500\n",
      "[INFO] processed 13000 / 16500\n",
      "[INFO] processed 13500 / 16500\n",
      "[INFO] processed 14000 / 16500\n",
      "[INFO] processed 14500 / 16500\n",
      "[INFO] processed 15000 / 16500\n",
      "[INFO] processed 15500 / 16500\n",
      "[INFO] processed 16000 / 16500\n",
      "[INFO] processed 16500 / 16500\n"
     ]
    },
    {
     "name": "stderr",
     "output_type": "stream",
     "text": [
      "C:\\Users\\Tajr\\Anaconda3\\envs\\Deep_Learning\\lib\\site-packages\\ipykernel_launcher.py:43: VisibleDeprecationWarning: Creating an ndarray from ragged nested sequences (which is a list-or-tuple of lists-or-tuples-or ndarrays with different lengths or shapes) is deprecated. If you meant to do this, you must specify 'dtype=object' when creating the ndarray\n"
     ]
    },
    {
     "name": "stdout",
     "output_type": "stream",
     "text": [
      "dog   |   [1]\n",
      "cat   |   [0]\n",
      "cat   |   [0]\n",
      "dog   |   [1]\n",
      "cat   |   [0]\n",
      "dog   |   [1]\n",
      "dog   |   [1]\n",
      "dog   |   [1]\n",
      "cat   |   [0]\n",
      "cat   |   [0]\n"
     ]
    }
   ],
   "source": [
    "# Cats\n",
    "train_cats_dir = os.path.join(Base_dir, 'train/cats/')\n",
    "train_cats_images = list(paths.list_images(train_cats_dir))\n",
    "train_cats_labels = extract_labels(train_cats_dir, train_cats_images)\n",
    "\n",
    "\n",
    "# Dogs\n",
    "train_dogs_dir = os.path.join(Base_dir, 'train/dogs/')\n",
    "train_dogs_images = list(paths.list_images(train_dogs_dir))\n",
    "train_dogs_labels = extract_labels(train_dogs_dir, train_dogs_images)\n",
    "\n",
    "\n",
    "# Group cats and dogs (data, labels)\n",
    "train_data_paths = group_data(train_cats_images, train_dogs_images)\n",
    "train_labels = group_data(train_cats_labels, train_dogs_labels)\n",
    "\n",
    "# Shuffle\n",
    "(train_data_paths, train_labels) = shuffle(train_data_paths, train_labels)\n",
    "\n",
    "# Train data\n",
    "\n",
    "train_data = load_img(train_data_paths, verbose=500)\n",
    "train_data = train_data.astype('float') / 255.0\n",
    "\n",
    "# Convert labels to numpy array\n",
    "train_labels = np.array(train_labels)\n",
    "\n",
    "# Binarize labels\n",
    "labels = train_labels\n",
    "train_labels = lb.fit_transform(train_labels)\n",
    "\n",
    "for i in np.arange(0, 10):\n",
    "    print(labels[i], \"  |  \", train_labels[i])\n",
    "    \n",
    "# # Check Ups\n",
    "# print()\n",
    "# print(\"Train data type: \", type(train_data))\n",
    "# print(\"Train labels type: \", type(train_labels))\n",
    "# print(\"Train data shape: \", train_data.shape)\n",
    "# print(\"Train labels shape: \", train_labels.shape)\n",
    "# print('Train data length: ', len(train_data))\n",
    "# print('Train labels length: ', len(train_labels))\n",
    "# print()"
   ]
  },
  {
   "cell_type": "markdown",
   "metadata": {},
   "source": [
    "### Validation"
   ]
  },
  {
   "cell_type": "code",
   "execution_count": 5,
   "metadata": {},
   "outputs": [
    {
     "name": "stdout",
     "output_type": "stream",
     "text": [
      "[INFO] processed 500 / 4500\n",
      "[INFO] processed 1000 / 4500\n",
      "[INFO] processed 1500 / 4500\n",
      "[INFO] processed 2000 / 4500\n",
      "[INFO] processed 2500 / 4500\n",
      "[INFO] processed 3000 / 4500\n",
      "[INFO] processed 3500 / 4500\n",
      "[INFO] processed 4000 / 4500\n",
      "[INFO] processed 4500 / 4500\n"
     ]
    },
    {
     "name": "stderr",
     "output_type": "stream",
     "text": [
      "C:\\Users\\Tajr\\Anaconda3\\envs\\Deep_Learning\\lib\\site-packages\\ipykernel_launcher.py:43: VisibleDeprecationWarning: Creating an ndarray from ragged nested sequences (which is a list-or-tuple of lists-or-tuples-or ndarrays with different lengths or shapes) is deprecated. If you meant to do this, you must specify 'dtype=object' when creating the ndarray\n"
     ]
    },
    {
     "name": "stdout",
     "output_type": "stream",
     "text": [
      "cat  |   [0]\n",
      "cat  |   [0]\n",
      "cat  |   [0]\n",
      "dog  |   [1]\n",
      "dog  |   [1]\n",
      "dog  |   [1]\n",
      "cat  |   [0]\n",
      "cat  |   [0]\n",
      "cat  |   [0]\n",
      "cat  |   [0]\n"
     ]
    }
   ],
   "source": [
    "# Cats\n",
    "validation_cats_dir = os.path.join(Base_dir, 'validation/cats/')\n",
    "validation_cats_images = list(paths.list_images(validation_cats_dir))\n",
    "validation_cats_labels = extract_labels(validation_cats_dir, validation_cats_images)\n",
    "\n",
    "# Dogs\n",
    "validation_dogs_dir = os.path.join(Base_dir, 'validation/dogs/')\n",
    "validation_dogs_images = list(paths.list_images(validation_dogs_dir))\n",
    "validation_dogs_labels = extract_labels(validation_dogs_dir, validation_dogs_images)\n",
    "\n",
    "# Group Validation\n",
    "validation_data_paths = group_data(validation_cats_images, validation_dogs_images)\n",
    "validation_labels = group_data(validation_cats_labels, validation_dogs_labels)\n",
    "\n",
    "# Shuffle\n",
    "(validation_data_paths, validation_labels) = shuffle(validation_data_paths, validation_labels)\n",
    "\n",
    "# Validation data\n",
    "validation_data = load_img(validation_data_paths, verbose=500)\n",
    "validation_data = validation_data.astype('float') / 255.0\n",
    "\n",
    "# Convert labels to numpy array\n",
    "validation_labels = np.array(validation_labels)\n",
    "\n",
    "# Binerize labels\n",
    "labels = validation_labels\n",
    "validation_labels = lb.fit_transform(validation_labels)\n",
    "\n",
    "for i in np.arange(0, 10):\n",
    "    print(labels[i], \" |  \", validation_labels[i])\n",
    "\n",
    "# # Check Ups\n",
    "# print()\n",
    "# print(\"Validation data type: \", type(validation_data))\n",
    "# print(\"Validation labels type: \", type(validation_labels))\n",
    "# print(\"Validation data shape: \", validation_data.shape)"
   ]
  },
  {
   "cell_type": "markdown",
   "metadata": {},
   "source": [
    "### Test"
   ]
  },
  {
   "cell_type": "code",
   "execution_count": 6,
   "metadata": {},
   "outputs": [
    {
     "name": "stdout",
     "output_type": "stream",
     "text": [
      "[INFO] processed 500 / 4000\n",
      "[INFO] processed 1000 / 4000\n",
      "[INFO] processed 1500 / 4000\n",
      "[INFO] processed 2000 / 4000\n",
      "[INFO] processed 2500 / 4000\n",
      "[INFO] processed 3000 / 4000\n",
      "[INFO] processed 3500 / 4000\n",
      "[INFO] processed 4000 / 4000\n"
     ]
    },
    {
     "name": "stderr",
     "output_type": "stream",
     "text": [
      "C:\\Users\\Tajr\\Anaconda3\\envs\\Deep_Learning\\lib\\site-packages\\ipykernel_launcher.py:43: VisibleDeprecationWarning: Creating an ndarray from ragged nested sequences (which is a list-or-tuple of lists-or-tuples-or ndarrays with different lengths or shapes) is deprecated. If you meant to do this, you must specify 'dtype=object' when creating the ndarray\n"
     ]
    },
    {
     "name": "stdout",
     "output_type": "stream",
     "text": [
      "dog   |   [1]\n",
      "cat   |   [0]\n",
      "dog   |   [1]\n",
      "dog   |   [1]\n",
      "cat   |   [0]\n",
      "cat   |   [0]\n",
      "cat   |   [0]\n",
      "cat   |   [0]\n",
      "cat   |   [0]\n",
      "cat   |   [0]\n"
     ]
    }
   ],
   "source": [
    "# Cats\n",
    "test_cats_dir = os.path.join(Base_dir, 'test/cats/')\n",
    "test_cats_images = list(paths.list_images(test_cats_dir))\n",
    "test_cats_labels = extract_labels(test_cats_dir, test_cats_images)\n",
    "\n",
    "# Dogs\n",
    "test_dogs_dir = os.path.join(Base_dir, 'test/dogs/')\n",
    "test_dogs_images = list(paths.list_images(test_dogs_dir))\n",
    "test_dogs_labels = extract_labels(test_dogs_dir, test_dogs_images)\n",
    "\n",
    "# Group Test\n",
    "test_data_paths = group_data(test_cats_images, test_dogs_images)\n",
    "test_labels = group_data(test_cats_labels, test_dogs_labels)\n",
    "\n",
    "# Shuffle\n",
    "(test_data_paths, test_labels) = shuffle(test_data_paths, test_labels, random_state=0)\n",
    "\n",
    "# Test data\n",
    "test_data = load_img(test_data_paths, verbose=500)\n",
    "test_data = test_data.astype('float') / 255.0\n",
    "\n",
    "# Convert labels to numpy array\n",
    "test_labels = np.array(test_labels)\n",
    "\n",
    "# Binarize labels\n",
    "labels = test_labels\n",
    "test_labels = lb.fit_transform(test_labels)\n",
    "\n",
    "for i in np.arange(0, 10):\n",
    "    print(labels[i], \"  |  \", test_labels[i])\n",
    "    \n",
    "# # Check Ups\n",
    "# print()\n",
    "# print(\"Test data type: \", type(test_data))\n",
    "# print(\"Test labels type: \", type(test_labels))\n",
    "# print(\"Test data shape: \", test_data.shape)"
   ]
  },
  {
   "cell_type": "markdown",
   "metadata": {},
   "source": [
    "# CNN Architecture"
   ]
  },
  {
   "cell_type": "code",
   "execution_count": 7,
   "metadata": {},
   "outputs": [
    {
     "name": "stdout",
     "output_type": "stream",
     "text": [
      "Model: \"sequential_1\"\n",
      "_________________________________________________________________\n",
      "Layer (type)                 Output Shape              Param #   \n",
      "=================================================================\n",
      "conv2d_1 (Conv2D)            (None, 32, 32, 32)        896       \n",
      "_________________________________________________________________\n",
      "activation_1 (Activation)    (None, 32, 32, 32)        0         \n",
      "_________________________________________________________________\n",
      "flatten_1 (Flatten)          (None, 32768)             0         \n",
      "_________________________________________________________________\n",
      "dense_1 (Dense)              (None, 1)                 32769     \n",
      "_________________________________________________________________\n",
      "activation_2 (Activation)    (None, 1)                 0         \n",
      "=================================================================\n",
      "Total params: 33,665\n",
      "Trainable params: 33,665\n",
      "Non-trainable params: 0\n",
      "_________________________________________________________________\n"
     ]
    }
   ],
   "source": [
    "# Filters\n",
    "filters = 32\n",
    "\n",
    "# Stride\n",
    "stride = (3, 3)\n",
    "\n",
    "# Classes\n",
    "classes = 2\n",
    "\n",
    "# Input_shape\n",
    "width = 32\n",
    "height = 32\n",
    "depth = 3 \n",
    "input_shape = (width, height, depth)\n",
    "\n",
    "if K.image_data_format() == 'channels_first':\n",
    "    input_shape = (depth, width, height)\n",
    "\n",
    "# Architecture\n",
    "model = models.Sequential()\n",
    "model.add(layers.Conv2D(filters, stride, padding='same', input_shape=input_shape))\n",
    "model.add(layers.Activation('relu'))\n",
    "model.add(layers.Flatten())\n",
    "model.add(layers.Dense(1))\n",
    "model.add(layers.Activation('sigmoid'))\n",
    "\n",
    "# Check Up\n",
    "model.summary()"
   ]
  },
  {
   "cell_type": "markdown",
   "metadata": {},
   "source": [
    "# Compile and Train"
   ]
  },
  {
   "cell_type": "code",
   "execution_count": 8,
   "metadata": {},
   "outputs": [
    {
     "name": "stdout",
     "output_type": "stream",
     "text": [
      "Train on 16500 samples, validate on 4500 samples\n",
      "Epoch 1/100\n",
      "16500/16500 [==============================] - 13s 808us/step - loss: 0.6843 - acc: 0.5511 - val_loss: 0.6734 - val_acc: 0.58607 - ETA: 7s -\n",
      "Epoch 2/100\n",
      "16500/16500 [==============================] - 6s 340us/step - loss: 0.6673 - acc: 0.5960 - val_loss: 0.6609 - val_acc: 0.6160\n",
      "Epoch 3/100\n",
      "16500/16500 [==============================] - 6s 336us/step - loss: 0.6573 - acc: 0.6186 - val_loss: 0.6529 - val_acc: 0.6298\n",
      "Epoch 4/100\n",
      "16500/16500 [==============================] - 9s 552us/step - loss: 0.6476 - acc: 0.6285 - val_loss: 0.6462 - val_acc: 0.6298\n",
      "Epoch 5/100\n",
      "16500/16500 [==============================] - 6s 335us/step - loss: 0.6400 - acc: 0.6441 - val_loss: 0.6383 - val_acc: 0.6540\n",
      "Epoch 6/100\n",
      "16500/16500 [==============================] - 6s 337us/step - loss: 0.6309 - acc: 0.6544 - val_loss: 0.6296 - val_acc: 0.6633\n",
      "Epoch 7/100\n",
      "16500/16500 [==============================] - 6s 338us/step - loss: 0.6232 - acc: 0.6601 - val_loss: 0.6247 - val_acc: 0.6651\n",
      "Epoch 8/100\n",
      "16500/16500 [==============================] - 5s 332us/step - loss: 0.6152 - acc: 0.6690 - val_loss: 0.6183 - val_acc: 0.6673\n",
      "Epoch 9/100\n",
      "16500/16500 [==============================] - 6s 335us/step - loss: 0.6093 - acc: 0.6753 - val_loss: 0.6179 - val_acc: 0.6620\n",
      "Epoch 10/100\n",
      "16500/16500 [==============================] - 6s 337us/step - loss: 0.6046 - acc: 0.6811 - val_loss: 0.6149 - val_acc: 0.6622\n",
      "Epoch 11/100\n",
      "16500/16500 [==============================] - 6s 337us/step - loss: 0.5985 - acc: 0.6850 - val_loss: 0.6026 - val_acc: 0.6858\n",
      "Epoch 12/100\n",
      "16500/16500 [==============================] - 6s 339us/step - loss: 0.5914 - acc: 0.6921 - val_loss: 0.6067 - val_acc: 0.6749\n",
      "Epoch 13/100\n",
      "16500/16500 [==============================] - 6s 339us/step - loss: 0.5846 - acc: 0.7001 - val_loss: 0.5928 - val_acc: 0.6907\n",
      "Epoch 14/100\n",
      "16500/16500 [==============================] - 6s 340us/step - loss: 0.5784 - acc: 0.7067 - val_loss: 0.5859 - val_acc: 0.6962\n",
      "Epoch 15/100\n",
      "16500/16500 [==============================] - 6s 338us/step - loss: 0.5722 - acc: 0.7142 - val_loss: 0.5832 - val_acc: 0.6980\n",
      "Epoch 16/100\n",
      "16500/16500 [==============================] - 6s 336us/step - loss: 0.5673 - acc: 0.7132 - val_loss: 0.5793 - val_acc: 0.7027\n",
      "Epoch 17/100\n",
      "16500/16500 [==============================] - 6s 340us/step - loss: 0.5633 - acc: 0.7178 - val_loss: 0.6013 - val_acc: 0.6691\n",
      "Epoch 18/100\n",
      "16500/16500 [==============================] - 6s 352us/step - loss: 0.5584 - acc: 0.7204 - val_loss: 0.5713 - val_acc: 0.7091\n",
      "Epoch 19/100\n",
      "16500/16500 [==============================] - 6s 339us/step - loss: 0.5531 - acc: 0.7201 - val_loss: 0.5685 - val_acc: 0.7102\n",
      "Epoch 20/100\n",
      "16500/16500 [==============================] - 6s 339us/step - loss: 0.5494 - acc: 0.7238 - val_loss: 0.5686 - val_acc: 0.7076\n",
      "Epoch 21/100\n",
      "16500/16500 [==============================] - 5s 332us/step - loss: 0.5463 - acc: 0.7290 - val_loss: 0.5623 - val_acc: 0.7149\n",
      "Epoch 22/100\n",
      "16500/16500 [==============================] - 6s 335us/step - loss: 0.5410 - acc: 0.7324 - val_loss: 0.5793 - val_acc: 0.6991\n",
      "Epoch 23/100\n",
      "16500/16500 [==============================] - 5s 331us/step - loss: 0.5366 - acc: 0.7388 - val_loss: 0.5686 - val_acc: 0.6967\n",
      "Epoch 24/100\n",
      "16500/16500 [==============================] - 6s 336us/step - loss: 0.5337 - acc: 0.7382 - val_loss: 0.5568 - val_acc: 0.7198\n",
      "Epoch 25/100\n",
      "16500/16500 [==============================] - 6s 340us/step - loss: 0.5302 - acc: 0.7390 - val_loss: 0.5607 - val_acc: 0.7147\n",
      "Epoch 26/100\n",
      "16500/16500 [==============================] - 6s 336us/step - loss: 0.5268 - acc: 0.7430 - val_loss: 0.5524 - val_acc: 0.7227\n",
      "Epoch 27/100\n",
      "16500/16500 [==============================] - 5s 333us/step - loss: 0.5236 - acc: 0.7444 - val_loss: 0.5643 - val_acc: 0.7131\n",
      "Epoch 28/100\n",
      "16500/16500 [==============================] - 6s 336us/step - loss: 0.5210 - acc: 0.7464 - val_loss: 0.5707 - val_acc: 0.6984\n",
      "Epoch 29/100\n",
      "16500/16500 [==============================] - 6s 337us/step - loss: 0.5178 - acc: 0.7459 - val_loss: 0.5469 - val_acc: 0.7236\n",
      "Epoch 30/100\n",
      "16500/16500 [==============================] - 6s 339us/step - loss: 0.5137 - acc: 0.7505 - val_loss: 0.5454 - val_acc: 0.7271\n",
      "Epoch 31/100\n",
      "16500/16500 [==============================] - 6s 335us/step - loss: 0.5114 - acc: 0.7521 - val_loss: 0.5486 - val_acc: 0.7278\n",
      "Epoch 32/100\n",
      "16500/16500 [==============================] - 6s 335us/step - loss: 0.5083 - acc: 0.7555 - val_loss: 0.5428 - val_acc: 0.7271\n",
      "Epoch 33/100\n",
      "16500/16500 [==============================] - 6s 338us/step - loss: 0.5043 - acc: 0.7589 - val_loss: 0.5453 - val_acc: 0.7238\n",
      "Epoch 34/100\n",
      "16500/16500 [==============================] - 6s 336us/step - loss: 0.5032 - acc: 0.7581 - val_loss: 0.5448 - val_acc: 0.7302\n",
      "Epoch 35/100\n",
      "16500/16500 [==============================] - 6s 336us/step - loss: 0.4985 - acc: 0.7592 - val_loss: 0.5516 - val_acc: 0.7131\n",
      "Epoch 36/100\n",
      "16500/16500 [==============================] - 6s 338us/step - loss: 0.4970 - acc: 0.7636 - val_loss: 0.5436 - val_acc: 0.7264\n",
      "Epoch 37/100\n",
      "16500/16500 [==============================] - 6s 336us/step - loss: 0.4951 - acc: 0.7618 - val_loss: 0.5519 - val_acc: 0.7122\n",
      "Epoch 38/100\n",
      "16500/16500 [==============================] - 6s 340us/step - loss: 0.4914 - acc: 0.7667 - val_loss: 0.5643 - val_acc: 0.7024\n",
      "Epoch 39/100\n",
      "16500/16500 [==============================] - 6s 336us/step - loss: 0.4882 - acc: 0.7694 - val_loss: 0.5358 - val_acc: 0.7309\n",
      "Epoch 40/100\n",
      "16500/16500 [==============================] - 6s 336us/step - loss: 0.4859 - acc: 0.7661 - val_loss: 0.5590 - val_acc: 0.7093\n",
      "Epoch 41/100\n",
      "16500/16500 [==============================] - 6s 340us/step - loss: 0.4838 - acc: 0.7730 - val_loss: 0.5352 - val_acc: 0.7342\n",
      "Epoch 42/100\n",
      "16500/16500 [==============================] - 6s 339us/step - loss: 0.4801 - acc: 0.7735 - val_loss: 0.5590 - val_acc: 0.7176\n",
      "Epoch 43/100\n",
      "16500/16500 [==============================] - 6s 339us/step - loss: 0.4774 - acc: 0.7775 - val_loss: 0.5350 - val_acc: 0.7302\n",
      "Epoch 44/100\n",
      "16500/16500 [==============================] - 6s 336us/step - loss: 0.4747 - acc: 0.7777 - val_loss: 0.5350 - val_acc: 0.7291\n",
      "Epoch 45/100\n",
      "16500/16500 [==============================] - 6s 335us/step - loss: 0.4725 - acc: 0.7785 - val_loss: 0.5440 - val_acc: 0.7220\n",
      "Epoch 46/100\n",
      "16500/16500 [==============================] - 6s 338us/step - loss: 0.4697 - acc: 0.7836 - val_loss: 0.5320 - val_acc: 0.7344\n",
      "Epoch 47/100\n",
      "16500/16500 [==============================] - 6s 338us/step - loss: 0.4677 - acc: 0.7819 - val_loss: 0.5291 - val_acc: 0.7333\n",
      "Epoch 48/100\n",
      "16500/16500 [==============================] - 6s 335us/step - loss: 0.4642 - acc: 0.7833 - val_loss: 0.5290 - val_acc: 0.7416\n",
      "Epoch 49/100\n",
      "16500/16500 [==============================] - 6s 338us/step - loss: 0.4627 - acc: 0.7866 - val_loss: 0.5332 - val_acc: 0.7300\n",
      "Epoch 50/100\n",
      "16500/16500 [==============================] - 6s 338us/step - loss: 0.4604 - acc: 0.7875 - val_loss: 0.5441 - val_acc: 0.7227\n",
      "Epoch 51/100\n",
      "16500/16500 [==============================] - 6s 340us/step - loss: 0.4575 - acc: 0.7890 - val_loss: 0.5321 - val_acc: 0.7358\n",
      "Epoch 52/100\n",
      "16500/16500 [==============================] - 6s 335us/step - loss: 0.4547 - acc: 0.7922 - val_loss: 0.5314 - val_acc: 0.7313\n",
      "Epoch 53/100\n",
      "16500/16500 [==============================] - 6s 338us/step - loss: 0.4529 - acc: 0.7896 - val_loss: 0.5311 - val_acc: 0.7364\n",
      "Epoch 54/100\n",
      "16500/16500 [==============================] - 6s 336us/step - loss: 0.4504 - acc: 0.7959 - val_loss: 0.5358 - val_acc: 0.7324\n",
      "Epoch 55/100\n",
      "16500/16500 [==============================] - 6s 361us/step - loss: 0.4480 - acc: 0.7956 - val_loss: 0.5289 - val_acc: 0.7333\n",
      "Epoch 56/100\n",
      "16500/16500 [==============================] - 5s 332us/step - loss: 0.4460 - acc: 0.7955 - val_loss: 0.5254 - val_acc: 0.7389\n",
      "Epoch 57/100\n",
      "16500/16500 [==============================] - 5s 331us/step - loss: 0.4439 - acc: 0.7976 - val_loss: 0.5409 - val_acc: 0.7233\n",
      "Epoch 58/100\n",
      "16500/16500 [==============================] - 5s 333us/step - loss: 0.4423 - acc: 0.7996 - val_loss: 0.5401 - val_acc: 0.7249\n",
      "Epoch 59/100\n",
      "16500/16500 [==============================] - 6s 336us/step - loss: 0.4395 - acc: 0.8008 - val_loss: 0.5239 - val_acc: 0.7384\n",
      "Epoch 60/100\n",
      "16500/16500 [==============================] - 5s 333us/step - loss: 0.4376 - acc: 0.8017 - val_loss: 0.5449 - val_acc: 0.7278\n",
      "Epoch 61/100\n",
      "16500/16500 [==============================] - 5s 331us/step - loss: 0.4356 - acc: 0.8032 - val_loss: 0.5400 - val_acc: 0.7318\n",
      "Epoch 62/100\n",
      "16500/16500 [==============================] - 6s 335us/step - loss: 0.4339 - acc: 0.8038 - val_loss: 0.5332 - val_acc: 0.7342\n",
      "Epoch 63/100\n",
      "16500/16500 [==============================] - 6s 347us/step - loss: 0.4322 - acc: 0.8039 - val_loss: 0.5699 - val_acc: 0.7118\n",
      "Epoch 64/100\n",
      "16500/16500 [==============================] - 6s 339us/step - loss: 0.4296 - acc: 0.8036 - val_loss: 0.5279 - val_acc: 0.7369\n",
      "Epoch 65/100\n",
      "16500/16500 [==============================] - 6s 341us/step - loss: 0.4268 - acc: 0.8068 - val_loss: 0.5357 - val_acc: 0.7358\n",
      "Epoch 66/100\n",
      "16500/16500 [==============================] - 6s 339us/step - loss: 0.4259 - acc: 0.8089 - val_loss: 0.5383 - val_acc: 0.7318\n",
      "Epoch 67/100\n",
      "16500/16500 [==============================] - 6s 334us/step - loss: 0.4223 - acc: 0.8113 - val_loss: 0.5255 - val_acc: 0.7393\n",
      "Epoch 68/100\n",
      "16500/16500 [==============================] - 5s 329us/step - loss: 0.4221 - acc: 0.8117 - val_loss: 0.5262 - val_acc: 0.7380\n",
      "Epoch 69/100\n",
      "16500/16500 [==============================] - 6s 334us/step - loss: 0.4196 - acc: 0.8148 - val_loss: 0.5284 - val_acc: 0.7398\n",
      "Epoch 70/100\n",
      "16500/16500 [==============================] - 6s 333us/step - loss: 0.4180 - acc: 0.8126 - val_loss: 0.5368 - val_acc: 0.7360\n",
      "Epoch 71/100\n",
      "16500/16500 [==============================] - 5s 332us/step - loss: 0.4166 - acc: 0.8116 - val_loss: 0.5317 - val_acc: 0.7351\n",
      "Epoch 72/100\n",
      "16500/16500 [==============================] - 6s 335us/step - loss: 0.4143 - acc: 0.8130 - val_loss: 0.5283 - val_acc: 0.7407\n",
      "Epoch 73/100\n",
      "16500/16500 [==============================] - 6s 336us/step - loss: 0.4126 - acc: 0.8170 - val_loss: 0.5315 - val_acc: 0.7356\n",
      "Epoch 74/100\n",
      "16500/16500 [==============================] - 6s 334us/step - loss: 0.4107 - acc: 0.8160 - val_loss: 0.5298 - val_acc: 0.7344\n",
      "Epoch 75/100\n",
      "16500/16500 [==============================] - 5s 333us/step - loss: 0.4098 - acc: 0.8167 - val_loss: 0.5296 - val_acc: 0.7409\n",
      "Epoch 76/100\n",
      "16500/16500 [==============================] - 5s 330us/step - loss: 0.4073 - acc: 0.8199 - val_loss: 0.5344 - val_acc: 0.7371\n",
      "Epoch 77/100\n",
      "16500/16500 [==============================] - 5s 333us/step - loss: 0.4065 - acc: 0.8192 - val_loss: 0.5407 - val_acc: 0.7333\n",
      "Epoch 78/100\n",
      "16500/16500 [==============================] - 6s 334us/step - loss: 0.4047 - acc: 0.8198 - val_loss: 0.5340 - val_acc: 0.7389\n",
      "Epoch 79/100\n",
      "16500/16500 [==============================] - 5s 330us/step - loss: 0.4027 - acc: 0.8234 - val_loss: 0.5317 - val_acc: 0.7398\n",
      "Epoch 80/100\n",
      "16500/16500 [==============================] - 6s 334us/step - loss: 0.4004 - acc: 0.8243 - val_loss: 0.5436 - val_acc: 0.7302\n",
      "Epoch 81/100\n",
      "16500/16500 [==============================] - 5s 332us/step - loss: 0.3989 - acc: 0.8254 - val_loss: 0.5376 - val_acc: 0.7351\n",
      "Epoch 82/100\n",
      "16500/16500 [==============================] - 5s 327us/step - loss: 0.3980 - acc: 0.8258 - val_loss: 0.5432 - val_acc: 0.7340\n",
      "Epoch 83/100\n",
      "16500/16500 [==============================] - 6s 334us/step - loss: 0.3962 - acc: 0.8252 - val_loss: 0.5320 - val_acc: 0.7396\n",
      "Epoch 84/100\n",
      "16500/16500 [==============================] - 6s 334us/step - loss: 0.3947 - acc: 0.8240 - val_loss: 0.5375 - val_acc: 0.7353\n",
      "Epoch 85/100\n",
      "16500/16500 [==============================] - 5s 332us/step - loss: 0.3932 - acc: 0.8278 - val_loss: 0.5471 - val_acc: 0.7318\n",
      "Epoch 86/100\n",
      "16500/16500 [==============================] - 5s 330us/step - loss: 0.3914 - acc: 0.8306 - val_loss: 0.5342 - val_acc: 0.7389\n",
      "Epoch 87/100\n",
      "16500/16500 [==============================] - 5s 331us/step - loss: 0.3898 - acc: 0.8282 - val_loss: 0.5344 - val_acc: 0.7396\n",
      "Epoch 88/100\n",
      "16500/16500 [==============================] - 5s 332us/step - loss: 0.3874 - acc: 0.8331 - val_loss: 0.5427 - val_acc: 0.7324\n",
      "Epoch 89/100\n",
      "16500/16500 [==============================] - 5s 332us/step - loss: 0.3864 - acc: 0.8330 - val_loss: 0.5425 - val_acc: 0.7376\n",
      "Epoch 90/100\n",
      "16500/16500 [==============================] - 5s 333us/step - loss: 0.3852 - acc: 0.8320 - val_loss: 0.5600 - val_acc: 0.7240\n",
      "Epoch 91/100\n",
      "16500/16500 [==============================] - 5s 332us/step - loss: 0.3840 - acc: 0.8310 - val_loss: 0.5382 - val_acc: 0.7384\n",
      "Epoch 92/100\n",
      "16500/16500 [==============================] - 5s 333us/step - loss: 0.3814 - acc: 0.8343 - val_loss: 0.5489 - val_acc: 0.7322\n",
      "Epoch 93/100\n",
      "16500/16500 [==============================] - 5s 332us/step - loss: 0.3811 - acc: 0.8343 - val_loss: 0.5373 - val_acc: 0.7384\n",
      "Epoch 94/100\n",
      "16500/16500 [==============================] - 6s 334us/step - loss: 0.3796 - acc: 0.8336 - val_loss: 0.5400 - val_acc: 0.7376\n",
      "Epoch 95/100\n",
      "16500/16500 [==============================] - 5s 327us/step - loss: 0.3791 - acc: 0.8341 - val_loss: 0.5534 - val_acc: 0.7311\n",
      "Epoch 96/100\n",
      "16500/16500 [==============================] - 5s 329us/step - loss: 0.3757 - acc: 0.8375 - val_loss: 0.5857 - val_acc: 0.7178\n",
      "Epoch 97/100\n",
      "16500/16500 [==============================] - 5s 326us/step - loss: 0.3750 - acc: 0.8366 - val_loss: 0.5401 - val_acc: 0.7389\n",
      "Epoch 98/100\n",
      "16500/16500 [==============================] - 5s 333us/step - loss: 0.3741 - acc: 0.8382 - val_loss: 0.5395 - val_acc: 0.7376\n",
      "Epoch 99/100\n",
      "16500/16500 [==============================] - 5s 331us/step - loss: 0.3731 - acc: 0.8375 - val_loss: 0.5417 - val_acc: 0.7351\n",
      "Epoch 100/100\n",
      "16500/16500 [==============================] - 5s 333us/step - loss: 0.3709 - acc: 0.8395 - val_loss: 0.5501 - val_acc: 0.7376\n"
     ]
    }
   ],
   "source": [
    "# Compile\n",
    "sgd = SGD(lr=0.005)\n",
    "model.compile(optimizer=sgd, loss='binary_crossentropy', metrics=['acc'])\n",
    "history = model.fit(train_data, train_labels, epochs=100, batch_size=32, validation_data=(validation_data, validation_labels))"
   ]
  },
  {
   "cell_type": "markdown",
   "metadata": {},
   "source": [
    "# Plotting Results"
   ]
  },
  {
   "cell_type": "code",
   "execution_count": 9,
   "metadata": {},
   "outputs": [],
   "source": [
    "# Dictionary\n",
    "history_dict = history.history\n",
    "history_dict.keys()\n",
    "\n",
    "# Data\n",
    "epochs = np.arange(0, 100)\n",
    "\n",
    "accuracy = history_dict['acc']\n",
    "validation_accuracy = history_dict['val_acc']\n",
    "\n",
    "loss = history_dict['loss']\n",
    "validation_loss = history_dict['val_loss']\n",
    "\n",
    "# Graph\n",
    "plt.style.use('ggplot')"
   ]
  },
  {
   "cell_type": "markdown",
   "metadata": {},
   "source": [
    "### Train Accuracy vs Validation Accuracy"
   ]
  },
  {
   "cell_type": "code",
   "execution_count": 10,
   "metadata": {},
   "outputs": [
    {
     "data": {
      "image/png": "[encoded data removed]",
      "text/plain": [
       "<Figure size 432x288 with 1 Axes>"
      ]
     },
     "metadata": {},
     "output_type": "display_data"
    }
   ],
   "source": [
    "plt.plot(epochs, accuracy, label='Train Accuracy')\n",
    "plt.plot(epochs, validation_accuracy, label='Validation Accuracy')\n",
    "plt.xlabel('Epochs')\n",
    "plt.ylabel('Accuracy')\n",
    "plt.title('Training and Validation Accuracy')\n",
    "plt.legend()\n",
    "plt.show()"
   ]
  },
  {
   "cell_type": "markdown",
   "metadata": {},
   "source": [
    "### Train Loss vs Validation Loss"
   ]
  },
  {
   "cell_type": "code",
   "execution_count": 11,
   "metadata": {},
   "outputs": [
    {
     "data": {
      "image/png": "[encoded data removed]",
      "text/plain": [
       "<Figure size 432x288 with 1 Axes>"
      ]
     },
     "metadata": {},
     "output_type": "display_data"
    }
   ],
   "source": [
    "plt.clf()\n",
    "plt.plot(epochs, loss, label='Train Loss')\n",
    "plt.plot(epochs, validation_loss, label='Validation Loss')\n",
    "plt.xlabel('Epochs')\n",
    "plt.ylabel('Loss')\n",
    "plt.title('Training and Validation Loss')\n",
    "plt.legend()\n",
    "plt.show()"
   ]
  },
  {
   "cell_type": "markdown",
   "metadata": {},
   "source": [
    "# Evaluation"
   ]
  },
  {
   "cell_type": "code",
   "execution_count": 12,
   "metadata": {},
   "outputs": [
    {
     "name": "stdout",
     "output_type": "stream",
     "text": [
      "4000/4000 [==============================] - 1s 184us/step\n",
      "[0.5615849978923798, 0.7357500195503235]\n"
     ]
    }
   ],
   "source": [
    "result = model.evaluate(test_data, test_labels)\n",
    "print(result)"
   ]
  },
  {
   "cell_type": "markdown",
   "metadata": {},
   "source": [
    "# Predictions"
   ]
  },
  {
   "cell_type": "code",
   "execution_count": 13,
   "metadata": {},
   "outputs": [
    {
     "name": "stdout",
     "output_type": "stream",
     "text": [
      "[[0.9614976]]\n"
     ]
    }
   ],
   "source": [
    "predX = [test_data[0]]\n",
    "predX = np.array(predX)\n",
    "predictions = model.predict(predX)\n",
    "print(predictions)"
   ]
  },
  {
   "cell_type": "code",
   "execution_count": null,
   "metadata": {},
   "outputs": [],
   "source": []
  },
  {
   "cell_type": "markdown",
   "metadata": {},
   "source": [
    "# shallowNet on CIFAR-10"
   ]
  },
  {
   "cell_type": "code",
   "execution_count": 13,
   "metadata": {},
   "outputs": [],
   "source": [
    "from keras.datasets import cifar10\n",
    "from sklearn.model_selection import train_test_split"
   ]
  },
  {
   "cell_type": "markdown",
   "metadata": {},
   "source": [
    "# Load Dataset"
   ]
  },
  {
   "cell_type": "code",
   "execution_count": 18,
   "metadata": {},
   "outputs": [
    {
     "name": "stdout",
     "output_type": "stream",
     "text": [
      "(37500, 32, 32, 3)\n",
      "(12500, 32, 32, 3)\n",
      "(10000, 32, 32, 3)\n"
     ]
    }
   ],
   "source": [
    "# Load training and test data\n",
    "(trainX, trainY,), (testX, testY) = cifar10.load_data()\n",
    "\n",
    "# Normalization [0, 1]\n",
    "trainX = trainX.astype('float') / 255.0\n",
    "testX = testX.astype('float') / 255.0\n",
    "\n",
    "# Validation\n",
    "(trainX, validationX, trainY, validationY) = train_test_split(trainX, trainY, test_size=0.25)\n",
    "\n",
    "# Check Up\n",
    "print(trainX.shape)\n",
    "print(validationX.shape)\n",
    "print(testX.shape)"
   ]
  },
  {
   "cell_type": "code",
   "execution_count": 23,
   "metadata": {},
   "outputs": [
    {
     "name": "stdout",
     "output_type": "stream",
     "text": [
      "(37500, 10)\n",
      "(12500, 10)\n",
      "(10000, 10)\n"
     ]
    }
   ],
   "source": [
    "# Label Binarization\n",
    "trainY = lb.fit_transform(trainY)\n",
    "validationY = lb.fit_transform(validationY)\n",
    "testY = lb.fit_transform(testY)\n",
    "\n",
    "# Check Up\n",
    "print(trainY.shape)\n",
    "print(validationY.shape)\n",
    "print(testY.shape)"
   ]
  },
  {
   "cell_type": "code",
   "execution_count": 24,
   "metadata": {},
   "outputs": [],
   "source": [
    "#  Label Dictionary\n",
    "labelNames = ['airplane', 'automobile', 'bird', 'cat', 'deer', 'dog', 'frog', 'horse', 'ship', 'truck']"
   ]
  },
  {
   "cell_type": "markdown",
   "metadata": {},
   "source": [
    "# Modified Architecture"
   ]
  },
  {
   "cell_type": "code",
   "execution_count": 25,
   "metadata": {},
   "outputs": [
    {
     "name": "stdout",
     "output_type": "stream",
     "text": [
      "Model: \"sequential_1\"\n",
      "_________________________________________________________________\n",
      "Layer (type)                 Output Shape              Param #   \n",
      "=================================================================\n",
      "conv2d_1 (Conv2D)            (None, 32, 32, 32)        896       \n",
      "_________________________________________________________________\n",
      "activation_1 (Activation)    (None, 32, 32, 32)        0         \n",
      "_________________________________________________________________\n",
      "flatten_1 (Flatten)          (None, 32768)             0         \n",
      "_________________________________________________________________\n",
      "dense_1 (Dense)              (None, 10)                327690    \n",
      "_________________________________________________________________\n",
      "activation_2 (Activation)    (None, 10)                0         \n",
      "=================================================================\n",
      "Total params: 328,586\n",
      "Trainable params: 328,586\n",
      "Non-trainable params: 0\n",
      "_________________________________________________________________\n"
     ]
    }
   ],
   "source": [
    "# Filters\n",
    "filters = 32\n",
    "\n",
    "# Stride\n",
    "stride = (3, 3)\n",
    "\n",
    "# Classes\n",
    "classes = 10\n",
    "\n",
    "# Input_shape\n",
    "width = 32\n",
    "height = 32\n",
    "depth = 3 \n",
    "input_shape = (width, height, depth)\n",
    "\n",
    "if K.image_data_format() == 'channels_first':\n",
    "    input_shape = (depth, width, height)\n",
    "\n",
    "# Architecture\n",
    "model = models.Sequential()\n",
    "model.add(layers.Conv2D(filters, stride, padding='same', input_shape=input_shape))\n",
    "model.add(layers.Activation('relu'))\n",
    "model.add(layers.Flatten())\n",
    "model.add(layers.Dense(classes))\n",
    "model.add(layers.Activation('softmax'))\n",
    "\n",
    "# Check Up\n",
    "model.summary()"
   ]
  },
  {
   "cell_type": "markdown",
   "metadata": {},
   "source": [
    "# Compile and Train"
   ]
  },
  {
   "cell_type": "code",
   "execution_count": 27,
   "metadata": {},
   "outputs": [
    {
     "name": "stdout",
     "output_type": "stream",
     "text": [
      "Train on 37500 samples, validate on 12500 samples\n",
      "Epoch 1/40\n",
      "37500/37500 [==============================] - 21s 572us/step - loss: 1.8361 - acc: 0.3557 - val_loss: 1.6549 - val_acc: 0.4311: 1.8404 - ac\n",
      "Epoch 2/40\n",
      "37500/37500 [==============================] - 16s 429us/step - loss: 1.5816 - acc: 0.4510 - val_loss: 1.5153 - val_acc: 0.4702\n",
      "Epoch 3/40\n",
      "37500/37500 [==============================] - 16s 433us/step - loss: 1.4334 - acc: 0.4994 - val_loss: 1.4257 - val_acc: 0.5018\n",
      "Epoch 4/40\n",
      "37500/37500 [==============================] - 72s 2ms/step - loss: 1.3418 - acc: 0.5317 - val_loss: 1.4605 - val_acc: 0.4668\n",
      "Epoch 5/40\n",
      "37500/37500 [==============================] - 21s 561us/step - loss: 1.2811 - acc: 0.5502 - val_loss: 1.3375 - val_acc: 0.5281\n",
      "Epoch 6/40\n",
      "37500/37500 [==============================] - 19s 508us/step - loss: 1.2423 - acc: 0.5647 - val_loss: 1.3450 - val_acc: 0.5191\n",
      "Epoch 7/40\n",
      "37500/37500 [==============================] - 15s 402us/step - loss: 1.2101 - acc: 0.5786 - val_loss: 1.2864 - val_acc: 0.5495\n",
      "Epoch 8/40\n",
      "37500/37500 [==============================] - 15s 408us/step - loss: 1.1830 - acc: 0.5884 - val_loss: 1.2814 - val_acc: 0.5521\n",
      "Epoch 9/40\n",
      "37500/37500 [==============================] - 15s 407us/step - loss: 1.1611 - acc: 0.5932 - val_loss: 1.2703 - val_acc: 0.5570\n",
      "Epoch 10/40\n",
      "37500/37500 [==============================] - 15s 406us/step - loss: 1.1391 - acc: 0.6027 - val_loss: 1.3569 - val_acc: 0.5299\n",
      "Epoch 11/40\n",
      "37500/37500 [==============================] - 15s 405us/step - loss: 1.1201 - acc: 0.6123 - val_loss: 1.2647 - val_acc: 0.5632\n",
      "Epoch 12/40\n",
      "37500/37500 [==============================] - 15s 406us/step - loss: 1.0977 - acc: 0.6182 - val_loss: 1.2636 - val_acc: 0.5602\n",
      "Epoch 13/40\n",
      "37500/37500 [==============================] - 15s 404us/step - loss: 1.0781 - acc: 0.6251 - val_loss: 1.2667 - val_acc: 0.5598\n",
      "Epoch 14/40\n",
      "37500/37500 [==============================] - 15s 407us/step - loss: 1.0601 - acc: 0.6340 - val_loss: 1.2738 - val_acc: 0.5569\n",
      "Epoch 15/40\n",
      "37500/37500 [==============================] - 15s 404us/step - loss: 1.0434 - acc: 0.6378 - val_loss: 1.2516 - val_acc: 0.5678\n",
      "Epoch 16/40\n",
      "37500/37500 [==============================] - 15s 404us/step - loss: 1.0242 - acc: 0.6451 - val_loss: 1.2892 - val_acc: 0.5502\n",
      "Epoch 17/40\n",
      "37500/37500 [==============================] - 15s 401us/step - loss: 1.0067 - acc: 0.6507 - val_loss: 1.2505 - val_acc: 0.5684\n",
      "Epoch 18/40\n",
      "37500/37500 [==============================] - 15s 401us/step - loss: 0.9903 - acc: 0.6570 - val_loss: 1.2585 - val_acc: 0.5673\n",
      "Epoch 19/40\n",
      "37500/37500 [==============================] - 15s 402us/step - loss: 0.9764 - acc: 0.6629 - val_loss: 1.2532 - val_acc: 0.5666\n",
      "Epoch 20/40\n",
      "37500/37500 [==============================] - 15s 406us/step - loss: 0.9586 - acc: 0.6689 - val_loss: 1.2451 - val_acc: 0.5694\n",
      "Epoch 21/40\n",
      "37500/37500 [==============================] - 15s 407us/step - loss: 0.9455 - acc: 0.6714 - val_loss: 1.2822 - val_acc: 0.5614\n",
      "Epoch 22/40\n",
      "37500/37500 [==============================] - 15s 407us/step - loss: 0.9274 - acc: 0.6793 - val_loss: 1.2642 - val_acc: 0.5723\n",
      "Epoch 23/40\n",
      "37500/37500 [==============================] - 15s 407us/step - loss: 0.9138 - acc: 0.6823 - val_loss: 1.2531 - val_acc: 0.5743\n",
      "Epoch 24/40\n",
      "37500/37500 [==============================] - 15s 411us/step - loss: 0.9005 - acc: 0.6875 - val_loss: 1.3190 - val_acc: 0.5435\n",
      "Epoch 25/40\n",
      "37500/37500 [==============================] - 15s 410us/step - loss: 0.8864 - acc: 0.6935 - val_loss: 1.2711 - val_acc: 0.5724\n",
      "Epoch 26/40\n",
      "37500/37500 [==============================] - 16s 414us/step - loss: 0.8725 - acc: 0.6977 - val_loss: 1.2579 - val_acc: 0.5735\n",
      "Epoch 27/40\n",
      "37500/37500 [==============================] - 15s 406us/step - loss: 0.8570 - acc: 0.7055 - val_loss: 1.2778 - val_acc: 0.5670\n",
      "Epoch 28/40\n",
      "37500/37500 [==============================] - 15s 401us/step - loss: 0.8471 - acc: 0.7070 - val_loss: 1.2659 - val_acc: 0.5782\n",
      "Epoch 29/40\n",
      "37500/37500 [==============================] - 15s 403us/step - loss: 0.8324 - acc: 0.7134 - val_loss: 1.2955 - val_acc: 0.5722\n",
      "Epoch 30/40\n",
      "37500/37500 [==============================] - 15s 404us/step - loss: 0.8193 - acc: 0.7169 - val_loss: 1.2575 - val_acc: 0.5752\n",
      "Epoch 31/40\n",
      "37500/37500 [==============================] - 15s 402us/step - loss: 0.8071 - acc: 0.7199 - val_loss: 1.2828 - val_acc: 0.5721\n",
      "Epoch 32/40\n",
      "37500/37500 [==============================] - 15s 403us/step - loss: 0.7932 - acc: 0.7279 - val_loss: 1.2613 - val_acc: 0.5822\n",
      "Epoch 33/40\n",
      "37500/37500 [==============================] - 15s 407us/step - loss: 0.7826 - acc: 0.7319 - val_loss: 1.2755 - val_acc: 0.5754\n",
      "Epoch 34/40\n",
      "37500/37500 [==============================] - 15s 405us/step - loss: 0.7692 - acc: 0.7355 - val_loss: 1.2625 - val_acc: 0.5842\n",
      "Epoch 35/40\n",
      "37500/37500 [==============================] - 15s 405us/step - loss: 0.7573 - acc: 0.7416 - val_loss: 1.3006 - val_acc: 0.5695\n",
      "Epoch 36/40\n",
      "37500/37500 [==============================] - 15s 409us/step - loss: 0.7423 - acc: 0.7480 - val_loss: 1.3425 - val_acc: 0.5660\n",
      "Epoch 37/40\n",
      "37500/37500 [==============================] - 15s 409us/step - loss: 0.7345 - acc: 0.7474 - val_loss: 1.2800 - val_acc: 0.5790\n",
      "Epoch 38/40\n",
      "37500/37500 [==============================] - 15s 404us/step - loss: 0.7182 - acc: 0.7573 - val_loss: 1.3175 - val_acc: 0.5720\n",
      "Epoch 39/40\n",
      "37500/37500 [==============================] - 15s 406us/step - loss: 0.7052 - acc: 0.7581 - val_loss: 1.2834 - val_acc: 0.5805\n",
      "Epoch 40/40\n",
      "37500/37500 [==============================] - 15s 407us/step - loss: 0.6980 - acc: 0.7623 - val_loss: 1.2784 - val_acc: 0.5892\n"
     ]
    }
   ],
   "source": [
    "opt = SGD(lr=0.01)\n",
    "model.compile(optimizer=opt, loss='categorical_crossentropy', metrics=['acc'])\n",
    "history = model.fit(trainX, trainY, epochs=40, batch_size=32, validation_data=(validationX, validationY), verbose=1)"
   ]
  },
  {
   "cell_type": "code",
   "execution_count": null,
   "metadata": {},
   "outputs": [],
   "source": []
  }
 ],
 "metadata": {
  "kernelspec": {
   "display_name": "Python 3",
   "language": "python",
   "name": "python3"
  },
  "language_info": {
   "codemirror_mode": {
    "name": "ipython",
    "version": 3
   },
   "file_extension": ".py",
   "mimetype": "text/x-python",
   "name": "python",
   "nbconvert_exporter": "python",
   "pygments_lexer": "ipython3",
   "version": "3.6.10"
  }
 },
 "nbformat": 4,
 "nbformat_minor": 4
}
