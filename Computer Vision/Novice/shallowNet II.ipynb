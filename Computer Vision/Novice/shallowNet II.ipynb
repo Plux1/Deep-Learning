{
 "cells": [
  {
   "cell_type": "code",
   "execution_count": 1,
   "metadata": {},
   "outputs": [
    {
     "name": "stderr",
     "output_type": "stream",
     "text": [
      "Using TensorFlow backend.\n"
     ]
    }
   ],
   "source": [
    "from imutils import paths\n",
    "from sklearn.utils import shuffle\n",
    "from sklearn.preprocessing import LabelBinarizer\n",
    "from sklearn.metrics import classification_report\n",
    "from keras.preprocessing.image import img_to_array\n",
    "from keras.optimizers import SGD\n",
    "from keras import models\n",
    "from keras import layers\n",
    "from keras import backend as K\n",
    "import cv2\n",
    "import os\n",
    "import numpy as np\n",
    "import matplotlib.pyplot as plt\n"
   ]
  },
  {
   "cell_type": "markdown",
   "metadata": {},
   "source": [
    "# Loading Images"
   ]
  },
  {
   "cell_type": "code",
   "execution_count": 2,
   "metadata": {},
   "outputs": [],
   "source": [
    "# Global\n",
    "Base_dir = 'C:/Users/Tajr/Desktop/Data/RadonPlus/RadonTechnology/Dev/Deep Learning/Datasets/CatDog/Data/'\n",
    "lb = LabelBinarizer()"
   ]
  },
  {
   "cell_type": "markdown",
   "metadata": {},
   "source": [
    "### Helpers"
   ]
  },
  {
   "cell_type": "code",
   "execution_count": 3,
   "metadata": {},
   "outputs": [],
   "source": [
    "# Label Extractor\n",
    "def extract_labels(img_dir, img_path_list):\n",
    "    img_labels = []\n",
    "    img_dir_len = len(img_dir)\n",
    "    \n",
    "    for img_path in img_path_list:\n",
    "        img_label = img_path[img_dir_len:]\n",
    "        img_labels.append(img_label[:3])\n",
    "    \n",
    "    return img_labels\n",
    "\n",
    "# Group Two Lists\n",
    "def group_data(list_one, list_two):\n",
    "    joint_list = list_one\n",
    "    \n",
    "    for item in list_two:\n",
    "        joint_list.append(item)\n",
    "    \n",
    "    return joint_list\n",
    "\n",
    "# Resizer (ignore image aspect ratio)\n",
    "def img_resizer(img, width, height, interpolation):\n",
    "    inter = interpolation\n",
    "    return cv2.resize(img, (width, height), inter)\n",
    "\n",
    "# Image to array preprocessor\n",
    "def img2array(img, dataFormat=None):\n",
    "    return img_to_array(img, data_format=dataFormat)\n",
    "\n",
    "# Image Loader\n",
    "def load_img(img_paths, verbose=1):\n",
    "    data = []\n",
    "    images = []\n",
    "    interpolation = cv2.INTER_AREA\n",
    "    \n",
    "    for (i, img_path) in enumerate(img_paths):\n",
    "        img = cv2.imread(img_path)\n",
    "        images.append(img)\n",
    "        \n",
    "        if verbose > 0 and i > 0 and (i + 1) % verbose == 0:\n",
    "            print('[INFO] processed {} / {}'.format((i + 1), len(img_paths)))\n",
    "    \n",
    "    images = np.array(images)\n",
    "    \n",
    "    for image in images:\n",
    "        image = img_resizer(image, 32, 32, interpolation)\n",
    "        image = img2array(image)\n",
    "        data.append(image)\n",
    "\n",
    "        \n",
    "    \n",
    "    data = np.array(data)\n",
    "    \n",
    "    return data"
   ]
  },
  {
   "cell_type": "markdown",
   "metadata": {},
   "source": [
    "### Train"
   ]
  },
  {
   "cell_type": "code",
   "execution_count": 4,
   "metadata": {},
   "outputs": [
    {
     "name": "stdout",
     "output_type": "stream",
     "text": [
      "[INFO] processed 500 / 16500\n",
      "[INFO] processed 1000 / 16500\n",
      "[INFO] processed 1500 / 16500\n",
      "[INFO] processed 2000 / 16500\n",
      "[INFO] processed 2500 / 16500\n",
      "[INFO] processed 3000 / 16500\n",
      "[INFO] processed 3500 / 16500\n",
      "[INFO] processed 4000 / 16500\n",
      "[INFO] processed 4500 / 16500\n",
      "[INFO] processed 5000 / 16500\n",
      "[INFO] processed 5500 / 16500\n",
      "[INFO] processed 6000 / 16500\n",
      "[INFO] processed 6500 / 16500\n",
      "[INFO] processed 7000 / 16500\n",
      "[INFO] processed 7500 / 16500\n",
      "[INFO] processed 8000 / 16500\n",
      "[INFO] processed 8500 / 16500\n",
      "[INFO] processed 9000 / 16500\n",
      "[INFO] processed 9500 / 16500\n",
      "[INFO] processed 10000 / 16500\n",
      "[INFO] processed 10500 / 16500\n",
      "[INFO] processed 11000 / 16500\n",
      "[INFO] processed 11500 / 16500\n",
      "[INFO] processed 12000 / 16500\n",
      "[INFO] processed 12500 / 16500\n",
      "[INFO] processed 13000 / 16500\n",
      "[INFO] processed 13500 / 16500\n",
      "[INFO] processed 14000 / 16500\n",
      "[INFO] processed 14500 / 16500\n",
      "[INFO] processed 15000 / 16500\n",
      "[INFO] processed 15500 / 16500\n",
      "[INFO] processed 16000 / 16500\n",
      "[INFO] processed 16500 / 16500\n"
     ]
    },
    {
     "name": "stderr",
     "output_type": "stream",
     "text": [
      "C:\\Users\\Tajr\\Anaconda3\\envs\\Deep_Learning\\lib\\site-packages\\ipykernel_launcher.py:43: VisibleDeprecationWarning: Creating an ndarray from ragged nested sequences (which is a list-or-tuple of lists-or-tuples-or ndarrays with different lengths or shapes) is deprecated. If you meant to do this, you must specify 'dtype=object' when creating the ndarray\n"
     ]
    },
    {
     "name": "stdout",
     "output_type": "stream",
     "text": [
      "cat   |   [0]\n",
      "dog   |   [1]\n",
      "dog   |   [1]\n",
      "cat   |   [0]\n",
      "cat   |   [0]\n",
      "dog   |   [1]\n",
      "cat   |   [0]\n",
      "dog   |   [1]\n",
      "dog   |   [1]\n",
      "dog   |   [1]\n"
     ]
    }
   ],
   "source": [
    "# Cats\n",
    "train_cats_dir = os.path.join(Base_dir, 'train/cats/')\n",
    "train_cats_images = list(paths.list_images(train_cats_dir))\n",
    "train_cats_labels = extract_labels(train_cats_dir, train_cats_images)\n",
    "\n",
    "\n",
    "# Dogs\n",
    "train_dogs_dir = os.path.join(Base_dir, 'train/dogs/')\n",
    "train_dogs_images = list(paths.list_images(train_dogs_dir))\n",
    "train_dogs_labels = extract_labels(train_dogs_dir, train_dogs_images)\n",
    "\n",
    "\n",
    "# Group cats and dogs (data, labels)\n",
    "train_data_paths = group_data(train_cats_images, train_dogs_images)\n",
    "train_labels = group_data(train_cats_labels, train_dogs_labels)\n",
    "\n",
    "# Shuffle\n",
    "(train_data_paths, train_labels) = shuffle(train_data_paths, train_labels)\n",
    "\n",
    "# Train data\n",
    "\n",
    "train_data = load_img(train_data_paths, verbose=500)\n",
    "train_data = train_data.astype('float') / 255.0\n",
    "\n",
    "# Convert labels to numpy array\n",
    "train_labels = np.array(train_labels)\n",
    "\n",
    "# Binarize labels\n",
    "labels = train_labels\n",
    "train_labels = lb.fit_transform(train_labels)\n",
    "\n",
    "for i in np.arange(0, 10):\n",
    "    print(labels[i], \"  |  \", train_labels[i])\n",
    "    \n",
    "# # Check Ups\n",
    "# print()\n",
    "# print(\"Train data type: \", type(train_data))\n",
    "# print(\"Train labels type: \", type(train_labels))\n",
    "# print(\"Train data shape: \", train_data.shape)\n",
    "# print(\"Train labels shape: \", train_labels.shape)\n",
    "# print('Train data length: ', len(train_data))\n",
    "# print('Train labels length: ', len(train_labels))\n",
    "# print()"
   ]
  },
  {
   "cell_type": "markdown",
   "metadata": {},
   "source": [
    "### Validation"
   ]
  },
  {
   "cell_type": "code",
   "execution_count": 5,
   "metadata": {},
   "outputs": [
    {
     "name": "stdout",
     "output_type": "stream",
     "text": [
      "[INFO] processed 500 / 4500\n",
      "[INFO] processed 1000 / 4500\n",
      "[INFO] processed 1500 / 4500\n",
      "[INFO] processed 2000 / 4500\n",
      "[INFO] processed 2500 / 4500\n",
      "[INFO] processed 3000 / 4500\n",
      "[INFO] processed 3500 / 4500\n",
      "[INFO] processed 4000 / 4500\n",
      "[INFO] processed 4500 / 4500\n"
     ]
    },
    {
     "name": "stderr",
     "output_type": "stream",
     "text": [
      "C:\\Users\\Tajr\\Anaconda3\\envs\\Deep_Learning\\lib\\site-packages\\ipykernel_launcher.py:43: VisibleDeprecationWarning: Creating an ndarray from ragged nested sequences (which is a list-or-tuple of lists-or-tuples-or ndarrays with different lengths or shapes) is deprecated. If you meant to do this, you must specify 'dtype=object' when creating the ndarray\n"
     ]
    },
    {
     "name": "stdout",
     "output_type": "stream",
     "text": [
      "dog  |   [1]\n",
      "cat  |   [0]\n",
      "cat  |   [0]\n",
      "cat  |   [0]\n",
      "dog  |   [1]\n",
      "cat  |   [0]\n",
      "cat  |   [0]\n",
      "cat  |   [0]\n",
      "cat  |   [0]\n",
      "cat  |   [0]\n"
     ]
    }
   ],
   "source": [
    "# Cats\n",
    "validation_cats_dir = os.path.join(Base_dir, 'validation/cats/')\n",
    "validation_cats_images = list(paths.list_images(validation_cats_dir))\n",
    "validation_cats_labels = extract_labels(validation_cats_dir, validation_cats_images)\n",
    "\n",
    "# Dogs\n",
    "validation_dogs_dir = os.path.join(Base_dir, 'validation/dogs/')\n",
    "validation_dogs_images = list(paths.list_images(validation_dogs_dir))\n",
    "validation_dogs_labels = extract_labels(validation_dogs_dir, validation_dogs_images)\n",
    "\n",
    "# Group Validation\n",
    "validation_data_paths = group_data(validation_cats_images, validation_dogs_images)\n",
    "validation_labels = group_data(validation_cats_labels, validation_dogs_labels)\n",
    "\n",
    "# Shuffle\n",
    "(validation_data_paths, validation_labels) = shuffle(validation_data_paths, validation_labels)\n",
    "\n",
    "# Validation data\n",
    "validation_data = load_img(validation_data_paths, verbose=500)\n",
    "validation_data = validation_data.astype('float') / 255.0\n",
    "\n",
    "# Convert labels to numpy array\n",
    "validation_labels = np.array(validation_labels)\n",
    "\n",
    "# Binerize labels\n",
    "labels = validation_labels\n",
    "validation_labels = lb.fit_transform(validation_labels)\n",
    "\n",
    "for i in np.arange(0, 10):\n",
    "    print(labels[i], \" |  \", validation_labels[i])\n",
    "\n",
    "# # Check Ups\n",
    "# print()\n",
    "# print(\"Validation data type: \", type(validation_data))\n",
    "# print(\"Validation labels type: \", type(validation_labels))\n",
    "# print(\"Validation data shape: \", validation_data.shape)"
   ]
  },
  {
   "cell_type": "markdown",
   "metadata": {},
   "source": [
    "### Test"
   ]
  },
  {
   "cell_type": "code",
   "execution_count": 6,
   "metadata": {},
   "outputs": [
    {
     "name": "stdout",
     "output_type": "stream",
     "text": [
      "[INFO] processed 500 / 4000\n",
      "[INFO] processed 1000 / 4000\n",
      "[INFO] processed 1500 / 4000\n",
      "[INFO] processed 2000 / 4000\n",
      "[INFO] processed 2500 / 4000\n",
      "[INFO] processed 3000 / 4000\n",
      "[INFO] processed 3500 / 4000\n",
      "[INFO] processed 4000 / 4000\n"
     ]
    },
    {
     "name": "stderr",
     "output_type": "stream",
     "text": [
      "C:\\Users\\Tajr\\Anaconda3\\envs\\Deep_Learning\\lib\\site-packages\\ipykernel_launcher.py:43: VisibleDeprecationWarning: Creating an ndarray from ragged nested sequences (which is a list-or-tuple of lists-or-tuples-or ndarrays with different lengths or shapes) is deprecated. If you meant to do this, you must specify 'dtype=object' when creating the ndarray\n"
     ]
    },
    {
     "name": "stdout",
     "output_type": "stream",
     "text": [
      "dog   |   [1]\n",
      "cat   |   [0]\n",
      "dog   |   [1]\n",
      "dog   |   [1]\n",
      "cat   |   [0]\n",
      "cat   |   [0]\n",
      "cat   |   [0]\n",
      "cat   |   [0]\n",
      "cat   |   [0]\n",
      "cat   |   [0]\n"
     ]
    }
   ],
   "source": [
    "# Cats\n",
    "test_cats_dir = os.path.join(Base_dir, 'test/cats/')\n",
    "test_cats_images = list(paths.list_images(test_cats_dir))\n",
    "test_cats_labels = extract_labels(test_cats_dir, test_cats_images)\n",
    "\n",
    "# Dogs\n",
    "test_dogs_dir = os.path.join(Base_dir, 'test/dogs/')\n",
    "test_dogs_images = list(paths.list_images(test_dogs_dir))\n",
    "test_dogs_labels = extract_labels(test_dogs_dir, test_dogs_images)\n",
    "\n",
    "# Group Test\n",
    "test_data_paths = group_data(test_cats_images, test_dogs_images)\n",
    "test_labels = group_data(test_cats_labels, test_dogs_labels)\n",
    "\n",
    "# Shuffle\n",
    "(test_data_paths, test_labels) = shuffle(test_data_paths, test_labels, random_state=0)\n",
    "\n",
    "# Test data\n",
    "test_data = load_img(test_data_paths, verbose=500)\n",
    "test_data = test_data.astype('float') / 255.0\n",
    "\n",
    "# Convert labels to numpy array\n",
    "test_labels = np.array(test_labels)\n",
    "\n",
    "# Binarize labels\n",
    "labels = test_labels\n",
    "test_labels = lb.fit_transform(test_labels)\n",
    "\n",
    "for i in np.arange(0, 10):\n",
    "    print(labels[i], \"  |  \", test_labels[i])\n",
    "    \n",
    "# # Check Ups\n",
    "# print()\n",
    "# print(\"Test data type: \", type(test_data))\n",
    "# print(\"Test labels type: \", type(test_labels))\n",
    "# print(\"Test data shape: \", test_data.shape)"
   ]
  },
  {
   "cell_type": "markdown",
   "metadata": {},
   "source": [
    "# CNN Architecture"
   ]
  },
  {
   "cell_type": "code",
   "execution_count": 7,
   "metadata": {},
   "outputs": [
    {
     "name": "stdout",
     "output_type": "stream",
     "text": [
      "Model: \"sequential_1\"\n",
      "_________________________________________________________________\n",
      "Layer (type)                 Output Shape              Param #   \n",
      "=================================================================\n",
      "conv2d_1 (Conv2D)            (None, 32, 32, 32)        896       \n",
      "_________________________________________________________________\n",
      "activation_1 (Activation)    (None, 32, 32, 32)        0         \n",
      "_________________________________________________________________\n",
      "flatten_1 (Flatten)          (None, 32768)             0         \n",
      "_________________________________________________________________\n",
      "dense_1 (Dense)              (None, 1)                 32769     \n",
      "_________________________________________________________________\n",
      "activation_2 (Activation)    (None, 1)                 0         \n",
      "=================================================================\n",
      "Total params: 33,665\n",
      "Trainable params: 33,665\n",
      "Non-trainable params: 0\n",
      "_________________________________________________________________\n"
     ]
    }
   ],
   "source": [
    "# Filters\n",
    "filters = 32\n",
    "\n",
    "# Stride\n",
    "stride = (3, 3)\n",
    "\n",
    "# Classes\n",
    "classes = 2\n",
    "\n",
    "# Input_shape\n",
    "width = 32\n",
    "height = 32\n",
    "depth = 3 \n",
    "input_shape = (width, height, depth)\n",
    "\n",
    "if K.image_data_format() == 'channels_first':\n",
    "    input_shape = (depth, width, height)\n",
    "\n",
    "# Architecture\n",
    "model = models.Sequential()\n",
    "model.add(layers.Conv2D(filters, stride, padding='same', input_shape=input_shape))\n",
    "model.add(layers.Activation('relu'))\n",
    "model.add(layers.Flatten())\n",
    "model.add(layers.Dense(1))\n",
    "model.add(layers.Activation('sigmoid'))\n",
    "\n",
    "# Check Up\n",
    "model.summary()"
   ]
  },
  {
   "cell_type": "markdown",
   "metadata": {},
   "source": [
    "# Compile and Train"
   ]
  },
  {
   "cell_type": "code",
   "execution_count": 8,
   "metadata": {},
   "outputs": [
    {
     "name": "stdout",
     "output_type": "stream",
     "text": [
      "Train on 16500 samples, validate on 4500 samples\n",
      "Epoch 1/100\n",
      "16500/16500 [==============================] - 13s 797us/step - loss: 0.6861 - acc: 0.5558 - val_loss: 0.6804 - val_acc: 0.5733\n",
      "Epoch 2/100\n",
      "16500/16500 [==============================] - 5s 331us/step - loss: 0.6680 - acc: 0.5939 - val_loss: 0.6601 - val_acc: 0.6042\n",
      "Epoch 3/100\n",
      "16500/16500 [==============================] - 5s 333us/step - loss: 0.6573 - acc: 0.6096 - val_loss: 0.6512 - val_acc: 0.6278\n",
      "Epoch 4/100\n",
      "16500/16500 [==============================] - 9s 554us/step - loss: 0.6499 - acc: 0.6202 - val_loss: 0.6449 - val_acc: 0.6387\n",
      "Epoch 5/100\n",
      "16500/16500 [==============================] - 5s 331us/step - loss: 0.6425 - acc: 0.6325 - val_loss: 0.6413 - val_acc: 0.6300\n",
      "Epoch 6/100\n",
      "16500/16500 [==============================] - 6s 334us/step - loss: 0.6341 - acc: 0.6454 - val_loss: 0.6393 - val_acc: 0.6273\n",
      "Epoch 7/100\n",
      "16500/16500 [==============================] - 10s 615us/step - loss: 0.6267 - acc: 0.6547 - val_loss: 0.6251 - val_acc: 0.6616\n",
      "Epoch 8/100\n",
      "16500/16500 [==============================] - 6s 354us/step - loss: 0.6197 - acc: 0.6618 - val_loss: 0.6282 - val_acc: 0.6482\n",
      "Epoch 9/100\n",
      "16500/16500 [==============================] - 6s 335us/step - loss: 0.6113 - acc: 0.6753 - val_loss: 0.6160 - val_acc: 0.6640\n",
      "Epoch 10/100\n",
      "16500/16500 [==============================] - 10s 586us/step - loss: 0.6033 - acc: 0.6850 - val_loss: 0.6383 - val_acc: 0.6153\n",
      "Epoch 11/100\n",
      "16500/16500 [==============================] - 6s 343us/step - loss: 0.5960 - acc: 0.6906 - val_loss: 0.5966 - val_acc: 0.6953\n",
      "Epoch 12/100\n",
      "16500/16500 [==============================] - 6s 346us/step - loss: 0.5875 - acc: 0.6968 - val_loss: 0.5943 - val_acc: 0.6918\n",
      "Epoch 13/100\n",
      "16500/16500 [==============================] - 10s 587us/step - loss: 0.5800 - acc: 0.7032 - val_loss: 0.5876 - val_acc: 0.7022\n",
      "Epoch 14/100\n",
      "16500/16500 [==============================] - 6s 344us/step - loss: 0.5745 - acc: 0.7094 - val_loss: 0.5841 - val_acc: 0.6913\n",
      "Epoch 15/100\n",
      "16500/16500 [==============================] - 6s 337us/step - loss: 0.5676 - acc: 0.7112 - val_loss: 0.5840 - val_acc: 0.6991\n",
      "Epoch 16/100\n",
      "16500/16500 [==============================] - 9s 551us/step - loss: 0.5620 - acc: 0.7165 - val_loss: 0.6037 - val_acc: 0.657821 - acc: 0.715 - ETA: 0s - loss: 0.5620 - acc: 0 - ETA\n",
      "Epoch 17/100\n",
      "16500/16500 [==============================] - 5s 333us/step - loss: 0.5572 - acc: 0.7187 - val_loss: 0.5659 - val_acc: 0.7198\n",
      "Epoch 18/100\n",
      "16500/16500 [==============================] - 5s 328us/step - loss: 0.5516 - acc: 0.7270 - val_loss: 0.5913 - val_acc: 0.6760\n",
      "Epoch 19/100\n",
      "16500/16500 [==============================] - 9s 562us/step - loss: 0.5485 - acc: 0.7269 - val_loss: 0.5597 - val_acc: 0.7238\n",
      "Epoch 20/100\n",
      "16500/16500 [==============================] - 6s 333us/step - loss: 0.5441 - acc: 0.7278 - val_loss: 0.5607 - val_acc: 0.7136\n",
      "Epoch 21/100\n",
      "16500/16500 [==============================] - 5s 333us/step - loss: 0.5395 - acc: 0.7344 - val_loss: 0.5574 - val_acc: 0.7204\n",
      "Epoch 22/100\n",
      "16500/16500 [==============================] - 5s 306us/step - loss: 0.5351 - acc: 0.7355 - val_loss: 0.5540 - val_acc: 0.7209\n",
      "Epoch 23/100\n",
      "16500/16500 [==============================] - 9s 563us/step - loss: 0.5325 - acc: 0.7416 - val_loss: 0.5563 - val_acc: 0.7142\n",
      "Epoch 24/100\n",
      "16500/16500 [==============================] - 6s 338us/step - loss: 0.5284 - acc: 0.7413 - val_loss: 0.5552 - val_acc: 0.7198\n",
      "Epoch 25/100\n",
      "16500/16500 [==============================] - 5s 329us/step - loss: 0.5261 - acc: 0.7421 - val_loss: 0.5549 - val_acc: 0.7133\n",
      "Epoch 26/100\n",
      "16500/16500 [==============================] - 9s 571us/step - loss: 0.5217 - acc: 0.7436 - val_loss: 0.5524 - val_acc: 0.7216\n",
      "Epoch 27/100\n",
      "16500/16500 [==============================] - 5s 332us/step - loss: 0.5187 - acc: 0.7448 - val_loss: 0.5639 - val_acc: 0.7158\n",
      "Epoch 28/100\n",
      "16500/16500 [==============================] - 5s 328us/step - loss: 0.5148 - acc: 0.7494 - val_loss: 0.5458 - val_acc: 0.7251\n",
      "Epoch 29/100\n",
      "16500/16500 [==============================] - 9s 535us/step - loss: 0.5131 - acc: 0.7519 - val_loss: 0.5755 - val_acc: 0.7049\n",
      "Epoch 30/100\n",
      "16500/16500 [==============================] - 5s 329us/step - loss: 0.5092 - acc: 0.7515 - val_loss: 0.5419 - val_acc: 0.7307\n",
      "Epoch 31/100\n",
      "16500/16500 [==============================] - 5s 331us/step - loss: 0.5059 - acc: 0.7582 - val_loss: 0.5680 - val_acc: 0.7024\n",
      "Epoch 32/100\n",
      "16500/16500 [==============================] - 9s 537us/step - loss: 0.5037 - acc: 0.7578 - val_loss: 0.5506 - val_acc: 0.7231\n",
      "Epoch 33/100\n",
      "16500/16500 [==============================] - 5s 330us/step - loss: 0.4994 - acc: 0.7646 - val_loss: 0.5377 - val_acc: 0.7327\n",
      "Epoch 34/100\n",
      "16500/16500 [==============================] - 5s 331us/step - loss: 0.4957 - acc: 0.7635 - val_loss: 0.5541 - val_acc: 0.7144\n",
      "Epoch 35/100\n",
      "16500/16500 [==============================] - 5s 327us/step - loss: 0.4950 - acc: 0.7656 - val_loss: 0.5413 - val_acc: 0.7298\n",
      "Epoch 36/100\n",
      "16500/16500 [==============================] - 9s 544us/step - loss: 0.4895 - acc: 0.7674 - val_loss: 0.5398 - val_acc: 0.7302\n",
      "Epoch 37/100\n",
      "16500/16500 [==============================] - 5s 333us/step - loss: 0.4873 - acc: 0.7697 - val_loss: 0.5366 - val_acc: 0.7347\n",
      "Epoch 38/100\n",
      "16500/16500 [==============================] - 5s 331us/step - loss: 0.4844 - acc: 0.7682 - val_loss: 0.5299 - val_acc: 0.7389\n",
      "Epoch 39/100\n",
      "16500/16500 [==============================] - 9s 546us/step - loss: 0.4823 - acc: 0.7718 - val_loss: 0.5313 - val_acc: 0.7338\n",
      "Epoch 40/100\n",
      "16500/16500 [==============================] - 6s 334us/step - loss: 0.4808 - acc: 0.7727 - val_loss: 0.5561 - val_acc: 0.7189\n",
      "Epoch 41/100\n",
      "16500/16500 [==============================] - 6s 336us/step - loss: 0.4763 - acc: 0.7750 - val_loss: 0.5291 - val_acc: 0.7400\n",
      "Epoch 42/100\n",
      "16500/16500 [==============================] - 9s 549us/step - loss: 0.4756 - acc: 0.7745 - val_loss: 0.5470 - val_acc: 0.7236\n",
      "Epoch 43/100\n",
      "16500/16500 [==============================] - 5s 331us/step - loss: 0.4716 - acc: 0.7790 - val_loss: 0.5392 - val_acc: 0.7322\n",
      "Epoch 44/100\n",
      "16500/16500 [==============================] - 5s 328us/step - loss: 0.4682 - acc: 0.7824 - val_loss: 0.5650 - val_acc: 0.7082\n",
      "Epoch 45/100\n",
      "16500/16500 [==============================] - 5s 321us/step - loss: 0.4673 - acc: 0.7815 - val_loss: 0.5276 - val_acc: 0.7393\n",
      "Epoch 46/100\n",
      "16500/16500 [==============================] - 5s 290us/step - loss: 0.4636 - acc: 0.7853 - val_loss: 0.5662 - val_acc: 0.7107\n",
      "Epoch 47/100\n",
      "16500/16500 [==============================] - 5s 333us/step - loss: 0.4602 - acc: 0.7868 - val_loss: 0.5265 - val_acc: 0.7413\n",
      "Epoch 48/100\n",
      "16500/16500 [==============================] - 5s 331us/step - loss: 0.4592 - acc: 0.7895 - val_loss: 0.5338 - val_acc: 0.7358\n",
      "Epoch 49/100\n",
      "16500/16500 [==============================] - 5s 330us/step - loss: 0.4569 - acc: 0.7870 - val_loss: 0.5335 - val_acc: 0.7356\n",
      "Epoch 50/100\n",
      "16500/16500 [==============================] - 5s 333us/step - loss: 0.4542 - acc: 0.7927 - val_loss: 0.5264 - val_acc: 0.7409\n",
      "Epoch 51/100\n",
      "16500/16500 [==============================] - 5s 330us/step - loss: 0.4529 - acc: 0.7902 - val_loss: 0.5366 - val_acc: 0.7320\n",
      "Epoch 52/100\n",
      "16500/16500 [==============================] - 5s 332us/step - loss: 0.4498 - acc: 0.7923 - val_loss: 0.5254 - val_acc: 0.7456\n",
      "Epoch 53/100\n",
      "16500/16500 [==============================] - 5s 333us/step - loss: 0.4475 - acc: 0.7954 - val_loss: 0.5234 - val_acc: 0.7444\n",
      "Epoch 54/100\n",
      "16500/16500 [==============================] - 5s 331us/step - loss: 0.4455 - acc: 0.7955 - val_loss: 0.5256 - val_acc: 0.7427\n",
      "Epoch 55/100\n",
      "16500/16500 [==============================] - 5s 333us/step - loss: 0.4444 - acc: 0.7948 - val_loss: 0.5262 - val_acc: 0.7404\n",
      "Epoch 56/100\n",
      "16500/16500 [==============================] - 5s 330us/step - loss: 0.4411 - acc: 0.7985 - val_loss: 0.5248 - val_acc: 0.7440\n",
      "Epoch 57/100\n",
      "16500/16500 [==============================] - 5s 326us/step - loss: 0.4392 - acc: 0.8027 - val_loss: 0.5457 - val_acc: 0.7276\n",
      "Epoch 58/100\n",
      "16500/16500 [==============================] - 5s 330us/step - loss: 0.4370 - acc: 0.8012 - val_loss: 0.5310 - val_acc: 0.7367\n"
     ]
    },
    {
     "name": "stdout",
     "output_type": "stream",
     "text": [
      "Epoch 59/100\n",
      "16500/16500 [==============================] - 5s 327us/step - loss: 0.4361 - acc: 0.7991 - val_loss: 0.5234 - val_acc: 0.7487\n",
      "Epoch 60/100\n",
      "16500/16500 [==============================] - 5s 328us/step - loss: 0.4332 - acc: 0.8039 - val_loss: 0.5257 - val_acc: 0.7418\n",
      "Epoch 61/100\n",
      "16500/16500 [==============================] - 5s 327us/step - loss: 0.4319 - acc: 0.8021 - val_loss: 0.5250 - val_acc: 0.7431\n",
      "Epoch 62/100\n",
      "16500/16500 [==============================] - 5s 328us/step - loss: 0.4299 - acc: 0.8053 - val_loss: 0.5264 - val_acc: 0.7400\n",
      "Epoch 63/100\n",
      "16500/16500 [==============================] - 5s 332us/step - loss: 0.4271 - acc: 0.8075 - val_loss: 0.5310 - val_acc: 0.7418\n",
      "Epoch 64/100\n",
      "16500/16500 [==============================] - 5s 326us/step - loss: 0.4258 - acc: 0.8091 - val_loss: 0.5257 - val_acc: 0.7396\n",
      "Epoch 65/100\n",
      "16500/16500 [==============================] - 5s 329us/step - loss: 0.4247 - acc: 0.8101 - val_loss: 0.5244 - val_acc: 0.7391\n",
      "Epoch 66/100\n",
      "16500/16500 [==============================] - 5s 332us/step - loss: 0.4210 - acc: 0.8128 - val_loss: 0.5315 - val_acc: 0.7382\n",
      "Epoch 67/100\n",
      "16500/16500 [==============================] - 5s 329us/step - loss: 0.4208 - acc: 0.8104 - val_loss: 0.5280 - val_acc: 0.7387\n",
      "Epoch 68/100\n",
      "16500/16500 [==============================] - 5s 330us/step - loss: 0.4195 - acc: 0.8094 - val_loss: 0.5253 - val_acc: 0.7440\n",
      "Epoch 69/100\n",
      "16500/16500 [==============================] - 6s 334us/step - loss: 0.4171 - acc: 0.8127 - val_loss: 0.5286 - val_acc: 0.7436\n",
      "Epoch 70/100\n",
      "16500/16500 [==============================] - 5s 330us/step - loss: 0.4151 - acc: 0.8158 - val_loss: 0.5254 - val_acc: 0.7402\n",
      "Epoch 71/100\n",
      "16500/16500 [==============================] - 5s 330us/step - loss: 0.4141 - acc: 0.8151 - val_loss: 0.5268 - val_acc: 0.7420\n",
      "Epoch 72/100\n",
      "16500/16500 [==============================] - 5s 331us/step - loss: 0.4119 - acc: 0.8158 - val_loss: 0.5299 - val_acc: 0.7393\n",
      "Epoch 73/100\n",
      "16500/16500 [==============================] - 5s 329us/step - loss: 0.4105 - acc: 0.8162 - val_loss: 0.5322 - val_acc: 0.7396\n",
      "Epoch 74/100\n",
      "16500/16500 [==============================] - 5s 331us/step - loss: 0.4091 - acc: 0.8185 - val_loss: 0.5324 - val_acc: 0.7369\n",
      "Epoch 75/100\n",
      "16500/16500 [==============================] - 5s 331us/step - loss: 0.4079 - acc: 0.8190 - val_loss: 0.5363 - val_acc: 0.7360\n",
      "Epoch 76/100\n",
      "16500/16500 [==============================] - 5s 327us/step - loss: 0.4062 - acc: 0.8199 - val_loss: 0.5319 - val_acc: 0.7402\n",
      "Epoch 77/100\n",
      "16500/16500 [==============================] - 5s 332us/step - loss: 0.4031 - acc: 0.8213 - val_loss: 0.5344 - val_acc: 0.7411\n",
      "Epoch 78/100\n",
      "16500/16500 [==============================] - 5s 324us/step - loss: 0.4023 - acc: 0.8211 - val_loss: 0.5391 - val_acc: 0.7358\n",
      "Epoch 79/100\n",
      "16500/16500 [==============================] - 5s 333us/step - loss: 0.4008 - acc: 0.8230 - val_loss: 0.5328 - val_acc: 0.7371\n",
      "Epoch 80/100\n",
      "16500/16500 [==============================] - 5s 332us/step - loss: 0.4000 - acc: 0.8261 - val_loss: 0.5316 - val_acc: 0.7407\n",
      "Epoch 81/100\n",
      "16500/16500 [==============================] - 5s 331us/step - loss: 0.3979 - acc: 0.8215 - val_loss: 0.5334 - val_acc: 0.7396\n",
      "Epoch 82/100\n",
      "16500/16500 [==============================] - 5s 325us/step - loss: 0.3963 - acc: 0.8271 - val_loss: 0.5772 - val_acc: 0.7196\n",
      "Epoch 83/100\n",
      "16500/16500 [==============================] - 6s 337us/step - loss: 0.3942 - acc: 0.8262 - val_loss: 0.5338 - val_acc: 0.7380\n",
      "Epoch 84/100\n",
      "16500/16500 [==============================] - 5s 332us/step - loss: 0.3923 - acc: 0.8264 - val_loss: 0.5366 - val_acc: 0.7347\n",
      "Epoch 85/100\n",
      "16500/16500 [==============================] - 5s 332us/step - loss: 0.3921 - acc: 0.8302 - val_loss: 0.5358 - val_acc: 0.7369\n",
      "Epoch 86/100\n",
      "16500/16500 [==============================] - 5s 329us/step - loss: 0.3908 - acc: 0.8282 - val_loss: 0.5421 - val_acc: 0.7333\n",
      "Epoch 87/100\n",
      "16500/16500 [==============================] - 5s 329us/step - loss: 0.3900 - acc: 0.8296 - val_loss: 0.5377 - val_acc: 0.7398\n",
      "Epoch 88/100\n",
      "16500/16500 [==============================] - 6s 334us/step - loss: 0.3870 - acc: 0.8295 - val_loss: 0.5430 - val_acc: 0.7382\n",
      "Epoch 89/100\n",
      "16500/16500 [==============================] - 5s 333us/step - loss: 0.3853 - acc: 0.8318 - val_loss: 0.5451 - val_acc: 0.7333\n",
      "Epoch 90/100\n",
      "16500/16500 [==============================] - 5s 330us/step - loss: 0.3841 - acc: 0.8324 - val_loss: 0.5380 - val_acc: 0.7378\n",
      "Epoch 91/100\n",
      "16500/16500 [==============================] - 5s 329us/step - loss: 0.3824 - acc: 0.8321 - val_loss: 0.5361 - val_acc: 0.7396\n",
      "Epoch 92/100\n",
      "16500/16500 [==============================] - 5s 326us/step - loss: 0.3816 - acc: 0.8339 - val_loss: 0.5507 - val_acc: 0.7336\n",
      "Epoch 93/100\n",
      "16500/16500 [==============================] - 5s 329us/step - loss: 0.3812 - acc: 0.8324 - val_loss: 0.5612 - val_acc: 0.7300\n",
      "Epoch 94/100\n",
      "16500/16500 [==============================] - 5s 332us/step - loss: 0.3798 - acc: 0.8370 - val_loss: 0.5433 - val_acc: 0.7351\n",
      "Epoch 95/100\n",
      "16500/16500 [==============================] - 5s 333us/step - loss: 0.3781 - acc: 0.8344 - val_loss: 0.5450 - val_acc: 0.7349\n",
      "Epoch 96/100\n",
      "16500/16500 [==============================] - 5s 328us/step - loss: 0.3767 - acc: 0.8377 - val_loss: 0.5434 - val_acc: 0.7380\n",
      "Epoch 97/100\n",
      "16500/16500 [==============================] - 5s 324us/step - loss: 0.3752 - acc: 0.8373 - val_loss: 0.5822 - val_acc: 0.7222\n",
      "Epoch 98/100\n",
      "16500/16500 [==============================] - 5s 325us/step - loss: 0.3745 - acc: 0.8401 - val_loss: 0.5428 - val_acc: 0.7382\n",
      "Epoch 99/100\n",
      "16500/16500 [==============================] - 5s 324us/step - loss: 0.3723 - acc: 0.8388 - val_loss: 0.5621 - val_acc: 0.7331\n",
      "Epoch 100/100\n",
      "16500/16500 [==============================] - 5s 330us/step - loss: 0.3717 - acc: 0.8392 - val_loss: 0.5517 - val_acc: 0.7320\n"
     ]
    }
   ],
   "source": [
    "# Compile\n",
    "sgd = SGD(lr=0.005)\n",
    "model.compile(optimizer=sgd, loss='binary_crossentropy', metrics=['acc'])\n",
    "history = model.fit(train_data, train_labels, epochs=100, batch_size=32, validation_data=(validation_data, validation_labels))"
   ]
  },
  {
   "cell_type": "markdown",
   "metadata": {},
   "source": [
    "# Plotting Results"
   ]
  },
  {
   "cell_type": "code",
   "execution_count": 9,
   "metadata": {},
   "outputs": [],
   "source": [
    "# Dictionary\n",
    "history_dict = history.history\n",
    "history_dict.keys()\n",
    "\n",
    "# Data\n",
    "epochs = np.arange(0, 100)\n",
    "\n",
    "accuracy = history_dict['acc']\n",
    "validation_accuracy = history_dict['val_acc']\n",
    "\n",
    "loss = history_dict['loss']\n",
    "validation_loss = history_dict['val_loss']\n",
    "\n",
    "# Graph\n",
    "plt.style.use('ggplot')"
   ]
  },
  {
   "cell_type": "markdown",
   "metadata": {},
   "source": [
    "### Train Accuracy vs Validation Accuracy"
   ]
  },
  {
   "cell_type": "code",
   "execution_count": 10,
   "metadata": {},
   "outputs": [
    {
     "data": {
      "image/png": "[encoded data removed]",
      "text/plain": [
       "<Figure size 432x288 with 1 Axes>"
      ]
     },
     "metadata": {},
     "output_type": "display_data"
    }
   ],
   "source": [
    "plt.plot(epochs, accuracy, label='Train Accuracy')\n",
    "plt.plot(epochs, validation_accuracy, label='Validation Accuracy')\n",
    "plt.xlabel('Epochs')\n",
    "plt.ylabel('Accuracy')\n",
    "plt.title('Training and Validation Accuracy')\n",
    "plt.legend()\n",
    "plt.show()"
   ]
  },
  {
   "cell_type": "markdown",
   "metadata": {},
   "source": [
    "### Train Loss vs Validation Loss"
   ]
  },
  {
   "cell_type": "code",
   "execution_count": 11,
   "metadata": {},
   "outputs": [
    {
     "data": {
      "image/png": "[encoded data removed]",
      "text/plain": [
       "<Figure size 432x288 with 1 Axes>"
      ]
     },
     "metadata": {},
     "output_type": "display_data"
    }
   ],
   "source": [
    "plt.clf()\n",
    "plt.plot(epochs, loss, label='Train Loss')\n",
    "plt.plot(epochs, validation_loss, label='Validation Loss')\n",
    "plt.xlabel('Epochs')\n",
    "plt.ylabel('Loss')\n",
    "plt.title('Training and Validation Loss')\n",
    "plt.legend()\n",
    "plt.show()"
   ]
  },
  {
   "cell_type": "markdown",
   "metadata": {},
   "source": [
    "# Evaluation"
   ]
  },
  {
   "cell_type": "code",
   "execution_count": 12,
   "metadata": {},
   "outputs": [
    {
     "name": "stdout",
     "output_type": "stream",
     "text": [
      "4000/4000 [==============================] - 1s 177us/step\n",
      "[0.558624439239502, 0.7307500243186951]\n"
     ]
    }
   ],
   "source": [
    "result = model.evaluate(test_data, test_labels)\n",
    "print(result)"
   ]
  },
  {
   "cell_type": "markdown",
   "metadata": {},
   "source": [
    "# Predictions"
   ]
  },
  {
   "cell_type": "code",
   "execution_count": 13,
   "metadata": {},
   "outputs": [
    {
     "name": "stdout",
     "output_type": "stream",
     "text": [
      "[[0.9778521]]\n"
     ]
    }
   ],
   "source": [
    "predX = [test_data[0]]\n",
    "predX = np.array(predX)\n",
    "predictions = model.predict(predX)\n",
    "print(predictions)"
   ]
  },
  {
   "cell_type": "code",
   "execution_count": null,
   "metadata": {},
   "outputs": [],
   "source": []
  },
  {
   "cell_type": "markdown",
   "metadata": {},
   "source": [
    "# shallowNet on CIFAR-10"
   ]
  },
  {
   "cell_type": "code",
   "execution_count": 14,
   "metadata": {},
   "outputs": [],
   "source": [
    "from keras.datasets import cifar10\n",
    "from sklearn.model_selection import train_test_split"
   ]
  },
  {
   "cell_type": "markdown",
   "metadata": {},
   "source": [
    "# Load Dataset"
   ]
  },
  {
   "cell_type": "code",
   "execution_count": 15,
   "metadata": {},
   "outputs": [
    {
     "name": "stdout",
     "output_type": "stream",
     "text": [
      "(37500, 32, 32, 3)\n",
      "(12500, 32, 32, 3)\n",
      "(10000, 32, 32, 3)\n"
     ]
    }
   ],
   "source": [
    "# Load training and test data\n",
    "(trainX, trainY,), (testX, testY) = cifar10.load_data()\n",
    "\n",
    "# Normalization [0, 1]\n",
    "trainX = trainX.astype('float') / 255.0\n",
    "testX = testX.astype('float') / 255.0\n",
    "\n",
    "# Validation\n",
    "(trainX, validationX, trainY, validationY) = train_test_split(trainX, trainY, test_size=0.25)\n",
    "\n",
    "# Check Up\n",
    "print(trainX.shape)\n",
    "print(validationX.shape)\n",
    "print(testX.shape)"
   ]
  },
  {
   "cell_type": "code",
   "execution_count": 16,
   "metadata": {},
   "outputs": [
    {
     "name": "stdout",
     "output_type": "stream",
     "text": [
      "(37500, 10)\n",
      "(12500, 10)\n",
      "(10000, 10)\n"
     ]
    }
   ],
   "source": [
    "# Label Binarization\n",
    "trainY = lb.fit_transform(trainY)\n",
    "validationY = lb.fit_transform(validationY)\n",
    "testY = lb.fit_transform(testY)\n",
    "\n",
    "# Check Up\n",
    "print(trainY.shape)\n",
    "print(validationY.shape)\n",
    "print(testY.shape)"
   ]
  },
  {
   "cell_type": "code",
   "execution_count": 17,
   "metadata": {},
   "outputs": [],
   "source": [
    "#  Label Dictionary\n",
    "labelNames = ['airplane', 'automobile', 'bird', 'cat', 'deer', 'dog', 'frog', 'horse', 'ship', 'truck']"
   ]
  },
  {
   "cell_type": "markdown",
   "metadata": {},
   "source": [
    "# Modified Architecture"
   ]
  },
  {
   "cell_type": "code",
   "execution_count": 18,
   "metadata": {},
   "outputs": [
    {
     "name": "stdout",
     "output_type": "stream",
     "text": [
      "Model: \"sequential_2\"\n",
      "_________________________________________________________________\n",
      "Layer (type)                 Output Shape              Param #   \n",
      "=================================================================\n",
      "conv2d_2 (Conv2D)            (None, 32, 32, 32)        896       \n",
      "_________________________________________________________________\n",
      "activation_3 (Activation)    (None, 32, 32, 32)        0         \n",
      "_________________________________________________________________\n",
      "flatten_2 (Flatten)          (None, 32768)             0         \n",
      "_________________________________________________________________\n",
      "dense_2 (Dense)              (None, 10)                327690    \n",
      "_________________________________________________________________\n",
      "activation_4 (Activation)    (None, 10)                0         \n",
      "=================================================================\n",
      "Total params: 328,586\n",
      "Trainable params: 328,586\n",
      "Non-trainable params: 0\n",
      "_________________________________________________________________\n"
     ]
    }
   ],
   "source": [
    "# Filters\n",
    "filters = 32\n",
    "\n",
    "# Stride\n",
    "stride = (3, 3)\n",
    "\n",
    "# Classes\n",
    "classes = 10\n",
    "\n",
    "# Input_shape\n",
    "width = 32\n",
    "height = 32\n",
    "depth = 3 \n",
    "input_shape = (width, height, depth)\n",
    "\n",
    "if K.image_data_format() == 'channels_first':\n",
    "    input_shape = (depth, width, height)\n",
    "\n",
    "# Architecture\n",
    "model = models.Sequential()\n",
    "model.add(layers.Conv2D(filters, stride, padding='same', input_shape=input_shape))\n",
    "model.add(layers.Activation('relu'))\n",
    "model.add(layers.Flatten())\n",
    "model.add(layers.Dense(classes))\n",
    "model.add(layers.Activation('softmax'))\n",
    "\n",
    "# Check Up\n",
    "model.summary()"
   ]
  },
  {
   "cell_type": "markdown",
   "metadata": {},
   "source": [
    "# Compile and Train"
   ]
  },
  {
   "cell_type": "code",
   "execution_count": 19,
   "metadata": {},
   "outputs": [
    {
     "name": "stdout",
     "output_type": "stream",
     "text": [
      "Train on 37500 samples, validate on 12500 samples\n",
      "Epoch 1/40\n",
      "37500/37500 [==============================] - 196s 5ms/step - loss: 1.8584 - acc: 0.3445 - val_loss: 1.6989 - val_acc: 0.4180\n",
      "Epoch 2/40\n",
      "37500/37500 [==============================] - 13s 353us/step - loss: 1.6181 - acc: 0.4396 - val_loss: 1.5701 - val_acc: 0.4407\n",
      "Epoch 3/40\n",
      "37500/37500 [==============================] - 17s 458us/step - loss: 1.4611 - acc: 0.4930 - val_loss: 1.4491 - val_acc: 0.4957\n",
      "Epoch 4/40\n",
      "37500/37500 [==============================] - 13s 360us/step - loss: 1.3576 - acc: 0.5259 - val_loss: 1.4485 - val_acc: 0.4954\n",
      "Epoch 5/40\n",
      "37500/37500 [==============================] - 13s 353us/step - loss: 1.2951 - acc: 0.5500 - val_loss: 1.3532 - val_acc: 0.5251\n",
      "Epoch 6/40\n",
      "37500/37500 [==============================] - 13s 359us/step - loss: 1.2484 - acc: 0.5670 - val_loss: 1.3286 - val_acc: 0.5310\n",
      "Epoch 7/40\n",
      "37500/37500 [==============================] - 18s 478us/step - loss: 1.2156 - acc: 0.5769 - val_loss: 1.3804 - val_acc: 0.5127\n",
      "Epoch 8/40\n",
      "37500/37500 [==============================] - 14s 363us/step - loss: 1.1892 - acc: 0.5859 - val_loss: 1.3463 - val_acc: 0.5190\n",
      "Epoch 9/40\n",
      "37500/37500 [==============================] - 14s 370us/step - loss: 1.1657 - acc: 0.5952 - val_loss: 1.3173 - val_acc: 0.5398\n",
      "Epoch 10/40\n",
      "37500/37500 [==============================] - 17s 454us/step - loss: 1.1430 - acc: 0.6009 - val_loss: 1.3136 - val_acc: 0.5404\n",
      "Epoch 11/40\n",
      "37500/37500 [==============================] - 13s 352us/step - loss: 1.1218 - acc: 0.6097 - val_loss: 1.2831 - val_acc: 0.5507\n",
      "Epoch 12/40\n",
      "37500/37500 [==============================] - 17s 458us/step - loss: 1.1004 - acc: 0.6187 - val_loss: 1.3123 - val_acc: 0.5397\n",
      "Epoch 13/40\n",
      "37500/37500 [==============================] - 13s 349us/step - loss: 1.0813 - acc: 0.6246 - val_loss: 1.3108 - val_acc: 0.5429\n",
      "Epoch 14/40\n",
      "37500/37500 [==============================] - 17s 460us/step - loss: 1.0648 - acc: 0.6309 - val_loss: 1.3420 - val_acc: 0.5402\n",
      "Epoch 15/40\n",
      "37500/37500 [==============================] - 13s 355us/step - loss: 1.0479 - acc: 0.6379 - val_loss: 1.3116 - val_acc: 0.5437\n",
      "Epoch 16/40\n",
      "37500/37500 [==============================] - 13s 354us/step - loss: 1.0269 - acc: 0.6444 - val_loss: 1.2965 - val_acc: 0.5479\n",
      "Epoch 17/40\n",
      "37500/37500 [==============================] - 17s 462us/step - loss: 1.0103 - acc: 0.6509 - val_loss: 1.2754 - val_acc: 0.5546\n",
      "Epoch 18/40\n",
      "37500/37500 [==============================] - 13s 358us/step - loss: 0.9917 - acc: 0.6569 - val_loss: 1.3311 - val_acc: 0.5342\n",
      "Epoch 19/40\n",
      "37500/37500 [==============================] - 13s 353us/step - loss: 0.9758 - acc: 0.6639 - val_loss: 1.2649 - val_acc: 0.5605\n",
      "Epoch 20/40\n",
      "37500/37500 [==============================] - 17s 464us/step - loss: 0.9606 - acc: 0.6682 - val_loss: 1.2561 - val_acc: 0.5646\n",
      "Epoch 21/40\n",
      "37500/37500 [==============================] - 13s 357us/step - loss: 0.9437 - acc: 0.6730 - val_loss: 1.2631 - val_acc: 0.5690\n",
      "Epoch 22/40\n",
      "37500/37500 [==============================] - 13s 356us/step - loss: 0.9290 - acc: 0.6811 - val_loss: 1.2800 - val_acc: 0.5566\n",
      "Epoch 23/40\n",
      "37500/37500 [==============================] - 13s 355us/step - loss: 0.9133 - acc: 0.6834 - val_loss: 1.3277 - val_acc: 0.5486\n",
      "Epoch 24/40\n",
      "37500/37500 [==============================] - 13s 358us/step - loss: 0.8987 - acc: 0.6901 - val_loss: 1.2971 - val_acc: 0.5524\n",
      "Epoch 25/40\n",
      "37500/37500 [==============================] - 18s 467us/step - loss: 0.8825 - acc: 0.6951 - val_loss: 1.2599 - val_acc: 0.5691\n",
      "Epoch 26/40\n",
      "37500/37500 [==============================] - 13s 354us/step - loss: 0.8692 - acc: 0.7021 - val_loss: 1.2894 - val_acc: 0.5604\n",
      "Epoch 27/40\n",
      "37500/37500 [==============================] - 13s 358us/step - loss: 0.8536 - acc: 0.7061 - val_loss: 1.2587 - val_acc: 0.5669\n",
      "Epoch 28/40\n",
      "37500/37500 [==============================] - 17s 464us/step - loss: 0.8408 - acc: 0.7086 - val_loss: 1.2625 - val_acc: 0.5703\n",
      "Epoch 29/40\n",
      "37500/37500 [==============================] - 13s 354us/step - loss: 0.8275 - acc: 0.7136 - val_loss: 1.2707 - val_acc: 0.5718\n",
      "Epoch 30/40\n",
      "37500/37500 [==============================] - 13s 359us/step - loss: 0.8144 - acc: 0.7204 - val_loss: 1.2731 - val_acc: 0.5684\n",
      "Epoch 31/40\n",
      "37500/37500 [==============================] - 13s 358us/step - loss: 0.8020 - acc: 0.7237 - val_loss: 1.2870 - val_acc: 0.5660\n",
      "Epoch 32/40\n",
      "37500/37500 [==============================] - 13s 359us/step - loss: 0.7887 - acc: 0.7295 - val_loss: 1.3041 - val_acc: 0.5647\n",
      "Epoch 33/40\n",
      "37500/37500 [==============================] - 13s 359us/step - loss: 0.7760 - acc: 0.7343 - val_loss: 1.3013 - val_acc: 0.5694\n",
      "Epoch 34/40\n",
      "37500/37500 [==============================] - 14s 360us/step - loss: 0.7643 - acc: 0.7394 - val_loss: 1.2753 - val_acc: 0.5722\n",
      "Epoch 35/40\n",
      "37500/37500 [==============================] - 14s 360us/step - loss: 0.7539 - acc: 0.7421 - val_loss: 1.2866 - val_acc: 0.5746\n",
      "Epoch 36/40\n",
      "37500/37500 [==============================] - 14s 363us/step - loss: 0.7397 - acc: 0.7458 - val_loss: 1.2646 - val_acc: 0.5826\n",
      "Epoch 37/40\n",
      "37500/37500 [==============================] - 13s 359us/step - loss: 0.7277 - acc: 0.7486 - val_loss: 1.2662 - val_acc: 0.5766\n",
      "Epoch 38/40\n",
      "37500/37500 [==============================] - 14s 361us/step - loss: 0.7172 - acc: 0.7548 - val_loss: 1.2855 - val_acc: 0.5734\n",
      "Epoch 39/40\n",
      "37500/37500 [==============================] - 13s 359us/step - loss: 0.7040 - acc: 0.7605 - val_loss: 1.2795 - val_acc: 0.5786\n",
      "Epoch 40/40\n",
      "37500/37500 [==============================] - 14s 361us/step - loss: 0.6933 - acc: 0.7631 - val_loss: 1.2916 - val_acc: 0.5770\n"
     ]
    }
   ],
   "source": [
    "opt = SGD(lr=0.01)\n",
    "model.compile(optimizer=opt, loss='categorical_crossentropy', metrics=['acc'])\n",
    "history = model.fit(trainX, trainY, epochs=40, batch_size=32, validation_data=(validationX, validationY), verbose=1)"
   ]
  },
  {
   "cell_type": "markdown",
   "metadata": {},
   "source": [
    "# Plotting"
   ]
  },
  {
   "cell_type": "markdown",
   "metadata": {},
   "source": [
    "## Variables"
   ]
  },
  {
   "cell_type": "code",
   "execution_count": 20,
   "metadata": {},
   "outputs": [],
   "source": [
    "history_dict = history.history\n",
    "epochs = np.arange(0, 40)\n",
    "\n",
    "accuracy = history_dict['acc']\n",
    "val_accuracy = history_dict['val_acc']\n",
    "\n",
    "loss = history_dict['loss']\n",
    "val_loss = history_dict['val_loss']\n",
    "\n",
    "plt.style.use('ggplot')"
   ]
  },
  {
   "cell_type": "markdown",
   "metadata": {},
   "source": [
    "## Accuracy"
   ]
  },
  {
   "cell_type": "code",
   "execution_count": 21,
   "metadata": {},
   "outputs": [
    {
     "data": {
      "image/png": "[encoded data removed]",
      "text/plain": [
       "<Figure size 432x288 with 1 Axes>"
      ]
     },
     "metadata": {},
     "output_type": "display_data"
    }
   ],
   "source": [
    "plt.plot(epochs, accuracy, label='Train accuracy')\n",
    "plt.plot(epochs, val_accuracy, label='Validation accuracy')\n",
    "plt.title('Train and Validation Accuracy')\n",
    "plt.xlabel('Epochs')\n",
    "plt.ylabel('Accuracy')\n",
    "plt.legend()\n",
    "plt.show()"
   ]
  },
  {
   "cell_type": "markdown",
   "metadata": {},
   "source": [
    "## Loss"
   ]
  },
  {
   "cell_type": "code",
   "execution_count": 22,
   "metadata": {},
   "outputs": [
    {
     "data": {
      "image/png": "[encoded data removed]",
      "text/plain": [
       "<Figure size 432x288 with 1 Axes>"
      ]
     },
     "metadata": {},
     "output_type": "display_data"
    }
   ],
   "source": [
    "plt.clf()\n",
    "plt.plot(epochs, loss, label='Train loss')\n",
    "plt.plot(epochs, val_loss, label='Validation loss')\n",
    "plt.title('Train and Validation Loss')\n",
    "plt.xlabel('Epochs')\n",
    "plt.ylabel('Loss')\n",
    "plt.legend()\n",
    "plt.show()"
   ]
  },
  {
   "cell_type": "markdown",
   "metadata": {},
   "source": [
    "# Evaluation"
   ]
  },
  {
   "cell_type": "code",
   "execution_count": 24,
   "metadata": {},
   "outputs": [
    {
     "name": "stdout",
     "output_type": "stream",
     "text": [
      "10000/10000 [==============================] - 2s 239us/step\n"
     ]
    },
    {
     "data": {
      "text/plain": [
       "[1.2732850162506104, 0.5848000049591064]"
      ]
     },
     "execution_count": 24,
     "metadata": {},
     "output_type": "execute_result"
    }
   ],
   "source": [
    "results = model.evaluate(testX, testY)\n",
    "results"
   ]
  },
  {
   "cell_type": "code",
   "execution_count": null,
   "metadata": {},
   "outputs": [],
   "source": []
  }
 ],
 "metadata": {
  "kernelspec": {
   "display_name": "Python 3",
   "language": "python",
   "name": "python3"
  },
  "language_info": {
   "codemirror_mode": {
    "name": "ipython",
    "version": 3
   },
   "file_extension": ".py",
   "mimetype": "text/x-python",
   "name": "python",
   "nbconvert_exporter": "python",
   "pygments_lexer": "ipython3",
   "version": "3.6.10"
  }
 },
 "nbformat": 4,
 "nbformat_minor": 4
}
