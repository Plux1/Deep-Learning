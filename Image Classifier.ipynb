{
 "cells": [
  {
   "cell_type": "code",
   "execution_count": 26,
   "metadata": {},
   "outputs": [],
   "source": [
    "import os, shutil\n",
    "import matplotlib.pyplot as plt\n",
    "\n",
    "from keras import layers, models\n",
    "from keras.preprocessing.image import ImageDataGenerator"
   ]
  },
  {
   "cell_type": "markdown",
   "metadata": {},
   "source": [
    "# Data split"
   ]
  },
  {
   "cell_type": "code",
   "execution_count": 27,
   "metadata": {},
   "outputs": [
    {
     "name": "stdout",
     "output_type": "stream",
     "text": [
      "successful\n"
     ]
    }
   ],
   "source": [
    "# Original dataset directory\n",
    "original_dataset_dir = '/Users/Tajr/Desktop/Data/RadonPlus/RadonTechnology/Dev/Deep Learning/Datasets/CatDog'\n",
    "\n",
    "# Working directory\n",
    "base_dir = '/Users/Tajr/Desktop/Data/RadonPlus/RadonTechnology/Dev/Deep Learning/Datasets/CatDog/SmallDataset'\n",
    "os.mkdir(base_dir)\n",
    "\n",
    "# Creating Train, Validation and Test directory\n",
    "train_dir = os.path.join(base_dir, 'train')\n",
    "test_dir = os.path.join(base_dir, 'test')\n",
    "validation_dir = os.path.join(base_dir, 'validation')\n",
    "os.mkdir(train_dir)\n",
    "os.mkdir(test_dir)\n",
    "os.mkdir(validation_dir)\n",
    "\n",
    "\n",
    "# Cats directories for train, test and validation\n",
    "train_cats_dir = os.path.join(train_dir, 'cats')\n",
    "test_cats_dir = os.path.join(test_dir, 'cats')\n",
    "validation_cats_dir = os.path.join(validation_dir, 'cats')\n",
    "os.mkdir(train_cats_dir)\n",
    "os.mkdir(test_cats_dir)\n",
    "os.mkdir(validation_cats_dir)\n",
    "\n",
    "# Dogs directories for train, test and validation\n",
    "train_dogs_dir = os.path.join(train_dir, 'dogs')\n",
    "test_dogs_dir = os.path.join(test_dir, 'dogs')\n",
    "validation_dogs_dir = os.path.join(validation_dir, 'dogs')\n",
    "os.mkdir(train_dogs_dir)\n",
    "os.mkdir(test_dogs_dir)\n",
    "os.mkdir(validation_dogs_dir)\n",
    "\n",
    "\n",
    "\n",
    "\n",
    "print('successful')"
   ]
  },
  {
   "cell_type": "markdown",
   "metadata": {},
   "source": [
    "# Copy data "
   ]
  },
  {
   "cell_type": "code",
   "execution_count": 28,
   "metadata": {},
   "outputs": [
    {
     "name": "stdout",
     "output_type": "stream",
     "text": [
      "successful\n"
     ]
    }
   ],
   "source": [
    "# First 1000 cat images are to be copied on train_cat_dir\n",
    "file_names =  ['cat.{}.jpg'.format(i) for i in range(1000)]\n",
    "for file_name in file_names:\n",
    "    src = os.path.join(original_dataset_dir, file_name)\n",
    "    dst = os.path.join(train_cats_dir, file_name)\n",
    "    shutil.copyfile(src, dst)\n",
    "\n",
    "print('successful')"
   ]
  },
  {
   "cell_type": "code",
   "execution_count": 29,
   "metadata": {},
   "outputs": [
    {
     "name": "stdout",
     "output_type": "stream",
     "text": [
      "successful\n"
     ]
    }
   ],
   "source": [
    "# 500 cat images for validation\n",
    "file_names = ['cat.{}.jpg'.format(i) for i in range(1000, 1500)]\n",
    "for file_name in file_names:\n",
    "    src = os.path.join(original_dataset_dir, file_name)\n",
    "    dst = os.path.join(validation_cats_dir, file_name)\n",
    "    shutil.copyfile(src, dst)\n",
    "\n",
    "print('successful')"
   ]
  },
  {
   "cell_type": "code",
   "execution_count": 30,
   "metadata": {},
   "outputs": [
    {
     "name": "stdout",
     "output_type": "stream",
     "text": [
      "successful\n"
     ]
    }
   ],
   "source": [
    "# 500 cat images for testing\n",
    "file_names = ['cat.{}.jpg'.format(i) for i in range(1500, 2000)]\n",
    "for file_name in file_names:\n",
    "    src = os.path.join(original_dataset_dir, file_name)\n",
    "    dst = os.path.join(test_cats_dir, file_name)\n",
    "    shutil.copyfile(src, dst)\n",
    "\n",
    "print('successful')"
   ]
  },
  {
   "cell_type": "code",
   "execution_count": 31,
   "metadata": {},
   "outputs": [
    {
     "name": "stdout",
     "output_type": "stream",
     "text": [
      "successful\n"
     ]
    }
   ],
   "source": [
    "# 1000 dog images for training\n",
    "file_names = ['dog.{}.jpg'.format(i) for i in range(1000)]\n",
    "for file_name in file_names:\n",
    "    src = os.path.join(original_dataset_dir, file_name)\n",
    "    dst = os.path.join(train_dogs_dir, file_name)\n",
    "    shutil.copyfile(src, dst)\n",
    "\n",
    "print('successful')"
   ]
  },
  {
   "cell_type": "code",
   "execution_count": 32,
   "metadata": {},
   "outputs": [
    {
     "name": "stdout",
     "output_type": "stream",
     "text": [
      "successful\n"
     ]
    }
   ],
   "source": [
    "# 500 dog images for validation\n",
    "file_names = ['dog.{}.jpg'.format(i) for i in range(1000, 1500)]\n",
    "for file_name in file_names:\n",
    "    src = os.path.join(original_dataset_dir, file_name)\n",
    "    dst = os.path.join(validation_dogs_dir, file_name)\n",
    "    shutil.copyfile(src, dst)\n",
    "    \n",
    "print('successful')"
   ]
  },
  {
   "cell_type": "code",
   "execution_count": 33,
   "metadata": {},
   "outputs": [
    {
     "name": "stdout",
     "output_type": "stream",
     "text": [
      "successful\n"
     ]
    }
   ],
   "source": [
    "# 500 dogs images for testing\n",
    "file_names = ['dog.{}.jpg'.format(i) for i in range(1500, 2000)]\n",
    "for file_name in file_names:\n",
    "    src = os.path.join(original_dataset_dir, file_name)\n",
    "    dst = os.path.join(test_dogs_dir, file_name)\n",
    "    shutil.copyfile(src, dst)\n",
    "    \n",
    "print('successful')"
   ]
  },
  {
   "cell_type": "markdown",
   "metadata": {},
   "source": [
    "# Building a network\n",
    "<!--  -->Based on the data we have, this is a balanced-binary classification where accuracy is an appropriate measure for success"
   ]
  },
  {
   "cell_type": "code",
   "execution_count": 34,
   "metadata": {},
   "outputs": [
    {
     "name": "stdout",
     "output_type": "stream",
     "text": [
      "Model: \"sequential_2\"\n",
      "_________________________________________________________________\n",
      "Layer (type)                 Output Shape              Param #   \n",
      "=================================================================\n",
      "conv2d_5 (Conv2D)            (None, 148, 148, 32)      896       \n",
      "_________________________________________________________________\n",
      "max_pooling2d_5 (MaxPooling2 (None, 74, 74, 32)        0         \n",
      "_________________________________________________________________\n",
      "conv2d_6 (Conv2D)            (None, 72, 72, 64)        18496     \n",
      "_________________________________________________________________\n",
      "max_pooling2d_6 (MaxPooling2 (None, 36, 36, 64)        0         \n",
      "_________________________________________________________________\n",
      "conv2d_7 (Conv2D)            (None, 34, 34, 128)       73856     \n",
      "_________________________________________________________________\n",
      "max_pooling2d_7 (MaxPooling2 (None, 17, 17, 128)       0         \n",
      "_________________________________________________________________\n",
      "conv2d_8 (Conv2D)            (None, 15, 15, 128)       147584    \n",
      "_________________________________________________________________\n",
      "max_pooling2d_8 (MaxPooling2 (None, 7, 7, 128)         0         \n",
      "_________________________________________________________________\n",
      "flatten_2 (Flatten)          (None, 6272)              0         \n",
      "_________________________________________________________________\n",
      "dense_3 (Dense)              (None, 512)               3211776   \n",
      "_________________________________________________________________\n",
      "dense_4 (Dense)              (None, 1)                 513       \n",
      "=================================================================\n",
      "Total params: 3,453,121\n",
      "Trainable params: 3,453,121\n",
      "Non-trainable params: 0\n",
      "_________________________________________________________________\n"
     ]
    }
   ],
   "source": [
    "model = models.Sequential()\n",
    "model.add(layers.Conv2D(32, (3, 3), activation='relu', input_shape=(150, 150, 3)))\n",
    "model.add(layers.MaxPooling2D((2,2)))\n",
    "model.add(layers.Conv2D(64, (3, 3), activation='relu'))\n",
    "model.add(layers.MaxPooling2D((2, 2)))\n",
    "model.add(layers.Conv2D(128, (3, 3), activation='relu'))\n",
    "model.add(layers.MaxPooling2D((2, 2)))\n",
    "model.add(layers.Conv2D(128, (3, 3), activation='relu'))\n",
    "model.add(layers.MaxPooling2D((2, 2)))\n",
    "model.add(layers.Flatten())\n",
    "model.add(layers.Dense(512, activation='relu'))\n",
    "model.add(layers.Dense(1, activation='sigmoid'))\n",
    "model.summary()"
   ]
  },
  {
   "cell_type": "markdown",
   "metadata": {},
   "source": [
    "# Compilation"
   ]
  },
  {
   "cell_type": "code",
   "execution_count": 35,
   "metadata": {},
   "outputs": [],
   "source": [
    "model.compile(optimizer='rmsprop', loss='binary_crossentropy', metrics=['accuracy'])"
   ]
  },
  {
   "cell_type": "markdown",
   "metadata": {},
   "source": [
    "# Data Preprocessing"
   ]
  },
  {
   "cell_type": "code",
   "execution_count": 36,
   "metadata": {},
   "outputs": [
    {
     "name": "stdout",
     "output_type": "stream",
     "text": [
      "Found 2000 images belonging to 2 classes.\n",
      "Found 1000 images belonging to 2 classes.\n",
      "Data batch shape:  (20, 150, 150, 3)\n",
      "Label batch shape (20,)\n"
     ]
    }
   ],
   "source": [
    "train_datagen = ImageDataGenerator(rescale=1./255)\n",
    "test_datagen = ImageDataGenerator(rescale=1./255)\n",
    "\n",
    "train_generator = train_datagen.flow_from_directory(\n",
    "    train_dir,\n",
    "    target_size=(150, 150),\n",
    "    batch_size=20,\n",
    "    class_mode='binary'\n",
    ")\n",
    "\n",
    "validation_generator = test_datagen.flow_from_directory(\n",
    "    validation_dir,\n",
    "    target_size=(150, 150),\n",
    "    batch_size=20,\n",
    "    class_mode='binary'\n",
    ")\n",
    "\n",
    "for data_batch, label_batch in train_generator:\n",
    "    print('Data batch shape: ', data_batch.shape)\n",
    "    print('Label batch shape', label_batch.shape)\n",
    "    break\n",
    "\n"
   ]
  },
  {
   "cell_type": "markdown",
   "metadata": {},
   "source": [
    "# Model Training"
   ]
  },
  {
   "cell_type": "code",
   "execution_count": 37,
   "metadata": {
    "scrolled": false
   },
   "outputs": [
    {
     "name": "stdout",
     "output_type": "stream",
     "text": [
      "Epoch 1/20\n",
      "100/100 [==============================] - 31s 306ms/step - loss: 0.7230 - accuracy: 0.5285 - val_loss: 0.6359 - val_accuracy: 0.6090\n",
      "Epoch 2/20\n",
      "100/100 [==============================] - 14s 144ms/step - loss: 0.6821 - accuracy: 0.6005 - val_loss: 0.5065 - val_accuracy: 0.6420\n",
      "Epoch 3/20\n",
      "100/100 [==============================] - 14s 144ms/step - loss: 0.6335 - accuracy: 0.6545 - val_loss: 0.5589 - val_accuracy: 0.6650\n",
      "Epoch 4/20\n",
      "100/100 [==============================] - 15s 155ms/step - loss: 0.5919 - accuracy: 0.7090 - val_loss: 0.5314 - val_accuracy: 0.6850\n",
      "Epoch 5/20\n",
      "100/100 [==============================] - 17s 167ms/step - loss: 0.5314 - accuracy: 0.7295 - val_loss: 0.4773 - val_accuracy: 0.6930\n",
      "Epoch 6/20\n",
      "100/100 [==============================] - 18s 184ms/step - loss: 0.4842 - accuracy: 0.7690 - val_loss: 0.5556 - val_accuracy: 0.7070\n",
      "Epoch 7/20\n",
      "100/100 [==============================] - 15s 152ms/step - loss: 0.4258 - accuracy: 0.8075 - val_loss: 0.5084 - val_accuracy: 0.7460\n",
      "Epoch 8/20\n",
      "100/100 [==============================] - 18s 179ms/step - loss: 0.3694 - accuracy: 0.8375 - val_loss: 0.5620 - val_accuracy: 0.7270\n",
      "Epoch 9/20\n",
      "100/100 [==============================] - 18s 180ms/step - loss: 0.3016 - accuracy: 0.8800 - val_loss: 1.2339 - val_accuracy: 0.7310\n",
      "Epoch 10/20\n",
      "100/100 [==============================] - 16s 155ms/step - loss: 0.2566 - accuracy: 0.8935 - val_loss: 1.6729 - val_accuracy: 0.7160\n",
      "Epoch 11/20\n",
      "100/100 [==============================] - 17s 175ms/step - loss: 0.2156 - accuracy: 0.9155 - val_loss: 1.0546 - val_accuracy: 0.7280\n",
      "Epoch 12/20\n",
      "100/100 [==============================] - 25s 254ms/step - loss: 0.1500 - accuracy: 0.9420 - val_loss: 1.5468 - val_accuracy: 0.7360\n",
      "Epoch 13/20\n",
      "100/100 [==============================] - 31s 309ms/step - loss: 0.1413 - accuracy: 0.9480 - val_loss: 0.3796 - val_accuracy: 0.7020\n",
      "Epoch 14/20\n",
      "100/100 [==============================] - 32s 317ms/step - loss: 0.0999 - accuracy: 0.9650 - val_loss: 0.4153 - val_accuracy: 0.7240\n",
      "Epoch 15/20\n",
      "100/100 [==============================] - 29s 286ms/step - loss: 0.0832 - accuracy: 0.9710 - val_loss: 0.6235 - val_accuracy: 0.7290\n",
      "Epoch 16/20\n",
      "100/100 [==============================] - 28s 283ms/step - loss: 0.0950 - accuracy: 0.9685 - val_loss: 1.7130 - val_accuracy: 0.7500\n",
      "Epoch 17/20\n",
      "100/100 [==============================] - 29s 288ms/step - loss: 0.0787 - accuracy: 0.9725 - val_loss: 0.5931 - val_accuracy: 0.7150\n",
      "Epoch 18/20\n",
      "100/100 [==============================] - 32s 319ms/step - loss: 0.0744 - accuracy: 0.9800 - val_loss: 1.1833 - val_accuracy: 0.7340\n",
      "Epoch 19/20\n",
      "100/100 [==============================] - 27s 271ms/step - loss: 0.0660 - accuracy: 0.9800 - val_loss: 4.2527 - val_accuracy: 0.7340\n",
      "Epoch 20/20\n",
      "100/100 [==============================] - 27s 269ms/step - loss: 0.0588 - accuracy: 0.9850 - val_loss: 1.4565 - val_accuracy: 0.7400\n"
     ]
    }
   ],
   "source": [
    "history = model.fit_generator(train_generator, steps_per_epoch=100, epochs=20, validation_data=validation_generator, validation_steps=50)"
   ]
  },
  {
   "cell_type": "markdown",
   "metadata": {},
   "source": [
    "# Saving a model"
   ]
  },
  {
   "cell_type": "code",
   "execution_count": 38,
   "metadata": {},
   "outputs": [],
   "source": [
    "model.save('image_classifier_1.h5')"
   ]
  },
  {
   "cell_type": "markdown",
   "metadata": {},
   "source": [
    "# Visual Exploration"
   ]
  },
  {
   "cell_type": "code",
   "execution_count": 39,
   "metadata": {},
   "outputs": [
    {
     "data": {
      "text/plain": [
       "dict_keys(['val_loss', 'val_accuracy', 'loss', 'accuracy'])"
      ]
     },
     "execution_count": 39,
     "metadata": {},
     "output_type": "execute_result"
    }
   ],
   "source": [
    "history_dict = history.history\n",
    "history_dict.keys()"
   ]
  },
  {
   "cell_type": "code",
   "execution_count": 40,
   "metadata": {
    "scrolled": true
   },
   "outputs": [
    {
     "data": {
      "image/png": "[encoded data removed]",
      "text/plain": [
       "<Figure size 432x288 with 1 Axes>"
      ]
     },
     "metadata": {
      "needs_background": "light"
     },
     "output_type": "display_data"
    },
    {
     "data": {
      "image/png": "[encoded data removed]",
      "text/plain": [
       "<Figure size 432x288 with 1 Axes>"
      ]
     },
     "metadata": {
      "needs_background": "light"
     },
     "output_type": "display_data"
    }
   ],
   "source": [
    "# Data acquisition\n",
    "acc = history_dict['accuracy']\n",
    "val_acc = history_dict['val_accuracy']\n",
    "\n",
    "loss = history_dict['loss']\n",
    "val_loss = history_dict['val_loss']\n",
    "\n",
    "epochs = range(1,  len(history_dict['accuracy']) + 1)\n",
    "\n",
    "plt.plot(epochs, acc, 'bo', label='Training accuracy')\n",
    "plt.plot(epochs, val_acc, 'b', label='Validation accuracy')\n",
    "plt.title('Training and Validation Accuracy')\n",
    "plt.legend()\n",
    "\n",
    "plt.figure()\n",
    "\n",
    "plt.plot(epochs, loss, 'bo', label='Train loss')\n",
    "plt.plot(epochs, val_loss, 'b',  label='Validation loss')\n",
    "plt.title('Training and Validation Loss')\n",
    "plt.legend()\n",
    "\n",
    "plt.show()"
   ]
  },
  {
   "cell_type": "code",
   "execution_count": null,
   "metadata": {},
   "outputs": [],
   "source": []
  }
 ],
 "metadata": {
  "kernelspec": {
   "display_name": "Python 3",
   "language": "python",
   "name": "python3"
  },
  "language_info": {
   "codemirror_mode": {
    "name": "ipython",
    "version": 3
   },
   "file_extension": ".py",
   "mimetype": "text/x-python",
   "name": "python",
   "nbconvert_exporter": "python",
   "pygments_lexer": "ipython3",
   "version": "3.6.10"
  }
 },
 "nbformat": 4,
 "nbformat_minor": 4
}
